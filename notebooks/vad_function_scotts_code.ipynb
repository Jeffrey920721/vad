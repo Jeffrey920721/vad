{
 "cells": [
  {
   "cell_type": "markdown",
   "metadata": {
    "deletable": true,
    "editable": true
   },
   "source": [
    "# (VAD) Velocity Azimuth Display\n",
    "\n",
    "Argonne National Laboratory\n",
    "\n",
    "Original code by Scott Collis:\n",
    "\n",
    "https://github.com/scollis/notebooks/blob/master/DYNAMO%20AIME%20workshop%20workbook.ipynb"
   ]
  },
  {
   "cell_type": "code",
   "execution_count": 1,
   "metadata": {
    "collapsed": false,
    "deletable": true,
    "editable": true,
    "scrolled": true
   },
   "outputs": [
    {
     "name": "stdout",
     "output_type": "stream",
     "text": [
      "\n",
      "## You are using the Python ARM Radar Toolkit (Py-ART), an open source\n",
      "## library for working with weather radar data. Py-ART is partly\n",
      "## supported by the U.S. Department of Energy as part of the Atmospheric\n",
      "## Radiation Measurement (ARM) Climate Research Facility, an Office of\n",
      "## Science user facility.\n",
      "##\n",
      "## If you use this software to prepare a publication, please cite:\n",
      "##\n",
      "##     JJ Helmus and SM Collis, JORS 2016, doi: 10.5334/jors.119\n",
      "\n"
     ]
    }
   ],
   "source": [
    "from __future__ import print_function\n",
    "\n",
    "import matplotlib.pyplot as plt\n",
    "import numpy.ma as ma\n",
    "import numpy as np\n",
    "import pyart\n",
    "import warnings\n",
    "warnings.filterwarnings(\"ignore\")\n",
    "%matplotlib inline"
   ]
  },
  {
   "cell_type": "code",
   "execution_count": 2,
   "metadata": {
    "collapsed": false,
    "deletable": true,
    "editable": true
   },
   "outputs": [],
   "source": [
    "def pyart_velocity_correct(norm_coh_power=None,\n",
    "                           norm_coh_power_value=0.5,\n",
    "                           gatefilter=None,\n",
    "                           nyquist_velocity=None):\n",
    "    if norm_coh_power is None:\n",
    "        # Copying a field and its shape to use as a\n",
    "        # norm_coherent_power array with matching shape.\n",
    "        radar.add_field_like('reflectivity', 'norm_coh_power',\n",
    "                             radar.fields['reflectivity']['data'].copy(),\n",
    "                             replace_existing=True)\n",
    "        # Setting all values to norm_coh_power_value,\n",
    "        # in the field norm_coh_power.\n",
    "        (radar.fields['norm_coh_power']['data'])[\n",
    "            radar.fields['norm_coh_power']['data'] !=\n",
    "            norm_coh_power_value] = norm_coh_power_value\n",
    "        norm_coh_power_used = 'norm_coh_power'\n",
    "    else:\n",
    "        norm_coh_power_used = norm_coh_power\n",
    "    \n",
    "    if gatefilter is none:\n",
    "        gatefilter = pyart.correct.GateFilter(radar)\n",
    "        gatefilter.exclude_below(norm_coh_power_used, norm_coh_power_value)\n",
    "    else:\n",
    "        gatefilter = gatefilter\n",
    "\n",
    "    if nyquist_velocity is None:\n",
    "        nyq = None\n",
    "        corr_vel = pyart.correct.dealias_region_based(\n",
    "            radar, vel_field='velocity', keep_original=False,\n",
    "            gatefilter=gatefilter, nyquist_vel=nyq,\n",
    "            centered=False)\n",
    "        radar.add_field('corrected_velocity', corr_vel,\n",
    "                          replace_existing=True)\n",
    "    else:\n",
    "        nyq = nyquist_velocity\n",
    "        corr_vel = pyart.correct.dealias_region_based(\n",
    "            radar, vel_field='velocity', keep_original=False,\n",
    "            gatefilter=gatefilter, nyquist_vel=nyq,\n",
    "            centered=False)\n",
    "        radar.add_field('corrected_velocity', corr_vel,\n",
    "                          replace_existing=True)"
   ]
  },
  {
   "cell_type": "code",
   "execution_count": 249,
   "metadata": {
    "collapsed": false,
    "deletable": true,
    "editable": true
   },
   "outputs": [],
   "source": [
    "\"\"\"\n",
    "pyart.retrieve.velocity_azimuth_display\n",
    "=======================================\n",
    "\n",
    "Retrieval of VADs from a radar object.\n",
    "\n",
    ".. autosummary::\n",
    "    :toctreeL generated/\n",
    "    :template: dev_template.rst\n",
    "\n",
    "    velocity_azimuth_display\n",
    "    _interval_mean\n",
    "    _sd_to_uv\n",
    "    _vad_calculation\n",
    "\n",
    "\"\"\"\n",
    "\n",
    "import numpy as np\n",
    "from pyart.core import HorizontalWindProfile\n",
    "\n",
    "\n",
    "def velocity_azimuth_display(radar, velocity,\n",
    "                             z_want=None, gatefilter=None):\n",
    "    \"\"\"\n",
    "    Velocity azimuth display.\n",
    "\n",
    "    Parameters\n",
    "    ----------\n",
    "    radar : Radar\n",
    "        Radar object used.\n",
    "    velocity : string\n",
    "        Velocity field to use for VAD calculation.\n",
    "\n",
    "    Other Parameters\n",
    "    ----------------\n",
    "    z_want : array\n",
    "        Heights for where to sample vads from.\n",
    "        None will result in np.linespace(0, 10000, 100).\n",
    "    gatefilter : GateFilter\n",
    "        A GateFilter indicating radar gates that should be excluded when\n",
    "        from the vad calculation.\n",
    "\n",
    "    Returns\n",
    "    -------\n",
    "    height : array\n",
    "        Heights in meters above sea level at which horizontal winds were\n",
    "        sampled.\n",
    "    speed : array\n",
    "        Horizontal wind speed in meters per second at each height.\n",
    "    direction : array\n",
    "        Horizontal wind direction in degrees at each height.\n",
    "    u_wind : array\n",
    "        U-wind mean in meters per second.\n",
    "    v_wind : array\n",
    "        V-wind mean in meters per second.\n",
    "\n",
    "    Reference\n",
    "    ----------\n",
    "    Michelson, D. B., Andersson, T., Koistinen, J., Collier, C. G., Riedl, J.,\n",
    "    Szturc, J., Gjertsen, U., Nielsen, A. and Overgaard, S. (2000) BALTEX Radar\n",
    "    Data Centre Products and their Methodologies. In SMHI Reports. Meteorology\n",
    "    and Climatology. Swedish Meteorological and Hydrological Institute, Norrkoping.\n",
    "\n",
    "    \"\"\"\n",
    "\n",
    "    speed = []\n",
    "    angle = []\n",
    "    heights = []\n",
    "    z_gate_data = radar.gate_z['data']\n",
    "    if z_want is None:\n",
    "        z_want = np.linspace(0, 1000, 100)\n",
    "    else:\n",
    "        z_want\n",
    "\n",
    "    for i in range(len(radar.sweep_start_ray_index['data'])):\n",
    "        index_start = radar.sweep_start_ray_index['data'][i]\n",
    "        index_end = radar.sweep_end_ray_index['data'][i]\n",
    "        if (index_end - index_start) % 2 == 0:\n",
    "            print(\"even, all good\")\n",
    "        else:\n",
    "            index_end = index_end - 1\n",
    "\n",
    "        velocities = radar.fields[\n",
    "            velocity]['data'][index_start:index_end]\n",
    "        if gatefilter is not None:\n",
    "            velocities = np.ma.masked_where(\n",
    "                gatefilter.gate_excluded, velocities)\n",
    "        #mask=velocities.mask\n",
    "        #velocities[np.where(mask)]=np.nan\n",
    "        azimuth = radar.azimuth['data'][index_start:index_end]\n",
    "        elevation = radar.fixed_angle['data'][i]\n",
    "        one_level = _vad_calculation(velocities,\n",
    "                                     azimuth, elevation)\n",
    "        bad = (np.isnan(one_level['speed']))\n",
    "        print('max height', z_gate_data[index_start, :][~bad].max(),\n",
    "              ' meters')\n",
    "        speed.append(one_level['speed'][~bad])\n",
    "        angle.append(one_level['angle'][~bad])\n",
    "        heights.append(z_gate_data[index_start, :][~bad])\n",
    "\n",
    "    speed_array = np.concatenate(speed)\n",
    "    angle_array = np.concatenate(angle)\n",
    "    height_array = np.concatenate(heights)\n",
    "    arg_order = height_array.argsort()\n",
    "    speed_ordered = speed_array[arg_order]\n",
    "    height_ordered = height_array[arg_order]\n",
    "    angle_ordered = angle_array[arg_order]\n",
    "    print(height_ordered.max())\n",
    "    u_ordered, v_ordered = _sd_to_uv(speed_ordered, angle_ordered)\n",
    "    u_mean = _interval_mean(u_ordered, height_ordered, z_want)\n",
    "    v_mean = _interval_mean(v_ordered, height_ordered, z_want)\n",
    "    u_mean = np.ma.masked_invalid(u_mean)\n",
    "    v_mean = np.ma.masked_invalid(v_mean)\n",
    "    vad = HorizontalWindProfile.from_u_and_v(z_want, u_mean,\n",
    "                                             v_mean)\n",
    "    return vad\n",
    "\n",
    "\n",
    "def _interval_mean(data, current_z, wanted_z):\n",
    "    \"\"\" Find the mean of data indexed by current_z\n",
    "        at wanted_z on intervals wanted_z+/- delta\n",
    "        wanted_z. \"\"\"\n",
    "    delta = wanted_z[1] - wanted_z[0]\n",
    "    pos_lower = [np.argsort((current_z - (\n",
    "        wanted_z[i] - delta / 2.0))**2)[0]\n",
    "                 for i in range(len(wanted_z))]\n",
    "    pos_upper = [np.argsort((current_z - (\n",
    "        wanted_z[i] + delta / 2.0))**2)[0]\n",
    "                 for i in range(len(wanted_z))]\n",
    "    mean_values = np.array([data[pos_lower[i]:pos_upper[i]].mean()\n",
    "                            for i in range(len(pos_upper))])\n",
    "    return mean_values\n",
    "\n",
    "\n",
    "def _sd_to_uv(speed, direction):\n",
    "    \"\"\" Takes speed and direction to create u_mean and v_mean. \"\"\"\n",
    "    return (np.sin(direction) * speed), (np.cos(direction) * speed)\n",
    "\n",
    "\n",
    "def _vad_calculation(velocity_field, azimuth, elevation):\n",
    "    \"\"\" Calculates VAD for a scan, returns speed and angle\n",
    "    outdic = vad_algorithm(velocity_field, azimuth, elevation)\n",
    "    velocity_field is a 2D array, azimuth is a 1D array,\n",
    "    elevation is a number.\n",
    "    All in degrees, m outdic contains speed, angle, variance. \"\"\"\n",
    "    nrays, nbins = velocity_field.shape\n",
    "    nrays2 = nrays // 2\n",
    "    velocity_count = np.empty((nrays2, nbins, 2))\n",
    "    velocity_count[:, :, 0] = velocity_field[0:nrays2, :]\n",
    "    velocity_count[:, :, 1] = velocity_field[nrays2:, :]\n",
    "    sinaz = np.sin(np.deg2rad(azimuth))\n",
    "    cosaz = np.cos(np.deg2rad(azimuth))\n",
    "    sumv = np.ma.sum(velocity_count, 2)\n",
    "    vals = np.isnan(sumv)\n",
    "    vals2 = np.vstack((vals, vals))\n",
    "\n",
    "    # Line below needs to be changed to 'is not' expression.\n",
    "    count = np.sum(np.isnan(sumv) == False, 0)\n",
    "\n",
    "    aa = count < 8\n",
    "    vals[:, aa] = 0\n",
    "    vals2[:, aa] = 0\n",
    "    count = np.float64(count)\n",
    "    count[aa] = np.nan\n",
    "    u_m = np.array([np.nansum(sumv, 0) // (2 * count)])\n",
    "    count[aa] = 0\n",
    "\n",
    "    cminusu_mcos = np.zeros((nrays, nbins))\n",
    "    cminusu_msin = np.zeros((nrays, nbins))\n",
    "    sincos = np.zeros((nrays, nbins))\n",
    "    sin2 = np.zeros((nrays, nbins))\n",
    "    cos2 = np.zeros((nrays, nbins))\n",
    "\n",
    "    for i in range(nbins):\n",
    "        cminusu_mcos[:, i] = cosaz * (velocity_field[:, i] - u_m[:, i])\n",
    "        cminusu_msin[:, i] = sinaz * (velocity_field[:, i] - u_m[:, i])\n",
    "        sincos[:, i] = sinaz * cosaz\n",
    "        sin2[:, i] = sinaz**2\n",
    "        cos2[:, i] = cosaz**2\n",
    "\n",
    "    cminusu_mcos[vals2] = np.nan\n",
    "    cminusu_msin[vals2] = np.nan\n",
    "    sincos[vals2] = np.nan\n",
    "    sin2[vals2] = np.nan\n",
    "    cos2[vals2] = np.nan\n",
    "    sumcminu_mcos = np.nansum(cminusu_mcos, 0)\n",
    "    sumcminu_msin = np.nansum(cminusu_msin, 0)\n",
    "    sumsincos = np.nansum(sincos, 0)\n",
    "    sumsin2 = np.nansum(sin2, 0)\n",
    "    sumcos2 = np.nansum(cos2, 0)\n",
    "    b_value = (sumcminu_mcos - (sumsincos*sumcminu_msin / sumsin2)) / (\n",
    "        sumcos2 - (sumsincos**2) / sumsin2)\n",
    "    a_value = (sumcminu_msin - b_value*sumsincos) / sumsin2\n",
    "    speed = np.sqrt(a_value**2 + b_value**2) / np.cos(\n",
    "        np.deg2rad(elevation))\n",
    "    angle = np.arctan2(a_value, b_value)\n",
    "    return {'speed': speed, 'angle': angle}"
   ]
  },
  {
   "cell_type": "code",
   "execution_count": 251,
   "metadata": {
    "collapsed": false,
    "deletable": true,
    "editable": true
   },
   "outputs": [
    {
     "name": "stdout",
     "output_type": "stream",
     "text": [
      "max height: 707.136208968\n",
      "max height 707.136208968  meters\n",
      "707.136208968\n"
     ]
    },
    {
     "data": {
      "image/png": "[encoded data removed]",
      "text/plain": [
       "<matplotlib.figure.Figure at 0x7f14738aceb8>"
      ]
     },
     "metadata": {},
     "output_type": "display_data"
    },
    {
     "name": "stdout",
     "output_type": "stream",
     "text": [
      "Height\n",
      "[  0.         10.1010101  20.2020202  30.3030303  40.4040404]\n",
      "[  0.         10.1010101  20.2020202  30.3030303  40.4040404]\n",
      "[  959.5959596   969.6969697   979.7979798   989.8989899  1000.       ]\n",
      "[  959.5959596   969.6969697   979.7979798   989.8989899  1000.       ]\n",
      "u_wind:\n",
      "[-2.11309131 -2.11309131 -2.11309131 -2.11309131 -2.11309131]\n",
      "[-- -2.1130913186039346 -2.1130913186039346 -- -2.1130913186039346]\n",
      "[-2.11309131 -2.11309131 -2.11309131 -2.11309131 -2.11309131]\n",
      "[-- -- -- -- --]\n",
      "v_wind:\n",
      "[-4.53153894 -4.53153894 -4.53153894 -4.53153894 -4.53153894 -4.53153894\n",
      " -4.53153894 -4.53153894 -4.53153894 -4.53153894 -4.53153894 -4.53153894\n",
      " -4.53153894 -4.53153894 -4.53153894 -4.53153894 -4.53153894 -4.53153894\n",
      " -4.53153894 -4.53153894 -4.53153894 -4.53153894 -4.53153894 -4.53153894\n",
      " -4.53153894 -4.53153894 -4.53153894 -4.53153894 -4.53153894 -4.53153894\n",
      " -4.53153894 -4.53153894 -4.53153894 -4.53153894 -4.53153894 -4.53153894\n",
      " -4.53153894 -4.53153894 -4.53153894 -4.53153894 -4.53153894 -4.53153894\n",
      " -4.53153894 -4.53153894 -4.53153894 -4.53153894 -4.53153894 -4.53153894\n",
      " -4.53153894 -4.53153894 -4.53153894 -4.53153894 -4.53153894 -4.53153894\n",
      " -4.53153894 -4.53153894 -4.53153894 -4.53153894 -4.53153894 -4.53153894\n",
      " -4.53153894 -4.53153894 -4.53153894 -4.53153894 -4.53153894 -4.53153894\n",
      " -4.53153894 -4.53153894 -4.53153894 -4.53153894 -4.53153894 -4.53153894\n",
      " -4.53153894 -4.53153894 -4.53153894 -4.53153894 -4.53153894 -4.53153894\n",
      " -4.53153894 -4.53153894 -4.53153894 -4.53153894 -4.53153894 -4.53153894\n",
      " -4.53153894 -4.53153894 -4.53153894 -4.53153894 -4.53153894 -4.53153894\n",
      " -4.53153894 -4.53153894 -4.53153894 -4.53153894 -4.53153894 -4.53153894\n",
      " -4.53153894 -4.53153894 -4.53153894 -4.53153894]\n",
      "[-- -4.531538944180323 -4.531538944180323 -- -4.531538944180323\n",
      " -4.531538944180323 -4.531538944180323 -- -4.531538944180323\n",
      " -4.531538944180323 -- -4.531538944180323 -4.531538944180323 --\n",
      " -4.531538944180323 -4.531538944180323 -4.531538944180323 --\n",
      " -4.531538944180323 -4.531538944180323 -- -4.531538944180323\n",
      " -4.531538944180323 -- -4.531538944180323 -4.531538944180323\n",
      " -4.531538944180323 -- -4.531538944180323 -4.531538944180323 --\n",
      " -4.531538944180323 -4.531538944180323 -- -4.531538944180323\n",
      " -4.531538944180323 -4.531538944180323 -- -4.531538944180323\n",
      " -4.531538944180323 -- -4.531538944180323 -4.531538944180323 --\n",
      " -4.531538944180323 -4.531538944180323 -4.531538944180323 --\n",
      " -4.531538944180323 -4.531538944180323 -- -4.531538944180323\n",
      " -4.531538944180323 -- -4.531538944180323 -4.531538944180323\n",
      " -4.531538944180323 -- -4.531538944180323 -4.531538944180323 --\n",
      " -4.531538944180323 -4.531538944180323 -- -4.531538944180323\n",
      " -4.531538944180323 -4.531538944180323 -- -4.531538944180323\n",
      " -4.531538944180323 -- -- -- -- -- -- -- -- -- -- -- -- -- -- -- -- -- --\n",
      " -- -- -- -- -- -- -- -- -- -- -- --]\n",
      "speed:\n",
      "[ 5.  5.  5.  5.  5.]\n",
      "[-- 5.000000012338223 5.000000012338223 -- 5.000000012338223]\n",
      "direction:\n",
      "[ 25.  25.  25.  25.  25.]\n",
      "[-- 25.00000005924975 25.00000005924975 -- 25.00000005924975]\n"
     ]
    }
   ],
   "source": [
    "# create a profile of 100 heights up to 500 m with 5 m/s winds at 25 degrees\n",
    "height = np.linspace(0, 1000, 100)\n",
    "speed = np.ones_like(height) * 5\n",
    "direction = np.ones_like(height) * 25\n",
    "profile = pyart.core.HorizontalWindProfile(height, speed, direction)\n",
    "\n",
    "\n",
    "# simulate a single sweep radar with a velocity field from the profile\n",
    "test_radar = pyart.testing.make_target_radar()\n",
    "test_radar.elevation['data'][:] = 45.0\n",
    "test_radar.fixed_angle['data'][:] = 45.0\n",
    "print(\"max height:\", test_radar.gate_z['data'].max())\n",
    "sim_vel = pyart.util.simulated_vel_from_profile(test_radar, profile)\n",
    "test_radar.add_field('velocity', sim_vel, replace_existing=True)\n",
    "\n",
    "# perform a VAD retrieval\n",
    "vad = velocity_azimuth_display(\n",
    "    test_radar, 'velocity', z_want=height, gatefilter=None)\n",
    "\n",
    "# plot the original winds and the retrieved winds\n",
    "fig = plt.figure()\n",
    "ax = fig.add_subplot(111)\n",
    "\n",
    "ax.plot(profile.u_wind, profile.height, 'r-')\n",
    "ax.plot(profile.v_wind, profile.height, 'b-')\n",
    "\n",
    "ax.plot(vad.u_wind, vad.height, 'g--')\n",
    "ax.plot(vad.v_wind, vad.height, 'k--')\n",
    "\n",
    "ax.set_xlim(-5, 0)\n",
    "plt.show()\n",
    "\n",
    "# print out the results\n",
    "print(\"Height\")\n",
    "print(profile.height[:5])\n",
    "print(vad.height[:5])\n",
    "print(profile.height[-5:])\n",
    "print(vad.height[-5:])\n",
    "\n",
    "print(\"u_wind:\")\n",
    "print(profile.u_wind[:5])\n",
    "print(vad.u_wind[:5])\n",
    "print(profile.u_wind[-5:])\n",
    "print(vad.u_wind[-5:])\n",
    "\n",
    "print(\"v_wind:\")\n",
    "print(profile.v_wind)\n",
    "print(vad.v_wind)\n",
    "#print(profile.v_wind[-5:])\n",
    "#print(vad.v_wind[-5:])\n",
    "\n",
    "print(\"speed:\")\n",
    "print(profile.speed[:5])\n",
    "print(vad.speed[:5])\n",
    "\n",
    "print(\"direction:\")\n",
    "print(profile.direction[:5])\n",
    "print(vad.direction[:5])"
   ]
  },
  {
   "cell_type": "code",
   "execution_count": 252,
   "metadata": {
    "collapsed": false,
    "deletable": true,
    "editable": true
   },
   "outputs": [
    {
     "name": "stdout",
     "output_type": "stream",
     "text": [
      "max height: 32085.2190865\n",
      "max height 23349.2962065  meters\n",
      "23349.2962065\n",
      "Height\n",
      "[    50.      157.16    264.32    371.48    478.64    585.8     692.96\n",
      "    800.12    907.28   1014.44   1121.6    1228.76   1335.92   1443.08\n",
      "   1550.24   1657.4    1764.56   1871.72   1978.88   2086.04   2193.2\n",
      "   2300.36   2407.52   2514.68   2621.84   2729.     2836.16   2943.32\n",
      "   3050.48   3157.64   3264.8    3371.96   3479.12   3586.28   3693.44\n",
      "   3800.6    3907.76   4014.92   4122.08   4229.24   4336.4    4443.56\n",
      "   4550.72   4657.88   4765.04   4872.2    4979.36   5086.52   5193.68\n",
      "   5300.84   5408.     5515.16   5622.32   5729.48   5836.64   5943.8\n",
      "   6050.96   6158.12   6265.28   6372.44   6479.6    6586.76   6693.92\n",
      "   6801.08   6908.24   7015.4    7122.56   7229.72   7336.88   7444.04\n",
      "   7551.2    7658.36   7765.52   7872.68   7979.84   8087.     8194.16\n",
      "   8301.32   8408.48   8515.64   8622.8    8729.96   8837.12   8944.28\n",
      "   9051.44   9158.6    9265.76   9372.92   9480.08   9587.24   9694.4\n",
      "   9801.56   9908.72  10015.88  10123.04  10230.2   10337.36  10444.52\n",
      "  10551.68  10658.84  10766.  ]\n",
      "u_wind:\n",
      "[-6.706816979627322 -8.681991301771415 -7.392919463038322\n",
      " -4.156061729446297 -1.5413565589431955 0.2386459929660725\n",
      " 2.018165228066557 1.9803497874614227 1.2199887026081637\n",
      " -1.1690411880510174 -3.637505029192768 -1.9057077134557399\n",
      " 0.611619844421254 3.6190377918695282 5.7054176570168895 6.562273126828982\n",
      " 6.827182378440224 7.217074321571978 7.6647266425931635 8.420216145105744\n",
      " 8.384566558550524 7.98925332988626 6.828379279729689 6.581212372849706\n",
      " 6.67859684887266 6.259168591363711 5.365015477810144 6.38393910457243\n",
      " 8.010349295369792 7.77009143417074 7.514059078560928 7.856217668297168\n",
      " 9.121633913561213 9.587469864002937 11.155761737701482 13.222709251130356\n",
      " 13.744030377828725 14.42437041851802 14.431799389012191 13.89290153783994\n",
      " 14.504036078467418 15.257883634882546 15.359443098233621\n",
      " 15.580632317795226 9.512459420566623 -0.16663617288316374\n",
      " 0.17526146798190476 0.07587975178665578 0.12435269221788191\n",
      " 0.09107637252513018 0.13837876618079048 0.5641519073486703\n",
      " 1.1839103720479849 1.8820852851040413 0.39260840810193154\n",
      " 0.19983752437455776 1.1630593136640293 6.2711963911230715\n",
      " 10.12695213196458 12.746884442540058 14.965196516783376 16.978387547484388\n",
      " 17.06193335504313 17.047603231734296 15.922875226666797 13.641515972035455\n",
      " 11.526747892114564 9.113489916263212 9.021184770247402 9.324834546393388\n",
      " 10.528813361235937 10.316838811111431 10.175412539364785 10.48145577730213\n",
      " 9.186907698364477 8.008668934413654 6.224093009515293 6.5670979774803255\n",
      " 5.497204143973463 4.62216907041034 4.90983913384064 5.124269235813407\n",
      " 4.730431661183358 5.076422020575874 4.65902019151378 4.194819863215039\n",
      " 3.918947293141421 3.9937675814783504 4.181073142323966 3.444692615285464\n",
      " 2.8666289702643275 1.7602852220504925 1.2430802691790621\n",
      " 0.8327112746529993 0.740688880568818 0.5960470840009849 0.6370312268250031\n",
      " 0.7179310583522467 0.6180619309521312 0.26985653704816137\n",
      " 0.2942368643698843]\n",
      "v_wind:\n",
      "[-1.4590423369809964 -0.16360992035818914 1.295085016129357 2.5154272882164\n",
      " 1.457919880941488 -0.212213291021525 -1.689752970230288\n",
      " -2.4008590167333264 -2.2643051750778476 -0.642897006709965\n",
      " 2.044470326598646 2.655359577682365 3.2580717340131518 4.78952832728742\n",
      " 3.9664340046110342 3.951176499686636 5.291032158287129 6.348035979878799\n",
      " 7.21990910785271 8.25466165522921 9.773812668235216 10.821581999324582\n",
      " 11.465076998357766 11.041717614801314 12.330644068648652 11.6619532666721\n",
      " 11.883946084369379 11.724125436490759 10.919323892965746 11.40394103914821\n",
      " 11.011447834889998 10.35871700255596 9.316116561247926 9.077862099896203\n",
      " 9.34254581599296 8.171595726922838 6.995926701146683 6.646717987645098\n",
      " 6.198205998282257 6.046644502560614 6.091718889684452 7.754491751701581\n",
      " 7.7696468997721055 7.8191304401018495 4.888202197841391 0.1590675997291142\n",
      " -1.2891814527905516 -1.1833430240938734 -1.3601866747967675\n",
      " -0.6194989208867115 -1.262605312958964 -1.8662001369184846\n",
      " -2.507965198420183 -3.618966142057045 -0.9208348866155043\n",
      " -0.8987751663408666 -0.46763259834672233 2.007776600850856\n",
      " 2.4169197053282865 1.9112149412044939 1.7683645610619934\n",
      " 0.4233326354283844 -2.114236449775217 -2.031460536322974\n",
      " -0.27517635680783853 -0.016274633105731528 -0.24629980920990438\n",
      " -0.6700391137472125 3.0235676002078415 3.3528743093529005\n",
      " 2.9572578848008715 2.3143926733976246 2.2278827156954946\n",
      " 1.5936340754369238 1.2482054581447222 1.3691825033107612\n",
      " 0.048672505720937564 -1.4861651142990187 -0.9292161283834975\n",
      " -0.1644935625411241 -1.6438053880361174 -1.9937207655490812\n",
      " -1.878820405717494 -2.6339590086550415 -2.820585093512921\n",
      " -2.9198075098545826 -2.7106366873046293 -2.577556719375706\n",
      " -2.606515785139034 -2.570007276685392 -2.5071206606886607\n",
      " -2.1566145371328416 -1.7392879861641117 -1.3738105663282014\n",
      " -1.1872266578484183 -0.9716148498680579 -0.990853108827927\n",
      " -1.0834625369423652 -0.7531724325747232 -0.04549526778308732\n",
      " 0.05066091288509634]\n",
      "speed:\n",
      "[6.863686949396827 8.683532758622732 7.505498210377084 4.858006128163267\n",
      " 2.121629190278464 0.3193530817840172 2.6321580477203526 3.1122193526369917\n",
      " 2.572051780267239 1.3341566102209916 4.172685197057771 3.2684333213198906\n",
      " 3.314982693479009 6.003083885543205 6.9486969536694305 7.659975477948853\n",
      " 8.637444096983392 9.611645153922892 10.529725638939126 11.791500285061732\n",
      " 12.877436485905065 13.451200903161194 13.344465300869649\n",
      " 12.854255489197485 14.023139413750119 13.235495663146056\n",
      " 13.038848323887379 13.349524176593661 13.54242703924684 13.799427238829235\n",
      " 13.33090646792661 13.000891276782008 13.038183655547575 13.2033010530661\n",
      " 14.551088697148813 15.543970427924517 15.422106258047112 15.88210697539538\n",
      " 15.706514291905597 15.151720129426291 15.731373163091101\n",
      " 17.115348531152513 17.212783192587267 17.432581686647918\n",
      " 10.694924261298352 0.23036951924403828 1.301040122509037\n",
      " 1.1857733549894085 1.3658592102982368 0.6261579821515784\n",
      " 1.2701656818076614 1.9496077363407527 2.773361355022022 4.079112766001991\n",
      " 1.0010385859298938 0.9207235392772385 1.253549845094781 6.58476051614326\n",
      " 10.411371684130104 12.88936792643274 15.069313853217249 16.98366433467147\n",
      " 17.192427564991846 17.168215045754618 15.925252824094983\n",
      " 13.641525680032316 11.529379019027191 9.138087921867594 9.514396233706597\n",
      " 9.90930398423271 10.936237241069586 10.573248152820955 10.416452454706297\n",
      " 10.601914203479195 9.271315436550024 8.124865465250158 6.224283316487955\n",
      " 6.73316141146086 5.575185738050979 4.625095139299889 5.177703783911317\n",
      " 5.49845957447041 5.089887014273145 5.719073403118961 5.44629868944776\n",
      " 5.110948011810202 4.76504975178458 4.753312333148989 4.926996768787429\n",
      " 4.29777205258935 3.808308766422526 2.7838086005941665 2.137842663630114\n",
      " 1.6064755021752546 1.3993309668924696 1.1398717220942916\n",
      " 1.1779637800985803 1.2997369247291404 0.9743045025467157\n",
      " 0.27366470356675615 0.2985663417878395]\n",
      "direction:\n",
      "[77.72675388926687 88.92040337644195 99.93620223984958 121.1841295476542\n",
      " 133.40650338256958 311.64473881757704 309.9384906147447 320.4824654644739\n",
      " 331.68458393628015 61.19205279541712 119.3382909820235 144.3336209323003\n",
      " 190.63208009266563 217.07522883107046 235.1927861409592 238.94764990887006\n",
      " 232.2244949312741 228.66560063670204 226.71173718149117 225.56883546665486\n",
      " 220.62498523718736 216.43735312981437 210.77721425777804 210.7962771449336\n",
      " 208.44112505467018 208.2232116087779 204.29682839439988 208.56886801915994\n",
      " 216.2635445797354 214.2686165756965 214.30908460192921 217.17726520205667\n",
      " 224.39566262818767 226.56392194788688 230.05504754375377\n",
      " 238.28405577355522 243.02319339752063 245.25985430535334\n",
      " 246.75732117108947 246.4797513439216 247.2175145619891 243.0590235842585\n",
      " 243.16721684414284 243.35024288309228 242.80256298856233\n",
      " 133.66882331148878 352.2582222611843 356.33103393402416 354.77635452938324\n",
      " 351.63650477036026 353.74547129157577 343.1799441628535 334.72987216774885\n",
      " 332.5227907099928 336.9084738669237 347.46452773529654 291.9036366104203\n",
      " 252.24709282365717 256.57676957472665 261.4728291237492 263.26088625675686\n",
      " 268.5717048344748 277.0638217540639 276.7955492566377 270.99007712575246\n",
      " 270.06835511167526 271.22409135266946 274.20491653902207\n",
      " 251.47075263974887 250.2232443078079 254.31138887872973 257.3560743827206\n",
      " 257.65010552436365 261.354778161516 262.2627233465521 260.298361959327\n",
      " 269.5519552314045 282.75151513260636 279.59426110301285 272.03817967890404\n",
      " 288.5104540865147 291.2597258509329 291.66185600812975 297.42305236820664\n",
      " 301.1908410187957 304.8398755989558 304.6706291838815 302.83798664653364\n",
      " 301.9397567677996 306.7257872618341 311.1725681782391 320.77777681896583\n",
      " 324.4463646414841 328.7785834181834 328.04071919169155 328.4725392056811\n",
      " 327.26255499624193 326.4704873855584 320.62730520450253 279.569541021875\n",
      " 260.23075161805855]\n"
     ]
    }
   ],
   "source": [
    "test_radar = pyart.io.read(pyart.testing.NEXRAD_ARCHIVE_MSG1_FILE)\n",
    "new_radar = test_radar.extract_sweeps([4])\n",
    "radar_sweep = myradar.extract_sweeps([5])\n",
    "height = np.linspace(50, 10766, 101)\n",
    "\n",
    "print(\"max height:\", new_radar.gate_z['data'][0].max())\n",
    "\n",
    "# perform a VAD retrieval\n",
    "vad_test = velocity_azimuth_display(\n",
    "    radar_sweep, 'velocity', z_want=height, gatefilter=None)\n",
    "# print out the results\n",
    "print(\"Height\")\n",
    "print(vad_test.height)\n",
    "\n",
    "\n",
    "print(\"u_wind:\")\n",
    "print(vad_test.u_wind)\n",
    "\n",
    "print(\"v_wind:\")\n",
    "print(vad_test.v_wind)\n",
    "\n",
    "print(\"speed:\")\n",
    "print(vad_test.speed)\n",
    "\n",
    "print(\"direction:\")\n",
    "print(vad_test.direction)"
   ]
  },
  {
   "cell_type": "code",
   "execution_count": 253,
   "metadata": {
    "collapsed": false,
    "deletable": true,
    "editable": true
   },
   "outputs": [
    {
     "data": {
      "image/png": "[encoded data removed]",
      "text/plain": [
       "<matplotlib.figure.Figure at 0x7f14700d2e80>"
      ]
     },
     "metadata": {},
     "output_type": "display_data"
    }
   ],
   "source": [
    "# Without in velocity_azimuth_display function:      \n",
    "#  mask=velocities.mask\n",
    "#  velocities[np.where(mask)]=np.nan\n",
    "fig = plt.figure()\n",
    "plt.plot(vad_test.u_wind, vad_test.height, 'b-', label='U Wind')\n",
    "plt.plot(vad_test.v_wind, vad_test.height, 'r-', label='V Wind')\n",
    "plt.xlim(-25, 35)\n",
    "plt.ylim(-500, 11000)\n",
    "plt.legend(bbox_to_anchor=(1.05, 1), loc=2, borderaxespad=0.)\n",
    "plt.show()"
   ]
  },
  {
   "cell_type": "code",
   "execution_count": 194,
   "metadata": {
    "collapsed": false,
    "deletable": true,
    "editable": true
   },
   "outputs": [
    {
     "data": {
      "image/png": "[encoded data removed]",
      "text/plain": [
       "<matplotlib.figure.Figure at 0x7fbb36282208>"
      ]
     },
     "metadata": {},
     "output_type": "display_data"
    }
   ],
   "source": [
    "# Within velocity_azimuth_display function:      \n",
    "#  mask=velocities.mask\n",
    "#  velocities[np.where(mask)]=np.nan\n",
    "fig = plt.figure()\n",
    "plt.plot(vad_test.u_wind, vad_test.height, 'b-', label='U Wind')\n",
    "plt.plot(vad_test.v_wind, vad_test.height, 'r-', label='V Wind')\n",
    "plt.xlim(-25, 35)\n",
    "plt.ylim(-500, 11000)\n",
    "plt.legend(bbox_to_anchor=(1.05, 1), loc=2, borderaxespad=0.)\n",
    "plt.show()"
   ]
  },
  {
   "cell_type": "code",
   "execution_count": 214,
   "metadata": {
    "collapsed": false
   },
   "outputs": [
    {
     "name": "stdout",
     "output_type": "stream",
     "text": [
      "[[ 0.01767573  0.01767573  0.01767573  0.01767573  0.01767573  0.01767573\n",
      "   0.01767573  0.01767573  0.01767573  0.01767573  0.01767573  0.01767573\n",
      "   0.01767573  0.01767573  0.01767573  0.01767573  0.01767573  0.01767573\n",
      "   0.01767573  0.01767573  0.01767573  0.01767573  0.01767573  0.01767573\n",
      "   0.01767573  0.01767573  0.01767573  0.01767573  0.01767573  0.01767573\n",
      "   0.01767573  0.01767573  0.01767573  0.01767573  0.01767573  0.01767573\n",
      "   0.01767573  0.01767573  0.01767573  0.01767573  0.01767573  0.01767573\n",
      "   0.01767573  0.01767573  0.01767573  0.01767573  0.01767573  0.01767573\n",
      "   0.01767573  0.01767573]]\n"
     ]
    }
   ],
   "source": [
    "for i in range(len(test_radar.sweep_start_ray_index['data'])):\n",
    "    index_start = test_radar.sweep_start_ray_index['data'][i]\n",
    "    index_end = test_radar.sweep_end_ray_index['data'][i]\n",
    "    if (index_end - index_start) % 2 == 0:\n",
    "        print(\"even, all good\")\n",
    "    else:\n",
    "        index_end = index_end - 1\n",
    "\n",
    "    velocity_field = test_radar.fields[\n",
    "        'velocity']['data'][index_start:index_end]\n",
    "    azimuth = test_radar.azimuth['data'][index_start:index_end]\n",
    "    elevation = test_radar.fixed_angle['data'][i]\n",
    "    nrays, nbins = velocity_field.shape\n",
    "    nrays2 = nrays // 2\n",
    "    velocity_count = np.empty((nrays2, nbins, 2))\n",
    "    velocity_count[:, :, 0] = velocity_field[0:nrays2, :]\n",
    "    velocity_count[:, :, 1] = velocity_field[nrays2:, :]\n",
    "    sinaz = np.sin(np.deg2rad(azimuth))\n",
    "    cosaz = np.cos(np.deg2rad(azimuth))\n",
    "    sumv = np.ma.sum(velocity_count, 2)\n",
    "    vals = np.isnan(sumv)\n",
    "    vals2 = np.vstack((vals, vals))\n",
    "    # Jonathan, still can't get == 0 switched to is not the expression.\n",
    "    # Have errors, I apologize I might be overthinking how to accomplish that.\n",
    "    count = np.sum(np.isnan(sumv) == False, 0)\n",
    "    aa = count < 8\n",
    "    vals[:, aa] = 0\n",
    "    vals2[:, aa] = 0\n",
    "    count = np.float64(count)\n",
    "    count[aa] = np.nan\n",
    "    u_m = np.array([np.nansum(sumv, 0) / (2 * count)])\n",
    "    count[aa] = 0\n",
    "    print(u_m)"
   ]
  },
  {
   "cell_type": "code",
   "execution_count": 250,
   "metadata": {
    "collapsed": false,
    "deletable": true,
    "editable": true
   },
   "outputs": [],
   "source": [
    "filename = '/home/zsherman/training_exercises/data/KLOT20130417_235520_V06.gz'\n",
    "myradar = pyart.io.read(filename)"
   ]
  },
  {
   "cell_type": "code",
   "execution_count": 69,
   "metadata": {
    "collapsed": false,
    "deletable": true,
    "editable": true
   },
   "outputs": [
    {
     "data": {
      "text/plain": [
       "array([   0,  720, 1440, 2160, 2880, 3600, 4320, 4680, 5040, 5400, 5760,\n",
       "       6120, 6480, 6840, 7200, 7560, 7920], dtype=int32)"
      ]
     },
     "execution_count": 69,
     "metadata": {},
     "output_type": "execute_result"
    }
   ],
   "source": [
    "myradar.sweep_start_ray_index['data']"
   ]
  },
  {
   "cell_type": "code",
   "execution_count": 179,
   "metadata": {
    "collapsed": false,
    "deletable": true,
    "editable": true
   },
   "outputs": [
    {
     "data": {
      "text/plain": [
       "[719,\n",
       " 1439,\n",
       " 2159,\n",
       " 2879,\n",
       " 3599,\n",
       " 4319,\n",
       " 4679,\n",
       " 5039,\n",
       " 5399,\n",
       " 5759,\n",
       " 6119,\n",
       " 6479,\n",
       " 6839,\n",
       " 7199,\n",
       " 7559,\n",
       " 7919,\n",
       " 8279]"
      ]
     },
     "execution_count": 179,
     "metadata": {},
     "output_type": "execute_result"
    }
   ],
   "source": [
    "ray_start = []\n",
    "ray_end = []\n",
    "\n",
    "for i in range(len(myradar.sweep_start_ray_index['data'])):\n",
    "    index_start = myradar.sweep_start_ray_index['data'][i]\n",
    "    index_end = myradar.sweep_end_ray_index['data'][i]\n",
    "\n",
    "    ray_start.append(index_start)\n",
    "    ray_end.append(index_end)\n",
    "ray_start = np.array(ray_start)\n",
    "ray_start\n",
    "ray_end"
   ]
  },
  {
   "cell_type": "code",
   "execution_count": 34,
   "metadata": {
    "collapsed": false,
    "deletable": true,
    "editable": true
   },
   "outputs": [
    {
     "data": {
      "text/plain": [
       "{'axis': 'radial_azimuth_coordinate',\n",
       " 'comment': 'Azimuth of antenna relative to true north',\n",
       " 'data': array([ 174.24316406,  174.72106934,  175.25390625, ...,  213.51379395,\n",
       "         214.49981689,  215.49407959]),\n",
       " 'long_name': 'azimuth_angle_from_true_north',\n",
       " 'standard_name': 'beam_azimuth_angle',\n",
       " 'units': 'degrees'}"
      ]
     },
     "execution_count": 34,
     "metadata": {},
     "output_type": "execute_result"
    }
   ],
   "source": [
    "myradar.azimuth"
   ]
  },
  {
   "cell_type": "code",
   "execution_count": 32,
   "metadata": {
    "collapsed": false,
    "deletable": true,
    "editable": true
   },
   "outputs": [
    {
     "data": {
      "text/plain": [
       "array([  0.48339844,   0.48339844,   0.87890625,   0.87890625,\n",
       "         1.31835938,   1.31835938,   1.80175781,   2.41699219,\n",
       "         3.12011719,   3.99902344,   5.09765625,   6.41601562,\n",
       "         7.99804688,  10.01953125,  12.48046875,  15.60058594,  19.51171875], dtype=float32)"
      ]
     },
     "execution_count": 32,
     "metadata": {},
     "output_type": "execute_result"
    }
   ],
   "source": [
    "myradar.fixed_angle['data']"
   ]
  },
  {
   "cell_type": "code",
   "execution_count": 9,
   "metadata": {
    "collapsed": false,
    "deletable": true,
    "editable": true,
    "scrolled": false
   },
   "outputs": [
    {
     "name": "stdout",
     "output_type": "stream",
     "text": [
      "max height 16378.3196353  meters\n",
      "max height 16664.336786  meters\n",
      "max height 18644.1409849  meters\n",
      "max height 19831.749484  meters\n",
      "max height 22733.8708519  meters\n",
      "max height 23349.2962065  meters\n",
      "max height 28314.2167915  meters\n",
      "max height 31848.3092148  meters\n",
      "max height 36936.2556392  meters\n",
      "max height 44031.5646064  meters\n",
      "max height 52728.7671706  meters\n",
      "max height 62490.3668599  meters\n",
      "max height 76743.0034827  meters\n",
      "max height 91638.9944802  meters\n",
      "max height 112526.51153  meters\n",
      "max height 134714.181605  meters\n",
      "max height 163740.607128  meters\n"
     ]
    }
   ],
   "source": [
    "vad = velocity_azimuth_display(myradar, 'velocity')"
   ]
  },
  {
   "cell_type": "code",
   "execution_count": 28,
   "metadata": {
    "collapsed": false,
    "deletable": true,
    "editable": true
   },
   "outputs": [
    {
     "name": "stdout",
     "output_type": "stream",
     "text": [
      "max height 16378.3196353  meters\n",
      "max height 16664.336786  meters\n",
      "max height 18644.1409849  meters\n",
      "max height 19831.749484  meters\n",
      "max height 22733.8708519  meters\n",
      "max height 23349.2962065  meters\n",
      "max height 28314.2167915  meters\n",
      "max height 31848.3092148  meters\n",
      "max height 36936.2556392  meters\n",
      "max height 44031.5646064  meters\n",
      "max height 52728.7671706  meters\n",
      "max height 62490.3668599  meters\n",
      "max height 76743.0034827  meters\n",
      "max height 91638.9944802  meters\n",
      "max height 112526.51153  meters\n",
      "max height 134714.181605  meters\n",
      "max height 163740.607128  meters\n"
     ]
    }
   ],
   "source": [
    "corr_vel = pyart.correct.dealias_region_based(\n",
    "    myradar, vel_field='velocity', keep_original=False, \n",
    "    gatefilter=None, nyquist_vel=None, centered=True)\n",
    "myradar.add_field('corrected_velocity', corr_vel,\n",
    "                  replace_existing = True)\n",
    "vad_corrected = velocity_azimuth_display(myradar,\n",
    "                                         'corrected_velocity',\n",
    "                                         z_count=101)"
   ]
  },
  {
   "cell_type": "code",
   "execution_count": 30,
   "metadata": {
    "collapsed": false,
    "deletable": true,
    "editable": true,
    "scrolled": false
   },
   "outputs": [
    {
     "data": {
      "text/plain": [
       "array([ 1.88288726,  0.86016533,  1.12002044,  1.81106364,  2.04469912,\n",
       "        2.48172437,  2.90231224,  3.86181863,  4.75337025,  5.51197815,\n",
       "        6.0330035 ,  6.44692266,  7.03198106,  7.6739984 ,  7.99057773,\n",
       "        8.47618057,  8.71327211,  8.81045014,  9.1957126 ,  9.20648551,\n",
       "        9.72271189,  9.65639762,  8.76392175,  8.66674489,  8.57776901,\n",
       "        8.459111  ,  8.22434225,  8.09939404,  8.11504363,  8.39767749,\n",
       "        9.13443443,  9.23677296,  7.97793043,  7.76802828,  7.65301287,\n",
       "        7.23241781,  7.18284373,  7.00001129,  7.23638352,  7.00692738,\n",
       "        7.77117481,  7.48225215,  8.66405375,  8.20142139,  8.20391146,\n",
       "        8.49184376,  8.40315863,  8.48070603,  8.48254191,  8.44062985,\n",
       "        8.4188897 ,  7.85081286,  8.03046261,  8.29083845,  8.05622144,\n",
       "        8.6005199 ,  8.59951314,  9.38521384,  8.84579231,  7.89980691,\n",
       "        7.93838037,  7.77571947,  6.78064494,  6.90131734,  6.30957685,\n",
       "        6.71875707,  5.32581301,  5.53492174,  5.06371933,  5.08507635,\n",
       "        4.53895908,  3.88580574,  4.09142277,  3.50110214,  3.78554567,\n",
       "        3.25303812,  3.38165623,  3.38671665,  3.47304965,  3.14643435,\n",
       "        3.21623778,  3.18592527,  3.75694089,  3.33581311,  3.19935571,\n",
       "        3.06397289,  3.33263803,  2.8697712 ,  2.83197772,  2.96657222,\n",
       "        2.91578904,  2.63058313,  2.4498962 ,  2.48409317,  2.08487189,\n",
       "        2.5389501 ,  2.30363555,  2.41165966,  1.94453066,  1.89767041,\n",
       "        1.78132559])"
      ]
     },
     "execution_count": 30,
     "metadata": {},
     "output_type": "execute_result"
    }
   ],
   "source": [
    "vad.speed"
   ]
  },
  {
   "cell_type": "code",
   "execution_count": 34,
   "metadata": {
    "collapsed": false,
    "deletable": true,
    "editable": true,
    "scrolled": false
   },
   "outputs": [
    {
     "data": {
      "text/plain": [
       "array([ 1.02861839, -0.15651681, -1.067073  , -1.44928876, -1.20451048,\n",
       "       -0.65907686,  0.70999025,  1.66796268,  2.52933849,  3.43875201,\n",
       "        4.12525984,  4.61166223,  5.34382439,  5.96453165,  6.37940731,\n",
       "        6.50285137,  6.71418311,  6.60905247,  7.11096486,  7.30057627,\n",
       "        7.6180045 ,  7.59178412,  7.00250278,  6.56384896,  6.37307028,\n",
       "        6.17344703,  5.80289492,  5.55271026,  5.40983771,  5.67875337,\n",
       "        6.03524697,  5.86105151,  5.24969842,  4.81906074,  4.29069527,\n",
       "        4.18629419,  4.19708279,  4.27475747,  4.79035276,  4.84632915,\n",
       "        5.54640544,  5.31084411,  5.90998208,  5.5818397 ,  5.29327136,\n",
       "        5.12596976,  5.09181406,  4.99799896,  4.77305366,  4.83028545,\n",
       "        4.97983656,  4.82106597,  5.11648326,  5.44790957,  5.38177983,\n",
       "        5.44768839,  5.24219215,  5.39009198,  4.84654047,  4.15815863,\n",
       "        3.82405183,  3.35639534,  2.72491856,  2.8167996 ,  2.65535148,\n",
       "        3.01717375,  2.02187565,  2.03364539,  1.83248566,  1.9430395 ,\n",
       "        1.66643703,  1.38237642,  1.54264409,  1.0475007 ,  1.04378955,\n",
       "        0.79713934,  0.70287644,  0.35054112,  0.164323  , -0.2029835 ,\n",
       "       -0.32817363, -0.53704535, -1.18317595, -1.27290345, -0.96194509,\n",
       "       -1.65248085, -1.19570618, -1.58595834, -1.79776206, -1.80872229,\n",
       "       -2.08604736, -1.75797135, -1.86691635, -1.95893494, -1.75273978,\n",
       "       -2.00236036, -1.96294698, -2.00926451, -1.70146451, -1.59027245,\n",
       "       -1.44200028])"
      ]
     },
     "execution_count": 34,
     "metadata": {},
     "output_type": "execute_result"
    }
   ],
   "source": [
    "vad.u_wind"
   ]
  },
  {
   "cell_type": "code",
   "execution_count": 35,
   "metadata": {
    "collapsed": false,
    "deletable": true,
    "editable": true
   },
   "outputs": [
    {
     "data": {
      "text/plain": [
       "array([-1.57708866, -0.84580546,  0.34029546,  1.08605414,  1.65225573,\n",
       "        2.39260811,  2.81413045,  3.48303655,  4.02454662,  4.30777062,\n",
       "        4.40219973,  4.50503976,  4.57080938,  4.82852085,  4.81170395,\n",
       "        5.43677856,  5.55345442,  5.82618719,  5.83054962,  5.60900718,\n",
       "        6.0412858 ,  5.96748094,  5.26984622,  5.65935985,  5.7412626 ,\n",
       "        5.78317479,  5.82805423,  5.89640506,  6.04876757,  6.18649718,\n",
       "        6.85665271,  7.13905105,  6.00733223,  6.0925296 ,  6.33707662,\n",
       "        5.89769517,  5.82904281,  5.54315854,  5.42381479,  5.06064473,\n",
       "        5.44321087,  5.27058176,  6.33545099,  6.00885832,  6.26780995,\n",
       "        6.77021746,  6.68479651,  6.85145103,  7.01223759,  6.92189098,\n",
       "        6.7881464 ,  6.19617507,  6.1895015 ,  6.24966267,  5.99492701,\n",
       "        6.655196  ,  6.81696764,  7.68304284,  7.39993832,  6.71689408,\n",
       "        6.95661631,  7.01401623,  6.20902284,  6.30030325,  5.72362373,\n",
       "        6.00319574,  4.92709885,  5.1477806 ,  4.72051371,  4.6992126 ,\n",
       "        4.22198261,  3.63160043,  3.78945768,  3.34072724,  3.63879917,\n",
       "        3.15385888,  3.30780344,  3.36852648,  3.4691601 ,  3.13988006,\n",
       "        3.19945113,  3.14033471,  3.56576773,  3.08340168,  3.05131752,\n",
       "        2.58016219,  3.11074959,  2.39171965,  2.18818404,  2.3513984 ,\n",
       "        2.03721186,  1.95691194,  1.58638417,  1.52751197,  1.12897922,\n",
       "        1.56103191,  1.20564336,  1.33377602,  0.94139152,  1.0354644 ,\n",
       "        1.04582793])"
      ]
     },
     "execution_count": 35,
     "metadata": {},
     "output_type": "execute_result"
    }
   ],
   "source": [
    "vad.v_wind"
   ]
  },
  {
   "cell_type": "code",
   "execution_count": 36,
   "metadata": {
    "collapsed": false,
    "deletable": true,
    "editable": true
   },
   "outputs": [
    {
     "data": {
      "text/plain": [
       "array([ 326.88656003,   10.48402119,  107.6877691 ,  126.84680489,\n",
       "        143.90758754,  164.59904752,  194.1599201 ,  205.5889104 ,\n",
       "        212.14845265,  218.59921932,  223.13990182,  225.67006014,\n",
       "        229.45816549,  231.00848096,  232.97436952,  230.10232916,\n",
       "        230.40507125,  228.60232364,  230.65037483,  232.46505339,\n",
       "        231.58462184,  231.83107355,  233.03612104,  229.23204168,\n",
       "        227.98548389,  226.86950934,  224.8760617 ,  223.28053534,\n",
       "        221.80850211,  222.54966494,  221.35433474,  219.38547096,\n",
       "        221.14961931,  218.34324387,  214.10106535,  215.36784415,\n",
       "        215.75500043,  217.63859023,  221.45117676,  223.76072516,\n",
       "        225.53800235,  225.21800951,  223.01005236,  222.89009214,\n",
       "        220.18165682,  217.13064458,  217.2965493 ,  216.11001654,\n",
       "        214.24213336,  214.90839217,  216.26405946,  217.88546067,\n",
       "        219.5784627 ,  221.07907211,  221.91503081,  219.3024414 ,\n",
       "        217.5599887 ,  215.05184602,  213.22252785,  211.75998168,\n",
       "        208.79759434,  205.57236819,  203.69495597,  204.08891843,\n",
       "        204.88792345,  206.68385537,  202.31119912,  201.55663914,\n",
       "        201.21602483,  202.46421028,  201.53939019,  200.83943335,\n",
       "        202.15066598,  197.40906117,  196.00553854,  194.18446787,\n",
       "        191.99637238,  185.94102332,  182.71189056,  176.30115265,\n",
       "        174.14354692,  170.29542455,  161.64337098,  157.56797028,\n",
       "        162.50224818,  147.3622181 ,  158.9742986 ,  146.45149145,\n",
       "        140.59425577,  142.43210763,  134.32142581,  138.0653933 ,\n",
       "        130.35572087,  127.94591436,  122.78649817,  127.93983264,\n",
       "        121.55827423,  123.57672639,  118.95501319,  123.06911318,\n",
       "        125.95194817])"
      ]
     },
     "execution_count": 36,
     "metadata": {},
     "output_type": "execute_result"
    }
   ],
   "source": [
    "vad.direction"
   ]
  }
 ],
 "metadata": {
  "kernelspec": {
   "display_name": "Python [default]",
   "language": "python",
   "name": "python3"
  },
  "language_info": {
   "codemirror_mode": {
    "name": "ipython",
    "version": 3
   },
   "file_extension": ".py",
   "mimetype": "text/x-python",
   "name": "python",
   "nbconvert_exporter": "python",
   "pygments_lexer": "ipython3",
   "version": "3.5.3"
  }
 },
 "nbformat": 4,
 "nbformat_minor": 0
}
