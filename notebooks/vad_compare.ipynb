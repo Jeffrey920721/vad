{
 "cells": [
  {
   "cell_type": "markdown",
   "metadata": {},
   "source": [
    "# (VAD) Velocity Azimuth Display\n",
    "\n",
    "Argonne National Laboratory\n",
    "\n",
    "Original code by Jonathan Helmus"
   ]
  },
  {
   "cell_type": "code",
   "execution_count": 19,
   "metadata": {
    "scrolled": true
   },
   "outputs": [
    {
     "name": "stdout",
     "output_type": "stream",
     "text": [
      "\n",
      "## You are using the Python ARM Radar Toolkit (Py-ART), an open source\n",
      "## library for working with weather radar data. Py-ART is partly\n",
      "## supported by the U.S. Department of Energy as part of the Atmospheric\n",
      "## Radiation Measurement (ARM) Climate Research Facility, an Office of\n",
      "## Science user facility.\n",
      "##\n",
      "## If you use this software to prepare a publication, please cite:\n",
      "##\n",
      "##     JJ Helmus and SM Collis, JORS 2016, doi: 10.5334/jors.119\n",
      "\n",
      "CPU times: user 724 ms, sys: 360 ms, total: 1.08 s\n",
      "Wall time: 1.01 s\n"
     ]
    }
   ],
   "source": [
    "%%time\n",
    "import glob\n",
    "from matplotlib import animation\n",
    "import matplotlib.pyplot as plt\n",
    "import netCDF4\n",
    "import numpy.ma as ma\n",
    "import numpy as np\n",
    "import pyart\n",
    "import warnings\n",
    "# warnings.filterwarnings(\"ignore\")\n",
    "%matplotlib inline\n",
    "from IPython.display import Image, display"
   ]
  },
  {
   "cell_type": "code",
   "execution_count": 20,
   "metadata": {},
   "outputs": [],
   "source": [
    "\"\"\"\n",
    "pyart.retrieve.velocity_azimuth_display\n",
    "=======================================\n",
    "\n",
    "Retrieval of VADs from a radar object.\n",
    "\n",
    ".. autosummary::\n",
    "    :toctreeL generated/\n",
    "    :template: dev_template.rst\n",
    "\n",
    "    velocity_azimuth_display\n",
    "    _vad_calculation\n",
    "    _inverse_dist_squared\n",
    "    _Average1D\n",
    "\n",
    "\"\"\"\n",
    "\n",
    "import numpy as np\n",
    "\n",
    "from pyart.core import HorizontalWindProfile\n",
    "\n",
    "\n",
    "def velocity_azimuth_display_jon(\n",
    "        radar, velocity, z_want=None,\n",
    "        valid_ray_min=16, gatefilter=None, window=2,\n",
    "        weight='equal'):\n",
    "    \"\"\"\n",
    "    Velocity azimuth display.\n",
    "\n",
    "    Note: If a specific sweep is desired, before using the\n",
    "    velocity_azimuth_display function, use, for example:\n",
    "    one_sweep_radar = radar.extract_sweeps([0])\n",
    "\n",
    "    Parameters\n",
    "    ----------\n",
    "    radar : Radar\n",
    "        Radar object used.\n",
    "    velocity : string\n",
    "        Velocity field to use for VAD calculation.\n",
    "\n",
    "    Other Parameters\n",
    "    ----------------\n",
    "    z_want : array\n",
    "        Array of desired heights to be sampled for the vad\n",
    "        calculation.\n",
    "    valid_ray_min : int\n",
    "        Amount of rays required to include that level in\n",
    "        the VAD calculation.\n",
    "    gatefilter : GateFilter\n",
    "        A GateFilter indicating radar gates that should be excluded when\n",
    "        from the vad calculation.\n",
    "    window : int\n",
    "        Value to use for window when determing new values in the\n",
    "        _Averag1D function.\n",
    "    weight : string\n",
    "        A string to indicate weighting method to use. 'equal' for\n",
    "        equal weighting when interpolating or 'idw' for inverse\n",
    "        distribution squared weighting for interpolating.\n",
    "        Default is 'equal'.\n",
    "\n",
    "    Returns\n",
    "    -------\n",
    "    height : array\n",
    "        Heights in meters above sea level at which horizontal winds were\n",
    "        sampled.\n",
    "    speed : array\n",
    "        Horizontal wind speed in meters per second at each height.\n",
    "    direction : array\n",
    "        Horizontal wind direction in degrees at each height.\n",
    "    u_wind : array\n",
    "        U-wind mean in meters per second.\n",
    "    v_wind : array\n",
    "        V-wind mean in meters per second.\n",
    "\n",
    "    Reference\n",
    "    ---------\n",
    "    K. A. Browning and R. Wexler, 1968: The Determination\n",
    "    of Kinematic Properties of a Wind Field Using Doppler\n",
    "    Radar. J. Appl. Meteor., 7, 105–113\n",
    "\n",
    "    \"\"\"\n",
    "    velocities = radar.fields[velocity]['data']\n",
    "    if gatefilter is not None:\n",
    "        velocities = np.ma.masked_where(\n",
    "            gatefilter.gate_excluded, velocities)\n",
    "    #mask=velocities.mask\n",
    "    #velocities[np.where(mask)]=np.nan\n",
    "    azimuths = radar.azimuth['data'][:]\n",
    "    elevation = radar.fixed_angle['data'][0]\n",
    "\n",
    "    u_wind, v_wind = _vad_calculation_j(velocities, azimuths,\n",
    "                                        elevation, valid_ray_min)\n",
    "    bad = np.logical_or(np.isnan(u_wind), np.isnan(v_wind))\n",
    "    good_u_wind = u_wind[~bad]\n",
    "    good_v_wind = v_wind[~bad]\n",
    "\n",
    "    radar_height = radar.gate_z['data'][0]\n",
    "    good_height = radar_height[~bad]\n",
    "    if z_want is None:\n",
    "        z_want = np.linspace(0, 1000, 100)\n",
    "    try:\n",
    "        print('max height', np.max(good_height), ' meters')\n",
    "        print('min height', np.min(good_height), ' meters')\n",
    "    except ValueError:\n",
    "        raise ValueError('Not enough data in this radar sweep ' \\\n",
    "                         'for a vad calculation.')\n",
    "\n",
    "    u_interp = _Average1D(good_height, good_u_wind,\n",
    "                          z_want[1] - z_want[0] / window, weight)\n",
    "    v_interp = _Average1D(good_height, good_v_wind,\n",
    "                          z_want[1] - z_want[0] / window, weight)\n",
    "\n",
    "    u_wanted = u_interp(z_want)\n",
    "    v_wanted = v_interp(z_want)\n",
    "    u_wanted = np.ma.masked_equal(u_wanted, 99999.)\n",
    "    v_wanted = np.ma.masked_equal(v_wanted, 99999.)\n",
    "\n",
    "    vad = HorizontalWindProfile.from_u_and_v(\n",
    "        z_want, u_wanted, v_wanted)\n",
    "    return vad\n",
    "\n",
    "def _vad_calculation_j(velocities, azimuths,\n",
    "                       elevation, valid_ray_min):\n",
    "    \"\"\" Calculates VAD for a scan and returns u_mean and\n",
    "    v_mean. velocities is a 2D array, azimuths is a 1D\n",
    "    array, elevation is a number.\n",
    "\n",
    "    Jonathan's Note:\n",
    "    We need to solve: Ax = b\n",
    "    where:\n",
    "    A = [sum_sin_squared_az, sum_sin_cos_az    ] = [a, b]\n",
    "        [sum_sin_cos_az,     sum_cos_squared_az]   [c, d]\n",
    "    b = [sum_sin_vel_dev] = [b_1]\n",
    "        [sum_cos_vel_dev]   [b_2]\n",
    "    The solution to this is:\n",
    "    x = A-1 * b\n",
    "\n",
    "    A-1 is:\n",
    "     1    [ d,  -b ]\n",
    "    --- * [ -c,  a ]\n",
    "    |A|\n",
    "\n",
    "    and the determinate, det is: det = a*d - b*c\n",
    "\n",
    "    Therefore the elements of x are:\n",
    "\n",
    "    x_1 = (d* b_1  + -b * b_2) / det = (d*b_1 - b*b_2) / det\n",
    "    x_2 = (-c * b_1 +  a * b_2) / det = (a*b_2 - c*b_1) / det\n",
    "\n",
    "    \"\"\"\n",
    "    velocities = velocities.filled(np.nan)\n",
    "    shape = velocities.shape\n",
    "    _, nbins = velocities.shape\n",
    "\n",
    "    invalid = np.isnan(velocities)\n",
    "    valid_rays_per_gate = np.sum(~np.isnan(velocities), axis=0)\n",
    "    too_few_valid_rays = valid_rays_per_gate < valid_ray_min\n",
    "    invalid[:, too_few_valid_rays] = True\n",
    "\n",
    "    sin_az = np.sin(np.deg2rad(azimuths))\n",
    "    cos_az = np.cos(np.deg2rad(azimuths))\n",
    "    sin_az = np.repeat(sin_az, nbins).reshape(shape)\n",
    "    cos_az = np.repeat(cos_az, nbins).reshape(shape)\n",
    "    sin_az[invalid] = np.nan\n",
    "    cos_az[invalid] = np.nan\n",
    "\n",
    "    mean_velocity_per_gate = np.nanmean(velocities, axis=0).reshape(1, -1)\n",
    "    velocity_deviation = velocities - mean_velocity_per_gate\n",
    "\n",
    "    sum_cos_vel_dev = np.nansum(cos_az * velocity_deviation, axis=0)\n",
    "    sum_sin_vel_dev = np.nansum(sin_az * velocity_deviation, axis=0)\n",
    "\n",
    "    sum_sin_cos_az = np.nansum(sin_az * cos_az, axis=0)\n",
    "    sum_sin_squared_az = np.nansum(sin_az**2, axis=0)\n",
    "    sum_cos_squared_az = np.nansum(cos_az**2, axis=0)\n",
    "\n",
    "    # The A matrix\n",
    "    a = sum_sin_squared_az\n",
    "    b = sum_sin_cos_az\n",
    "    c = sum_sin_cos_az\n",
    "    d = sum_cos_squared_az\n",
    "\n",
    "    # The b vector\n",
    "    b_1 = sum_sin_vel_dev\n",
    "    b_2 = sum_cos_vel_dev\n",
    "\n",
    "    # solve for the x vector\n",
    "    determinant = a*d - b*c\n",
    "    x_1 = (d*b_1 - b*b_2) / determinant\n",
    "    x_2 = (a*b_2 - c*b_1) / determinant\n",
    "\n",
    "    # calculate horizontal components of winds\n",
    "    elevation_scale = 1 / np.cos(np.deg2rad(elevation))\n",
    "    u_mean = x_1 * elevation_scale\n",
    "    v_mean = x_2 * elevation_scale\n",
    "    return u_mean, v_mean\n",
    "\n",
    "\n",
    "def _inverse_dist_squared(dist):\n",
    "    \"\"\" Obtaining distance weights by using distance weighting\n",
    "    interpolation, using the inverse distance-squared relationship.\n",
    "    \"\"\"\n",
    "    weights = 1 / (dist * dist)\n",
    "    weights[np.isnan(weights)] = 99999.\n",
    "    return weights\n",
    "\n",
    "\n",
    "class _Average1D(object):\n",
    "    \"\"\" Used to find the nearest gate height and horizontal wind\n",
    "    value with respect to the user's desired height. \"\"\"\n",
    "    def __init__(self, x, y, window, weight,\n",
    "                 fill_value=99999.):\n",
    "        sort_idx = np.argsort(x)\n",
    "        self.x_sorted = x[sort_idx]\n",
    "        self.y_sorted = y[sort_idx]\n",
    "        self.window = window\n",
    "        self.fill_value = fill_value\n",
    "\n",
    "        if weight == 'equal':\n",
    "            self.weight_func = lambda x: None\n",
    "        elif weight == 'idw':\n",
    "            self.weight_func = _inverse_dist_squared\n",
    "        elif callable(weight):\n",
    "            self.weight_func = weight\n",
    "        else:\n",
    "            raise ValueError(\"Invalid weight argument:\", weight)\n",
    "\n",
    "    def __call__(self, x_new, window=None):\n",
    "        if window is None:\n",
    "            window = self.window\n",
    "        y_new = np.zeros_like(x_new, dtype=self.y_sorted.dtype)\n",
    "        for i, center in enumerate(x_new):\n",
    "\n",
    "            bottom = center - window\n",
    "            top = center + window\n",
    "            start = np.searchsorted(self.x_sorted, bottom)\n",
    "            stop = np.searchsorted(self.x_sorted, top)\n",
    "\n",
    "            x_in_window = self.x_sorted[start:stop]\n",
    "            y_in_window = self.y_sorted[start:stop]\n",
    "            if len(x_in_window) == 0:\n",
    "                y_new[i] = self.fill_value\n",
    "            else:\n",
    "                distances = x_in_window - center\n",
    "                weights = self.weight_func(distances)\n",
    "                y_new[i] = np.average(y_in_window, weights=weights)\n",
    "        return y_new"
   ]
  },
  {
   "cell_type": "code",
   "execution_count": 21,
   "metadata": {},
   "outputs": [],
   "source": [
    "\"\"\"\n",
    "pyart.retrieve.velocity_azimuth_display\n",
    "=======================================\n",
    "\n",
    "Retrieval of VADs from a radar object.\n",
    "\n",
    ".. autosummary::\n",
    "    :toctreeL generated/\n",
    "    :template: dev_template.rst\n",
    "\n",
    "    velocity_azimuth_display\n",
    "    _interval_mean\n",
    "    _sd_to_uv\n",
    "    _vad_calculation\n",
    "\n",
    "\"\"\"\n",
    "\n",
    "import numpy as np\n",
    "\n",
    "from pyart.config import get_field_name\n",
    "from pyart.core import HorizontalWindProfile\n",
    "\n",
    "\n",
    "def velocity_azimuth_display_scott(radar, vel_field=None, z_want=None,\n",
    "                                   gatefilter=None):\n",
    "    \"\"\"\n",
    "    Velocity azimuth display.\n",
    "    \n",
    "    Creates a VAD object containing U Wind V Wind and height, that\n",
    "    can then be used to plot and produces the velocity azimuth\n",
    "    display.\n",
    "\n",
    "    Parameters\n",
    "    ----------\n",
    "    radar : Radar\n",
    "        Radar object used.\n",
    "    velocity : string\n",
    "        Velocity field to use for VAD calculation.\n",
    "\n",
    "    Other Parameters\n",
    "    ----------------\n",
    "    z_want : array\n",
    "        Heights for where to sample vads from.\n",
    "        None will result in np.linespace(0, 10000, 100).\n",
    "    gatefilter : GateFilter\n",
    "        A GateFilter indicating radar gates that should be excluded\n",
    "        from the vad calculation.\n",
    "\n",
    "    Returns\n",
    "    -------\n",
    "    height : array\n",
    "        Heights in meters above sea level at which horizontal winds were\n",
    "        sampled.\n",
    "    speed : array\n",
    "        Horizontal wind speed in meters per second at each height.\n",
    "    direction : array\n",
    "        Horizontal wind direction in degrees at each height.\n",
    "    u_wind : array\n",
    "        U-wind mean in meters per second.\n",
    "    v_wind : array\n",
    "        V-wind mean in meters per second.\n",
    "\n",
    "    Reference\n",
    "    ---------\n",
    "    Michelson, D. B., Andersson, T., Koistinen, J., Collier, C. G., Riedl, J.,\n",
    "    Szturc, J., Gjertsen, U., Nielsen, A. and Overgaard, S. (2000) BALTEX Radar\n",
    "    Data Centre Products and their Methodologies. In SMHI Reports. Meteorology\n",
    "    and Climatology. Swedish Meteorological and Hydrological Institute, Norrkoping.\n",
    "\n",
    "    \"\"\"\n",
    "    speeds = []\n",
    "    angles = []\n",
    "    heights = []\n",
    "    z_gate_data = radar.gate_z['data']\n",
    "    if z_want is None:\n",
    "        z_want = np.linspace(0, 1000, 100)\n",
    "\n",
    "    if vel_field is None:\n",
    "        vel_field = get_field_name('velocity')\n",
    "\n",
    "    if gatefilter is not None:\n",
    "        velocities = np.ma.masked_where(\n",
    "            gatefilter.gate_excluded,\n",
    "            radar.fields[vel_field]['data'])\n",
    "    else:\n",
    "        velocities = radar.fields[vel_field]['data']\n",
    "\n",
    "    for i in range(len(radar.sweep_start_ray_index['data'])):\n",
    "        index_start = radar.sweep_start_ray_index['data'][i]\n",
    "        index_end = radar.sweep_end_ray_index['data'][i]\n",
    "        if not (index_end - index_start) % 2 == 0:\n",
    "            index_end = index_end - 1\n",
    "\n",
    "        used_velocities = velocities[index_start:index_end]\n",
    "        azimuth = radar.azimuth['data'][index_start:index_end]\n",
    "        elevation = radar.fixed_angle['data'][i]\n",
    "        speed, angle = _vad_calculation_s(\n",
    "            used_velocities, azimuth, elevation)\n",
    "\n",
    "        bad = np.isnan(speed)\n",
    "        print('max height', z_gate_data[index_start, :].max(),\n",
    "              'meters')\n",
    "        speeds.append(speed[~bad])\n",
    "        angles.append(angle[~bad])\n",
    "        heights.append(z_gate_data[index_start, :][~bad])\n",
    "\n",
    "    speed_array = np.concatenate(speeds)\n",
    "    angle_array = np.concatenate(angles)\n",
    "    height_array = np.concatenate(heights)\n",
    "    arg_order = height_array.argsort()\n",
    "    speed_ordered = speed_array[arg_order]\n",
    "    height_ordered = height_array[arg_order]\n",
    "    angle_ordered = angle_array[arg_order]\n",
    "    u_ordered, v_ordered = _sd_to_uv(speed_ordered, angle_ordered)\n",
    "    u_mean = _interval_mean(u_ordered, height_ordered, z_want)\n",
    "    v_mean = _interval_mean(v_ordered, height_ordered, z_want)\n",
    "    vad = HorizontalWindProfile.from_u_and_v(\n",
    "        z_want, u_mean, v_mean)\n",
    "    return vad\n",
    "\n",
    "\n",
    "def _vad_calculation_s(velocity_field, azimuth, elevation):\n",
    "    \"\"\" Calculates VAD for a scan, returns speed and angle\n",
    "    outdic = vad_algorithm(velocity_field, azimuth, elevation)\n",
    "    velocity_field is a 2D array, azimuth is a 1D array,\n",
    "    elevation is a number. All in degrees, m outdic contains\n",
    "    speed and angle. \"\"\"\n",
    "    nrays, nbins = velocity_field.shape\n",
    "    nrays2 = nrays // 2\n",
    "    velocity_count = np.empty((nrays2, nbins, 2))\n",
    "    velocity_count[:, :, 0] = velocity_field[0:nrays2, :]\n",
    "    velocity_count[:, :, 1] = velocity_field[nrays2:, :]\n",
    "    sinaz = np.sin(np.deg2rad(azimuth))\n",
    "    cosaz = np.cos(np.deg2rad(azimuth))\n",
    "    sumv = np.ma.sum(velocity_count, 2)\n",
    "    vals = np.isnan(sumv)\n",
    "    vals2 = np.vstack((vals, vals))\n",
    "\n",
    "    # Line below needs to be changed to 'is not' expression.\n",
    "    count = np.sum(np.isnan(sumv) == False, 0)\n",
    "\n",
    "    aa = count < 8\n",
    "    vals[:, aa] = 0\n",
    "    vals2[:, aa] = 0\n",
    "    count = np.float64(count)\n",
    "    count[aa] = np.nan\n",
    "    u_m = np.array([np.nansum(sumv, 0) // (2 * count)])\n",
    "    count[aa] = 0\n",
    "\n",
    "    cminusu_mcos = np.zeros((nrays, nbins))\n",
    "    cminusu_msin = np.zeros((nrays, nbins))\n",
    "    sincos = np.zeros((nrays, nbins))\n",
    "    sin2 = np.zeros((nrays, nbins))\n",
    "    cos2 = np.zeros((nrays, nbins))\n",
    "\n",
    "    for i in range(nbins):\n",
    "        cminusu_mcos[:, i] = cosaz * (velocity_field[:, i] - u_m[:, i])\n",
    "        cminusu_msin[:, i] = sinaz * (velocity_field[:, i] - u_m[:, i])\n",
    "        sincos[:, i] = sinaz * cosaz\n",
    "        sin2[:, i] = sinaz**2\n",
    "        cos2[:, i] = cosaz**2\n",
    "\n",
    "    cminusu_mcos[vals2] = np.nan\n",
    "    cminusu_msin[vals2] = np.nan\n",
    "    sincos[vals2] = np.nan\n",
    "    sin2[vals2] = np.nan\n",
    "    cos2[vals2] = np.nan\n",
    "    sumcminu_mcos = np.nansum(cminusu_mcos, 0)\n",
    "    sumcminu_msin = np.nansum(cminusu_msin, 0)\n",
    "    sumsincos = np.nansum(sincos, 0)\n",
    "    sumsin2 = np.nansum(sin2, 0)\n",
    "    sumcos2 = np.nansum(cos2, 0)\n",
    "    b_value = (sumcminu_mcos - (sumsincos*sumcminu_msin / sumsin2)) / (\n",
    "        sumcos2 - (sumsincos**2) / sumsin2)\n",
    "    a_value = (sumcminu_msin - b_value*sumsincos) / sumsin2\n",
    "    speed = np.sqrt(a_value**2 + b_value**2) / np.cos(\n",
    "        np.deg2rad(elevation))\n",
    "    angle = np.arctan2(a_value, b_value)\n",
    "    return speed, angle\n",
    "\n",
    "\n",
    "def _interval_mean(data, current_z, wanted_z):\n",
    "    \"\"\" Find the mean of data indexed by current_z\n",
    "        at wanted_z on intervals wanted_z+/- delta\n",
    "        wanted_z. \"\"\"\n",
    "    delta = wanted_z[1] - wanted_z[0]\n",
    "    pos_lower = [np.argsort((current_z - (\n",
    "        wanted_z[i] - delta / 2.0))**2)[0]\n",
    "                 for i in range(len(wanted_z))]\n",
    "    pos_upper = [np.argsort((current_z - (\n",
    "        wanted_z[i] + delta / 2.0))**2)[0]\n",
    "                 for i in range(len(wanted_z))]\n",
    "    mean_values = np.array([data[pos_lower[i]:pos_upper[i]].mean()\n",
    "                            for i in range(len(pos_upper))])\n",
    "    return mean_values\n",
    "\n",
    "\n",
    "def _sd_to_uv(speed, direction):\n",
    "    \"\"\" Takes speed and direction to create u_mean and v_mean. \"\"\"\n",
    "    return (np.sin(direction) * speed), (np.cos(direction) * speed)"
   ]
  },
  {
   "cell_type": "code",
   "execution_count": 22,
   "metadata": {},
   "outputs": [],
   "source": [
    "files = sorted(glob.glob('/home/zsherman/dev/xsapr_sgp/data/05_19_2017/*'\"\"\"\n",
    "pyart.retrieve.velocity_azimuth_display\n",
    "=======================================\n",
    "\n",
    "Retrieval of VADs from a radar object.\n",
    "\n",
    ".. autosummary::\n",
    "    :toctreeL generated/\n",
    "    :template: dev_template.rst\n",
    "\n",
    "    velocity_azimuth_display\n",
    "    _interval_mean\n",
    "    _sd_to_uv\n",
    "    _vad_calculation\n",
    "\n",
    "\"\"\"\n",
    "\n",
    "import numpy as np\n",
    "\n",
    "from pyart.config import get_field_name\n",
    "from pyart.core import HorizontalWindProfile\n",
    "\n",
    "\n",
    "\n",
    "def velocity_azimuth_display_scott(radar, vel_field=None, z_want=None,\n",
    "                                   gatefilter=None):\n",
    "    \"\"\"\n",
    "    Velocity azimuth display.\n",
    "    \n",
    "    Creates a VAD object containing U Wind V Wind and height, that\n",
    "    can then be used to plot and produces the velocity azimuth\n",
    "    display.\n",
    "\n",
    "    Parameters\n",
    "    ----------\n",
    "    radar : Radar\n",
    "        Radar object used.\n",
    "    velocity : string\n",
    "        Velocity field to use for VAD calculation.\n",
    "\n",
    "    Other Parameters\n",
    "    ----------------\n",
    "    z_want : array\n",
    "        Heights for where to sample vads from.\n",
    "        None will result in np.linespace(0, 10000, 100).\n",
    "    gatefilter : GateFilter\n",
    "        A GateFilter indicating radar gates that should be excluded\n",
    "        from the vad calculation.\n",
    "\n",
    "    Returns\n",
    "    -------\n",
    "    height : array\n",
    "        Heights in meters above sea level at which horizontal winds were\n",
    "        sampled.\n",
    "    speed : array\n",
    "        Horizontal wind speed in meters per second at each height.\n",
    "    direction : array\n",
    "        Horizontal wind direction in degrees at each height.\n",
    "    u_wind : array\n",
    "        U-wind mean in meters per second.\n",
    "    v_wind : array\n",
    "        V-wind mean in meters per second.\n",
    "\n",
    "    Reference\n",
    "    ---------\n",
    "    Michelson, D. B., Andersson, T., Koistinen, J., Collier, C. G., Riedl, J.,\n",
    "    Szturc, J., Gjertsen, U., Nielsen, A. and Overgaard, S. (2000) BALTEX Radar\n",
    "    Data Centre Products and their Methodologies. In SMHI Reports. Meteorology\n",
    "    and Climatology. Swedish Meteorological and Hydrological Institute, Norrkoping.\n",
    "\n",
    "    \"\"\"\n",
    "    speeds = []\n",
    "    angles = []\n",
    "    heights = []\n",
    "    z_gate_data = radar.gate_z['data']\n",
    "    if z_want is None:\n",
    "        z_want = np.linspace(0, 1000, 100)\n",
    "\n",
    "    if vel_field is None:\n",
    "        vel_field = get_field_name('velocity')\n",
    "\n",
    "    if gatefilter is not None:\n",
    "        velocities = np.ma.masked_where(\n",
    "            gatefilter.gate_excluded,\n",
    "            radar.fields[vel_field]['data'])\n",
    "    else:\n",
    "        velocities = radar.fields[vel_field]['data']\n",
    "\n",
    "    for i in range(len(radar.sweep_start_ray_index['data'])):\n",
    "        index_start = radar.sweep_start_ray_index['data'][i]\n",
    "        index_end = radar.sweep_end_ray_index['data'][i]\n",
    "        if not (index_end - index_start) % 2 == 0:\n",
    "            index_end = index_end - 1\n",
    "\n",
    "        used_velocities = velocities[index_start:index_end]\n",
    "        azimuth = radar.azimuth['data'][index_start:index_end]\n",
    "        elevation = radar.fixed_angle['data'][i]\n",
    "        speed, angle = _vad_calculation_s(\n",
    "            used_velocities, azimuth, elevation)\n",
    "\n",
    "        bad = np.isnan(speed)\n",
    "        print('max height', z_gate_data[index_start, :].max(),\n",
    "              'meters')\n",
    "        speeds.append(speed[~bad])\n",
    "        angles.append(angle[~bad])\n",
    "        heights.append(z_gate_data[index_start, :][~bad])\n",
    "\n",
    "    speed_array = np.concatenate(speeds)\n",
    "    angle_array = np.concatenate(angles)\n",
    "    height_array = np.concatenate(heights)\n",
    "    arg_order = height_array.argsort()\n",
    "    speed_ordered = speed_array[arg_order]\n",
    "    height_ordered = height_array[arg_order]\n",
    "    angle_ordered = angle_array[arg_order]\n",
    "    u_ordered, v_ordered = _sd_to_uv(speed_ordered, angle_ordered)\n",
    "    u_mean = _interval_mean(u_ordered, height_ordered, z_want)\n",
    "    v_mean = _interval_mean(v_ordered, height_ordered, z_want)\n",
    "    vad = HorizontalWindProfile.from_u_and_v(\n",
    "        z_want, u_mean, v_mean)\n",
    "    return vad\n",
    "\n",
    "\n",
    "def _vad_calculation_s(velocity_field, azimuth, elevation):\n",
    "    \"\"\" Calculates VAD for a scan, returns speed and angle\n",
    "    outdic = vad_algorithm(velocity_field, azimuth, elevation)\n",
    "    velocity_field is a 2D array, azimuth is a 1D array,\n",
    "    elevation is a number. All in degrees, m outdic contains\n",
    "    speed and angle. \"\"\"\n",
    "    nrays, nbins = velocity_field.shape\n",
    "    nrays2 = nrays // 2\n",
    "    velocity_count = np.empty((nrays2, nbins, 2))\n",
    "    velocity_count[:, :, 0] = velocity_field[0:nrays2, :]\n",
    "    velocity_count[:, :, 1] = velocity_field[nrays2:, :]\n",
    "    sinaz = np.sin(np.deg2rad(azimuth))\n",
    "    cosaz = np.cos(np.deg2rad(azimuth))\n",
    "    sumv = np.ma.sum(velocity_count, 2)\n",
    "    vals = np.isnan(sumv)\n",
    "    vals2 = np.vstack((vals, vals))\n",
    "\n",
    "    # Line below needs to be changed to 'is not' expression.\n",
    "    count = np.sum(np.isnan(sumv) == False, 0)\n",
    "\n",
    "    aa = count < 8\n",
    "    vals[:, aa] = 0\n",
    "    vals2[:, aa] = 0\n",
    "    count = np.float64(count)\n",
    "    count[aa] = np.nan\n",
    "    u_m = np.array([np.nansum(sumv, 0) // (2 * count)])\n",
    "    count[aa] = 0\n",
    "\n",
    "    cminusu_mcos = np.zeros((nrays, nbins))\n",
    "    cminusu_msin = np.zeros((nrays, nbins))\n",
    "    sincos = np.zeros((nrays, nbins))\n",
    "    sin2 = np.zeros((nrays, nbins))\n",
    "    cos2 = np.zeros((nrays, nbins))\n",
    "\n",
    "    for i in range(nbins):\n",
    "        cminusu_mcos[:, i] = cosaz * (velocity_field[:, i] - u_m[:, i])\n",
    "        cminusu_msin[:, i] = sinaz * (velocity_field[:, i] - u_m[:, i])\n",
    "        sincos[:, i] = sinaz * cosaz\n",
    "        sin2[:, i] = sinaz**2\n",
    "        cos2[:, i] = cosaz**2\n",
    "\n",
    "    cminusu_mcos[vals2] = np.nan\n",
    "    cminusu_msin[vals2] = np.nan\n",
    "    sincos[vals2] = np.nan\n",
    "    sin2[vals2] = np.nan\n",
    "    cos2[vals2] = np.nan\n",
    "    sumcminu_mcos = np.nansum(cminusu_mcos, 0)\n",
    "    sumcminu_msin = np.nansum(cminusu_msin, 0)\n",
    "    sumsincos = np.nansum(sincos, 0)\n",
    "    sumsin2 = np.nansum(sin2, 0)\n",
    "    sumcos2 = np.nansum(cos2, 0)\n",
    "    b_value = (sumcminu_mcos - (sumsincos*sumcminu_msin / sumsin2)) / (\n",
    "        sumcos2 - (sumsincos**2) / sumsin2)\n",
    "    a_value = (sumcminu_msin - b_value*sumsincos) / sumsin2\n",
    "    speed = np.sqrt(a_value**2 + b_value**2) / np.cos(\n",
    "        np.deg2rad(elevation))\n",
    "    angle = np.arctan2(a_value, b_value)\n",
    "    return speed, angle\n",
    "\n",
    "\n",
    "def _interval_mean(data, current_z, wanted_z):\n",
    "    \"\"\" Find the mean of data indexed by current_z\n",
    "        at wanted_z on intervals wanted_z+/- delta\n",
    "        wanted_z. \"\"\"\n",
    "    delta = wanted_z[1] - wanted_z[0]\n",
    "    pos_lower = [np.argsort((current_z - (\n",
    "        wanted_z[i] - delta / 2.0))**2)[0]\n",
    "                 for i in range(len(wanted_z))]\n",
    "    pos_upper = [np.argsort((current_z - (\n",
    "        wanted_z[i] + delta / 2.0))**2)[0]\n",
    "                 for i in range(len(wanted_z))]\n",
    "    mean_values = np.array([data[pos_lower[i]:pos_upper[i]].mean()\n",
    "                            for i in range(len(pos_upper))])\n",
    "    return mean_values\n",
    "\n",
    "\n",
    "def _sd_to_uv(speed, direction):\n",
    "    \"\"\" Takes speed and direction to create u_mean and v_mean. \"\"\"\n",
    "    return (np.sin(direction) * speed), (np.cos(direction) * speed)))"
   ]
  },
  {
   "cell_type": "code",
   "execution_count": 7,
   "metadata": {
    "scrolled": true
   },
   "outputs": [
    {
     "name": "stdout",
     "output_type": "stream",
     "text": [
      "max height 12250.1218078  meters\n",
      "min height 0.0  meters\n",
      "max height 12250.1218078  meters\n",
      "12250.1218078\n"
     ]
    },
    {
     "name": "stderr",
     "output_type": "stream",
     "text": [
      "/home/zsherman/anaconda3/lib/python3.5/site-packages/ipykernel/__main__.py:89: MaskedArrayFutureWarning: setting an item on a masked array which has a shared mask will not copy the mask and also change the original mask array in the future.\n",
      "Check the NumPy 1.11 release notes for more information.\n",
      "/home/zsherman/anaconda3/lib/python3.5/site-packages/numpy/core/_methods.py:59: RuntimeWarning: Mean of empty slice.\n",
      "  warnings.warn(\"Mean of empty slice.\", RuntimeWarning)\n",
      "/home/zsherman/anaconda3/lib/python3.5/site-packages/numpy/core/_methods.py:70: RuntimeWarning: invalid value encountered in double_scalars\n",
      "  ret = ret.dtype.type(ret / rcount)\n",
      "/home/zsherman/.local/lib/python3.5/site-packages/pyart/core/wind_profile.py:86: RuntimeWarning: invalid value encountered in less\n",
      "  direction[direction < 0] += 360\n"
     ]
    },
    {
     "name": "stdout",
     "output_type": "stream",
     "text": [
      "max height 12250.1218078  meters\n",
      "min height 0.0  meters\n",
      "max height 12250.1218078  meters\n",
      "12250.1218078\n"
     ]
    },
    {
     "name": "stderr",
     "output_type": "stream",
     "text": [
      "/home/zsherman/anaconda3/lib/python3.5/site-packages/ipykernel/__main__.py:89: MaskedArrayFutureWarning: setting an item on a masked array which has a shared mask will not copy the mask and also change the original mask array in the future.\n",
      "Check the NumPy 1.11 release notes for more information.\n",
      "/home/zsherman/anaconda3/lib/python3.5/site-packages/numpy/core/_methods.py:59: RuntimeWarning: Mean of empty slice.\n",
      "  warnings.warn(\"Mean of empty slice.\", RuntimeWarning)\n",
      "/home/zsherman/anaconda3/lib/python3.5/site-packages/numpy/core/_methods.py:70: RuntimeWarning: invalid value encountered in double_scalars\n",
      "  ret = ret.dtype.type(ret / rcount)\n",
      "/home/zsherman/.local/lib/python3.5/site-packages/pyart/core/wind_profile.py:86: RuntimeWarning: invalid value encountered in less\n",
      "  direction[direction < 0] += 360\n"
     ]
    },
    {
     "name": "stdout",
     "output_type": "stream",
     "text": [
      "max height 12250.1218078  meters\n",
      "min height 0.0  meters\n",
      "max height 12250.1218078  meters\n",
      "12250.1218078\n"
     ]
    },
    {
     "name": "stderr",
     "output_type": "stream",
     "text": [
      "/home/zsherman/anaconda3/lib/python3.5/site-packages/ipykernel/__main__.py:89: MaskedArrayFutureWarning: setting an item on a masked array which has a shared mask will not copy the mask and also change the original mask array in the future.\n",
      "Check the NumPy 1.11 release notes for more information.\n",
      "/home/zsherman/anaconda3/lib/python3.5/site-packages/numpy/core/_methods.py:59: RuntimeWarning: Mean of empty slice.\n",
      "  warnings.warn(\"Mean of empty slice.\", RuntimeWarning)\n",
      "/home/zsherman/anaconda3/lib/python3.5/site-packages/numpy/core/_methods.py:70: RuntimeWarning: invalid value encountered in double_scalars\n",
      "  ret = ret.dtype.type(ret / rcount)\n",
      "/home/zsherman/.local/lib/python3.5/site-packages/pyart/core/wind_profile.py:86: RuntimeWarning: invalid value encountered in less\n",
      "  direction[direction < 0] += 360\n"
     ]
    },
    {
     "name": "stdout",
     "output_type": "stream",
     "text": [
      "max height 12245.4791399  meters\n",
      "min height 0.0  meters\n",
      "max height 12245.4791399  meters\n",
      "12245.4791399\n"
     ]
    },
    {
     "name": "stderr",
     "output_type": "stream",
     "text": [
      "/home/zsherman/anaconda3/lib/python3.5/site-packages/ipykernel/__main__.py:89: MaskedArrayFutureWarning: setting an item on a masked array which has a shared mask will not copy the mask and also change the original mask array in the future.\n",
      "Check the NumPy 1.11 release notes for more information.\n",
      "/home/zsherman/anaconda3/lib/python3.5/site-packages/numpy/core/_methods.py:59: RuntimeWarning: Mean of empty slice.\n",
      "  warnings.warn(\"Mean of empty slice.\", RuntimeWarning)\n",
      "/home/zsherman/anaconda3/lib/python3.5/site-packages/numpy/core/_methods.py:70: RuntimeWarning: invalid value encountered in double_scalars\n",
      "  ret = ret.dtype.type(ret / rcount)\n",
      "/home/zsherman/.local/lib/python3.5/site-packages/pyart/core/wind_profile.py:86: RuntimeWarning: invalid value encountered in less\n",
      "  direction[direction < 0] += 360\n"
     ]
    },
    {
     "name": "stdout",
     "output_type": "stream",
     "text": [
      "max height 12245.4791399  meters\n",
      "min height 0.0  meters\n",
      "max height 12245.4791399  meters\n",
      "12245.4791399\n"
     ]
    },
    {
     "name": "stderr",
     "output_type": "stream",
     "text": [
      "/home/zsherman/anaconda3/lib/python3.5/site-packages/ipykernel/__main__.py:89: MaskedArrayFutureWarning: setting an item on a masked array which has a shared mask will not copy the mask and also change the original mask array in the future.\n",
      "Check the NumPy 1.11 release notes for more information.\n",
      "/home/zsherman/anaconda3/lib/python3.5/site-packages/numpy/core/_methods.py:59: RuntimeWarning: Mean of empty slice.\n",
      "  warnings.warn(\"Mean of empty slice.\", RuntimeWarning)\n",
      "/home/zsherman/anaconda3/lib/python3.5/site-packages/numpy/core/_methods.py:70: RuntimeWarning: invalid value encountered in double_scalars\n",
      "  ret = ret.dtype.type(ret / rcount)\n",
      "/home/zsherman/.local/lib/python3.5/site-packages/pyart/core/wind_profile.py:86: RuntimeWarning: invalid value encountered in less\n",
      "  direction[direction < 0] += 360\n"
     ]
    },
    {
     "name": "stdout",
     "output_type": "stream",
     "text": [
      "max height 12245.4791399  meters\n",
      "min height 0.0  meters\n",
      "max height 12245.4791399  meters\n",
      "12245.4791399\n"
     ]
    },
    {
     "name": "stderr",
     "output_type": "stream",
     "text": [
      "/home/zsherman/anaconda3/lib/python3.5/site-packages/ipykernel/__main__.py:89: MaskedArrayFutureWarning: setting an item on a masked array which has a shared mask will not copy the mask and also change the original mask array in the future.\n",
      "Check the NumPy 1.11 release notes for more information.\n",
      "/home/zsherman/anaconda3/lib/python3.5/site-packages/numpy/core/_methods.py:59: RuntimeWarning: Mean of empty slice.\n",
      "  warnings.warn(\"Mean of empty slice.\", RuntimeWarning)\n",
      "/home/zsherman/anaconda3/lib/python3.5/site-packages/numpy/core/_methods.py:70: RuntimeWarning: invalid value encountered in double_scalars\n",
      "  ret = ret.dtype.type(ret / rcount)\n",
      "/home/zsherman/.local/lib/python3.5/site-packages/pyart/core/wind_profile.py:86: RuntimeWarning: invalid value encountered in less\n",
      "  direction[direction < 0] += 360\n"
     ]
    },
    {
     "name": "stdout",
     "output_type": "stream",
     "text": [
      "max height 12240.833133  meters\n",
      "min height 0.0  meters\n",
      "max height 12240.833133  meters\n",
      "12240.833133\n"
     ]
    },
    {
     "name": "stderr",
     "output_type": "stream",
     "text": [
      "/home/zsherman/anaconda3/lib/python3.5/site-packages/ipykernel/__main__.py:89: MaskedArrayFutureWarning: setting an item on a masked array which has a shared mask will not copy the mask and also change the original mask array in the future.\n",
      "Check the NumPy 1.11 release notes for more information.\n",
      "/home/zsherman/anaconda3/lib/python3.5/site-packages/numpy/core/_methods.py:59: RuntimeWarning: Mean of empty slice.\n",
      "  warnings.warn(\"Mean of empty slice.\", RuntimeWarning)\n",
      "/home/zsherman/anaconda3/lib/python3.5/site-packages/numpy/core/_methods.py:70: RuntimeWarning: invalid value encountered in double_scalars\n",
      "  ret = ret.dtype.type(ret / rcount)\n",
      "/home/zsherman/.local/lib/python3.5/site-packages/pyart/core/wind_profile.py:86: RuntimeWarning: invalid value encountered in less\n",
      "  direction[direction < 0] += 360\n"
     ]
    },
    {
     "name": "stdout",
     "output_type": "stream",
     "text": [
      "max height 12231.5456165  meters\n",
      "min height 0.0  meters\n",
      "max height 12231.5456165  meters\n",
      "12231.5456165\n"
     ]
    },
    {
     "name": "stderr",
     "output_type": "stream",
     "text": [
      "/home/zsherman/anaconda3/lib/python3.5/site-packages/ipykernel/__main__.py:89: MaskedArrayFutureWarning: setting an item on a masked array which has a shared mask will not copy the mask and also change the original mask array in the future.\n",
      "Check the NumPy 1.11 release notes for more information.\n",
      "/home/zsherman/anaconda3/lib/python3.5/site-packages/numpy/core/_methods.py:59: RuntimeWarning: Mean of empty slice.\n",
      "  warnings.warn(\"Mean of empty slice.\", RuntimeWarning)\n",
      "/home/zsherman/anaconda3/lib/python3.5/site-packages/numpy/core/_methods.py:70: RuntimeWarning: invalid value encountered in double_scalars\n",
      "  ret = ret.dtype.type(ret / rcount)\n",
      "/home/zsherman/.local/lib/python3.5/site-packages/pyart/core/wind_profile.py:86: RuntimeWarning: invalid value encountered in less\n",
      "  direction[direction < 0] += 360\n"
     ]
    },
    {
     "name": "stdout",
     "output_type": "stream",
     "text": [
      "max height 12245.4791399  meters\n",
      "min height 0.0  meters\n",
      "max height 12245.4791399  meters\n",
      "12245.4791399\n"
     ]
    },
    {
     "name": "stderr",
     "output_type": "stream",
     "text": [
      "/home/zsherman/anaconda3/lib/python3.5/site-packages/ipykernel/__main__.py:89: MaskedArrayFutureWarning: setting an item on a masked array which has a shared mask will not copy the mask and also change the original mask array in the future.\n",
      "Check the NumPy 1.11 release notes for more information.\n",
      "/home/zsherman/anaconda3/lib/python3.5/site-packages/numpy/core/_methods.py:59: RuntimeWarning: Mean of empty slice.\n",
      "  warnings.warn(\"Mean of empty slice.\", RuntimeWarning)\n",
      "/home/zsherman/anaconda3/lib/python3.5/site-packages/numpy/core/_methods.py:70: RuntimeWarning: invalid value encountered in double_scalars\n",
      "  ret = ret.dtype.type(ret / rcount)\n",
      "/home/zsherman/.local/lib/python3.5/site-packages/pyart/core/wind_profile.py:86: RuntimeWarning: invalid value encountered in less\n",
      "  direction[direction < 0] += 360\n"
     ]
    },
    {
     "name": "stdout",
     "output_type": "stream",
     "text": [
      "max height 12250.1218078  meters\n",
      "min height 0.0  meters\n",
      "max height 12250.1218078  meters\n",
      "12250.1218078\n"
     ]
    },
    {
     "name": "stderr",
     "output_type": "stream",
     "text": [
      "/home/zsherman/anaconda3/lib/python3.5/site-packages/ipykernel/__main__.py:89: MaskedArrayFutureWarning: setting an item on a masked array which has a shared mask will not copy the mask and also change the original mask array in the future.\n",
      "Check the NumPy 1.11 release notes for more information.\n",
      "/home/zsherman/anaconda3/lib/python3.5/site-packages/numpy/core/_methods.py:59: RuntimeWarning: Mean of empty slice.\n",
      "  warnings.warn(\"Mean of empty slice.\", RuntimeWarning)\n",
      "/home/zsherman/anaconda3/lib/python3.5/site-packages/numpy/core/_methods.py:70: RuntimeWarning: invalid value encountered in double_scalars\n",
      "  ret = ret.dtype.type(ret / rcount)\n",
      "/home/zsherman/.local/lib/python3.5/site-packages/pyart/core/wind_profile.py:86: RuntimeWarning: invalid value encountered in less\n",
      "  direction[direction < 0] += 360\n"
     ]
    },
    {
     "name": "stdout",
     "output_type": "stream",
     "text": [
      "max height 12245.4791399  meters\n",
      "min height 0.0  meters\n",
      "max height 12245.4791399  meters\n",
      "12245.4791399\n"
     ]
    },
    {
     "name": "stderr",
     "output_type": "stream",
     "text": [
      "/home/zsherman/anaconda3/lib/python3.5/site-packages/ipykernel/__main__.py:89: MaskedArrayFutureWarning: setting an item on a masked array which has a shared mask will not copy the mask and also change the original mask array in the future.\n",
      "Check the NumPy 1.11 release notes for more information.\n",
      "/home/zsherman/anaconda3/lib/python3.5/site-packages/numpy/core/_methods.py:59: RuntimeWarning: Mean of empty slice.\n",
      "  warnings.warn(\"Mean of empty slice.\", RuntimeWarning)\n",
      "/home/zsherman/anaconda3/lib/python3.5/site-packages/numpy/core/_methods.py:70: RuntimeWarning: invalid value encountered in double_scalars\n",
      "  ret = ret.dtype.type(ret / rcount)\n",
      "/home/zsherman/.local/lib/python3.5/site-packages/pyart/core/wind_profile.py:86: RuntimeWarning: invalid value encountered in less\n",
      "  direction[direction < 0] += 360\n"
     ]
    },
    {
     "name": "stdout",
     "output_type": "stream",
     "text": [
      "max height 12245.4791399  meters\n",
      "min height 0.0  meters\n",
      "max height 12245.4791399  meters\n",
      "12245.4791399\n"
     ]
    },
    {
     "name": "stderr",
     "output_type": "stream",
     "text": [
      "/home/zsherman/anaconda3/lib/python3.5/site-packages/ipykernel/__main__.py:89: MaskedArrayFutureWarning: setting an item on a masked array which has a shared mask will not copy the mask and also change the original mask array in the future.\n",
      "Check the NumPy 1.11 release notes for more information.\n",
      "/home/zsherman/anaconda3/lib/python3.5/site-packages/numpy/core/_methods.py:59: RuntimeWarning: Mean of empty slice.\n",
      "  warnings.warn(\"Mean of empty slice.\", RuntimeWarning)\n",
      "/home/zsherman/anaconda3/lib/python3.5/site-packages/numpy/core/_methods.py:70: RuntimeWarning: invalid value encountered in double_scalars\n",
      "  ret = ret.dtype.type(ret / rcount)\n",
      "/home/zsherman/.local/lib/python3.5/site-packages/pyart/core/wind_profile.py:86: RuntimeWarning: invalid value encountered in less\n",
      "  direction[direction < 0] += 360\n"
     ]
    },
    {
     "name": "stdout",
     "output_type": "stream",
     "text": [
      "max height 12240.833133  meters\n",
      "min height 0.0  meters\n",
      "max height 12240.833133  meters\n",
      "12240.833133\n"
     ]
    },
    {
     "name": "stderr",
     "output_type": "stream",
     "text": [
      "/home/zsherman/anaconda3/lib/python3.5/site-packages/ipykernel/__main__.py:89: MaskedArrayFutureWarning: setting an item on a masked array which has a shared mask will not copy the mask and also change the original mask array in the future.\n",
      "Check the NumPy 1.11 release notes for more information.\n",
      "/home/zsherman/anaconda3/lib/python3.5/site-packages/numpy/core/_methods.py:59: RuntimeWarning: Mean of empty slice.\n",
      "  warnings.warn(\"Mean of empty slice.\", RuntimeWarning)\n",
      "/home/zsherman/anaconda3/lib/python3.5/site-packages/numpy/core/_methods.py:70: RuntimeWarning: invalid value encountered in double_scalars\n",
      "  ret = ret.dtype.type(ret / rcount)\n",
      "/home/zsherman/.local/lib/python3.5/site-packages/pyart/core/wind_profile.py:86: RuntimeWarning: invalid value encountered in less\n",
      "  direction[direction < 0] += 360\n"
     ]
    },
    {
     "name": "stdout",
     "output_type": "stream",
     "text": [
      "max height 12233.8679414  meters\n",
      "min height 0.0  meters\n",
      "max height 12233.8679414  meters\n",
      "12233.8679414\n"
     ]
    },
    {
     "name": "stderr",
     "output_type": "stream",
     "text": [
      "/home/zsherman/anaconda3/lib/python3.5/site-packages/ipykernel/__main__.py:89: MaskedArrayFutureWarning: setting an item on a masked array which has a shared mask will not copy the mask and also change the original mask array in the future.\n",
      "Check the NumPy 1.11 release notes for more information.\n",
      "/home/zsherman/anaconda3/lib/python3.5/site-packages/numpy/core/_methods.py:59: RuntimeWarning: Mean of empty slice.\n",
      "  warnings.warn(\"Mean of empty slice.\", RuntimeWarning)\n",
      "/home/zsherman/anaconda3/lib/python3.5/site-packages/numpy/core/_methods.py:70: RuntimeWarning: invalid value encountered in double_scalars\n",
      "  ret = ret.dtype.type(ret / rcount)\n",
      "/home/zsherman/.local/lib/python3.5/site-packages/pyart/core/wind_profile.py:86: RuntimeWarning: invalid value encountered in less\n",
      "  direction[direction < 0] += 360\n"
     ]
    },
    {
     "name": "stdout",
     "output_type": "stream",
     "text": [
      "max height 12236.1902379  meters\n",
      "min height 0.0  meters\n",
      "max height 12236.1902379  meters\n",
      "12236.1902379\n"
     ]
    },
    {
     "name": "stderr",
     "output_type": "stream",
     "text": [
      "/home/zsherman/anaconda3/lib/python3.5/site-packages/ipykernel/__main__.py:89: MaskedArrayFutureWarning: setting an item on a masked array which has a shared mask will not copy the mask and also change the original mask array in the future.\n",
      "Check the NumPy 1.11 release notes for more information.\n",
      "/home/zsherman/anaconda3/lib/python3.5/site-packages/numpy/core/_methods.py:59: RuntimeWarning: Mean of empty slice.\n",
      "  warnings.warn(\"Mean of empty slice.\", RuntimeWarning)\n",
      "/home/zsherman/anaconda3/lib/python3.5/site-packages/numpy/core/_methods.py:70: RuntimeWarning: invalid value encountered in double_scalars\n",
      "  ret = ret.dtype.type(ret / rcount)\n",
      "/home/zsherman/.local/lib/python3.5/site-packages/pyart/core/wind_profile.py:86: RuntimeWarning: invalid value encountered in less\n",
      "  direction[direction < 0] += 360\n"
     ]
    },
    {
     "name": "stdout",
     "output_type": "stream",
     "text": [
      "max height 12224.5784716  meters\n",
      "min height 0.0  meters\n",
      "max height 12224.5784716  meters\n",
      "12224.5784716\n"
     ]
    },
    {
     "name": "stderr",
     "output_type": "stream",
     "text": [
      "/home/zsherman/anaconda3/lib/python3.5/site-packages/ipykernel/__main__.py:89: MaskedArrayFutureWarning: setting an item on a masked array which has a shared mask will not copy the mask and also change the original mask array in the future.\n",
      "Check the NumPy 1.11 release notes for more information.\n",
      "/home/zsherman/anaconda3/lib/python3.5/site-packages/numpy/core/_methods.py:59: RuntimeWarning: Mean of empty slice.\n",
      "  warnings.warn(\"Mean of empty slice.\", RuntimeWarning)\n",
      "/home/zsherman/anaconda3/lib/python3.5/site-packages/numpy/core/_methods.py:70: RuntimeWarning: invalid value encountered in double_scalars\n",
      "  ret = ret.dtype.type(ret / rcount)\n",
      "/home/zsherman/.local/lib/python3.5/site-packages/pyart/core/wind_profile.py:86: RuntimeWarning: invalid value encountered in less\n",
      "  direction[direction < 0] += 360\n"
     ]
    },
    {
     "name": "stdout",
     "output_type": "stream",
     "text": [
      "max height 12236.1902379  meters\n",
      "min height 0.0  meters\n",
      "max height 12236.1902379  meters\n",
      "12236.1902379\n"
     ]
    },
    {
     "name": "stderr",
     "output_type": "stream",
     "text": [
      "/home/zsherman/anaconda3/lib/python3.5/site-packages/ipykernel/__main__.py:89: MaskedArrayFutureWarning: setting an item on a masked array which has a shared mask will not copy the mask and also change the original mask array in the future.\n",
      "Check the NumPy 1.11 release notes for more information.\n",
      "/home/zsherman/anaconda3/lib/python3.5/site-packages/numpy/core/_methods.py:59: RuntimeWarning: Mean of empty slice.\n",
      "  warnings.warn(\"Mean of empty slice.\", RuntimeWarning)\n",
      "/home/zsherman/anaconda3/lib/python3.5/site-packages/numpy/core/_methods.py:70: RuntimeWarning: invalid value encountered in double_scalars\n",
      "  ret = ret.dtype.type(ret / rcount)\n",
      "/home/zsherman/.local/lib/python3.5/site-packages/pyart/core/wind_profile.py:86: RuntimeWarning: invalid value encountered in less\n",
      "  direction[direction < 0] += 360\n"
     ]
    },
    {
     "name": "stdout",
     "output_type": "stream",
     "text": [
      "max height 12250.1218078  meters\n",
      "min height 0.0  meters\n",
      "max height 12250.1218078  meters\n",
      "12250.1218078\n"
     ]
    },
    {
     "name": "stderr",
     "output_type": "stream",
     "text": [
      "/home/zsherman/anaconda3/lib/python3.5/site-packages/ipykernel/__main__.py:89: MaskedArrayFutureWarning: setting an item on a masked array which has a shared mask will not copy the mask and also change the original mask array in the future.\n",
      "Check the NumPy 1.11 release notes for more information.\n",
      "/home/zsherman/anaconda3/lib/python3.5/site-packages/numpy/core/_methods.py:59: RuntimeWarning: Mean of empty slice.\n",
      "  warnings.warn(\"Mean of empty slice.\", RuntimeWarning)\n",
      "/home/zsherman/anaconda3/lib/python3.5/site-packages/numpy/core/_methods.py:70: RuntimeWarning: invalid value encountered in double_scalars\n",
      "  ret = ret.dtype.type(ret / rcount)\n",
      "/home/zsherman/.local/lib/python3.5/site-packages/pyart/core/wind_profile.py:86: RuntimeWarning: invalid value encountered in less\n",
      "  direction[direction < 0] += 360\n"
     ]
    },
    {
     "name": "stdout",
     "output_type": "stream",
     "text": [
      "max height 12250.1218078  meters\n",
      "min height 0.0  meters\n",
      "max height 12250.1218078  meters\n",
      "12250.1218078\n"
     ]
    },
    {
     "name": "stderr",
     "output_type": "stream",
     "text": [
      "/home/zsherman/anaconda3/lib/python3.5/site-packages/ipykernel/__main__.py:89: MaskedArrayFutureWarning: setting an item on a masked array which has a shared mask will not copy the mask and also change the original mask array in the future.\n",
      "Check the NumPy 1.11 release notes for more information.\n",
      "/home/zsherman/anaconda3/lib/python3.5/site-packages/numpy/core/_methods.py:59: RuntimeWarning: Mean of empty slice.\n",
      "  warnings.warn(\"Mean of empty slice.\", RuntimeWarning)\n",
      "/home/zsherman/anaconda3/lib/python3.5/site-packages/numpy/core/_methods.py:70: RuntimeWarning: invalid value encountered in double_scalars\n",
      "  ret = ret.dtype.type(ret / rcount)\n",
      "/home/zsherman/.local/lib/python3.5/site-packages/pyart/core/wind_profile.py:86: RuntimeWarning: invalid value encountered in less\n",
      "  direction[direction < 0] += 360\n"
     ]
    },
    {
     "name": "stdout",
     "output_type": "stream",
     "text": [
      "max height 12254.7675872  meters\n",
      "min height 0.0  meters\n",
      "max height 12254.7675872  meters\n",
      "12254.7675872\n"
     ]
    },
    {
     "name": "stderr",
     "output_type": "stream",
     "text": [
      "/home/zsherman/anaconda3/lib/python3.5/site-packages/ipykernel/__main__.py:89: MaskedArrayFutureWarning: setting an item on a masked array which has a shared mask will not copy the mask and also change the original mask array in the future.\n",
      "Check the NumPy 1.11 release notes for more information.\n",
      "/home/zsherman/anaconda3/lib/python3.5/site-packages/numpy/core/_methods.py:59: RuntimeWarning: Mean of empty slice.\n",
      "  warnings.warn(\"Mean of empty slice.\", RuntimeWarning)\n",
      "/home/zsherman/anaconda3/lib/python3.5/site-packages/numpy/core/_methods.py:70: RuntimeWarning: invalid value encountered in double_scalars\n",
      "  ret = ret.dtype.type(ret / rcount)\n",
      "/home/zsherman/.local/lib/python3.5/site-packages/pyart/core/wind_profile.py:86: RuntimeWarning: invalid value encountered in less\n",
      "  direction[direction < 0] += 360\n"
     ]
    },
    {
     "name": "stdout",
     "output_type": "stream",
     "text": [
      "max height 12245.4791399  meters\n",
      "min height 0.0  meters\n",
      "max height 12245.4791399  meters\n",
      "12245.4791399\n"
     ]
    },
    {
     "name": "stderr",
     "output_type": "stream",
     "text": [
      "/home/zsherman/anaconda3/lib/python3.5/site-packages/ipykernel/__main__.py:89: MaskedArrayFutureWarning: setting an item on a masked array which has a shared mask will not copy the mask and also change the original mask array in the future.\n",
      "Check the NumPy 1.11 release notes for more information.\n",
      "/home/zsherman/anaconda3/lib/python3.5/site-packages/numpy/core/_methods.py:59: RuntimeWarning: Mean of empty slice.\n",
      "  warnings.warn(\"Mean of empty slice.\", RuntimeWarning)\n",
      "/home/zsherman/anaconda3/lib/python3.5/site-packages/numpy/core/_methods.py:70: RuntimeWarning: invalid value encountered in double_scalars\n",
      "  ret = ret.dtype.type(ret / rcount)\n",
      "/home/zsherman/.local/lib/python3.5/site-packages/pyart/core/wind_profile.py:86: RuntimeWarning: invalid value encountered in less\n",
      "  direction[direction < 0] += 360\n"
     ]
    },
    {
     "name": "stdout",
     "output_type": "stream",
     "text": [
      "max height 12254.7675872  meters\n",
      "min height 0.0  meters\n",
      "max height 12254.7675872  meters\n",
      "12254.7675872\n"
     ]
    },
    {
     "name": "stderr",
     "output_type": "stream",
     "text": [
      "/home/zsherman/anaconda3/lib/python3.5/site-packages/ipykernel/__main__.py:89: MaskedArrayFutureWarning: setting an item on a masked array which has a shared mask will not copy the mask and also change the original mask array in the future.\n",
      "Check the NumPy 1.11 release notes for more information.\n",
      "/home/zsherman/anaconda3/lib/python3.5/site-packages/numpy/core/_methods.py:59: RuntimeWarning: Mean of empty slice.\n",
      "  warnings.warn(\"Mean of empty slice.\", RuntimeWarning)\n",
      "/home/zsherman/anaconda3/lib/python3.5/site-packages/numpy/core/_methods.py:70: RuntimeWarning: invalid value encountered in double_scalars\n",
      "  ret = ret.dtype.type(ret / rcount)\n",
      "/home/zsherman/.local/lib/python3.5/site-packages/pyart/core/wind_profile.py:86: RuntimeWarning: invalid value encountered in less\n",
      "  direction[direction < 0] += 360\n"
     ]
    },
    {
     "name": "stdout",
     "output_type": "stream",
     "text": [
      "max height 12259.410834  meters\n",
      "min height 0.0  meters\n",
      "max height 12259.410834  meters\n",
      "12259.410834\n"
     ]
    },
    {
     "name": "stderr",
     "output_type": "stream",
     "text": [
      "/home/zsherman/anaconda3/lib/python3.5/site-packages/ipykernel/__main__.py:89: MaskedArrayFutureWarning: setting an item on a masked array which has a shared mask will not copy the mask and also change the original mask array in the future.\n",
      "Check the NumPy 1.11 release notes for more information.\n",
      "/home/zsherman/anaconda3/lib/python3.5/site-packages/numpy/core/_methods.py:59: RuntimeWarning: Mean of empty slice.\n",
      "  warnings.warn(\"Mean of empty slice.\", RuntimeWarning)\n",
      "/home/zsherman/anaconda3/lib/python3.5/site-packages/numpy/core/_methods.py:70: RuntimeWarning: invalid value encountered in double_scalars\n",
      "  ret = ret.dtype.type(ret / rcount)\n",
      "/home/zsherman/.local/lib/python3.5/site-packages/pyart/core/wind_profile.py:86: RuntimeWarning: invalid value encountered in less\n",
      "  direction[direction < 0] += 360\n"
     ]
    },
    {
     "name": "stdout",
     "output_type": "stream",
     "text": [
      "max height 12254.7675872  meters\n",
      "min height 0.0  meters\n",
      "max height 12254.7675872  meters\n",
      "12254.7675872\n"
     ]
    },
    {
     "name": "stderr",
     "output_type": "stream",
     "text": [
      "/home/zsherman/anaconda3/lib/python3.5/site-packages/ipykernel/__main__.py:89: MaskedArrayFutureWarning: setting an item on a masked array which has a shared mask will not copy the mask and also change the original mask array in the future.\n",
      "Check the NumPy 1.11 release notes for more information.\n",
      "/home/zsherman/anaconda3/lib/python3.5/site-packages/numpy/core/_methods.py:59: RuntimeWarning: Mean of empty slice.\n",
      "  warnings.warn(\"Mean of empty slice.\", RuntimeWarning)\n",
      "/home/zsherman/anaconda3/lib/python3.5/site-packages/numpy/core/_methods.py:70: RuntimeWarning: invalid value encountered in double_scalars\n",
      "  ret = ret.dtype.type(ret / rcount)\n",
      "/home/zsherman/.local/lib/python3.5/site-packages/pyart/core/wind_profile.py:86: RuntimeWarning: invalid value encountered in less\n",
      "  direction[direction < 0] += 360\n"
     ]
    },
    {
     "name": "stdout",
     "output_type": "stream",
     "text": [
      "max height 12254.7675872  meters\n",
      "min height 0.0  meters\n",
      "max height 12254.7675872  meters\n",
      "12254.7675872\n"
     ]
    },
    {
     "name": "stderr",
     "output_type": "stream",
     "text": [
      "/home/zsherman/anaconda3/lib/python3.5/site-packages/ipykernel/__main__.py:89: MaskedArrayFutureWarning: setting an item on a masked array which has a shared mask will not copy the mask and also change the original mask array in the future.\n",
      "Check the NumPy 1.11 release notes for more information.\n",
      "/home/zsherman/anaconda3/lib/python3.5/site-packages/numpy/core/_methods.py:59: RuntimeWarning: Mean of empty slice.\n",
      "  warnings.warn(\"Mean of empty slice.\", RuntimeWarning)\n",
      "/home/zsherman/anaconda3/lib/python3.5/site-packages/numpy/core/_methods.py:70: RuntimeWarning: invalid value encountered in double_scalars\n",
      "  ret = ret.dtype.type(ret / rcount)\n",
      "/home/zsherman/.local/lib/python3.5/site-packages/pyart/core/wind_profile.py:86: RuntimeWarning: invalid value encountered in less\n",
      "  direction[direction < 0] += 360\n"
     ]
    },
    {
     "name": "stdout",
     "output_type": "stream",
     "text": [
      "max height 12233.8679414  meters\n",
      "min height 0.0  meters\n",
      "max height 12233.8679414  meters\n",
      "12233.8679414\n"
     ]
    },
    {
     "name": "stderr",
     "output_type": "stream",
     "text": [
      "/home/zsherman/anaconda3/lib/python3.5/site-packages/ipykernel/__main__.py:89: MaskedArrayFutureWarning: setting an item on a masked array which has a shared mask will not copy the mask and also change the original mask array in the future.\n",
      "Check the NumPy 1.11 release notes for more information.\n",
      "/home/zsherman/anaconda3/lib/python3.5/site-packages/numpy/core/_methods.py:59: RuntimeWarning: Mean of empty slice.\n",
      "  warnings.warn(\"Mean of empty slice.\", RuntimeWarning)\n",
      "/home/zsherman/anaconda3/lib/python3.5/site-packages/numpy/core/_methods.py:70: RuntimeWarning: invalid value encountered in double_scalars\n",
      "  ret = ret.dtype.type(ret / rcount)\n",
      "/home/zsherman/.local/lib/python3.5/site-packages/pyart/core/wind_profile.py:86: RuntimeWarning: invalid value encountered in less\n",
      "  direction[direction < 0] += 360\n"
     ]
    },
    {
     "name": "stdout",
     "output_type": "stream",
     "text": [
      "max height 12252.4439054  meters\n",
      "min height 0.0  meters\n",
      "max height 12252.4439054  meters\n",
      "12252.4439054\n"
     ]
    },
    {
     "name": "stderr",
     "output_type": "stream",
     "text": [
      "/home/zsherman/anaconda3/lib/python3.5/site-packages/ipykernel/__main__.py:89: MaskedArrayFutureWarning: setting an item on a masked array which has a shared mask will not copy the mask and also change the original mask array in the future.\n",
      "Check the NumPy 1.11 release notes for more information.\n",
      "/home/zsherman/anaconda3/lib/python3.5/site-packages/numpy/core/_methods.py:59: RuntimeWarning: Mean of empty slice.\n",
      "  warnings.warn(\"Mean of empty slice.\", RuntimeWarning)\n",
      "/home/zsherman/anaconda3/lib/python3.5/site-packages/numpy/core/_methods.py:70: RuntimeWarning: invalid value encountered in double_scalars\n",
      "  ret = ret.dtype.type(ret / rcount)\n",
      "/home/zsherman/.local/lib/python3.5/site-packages/pyart/core/wind_profile.py:86: RuntimeWarning: invalid value encountered in less\n",
      "  direction[direction < 0] += 360\n"
     ]
    },
    {
     "name": "stdout",
     "output_type": "stream",
     "text": [
      "max height 12243.1561507  meters\n",
      "min height 0.0  meters\n",
      "max height 12243.1561507  meters\n",
      "12243.1561507\n"
     ]
    },
    {
     "name": "stderr",
     "output_type": "stream",
     "text": [
      "/home/zsherman/anaconda3/lib/python3.5/site-packages/ipykernel/__main__.py:89: MaskedArrayFutureWarning: setting an item on a masked array which has a shared mask will not copy the mask and also change the original mask array in the future.\n",
      "Check the NumPy 1.11 release notes for more information.\n",
      "/home/zsherman/anaconda3/lib/python3.5/site-packages/numpy/core/_methods.py:59: RuntimeWarning: Mean of empty slice.\n",
      "  warnings.warn(\"Mean of empty slice.\", RuntimeWarning)\n",
      "/home/zsherman/anaconda3/lib/python3.5/site-packages/numpy/core/_methods.py:70: RuntimeWarning: invalid value encountered in double_scalars\n",
      "  ret = ret.dtype.type(ret / rcount)\n",
      "/home/zsherman/.local/lib/python3.5/site-packages/pyart/core/wind_profile.py:86: RuntimeWarning: invalid value encountered in less\n",
      "  direction[direction < 0] += 360\n"
     ]
    },
    {
     "name": "stdout",
     "output_type": "stream",
     "text": [
      "max height 12259.410834  meters\n",
      "min height 0.0  meters\n",
      "max height 12259.410834  meters\n",
      "12259.410834\n"
     ]
    },
    {
     "name": "stderr",
     "output_type": "stream",
     "text": [
      "/home/zsherman/anaconda3/lib/python3.5/site-packages/ipykernel/__main__.py:89: MaskedArrayFutureWarning: setting an item on a masked array which has a shared mask will not copy the mask and also change the original mask array in the future.\n",
      "Check the NumPy 1.11 release notes for more information.\n",
      "/home/zsherman/anaconda3/lib/python3.5/site-packages/numpy/core/_methods.py:59: RuntimeWarning: Mean of empty slice.\n",
      "  warnings.warn(\"Mean of empty slice.\", RuntimeWarning)\n",
      "/home/zsherman/anaconda3/lib/python3.5/site-packages/numpy/core/_methods.py:70: RuntimeWarning: invalid value encountered in double_scalars\n",
      "  ret = ret.dtype.type(ret / rcount)\n",
      "/home/zsherman/.local/lib/python3.5/site-packages/pyart/core/wind_profile.py:86: RuntimeWarning: invalid value encountered in less\n",
      "  direction[direction < 0] += 360\n"
     ]
    },
    {
     "name": "stdout",
     "output_type": "stream",
     "text": [
      "max height 12254.7675872  meters\n",
      "min height 0.0  meters\n",
      "max height 12254.7675872  meters\n",
      "12254.7675872\n"
     ]
    },
    {
     "name": "stderr",
     "output_type": "stream",
     "text": [
      "/home/zsherman/anaconda3/lib/python3.5/site-packages/ipykernel/__main__.py:89: MaskedArrayFutureWarning: setting an item on a masked array which has a shared mask will not copy the mask and also change the original mask array in the future.\n",
      "Check the NumPy 1.11 release notes for more information.\n",
      "/home/zsherman/anaconda3/lib/python3.5/site-packages/numpy/core/_methods.py:59: RuntimeWarning: Mean of empty slice.\n",
      "  warnings.warn(\"Mean of empty slice.\", RuntimeWarning)\n",
      "/home/zsherman/anaconda3/lib/python3.5/site-packages/numpy/core/_methods.py:70: RuntimeWarning: invalid value encountered in double_scalars\n",
      "  ret = ret.dtype.type(ret / rcount)\n",
      "/home/zsherman/.local/lib/python3.5/site-packages/pyart/core/wind_profile.py:86: RuntimeWarning: invalid value encountered in less\n",
      "  direction[direction < 0] += 360\n"
     ]
    },
    {
     "name": "stdout",
     "output_type": "stream",
     "text": [
      "max height 12254.7675872  meters\n",
      "min height 0.0  meters\n",
      "max height 12254.7675872  meters\n",
      "12254.7675872\n"
     ]
    },
    {
     "name": "stderr",
     "output_type": "stream",
     "text": [
      "/home/zsherman/anaconda3/lib/python3.5/site-packages/ipykernel/__main__.py:89: MaskedArrayFutureWarning: setting an item on a masked array which has a shared mask will not copy the mask and also change the original mask array in the future.\n",
      "Check the NumPy 1.11 release notes for more information.\n",
      "/home/zsherman/anaconda3/lib/python3.5/site-packages/numpy/core/_methods.py:59: RuntimeWarning: Mean of empty slice.\n",
      "  warnings.warn(\"Mean of empty slice.\", RuntimeWarning)\n",
      "/home/zsherman/anaconda3/lib/python3.5/site-packages/numpy/core/_methods.py:70: RuntimeWarning: invalid value encountered in double_scalars\n",
      "  ret = ret.dtype.type(ret / rcount)\n",
      "/home/zsherman/.local/lib/python3.5/site-packages/pyart/core/wind_profile.py:86: RuntimeWarning: invalid value encountered in less\n",
      "  direction[direction < 0] += 360\n"
     ]
    },
    {
     "name": "stdout",
     "output_type": "stream",
     "text": [
      "max height 12250.1218078  meters\n",
      "min height 0.0  meters\n",
      "max height 12250.1218078  meters\n",
      "12250.1218078\n"
     ]
    },
    {
     "name": "stderr",
     "output_type": "stream",
     "text": [
      "/home/zsherman/anaconda3/lib/python3.5/site-packages/ipykernel/__main__.py:89: MaskedArrayFutureWarning: setting an item on a masked array which has a shared mask will not copy the mask and also change the original mask array in the future.\n",
      "Check the NumPy 1.11 release notes for more information.\n",
      "/home/zsherman/anaconda3/lib/python3.5/site-packages/numpy/core/_methods.py:59: RuntimeWarning: Mean of empty slice.\n",
      "  warnings.warn(\"Mean of empty slice.\", RuntimeWarning)\n",
      "/home/zsherman/anaconda3/lib/python3.5/site-packages/numpy/core/_methods.py:70: RuntimeWarning: invalid value encountered in double_scalars\n",
      "  ret = ret.dtype.type(ret / rcount)\n",
      "/home/zsherman/.local/lib/python3.5/site-packages/pyart/core/wind_profile.py:86: RuntimeWarning: invalid value encountered in less\n",
      "  direction[direction < 0] += 360\n"
     ]
    },
    {
     "name": "stdout",
     "output_type": "stream",
     "text": [
      "max height 12254.7675872  meters\n",
      "min height 0.0  meters\n",
      "max height 12254.7675872  meters\n",
      "12254.7675872\n"
     ]
    },
    {
     "name": "stderr",
     "output_type": "stream",
     "text": [
      "/home/zsherman/anaconda3/lib/python3.5/site-packages/ipykernel/__main__.py:89: MaskedArrayFutureWarning: setting an item on a masked array which has a shared mask will not copy the mask and also change the original mask array in the future.\n",
      "Check the NumPy 1.11 release notes for more information.\n",
      "/home/zsherman/anaconda3/lib/python3.5/site-packages/numpy/core/_methods.py:59: RuntimeWarning: Mean of empty slice.\n",
      "  warnings.warn(\"Mean of empty slice.\", RuntimeWarning)\n",
      "/home/zsherman/anaconda3/lib/python3.5/site-packages/numpy/core/_methods.py:70: RuntimeWarning: invalid value encountered in double_scalars\n",
      "  ret = ret.dtype.type(ret / rcount)\n",
      "/home/zsherman/.local/lib/python3.5/site-packages/pyart/core/wind_profile.py:86: RuntimeWarning: invalid value encountered in less\n",
      "  direction[direction < 0] += 360\n"
     ]
    },
    {
     "name": "stdout",
     "output_type": "stream",
     "text": [
      "max height 12257.0888217  meters\n",
      "min height 0.0  meters\n",
      "max height 12257.0888217  meters\n",
      "12257.0888217\n"
     ]
    },
    {
     "name": "stderr",
     "output_type": "stream",
     "text": [
      "/home/zsherman/anaconda3/lib/python3.5/site-packages/ipykernel/__main__.py:89: MaskedArrayFutureWarning: setting an item on a masked array which has a shared mask will not copy the mask and also change the original mask array in the future.\n",
      "Check the NumPy 1.11 release notes for more information.\n",
      "/home/zsherman/anaconda3/lib/python3.5/site-packages/numpy/core/_methods.py:59: RuntimeWarning: Mean of empty slice.\n",
      "  warnings.warn(\"Mean of empty slice.\", RuntimeWarning)\n",
      "/home/zsherman/anaconda3/lib/python3.5/site-packages/numpy/core/_methods.py:70: RuntimeWarning: invalid value encountered in double_scalars\n",
      "  ret = ret.dtype.type(ret / rcount)\n",
      "/home/zsherman/.local/lib/python3.5/site-packages/pyart/core/wind_profile.py:86: RuntimeWarning: invalid value encountered in less\n",
      "  direction[direction < 0] += 360\n"
     ]
    },
    {
     "name": "stdout",
     "output_type": "stream",
     "text": [
      "max height 12254.7675872  meters\n",
      "min height 0.0  meters\n",
      "max height 12254.7675872  meters\n",
      "12254.7675872\n"
     ]
    },
    {
     "name": "stderr",
     "output_type": "stream",
     "text": [
      "/home/zsherman/anaconda3/lib/python3.5/site-packages/ipykernel/__main__.py:89: MaskedArrayFutureWarning: setting an item on a masked array which has a shared mask will not copy the mask and also change the original mask array in the future.\n",
      "Check the NumPy 1.11 release notes for more information.\n",
      "/home/zsherman/anaconda3/lib/python3.5/site-packages/numpy/core/_methods.py:59: RuntimeWarning: Mean of empty slice.\n",
      "  warnings.warn(\"Mean of empty slice.\", RuntimeWarning)\n",
      "/home/zsherman/anaconda3/lib/python3.5/site-packages/numpy/core/_methods.py:70: RuntimeWarning: invalid value encountered in double_scalars\n",
      "  ret = ret.dtype.type(ret / rcount)\n",
      "/home/zsherman/.local/lib/python3.5/site-packages/pyart/core/wind_profile.py:86: RuntimeWarning: invalid value encountered in less\n",
      "  direction[direction < 0] += 360\n"
     ]
    },
    {
     "name": "stdout",
     "output_type": "stream",
     "text": [
      "max height 12273.3415041  meters\n",
      "min height 0.0  meters\n",
      "max height 12273.3415041  meters\n",
      "12273.3415041\n"
     ]
    },
    {
     "name": "stderr",
     "output_type": "stream",
     "text": [
      "/home/zsherman/anaconda3/lib/python3.5/site-packages/ipykernel/__main__.py:89: MaskedArrayFutureWarning: setting an item on a masked array which has a shared mask will not copy the mask and also change the original mask array in the future.\n",
      "Check the NumPy 1.11 release notes for more information.\n",
      "/home/zsherman/anaconda3/lib/python3.5/site-packages/numpy/core/_methods.py:59: RuntimeWarning: Mean of empty slice.\n",
      "  warnings.warn(\"Mean of empty slice.\", RuntimeWarning)\n",
      "/home/zsherman/anaconda3/lib/python3.5/site-packages/numpy/core/_methods.py:70: RuntimeWarning: invalid value encountered in double_scalars\n",
      "  ret = ret.dtype.type(ret / rcount)\n",
      "/home/zsherman/.local/lib/python3.5/site-packages/pyart/core/wind_profile.py:86: RuntimeWarning: invalid value encountered in less\n",
      "  direction[direction < 0] += 360\n"
     ]
    },
    {
     "name": "stdout",
     "output_type": "stream",
     "text": [
      "max height 12273.3415041  meters\n",
      "min height 0.0  meters\n",
      "max height 12273.3415041  meters\n",
      "12273.3415041\n"
     ]
    },
    {
     "name": "stderr",
     "output_type": "stream",
     "text": [
      "/home/zsherman/anaconda3/lib/python3.5/site-packages/ipykernel/__main__.py:89: MaskedArrayFutureWarning: setting an item on a masked array which has a shared mask will not copy the mask and also change the original mask array in the future.\n",
      "Check the NumPy 1.11 release notes for more information.\n",
      "/home/zsherman/anaconda3/lib/python3.5/site-packages/numpy/core/_methods.py:59: RuntimeWarning: Mean of empty slice.\n",
      "  warnings.warn(\"Mean of empty slice.\", RuntimeWarning)\n",
      "/home/zsherman/anaconda3/lib/python3.5/site-packages/numpy/core/_methods.py:70: RuntimeWarning: invalid value encountered in double_scalars\n",
      "  ret = ret.dtype.type(ret / rcount)\n",
      "/home/zsherman/.local/lib/python3.5/site-packages/pyart/core/wind_profile.py:86: RuntimeWarning: invalid value encountered in less\n",
      "  direction[direction < 0] += 360\n"
     ]
    },
    {
     "name": "stdout",
     "output_type": "stream",
     "text": [
      "max height 12273.3415041  meters\n",
      "min height 0.0  meters\n",
      "max height 12273.3415041  meters\n",
      "12273.3415041\n"
     ]
    },
    {
     "name": "stderr",
     "output_type": "stream",
     "text": [
      "/home/zsherman/anaconda3/lib/python3.5/site-packages/ipykernel/__main__.py:89: MaskedArrayFutureWarning: setting an item on a masked array which has a shared mask will not copy the mask and also change the original mask array in the future.\n",
      "Check the NumPy 1.11 release notes for more information.\n",
      "/home/zsherman/anaconda3/lib/python3.5/site-packages/numpy/core/_methods.py:59: RuntimeWarning: Mean of empty slice.\n",
      "  warnings.warn(\"Mean of empty slice.\", RuntimeWarning)\n",
      "/home/zsherman/anaconda3/lib/python3.5/site-packages/numpy/core/_methods.py:70: RuntimeWarning: invalid value encountered in double_scalars\n",
      "  ret = ret.dtype.type(ret / rcount)\n",
      "/home/zsherman/.local/lib/python3.5/site-packages/pyart/core/wind_profile.py:86: RuntimeWarning: invalid value encountered in less\n",
      "  direction[direction < 0] += 360\n"
     ]
    },
    {
     "name": "stdout",
     "output_type": "stream",
     "text": [
      "max height 12268.6994049  meters\n",
      "min height 0.0  meters\n",
      "max height 12268.6994049  meters\n",
      "12268.6994049\n"
     ]
    },
    {
     "name": "stderr",
     "output_type": "stream",
     "text": [
      "/home/zsherman/anaconda3/lib/python3.5/site-packages/ipykernel/__main__.py:89: MaskedArrayFutureWarning: setting an item on a masked array which has a shared mask will not copy the mask and also change the original mask array in the future.\n",
      "Check the NumPy 1.11 release notes for more information.\n",
      "/home/zsherman/anaconda3/lib/python3.5/site-packages/numpy/core/_methods.py:59: RuntimeWarning: Mean of empty slice.\n",
      "  warnings.warn(\"Mean of empty slice.\", RuntimeWarning)\n",
      "/home/zsherman/anaconda3/lib/python3.5/site-packages/numpy/core/_methods.py:70: RuntimeWarning: invalid value encountered in double_scalars\n",
      "  ret = ret.dtype.type(ret / rcount)\n",
      "/home/zsherman/.local/lib/python3.5/site-packages/pyart/core/wind_profile.py:86: RuntimeWarning: invalid value encountered in less\n",
      "  direction[direction < 0] += 360\n"
     ]
    },
    {
     "name": "stdout",
     "output_type": "stream",
     "text": [
      "max height 12268.6994049  meters\n",
      "min height 0.0  meters\n",
      "max height 12268.6994049  meters\n",
      "12268.6994049\n"
     ]
    },
    {
     "name": "stderr",
     "output_type": "stream",
     "text": [
      "/home/zsherman/anaconda3/lib/python3.5/site-packages/ipykernel/__main__.py:89: MaskedArrayFutureWarning: setting an item on a masked array which has a shared mask will not copy the mask and also change the original mask array in the future.\n",
      "Check the NumPy 1.11 release notes for more information.\n",
      "/home/zsherman/anaconda3/lib/python3.5/site-packages/numpy/core/_methods.py:59: RuntimeWarning: Mean of empty slice.\n",
      "  warnings.warn(\"Mean of empty slice.\", RuntimeWarning)\n",
      "/home/zsherman/anaconda3/lib/python3.5/site-packages/numpy/core/_methods.py:70: RuntimeWarning: invalid value encountered in double_scalars\n",
      "  ret = ret.dtype.type(ret / rcount)\n",
      "/home/zsherman/.local/lib/python3.5/site-packages/pyart/core/wind_profile.py:86: RuntimeWarning: invalid value encountered in less\n",
      "  direction[direction < 0] += 360\n"
     ]
    },
    {
     "name": "stdout",
     "output_type": "stream",
     "text": [
      "max height 12264.0547733  meters\n",
      "min height 0.0  meters\n",
      "max height 12264.0547733  meters\n",
      "12264.0547733\n"
     ]
    },
    {
     "name": "stderr",
     "output_type": "stream",
     "text": [
      "/home/zsherman/anaconda3/lib/python3.5/site-packages/ipykernel/__main__.py:89: MaskedArrayFutureWarning: setting an item on a masked array which has a shared mask will not copy the mask and also change the original mask array in the future.\n",
      "Check the NumPy 1.11 release notes for more information.\n",
      "/home/zsherman/anaconda3/lib/python3.5/site-packages/numpy/core/_methods.py:59: RuntimeWarning: Mean of empty slice.\n",
      "  warnings.warn(\"Mean of empty slice.\", RuntimeWarning)\n",
      "/home/zsherman/anaconda3/lib/python3.5/site-packages/numpy/core/_methods.py:70: RuntimeWarning: invalid value encountered in double_scalars\n",
      "  ret = ret.dtype.type(ret / rcount)\n",
      "/home/zsherman/.local/lib/python3.5/site-packages/pyart/core/wind_profile.py:86: RuntimeWarning: invalid value encountered in less\n",
      "  direction[direction < 0] += 360\n"
     ]
    },
    {
     "name": "stdout",
     "output_type": "stream",
     "text": [
      "max height 12245.4791399  meters\n",
      "min height 0.0  meters\n",
      "max height 12245.4791399  meters\n",
      "12245.4791399\n"
     ]
    },
    {
     "name": "stderr",
     "output_type": "stream",
     "text": [
      "/home/zsherman/anaconda3/lib/python3.5/site-packages/ipykernel/__main__.py:89: MaskedArrayFutureWarning: setting an item on a masked array which has a shared mask will not copy the mask and also change the original mask array in the future.\n",
      "Check the NumPy 1.11 release notes for more information.\n",
      "/home/zsherman/anaconda3/lib/python3.5/site-packages/numpy/core/_methods.py:59: RuntimeWarning: Mean of empty slice.\n",
      "  warnings.warn(\"Mean of empty slice.\", RuntimeWarning)\n",
      "/home/zsherman/anaconda3/lib/python3.5/site-packages/numpy/core/_methods.py:70: RuntimeWarning: invalid value encountered in double_scalars\n",
      "  ret = ret.dtype.type(ret / rcount)\n",
      "/home/zsherman/.local/lib/python3.5/site-packages/pyart/core/wind_profile.py:86: RuntimeWarning: invalid value encountered in less\n",
      "  direction[direction < 0] += 360\n"
     ]
    },
    {
     "name": "stdout",
     "output_type": "stream",
     "text": [
      "max height 12250.1218078  meters\n",
      "min height 0.0  meters\n",
      "max height 12250.1218078  meters\n",
      "12250.1218078\n"
     ]
    },
    {
     "name": "stderr",
     "output_type": "stream",
     "text": [
      "/home/zsherman/anaconda3/lib/python3.5/site-packages/ipykernel/__main__.py:89: MaskedArrayFutureWarning: setting an item on a masked array which has a shared mask will not copy the mask and also change the original mask array in the future.\n",
      "Check the NumPy 1.11 release notes for more information.\n",
      "/home/zsherman/anaconda3/lib/python3.5/site-packages/numpy/core/_methods.py:59: RuntimeWarning: Mean of empty slice.\n",
      "  warnings.warn(\"Mean of empty slice.\", RuntimeWarning)\n",
      "/home/zsherman/anaconda3/lib/python3.5/site-packages/numpy/core/_methods.py:70: RuntimeWarning: invalid value encountered in double_scalars\n",
      "  ret = ret.dtype.type(ret / rcount)\n",
      "/home/zsherman/.local/lib/python3.5/site-packages/pyart/core/wind_profile.py:86: RuntimeWarning: invalid value encountered in less\n",
      "  direction[direction < 0] += 360\n"
     ]
    },
    {
     "name": "stdout",
     "output_type": "stream",
     "text": [
      "max height 12250.1218078  meters\n",
      "min height 0.0  meters\n",
      "max height 12250.1218078  meters\n",
      "12250.1218078\n"
     ]
    },
    {
     "name": "stderr",
     "output_type": "stream",
     "text": [
      "/home/zsherman/anaconda3/lib/python3.5/site-packages/ipykernel/__main__.py:89: MaskedArrayFutureWarning: setting an item on a masked array which has a shared mask will not copy the mask and also change the original mask array in the future.\n",
      "Check the NumPy 1.11 release notes for more information.\n",
      "/home/zsherman/anaconda3/lib/python3.5/site-packages/numpy/core/_methods.py:59: RuntimeWarning: Mean of empty slice.\n",
      "  warnings.warn(\"Mean of empty slice.\", RuntimeWarning)\n",
      "/home/zsherman/anaconda3/lib/python3.5/site-packages/numpy/core/_methods.py:70: RuntimeWarning: invalid value encountered in double_scalars\n",
      "  ret = ret.dtype.type(ret / rcount)\n",
      "/home/zsherman/.local/lib/python3.5/site-packages/pyart/core/wind_profile.py:86: RuntimeWarning: invalid value encountered in less\n",
      "  direction[direction < 0] += 360\n"
     ]
    },
    {
     "name": "stdout",
     "output_type": "stream",
     "text": [
      "max height 12240.833133  meters\n",
      "min height 0.0  meters\n",
      "max height 12240.833133  meters\n",
      "12240.833133\n"
     ]
    },
    {
     "name": "stderr",
     "output_type": "stream",
     "text": [
      "/home/zsherman/anaconda3/lib/python3.5/site-packages/ipykernel/__main__.py:89: MaskedArrayFutureWarning: setting an item on a masked array which has a shared mask will not copy the mask and also change the original mask array in the future.\n",
      "Check the NumPy 1.11 release notes for more information.\n",
      "/home/zsherman/anaconda3/lib/python3.5/site-packages/numpy/core/_methods.py:59: RuntimeWarning: Mean of empty slice.\n",
      "  warnings.warn(\"Mean of empty slice.\", RuntimeWarning)\n",
      "/home/zsherman/anaconda3/lib/python3.5/site-packages/numpy/core/_methods.py:70: RuntimeWarning: invalid value encountered in double_scalars\n",
      "  ret = ret.dtype.type(ret / rcount)\n",
      "/home/zsherman/.local/lib/python3.5/site-packages/pyart/core/wind_profile.py:86: RuntimeWarning: invalid value encountered in less\n",
      "  direction[direction < 0] += 360\n"
     ]
    },
    {
     "name": "stdout",
     "output_type": "stream",
     "text": [
      "max height 12240.833133  meters\n",
      "min height 0.0  meters\n",
      "max height 12240.833133  meters\n",
      "12240.833133\n"
     ]
    },
    {
     "name": "stderr",
     "output_type": "stream",
     "text": [
      "/home/zsherman/anaconda3/lib/python3.5/site-packages/ipykernel/__main__.py:89: MaskedArrayFutureWarning: setting an item on a masked array which has a shared mask will not copy the mask and also change the original mask array in the future.\n",
      "Check the NumPy 1.11 release notes for more information.\n",
      "/home/zsherman/anaconda3/lib/python3.5/site-packages/numpy/core/_methods.py:59: RuntimeWarning: Mean of empty slice.\n",
      "  warnings.warn(\"Mean of empty slice.\", RuntimeWarning)\n",
      "/home/zsherman/anaconda3/lib/python3.5/site-packages/numpy/core/_methods.py:70: RuntimeWarning: invalid value encountered in double_scalars\n",
      "  ret = ret.dtype.type(ret / rcount)\n",
      "/home/zsherman/.local/lib/python3.5/site-packages/pyart/core/wind_profile.py:86: RuntimeWarning: invalid value encountered in less\n",
      "  direction[direction < 0] += 360\n"
     ]
    },
    {
     "name": "stdout",
     "output_type": "stream",
     "text": [
      "max height 12245.4791399  meters\n",
      "min height 0.0  meters\n",
      "max height 12245.4791399  meters\n",
      "12245.4791399\n"
     ]
    },
    {
     "name": "stderr",
     "output_type": "stream",
     "text": [
      "/home/zsherman/anaconda3/lib/python3.5/site-packages/ipykernel/__main__.py:89: MaskedArrayFutureWarning: setting an item on a masked array which has a shared mask will not copy the mask and also change the original mask array in the future.\n",
      "Check the NumPy 1.11 release notes for more information.\n",
      "/home/zsherman/anaconda3/lib/python3.5/site-packages/numpy/core/_methods.py:59: RuntimeWarning: Mean of empty slice.\n",
      "  warnings.warn(\"Mean of empty slice.\", RuntimeWarning)\n",
      "/home/zsherman/anaconda3/lib/python3.5/site-packages/numpy/core/_methods.py:70: RuntimeWarning: invalid value encountered in double_scalars\n",
      "  ret = ret.dtype.type(ret / rcount)\n",
      "/home/zsherman/.local/lib/python3.5/site-packages/pyart/core/wind_profile.py:86: RuntimeWarning: invalid value encountered in less\n",
      "  direction[direction < 0] += 360\n"
     ]
    },
    {
     "name": "stdout",
     "output_type": "stream",
     "text": [
      "max height 12250.1218078  meters\n",
      "min height 0.0  meters\n",
      "max height 12250.1218078  meters\n",
      "12250.1218078\n"
     ]
    },
    {
     "name": "stderr",
     "output_type": "stream",
     "text": [
      "/home/zsherman/anaconda3/lib/python3.5/site-packages/ipykernel/__main__.py:89: MaskedArrayFutureWarning: setting an item on a masked array which has a shared mask will not copy the mask and also change the original mask array in the future.\n",
      "Check the NumPy 1.11 release notes for more information.\n",
      "/home/zsherman/anaconda3/lib/python3.5/site-packages/numpy/core/_methods.py:59: RuntimeWarning: Mean of empty slice.\n",
      "  warnings.warn(\"Mean of empty slice.\", RuntimeWarning)\n",
      "/home/zsherman/anaconda3/lib/python3.5/site-packages/numpy/core/_methods.py:70: RuntimeWarning: invalid value encountered in double_scalars\n",
      "  ret = ret.dtype.type(ret / rcount)\n",
      "/home/zsherman/.local/lib/python3.5/site-packages/pyart/core/wind_profile.py:86: RuntimeWarning: invalid value encountered in less\n",
      "  direction[direction < 0] += 360\n"
     ]
    },
    {
     "name": "stdout",
     "output_type": "stream",
     "text": [
      "max height 12245.4791399  meters\n",
      "min height 0.0  meters\n",
      "max height 12245.4791399  meters\n",
      "12245.4791399\n"
     ]
    },
    {
     "name": "stderr",
     "output_type": "stream",
     "text": [
      "/home/zsherman/anaconda3/lib/python3.5/site-packages/ipykernel/__main__.py:89: MaskedArrayFutureWarning: setting an item on a masked array which has a shared mask will not copy the mask and also change the original mask array in the future.\n",
      "Check the NumPy 1.11 release notes for more information.\n",
      "/home/zsherman/anaconda3/lib/python3.5/site-packages/numpy/core/_methods.py:59: RuntimeWarning: Mean of empty slice.\n",
      "  warnings.warn(\"Mean of empty slice.\", RuntimeWarning)\n",
      "/home/zsherman/anaconda3/lib/python3.5/site-packages/numpy/core/_methods.py:70: RuntimeWarning: invalid value encountered in double_scalars\n",
      "  ret = ret.dtype.type(ret / rcount)\n",
      "/home/zsherman/.local/lib/python3.5/site-packages/pyart/core/wind_profile.py:86: RuntimeWarning: invalid value encountered in less\n",
      "  direction[direction < 0] += 360\n"
     ]
    },
    {
     "name": "stdout",
     "output_type": "stream",
     "text": [
      "max height 12245.4791399  meters\n",
      "min height 0.0  meters\n",
      "max height 12245.4791399  meters\n",
      "12245.4791399\n"
     ]
    },
    {
     "name": "stderr",
     "output_type": "stream",
     "text": [
      "/home/zsherman/anaconda3/lib/python3.5/site-packages/ipykernel/__main__.py:89: MaskedArrayFutureWarning: setting an item on a masked array which has a shared mask will not copy the mask and also change the original mask array in the future.\n",
      "Check the NumPy 1.11 release notes for more information.\n",
      "/home/zsherman/anaconda3/lib/python3.5/site-packages/numpy/core/_methods.py:59: RuntimeWarning: Mean of empty slice.\n",
      "  warnings.warn(\"Mean of empty slice.\", RuntimeWarning)\n",
      "/home/zsherman/anaconda3/lib/python3.5/site-packages/numpy/core/_methods.py:70: RuntimeWarning: invalid value encountered in double_scalars\n",
      "  ret = ret.dtype.type(ret / rcount)\n",
      "/home/zsherman/.local/lib/python3.5/site-packages/pyart/core/wind_profile.py:86: RuntimeWarning: invalid value encountered in less\n",
      "  direction[direction < 0] += 360\n"
     ]
    },
    {
     "name": "stdout",
     "output_type": "stream",
     "text": [
      "max height 12245.4791399  meters\n",
      "min height 0.0  meters\n",
      "max height 12245.4791399  meters\n",
      "12245.4791399\n"
     ]
    },
    {
     "name": "stderr",
     "output_type": "stream",
     "text": [
      "/home/zsherman/anaconda3/lib/python3.5/site-packages/ipykernel/__main__.py:89: MaskedArrayFutureWarning: setting an item on a masked array which has a shared mask will not copy the mask and also change the original mask array in the future.\n",
      "Check the NumPy 1.11 release notes for more information.\n",
      "/home/zsherman/anaconda3/lib/python3.5/site-packages/numpy/core/_methods.py:59: RuntimeWarning: Mean of empty slice.\n",
      "  warnings.warn(\"Mean of empty slice.\", RuntimeWarning)\n",
      "/home/zsherman/anaconda3/lib/python3.5/site-packages/numpy/core/_methods.py:70: RuntimeWarning: invalid value encountered in double_scalars\n",
      "  ret = ret.dtype.type(ret / rcount)\n",
      "/home/zsherman/.local/lib/python3.5/site-packages/pyart/core/wind_profile.py:86: RuntimeWarning: invalid value encountered in less\n",
      "  direction[direction < 0] += 360\n"
     ]
    },
    {
     "name": "stdout",
     "output_type": "stream",
     "text": [
      "max height 12240.833133  meters\n",
      "min height 0.0  meters\n",
      "max height 12240.833133  meters\n",
      "12240.833133\n"
     ]
    },
    {
     "name": "stderr",
     "output_type": "stream",
     "text": [
      "/home/zsherman/anaconda3/lib/python3.5/site-packages/ipykernel/__main__.py:89: MaskedArrayFutureWarning: setting an item on a masked array which has a shared mask will not copy the mask and also change the original mask array in the future.\n",
      "Check the NumPy 1.11 release notes for more information.\n",
      "/home/zsherman/anaconda3/lib/python3.5/site-packages/numpy/core/_methods.py:59: RuntimeWarning: Mean of empty slice.\n",
      "  warnings.warn(\"Mean of empty slice.\", RuntimeWarning)\n",
      "/home/zsherman/anaconda3/lib/python3.5/site-packages/numpy/core/_methods.py:70: RuntimeWarning: invalid value encountered in double_scalars\n",
      "  ret = ret.dtype.type(ret / rcount)\n",
      "/home/zsherman/.local/lib/python3.5/site-packages/pyart/core/wind_profile.py:86: RuntimeWarning: invalid value encountered in less\n",
      "  direction[direction < 0] += 360\n"
     ]
    },
    {
     "name": "stdout",
     "output_type": "stream",
     "text": [
      "max height 12245.4791399  meters\n",
      "min height 0.0  meters\n",
      "max height 12245.4791399  meters\n",
      "12245.4791399\n"
     ]
    },
    {
     "name": "stderr",
     "output_type": "stream",
     "text": [
      "/home/zsherman/anaconda3/lib/python3.5/site-packages/ipykernel/__main__.py:89: MaskedArrayFutureWarning: setting an item on a masked array which has a shared mask will not copy the mask and also change the original mask array in the future.\n",
      "Check the NumPy 1.11 release notes for more information.\n",
      "/home/zsherman/anaconda3/lib/python3.5/site-packages/numpy/core/_methods.py:59: RuntimeWarning: Mean of empty slice.\n",
      "  warnings.warn(\"Mean of empty slice.\", RuntimeWarning)\n",
      "/home/zsherman/anaconda3/lib/python3.5/site-packages/numpy/core/_methods.py:70: RuntimeWarning: invalid value encountered in double_scalars\n",
      "  ret = ret.dtype.type(ret / rcount)\n",
      "/home/zsherman/.local/lib/python3.5/site-packages/pyart/core/wind_profile.py:86: RuntimeWarning: invalid value encountered in less\n",
      "  direction[direction < 0] += 360\n"
     ]
    },
    {
     "name": "stdout",
     "output_type": "stream",
     "text": [
      "max height 12240.833133  meters\n",
      "min height 0.0  meters\n",
      "max height 12240.833133  meters\n",
      "12240.833133\n"
     ]
    },
    {
     "name": "stderr",
     "output_type": "stream",
     "text": [
      "/home/zsherman/anaconda3/lib/python3.5/site-packages/ipykernel/__main__.py:89: MaskedArrayFutureWarning: setting an item on a masked array which has a shared mask will not copy the mask and also change the original mask array in the future.\n",
      "Check the NumPy 1.11 release notes for more information.\n",
      "/home/zsherman/anaconda3/lib/python3.5/site-packages/numpy/core/_methods.py:59: RuntimeWarning: Mean of empty slice.\n",
      "  warnings.warn(\"Mean of empty slice.\", RuntimeWarning)\n",
      "/home/zsherman/anaconda3/lib/python3.5/site-packages/numpy/core/_methods.py:70: RuntimeWarning: invalid value encountered in double_scalars\n",
      "  ret = ret.dtype.type(ret / rcount)\n",
      "/home/zsherman/.local/lib/python3.5/site-packages/pyart/core/wind_profile.py:86: RuntimeWarning: invalid value encountered in less\n",
      "  direction[direction < 0] += 360\n"
     ]
    },
    {
     "name": "stdout",
     "output_type": "stream",
     "text": [
      "max height 12250.1218078  meters\n",
      "min height 0.0  meters\n",
      "max height 12250.1218078  meters\n",
      "12250.1218078\n"
     ]
    },
    {
     "name": "stderr",
     "output_type": "stream",
     "text": [
      "/home/zsherman/anaconda3/lib/python3.5/site-packages/ipykernel/__main__.py:89: MaskedArrayFutureWarning: setting an item on a masked array which has a shared mask will not copy the mask and also change the original mask array in the future.\n",
      "Check the NumPy 1.11 release notes for more information.\n",
      "/home/zsherman/anaconda3/lib/python3.5/site-packages/numpy/core/_methods.py:59: RuntimeWarning: Mean of empty slice.\n",
      "  warnings.warn(\"Mean of empty slice.\", RuntimeWarning)\n",
      "/home/zsherman/anaconda3/lib/python3.5/site-packages/numpy/core/_methods.py:70: RuntimeWarning: invalid value encountered in double_scalars\n",
      "  ret = ret.dtype.type(ret / rcount)\n",
      "/home/zsherman/.local/lib/python3.5/site-packages/pyart/core/wind_profile.py:86: RuntimeWarning: invalid value encountered in less\n",
      "  direction[direction < 0] += 360\n"
     ]
    },
    {
     "name": "stdout",
     "output_type": "stream",
     "text": [
      "max height 12240.833133  meters\n",
      "min height 0.0  meters\n",
      "max height 12240.833133  meters\n",
      "12240.833133\n"
     ]
    },
    {
     "name": "stderr",
     "output_type": "stream",
     "text": [
      "/home/zsherman/anaconda3/lib/python3.5/site-packages/ipykernel/__main__.py:89: MaskedArrayFutureWarning: setting an item on a masked array which has a shared mask will not copy the mask and also change the original mask array in the future.\n",
      "Check the NumPy 1.11 release notes for more information.\n",
      "/home/zsherman/anaconda3/lib/python3.5/site-packages/numpy/core/_methods.py:59: RuntimeWarning: Mean of empty slice.\n",
      "  warnings.warn(\"Mean of empty slice.\", RuntimeWarning)\n",
      "/home/zsherman/anaconda3/lib/python3.5/site-packages/numpy/core/_methods.py:70: RuntimeWarning: invalid value encountered in double_scalars\n",
      "  ret = ret.dtype.type(ret / rcount)\n",
      "/home/zsherman/.local/lib/python3.5/site-packages/pyart/core/wind_profile.py:86: RuntimeWarning: invalid value encountered in less\n",
      "  direction[direction < 0] += 360\n"
     ]
    },
    {
     "name": "stdout",
     "output_type": "stream",
     "text": [
      "max height 12245.4791399  meters\n",
      "min height 0.0  meters\n",
      "max height 12245.4791399  meters\n",
      "12245.4791399\n"
     ]
    },
    {
     "name": "stderr",
     "output_type": "stream",
     "text": [
      "/home/zsherman/anaconda3/lib/python3.5/site-packages/ipykernel/__main__.py:89: MaskedArrayFutureWarning: setting an item on a masked array which has a shared mask will not copy the mask and also change the original mask array in the future.\n",
      "Check the NumPy 1.11 release notes for more information.\n",
      "/home/zsherman/anaconda3/lib/python3.5/site-packages/numpy/core/_methods.py:59: RuntimeWarning: Mean of empty slice.\n",
      "  warnings.warn(\"Mean of empty slice.\", RuntimeWarning)\n",
      "/home/zsherman/anaconda3/lib/python3.5/site-packages/numpy/core/_methods.py:70: RuntimeWarning: invalid value encountered in double_scalars\n",
      "  ret = ret.dtype.type(ret / rcount)\n",
      "/home/zsherman/.local/lib/python3.5/site-packages/pyart/core/wind_profile.py:86: RuntimeWarning: invalid value encountered in less\n",
      "  direction[direction < 0] += 360\n"
     ]
    },
    {
     "name": "stdout",
     "output_type": "stream",
     "text": [
      "max height 12236.1902379  meters\n",
      "min height 0.0  meters\n",
      "max height 12236.1902379  meters\n",
      "12236.1902379\n"
     ]
    },
    {
     "name": "stderr",
     "output_type": "stream",
     "text": [
      "/home/zsherman/anaconda3/lib/python3.5/site-packages/ipykernel/__main__.py:89: MaskedArrayFutureWarning: setting an item on a masked array which has a shared mask will not copy the mask and also change the original mask array in the future.\n",
      "Check the NumPy 1.11 release notes for more information.\n",
      "/home/zsherman/anaconda3/lib/python3.5/site-packages/numpy/core/_methods.py:59: RuntimeWarning: Mean of empty slice.\n",
      "  warnings.warn(\"Mean of empty slice.\", RuntimeWarning)\n",
      "/home/zsherman/anaconda3/lib/python3.5/site-packages/numpy/core/_methods.py:70: RuntimeWarning: invalid value encountered in double_scalars\n",
      "  ret = ret.dtype.type(ret / rcount)\n",
      "/home/zsherman/.local/lib/python3.5/site-packages/pyart/core/wind_profile.py:86: RuntimeWarning: invalid value encountered in less\n",
      "  direction[direction < 0] += 360\n"
     ]
    },
    {
     "name": "stdout",
     "output_type": "stream",
     "text": [
      "max height 12240.833133  meters\n",
      "min height 0.0  meters\n",
      "max height 12240.833133  meters\n",
      "12240.833133\n"
     ]
    },
    {
     "name": "stderr",
     "output_type": "stream",
     "text": [
      "/home/zsherman/anaconda3/lib/python3.5/site-packages/ipykernel/__main__.py:89: MaskedArrayFutureWarning: setting an item on a masked array which has a shared mask will not copy the mask and also change the original mask array in the future.\n",
      "Check the NumPy 1.11 release notes for more information.\n",
      "/home/zsherman/anaconda3/lib/python3.5/site-packages/numpy/core/_methods.py:59: RuntimeWarning: Mean of empty slice.\n",
      "  warnings.warn(\"Mean of empty slice.\", RuntimeWarning)\n",
      "/home/zsherman/anaconda3/lib/python3.5/site-packages/numpy/core/_methods.py:70: RuntimeWarning: invalid value encountered in double_scalars\n",
      "  ret = ret.dtype.type(ret / rcount)\n",
      "/home/zsherman/.local/lib/python3.5/site-packages/pyart/core/wind_profile.py:86: RuntimeWarning: invalid value encountered in less\n",
      "  direction[direction < 0] += 360\n"
     ]
    },
    {
     "name": "stdout",
     "output_type": "stream",
     "text": [
      "max height 12240.833133  meters\n",
      "min height 0.0  meters\n",
      "max height 12240.833133  meters\n",
      "12240.833133\n"
     ]
    },
    {
     "name": "stderr",
     "output_type": "stream",
     "text": [
      "/home/zsherman/anaconda3/lib/python3.5/site-packages/ipykernel/__main__.py:89: MaskedArrayFutureWarning: setting an item on a masked array which has a shared mask will not copy the mask and also change the original mask array in the future.\n",
      "Check the NumPy 1.11 release notes for more information.\n",
      "/home/zsherman/anaconda3/lib/python3.5/site-packages/numpy/core/_methods.py:59: RuntimeWarning: Mean of empty slice.\n",
      "  warnings.warn(\"Mean of empty slice.\", RuntimeWarning)\n",
      "/home/zsherman/anaconda3/lib/python3.5/site-packages/numpy/core/_methods.py:70: RuntimeWarning: invalid value encountered in double_scalars\n",
      "  ret = ret.dtype.type(ret / rcount)\n",
      "/home/zsherman/.local/lib/python3.5/site-packages/pyart/core/wind_profile.py:86: RuntimeWarning: invalid value encountered in less\n",
      "  direction[direction < 0] += 360\n"
     ]
    },
    {
     "name": "stdout",
     "output_type": "stream",
     "text": [
      "max height 12236.1902379  meters\n",
      "min height 0.0  meters\n",
      "max height 12236.1902379  meters\n",
      "12236.1902379\n"
     ]
    },
    {
     "name": "stderr",
     "output_type": "stream",
     "text": [
      "/home/zsherman/anaconda3/lib/python3.5/site-packages/ipykernel/__main__.py:89: MaskedArrayFutureWarning: setting an item on a masked array which has a shared mask will not copy the mask and also change the original mask array in the future.\n",
      "Check the NumPy 1.11 release notes for more information.\n",
      "/home/zsherman/anaconda3/lib/python3.5/site-packages/numpy/core/_methods.py:59: RuntimeWarning: Mean of empty slice.\n",
      "  warnings.warn(\"Mean of empty slice.\", RuntimeWarning)\n",
      "/home/zsherman/anaconda3/lib/python3.5/site-packages/numpy/core/_methods.py:70: RuntimeWarning: invalid value encountered in double_scalars\n",
      "  ret = ret.dtype.type(ret / rcount)\n",
      "/home/zsherman/.local/lib/python3.5/site-packages/pyart/core/wind_profile.py:86: RuntimeWarning: invalid value encountered in less\n",
      "  direction[direction < 0] += 360\n"
     ]
    },
    {
     "name": "stdout",
     "output_type": "stream",
     "text": [
      "max height 12245.4791399  meters\n",
      "min height 0.0  meters\n",
      "max height 12245.4791399  meters\n",
      "12245.4791399\n"
     ]
    },
    {
     "name": "stderr",
     "output_type": "stream",
     "text": [
      "/home/zsherman/anaconda3/lib/python3.5/site-packages/ipykernel/__main__.py:89: MaskedArrayFutureWarning: setting an item on a masked array which has a shared mask will not copy the mask and also change the original mask array in the future.\n",
      "Check the NumPy 1.11 release notes for more information.\n",
      "/home/zsherman/anaconda3/lib/python3.5/site-packages/numpy/core/_methods.py:59: RuntimeWarning: Mean of empty slice.\n",
      "  warnings.warn(\"Mean of empty slice.\", RuntimeWarning)\n",
      "/home/zsherman/anaconda3/lib/python3.5/site-packages/numpy/core/_methods.py:70: RuntimeWarning: invalid value encountered in double_scalars\n",
      "  ret = ret.dtype.type(ret / rcount)\n",
      "/home/zsherman/.local/lib/python3.5/site-packages/pyart/core/wind_profile.py:86: RuntimeWarning: invalid value encountered in less\n",
      "  direction[direction < 0] += 360\n"
     ]
    },
    {
     "name": "stdout",
     "output_type": "stream",
     "text": [
      "max height 12245.4791399  meters\n",
      "min height 0.0  meters\n",
      "max height 12245.4791399  meters\n",
      "12245.4791399\n"
     ]
    },
    {
     "name": "stderr",
     "output_type": "stream",
     "text": [
      "/home/zsherman/anaconda3/lib/python3.5/site-packages/ipykernel/__main__.py:89: MaskedArrayFutureWarning: setting an item on a masked array which has a shared mask will not copy the mask and also change the original mask array in the future.\n",
      "Check the NumPy 1.11 release notes for more information.\n",
      "/home/zsherman/anaconda3/lib/python3.5/site-packages/numpy/core/_methods.py:59: RuntimeWarning: Mean of empty slice.\n",
      "  warnings.warn(\"Mean of empty slice.\", RuntimeWarning)\n",
      "/home/zsherman/anaconda3/lib/python3.5/site-packages/numpy/core/_methods.py:70: RuntimeWarning: invalid value encountered in double_scalars\n",
      "  ret = ret.dtype.type(ret / rcount)\n",
      "/home/zsherman/.local/lib/python3.5/site-packages/pyart/core/wind_profile.py:86: RuntimeWarning: invalid value encountered in less\n",
      "  direction[direction < 0] += 360\n"
     ]
    },
    {
     "name": "stdout",
     "output_type": "stream",
     "text": [
      "max height 12245.4791399  meters\n",
      "min height 0.0  meters\n",
      "max height 12245.4791399  meters\n",
      "12245.4791399\n"
     ]
    },
    {
     "name": "stderr",
     "output_type": "stream",
     "text": [
      "/home/zsherman/anaconda3/lib/python3.5/site-packages/ipykernel/__main__.py:89: MaskedArrayFutureWarning: setting an item on a masked array which has a shared mask will not copy the mask and also change the original mask array in the future.\n",
      "Check the NumPy 1.11 release notes for more information.\n",
      "/home/zsherman/anaconda3/lib/python3.5/site-packages/numpy/core/_methods.py:59: RuntimeWarning: Mean of empty slice.\n",
      "  warnings.warn(\"Mean of empty slice.\", RuntimeWarning)\n",
      "/home/zsherman/anaconda3/lib/python3.5/site-packages/numpy/core/_methods.py:70: RuntimeWarning: invalid value encountered in double_scalars\n",
      "  ret = ret.dtype.type(ret / rcount)\n",
      "/home/zsherman/.local/lib/python3.5/site-packages/pyart/core/wind_profile.py:86: RuntimeWarning: invalid value encountered in less\n",
      "  direction[direction < 0] += 360\n"
     ]
    },
    {
     "name": "stdout",
     "output_type": "stream",
     "text": [
      "max height 12245.4791399  meters\n",
      "min height 0.0  meters\n",
      "max height 12245.4791399  meters\n",
      "12245.4791399\n"
     ]
    },
    {
     "name": "stderr",
     "output_type": "stream",
     "text": [
      "/home/zsherman/anaconda3/lib/python3.5/site-packages/ipykernel/__main__.py:89: MaskedArrayFutureWarning: setting an item on a masked array which has a shared mask will not copy the mask and also change the original mask array in the future.\n",
      "Check the NumPy 1.11 release notes for more information.\n",
      "/home/zsherman/anaconda3/lib/python3.5/site-packages/numpy/core/_methods.py:59: RuntimeWarning: Mean of empty slice.\n",
      "  warnings.warn(\"Mean of empty slice.\", RuntimeWarning)\n",
      "/home/zsherman/anaconda3/lib/python3.5/site-packages/numpy/core/_methods.py:70: RuntimeWarning: invalid value encountered in double_scalars\n",
      "  ret = ret.dtype.type(ret / rcount)\n",
      "/home/zsherman/.local/lib/python3.5/site-packages/pyart/core/wind_profile.py:86: RuntimeWarning: invalid value encountered in less\n",
      "  direction[direction < 0] += 360\n"
     ]
    },
    {
     "name": "stdout",
     "output_type": "stream",
     "text": [
      "max height 12245.4791399  meters\n",
      "min height 0.0  meters\n",
      "max height 12245.4791399  meters\n",
      "12245.4791399\n"
     ]
    },
    {
     "name": "stderr",
     "output_type": "stream",
     "text": [
      "/home/zsherman/anaconda3/lib/python3.5/site-packages/ipykernel/__main__.py:89: MaskedArrayFutureWarning: setting an item on a masked array which has a shared mask will not copy the mask and also change the original mask array in the future.\n",
      "Check the NumPy 1.11 release notes for more information.\n",
      "/home/zsherman/anaconda3/lib/python3.5/site-packages/numpy/core/_methods.py:59: RuntimeWarning: Mean of empty slice.\n",
      "  warnings.warn(\"Mean of empty slice.\", RuntimeWarning)\n",
      "/home/zsherman/anaconda3/lib/python3.5/site-packages/numpy/core/_methods.py:70: RuntimeWarning: invalid value encountered in double_scalars\n",
      "  ret = ret.dtype.type(ret / rcount)\n",
      "/home/zsherman/.local/lib/python3.5/site-packages/pyart/core/wind_profile.py:86: RuntimeWarning: invalid value encountered in less\n",
      "  direction[direction < 0] += 360\n"
     ]
    },
    {
     "name": "stdout",
     "output_type": "stream",
     "text": [
      "max height 12238.5116996  meters\n",
      "min height 0.0  meters\n",
      "max height 12238.5116996  meters\n",
      "12238.5116996\n"
     ]
    },
    {
     "name": "stderr",
     "output_type": "stream",
     "text": [
      "/home/zsherman/anaconda3/lib/python3.5/site-packages/ipykernel/__main__.py:89: MaskedArrayFutureWarning: setting an item on a masked array which has a shared mask will not copy the mask and also change the original mask array in the future.\n",
      "Check the NumPy 1.11 release notes for more information.\n",
      "/home/zsherman/anaconda3/lib/python3.5/site-packages/numpy/core/_methods.py:59: RuntimeWarning: Mean of empty slice.\n",
      "  warnings.warn(\"Mean of empty slice.\", RuntimeWarning)\n",
      "/home/zsherman/anaconda3/lib/python3.5/site-packages/numpy/core/_methods.py:70: RuntimeWarning: invalid value encountered in double_scalars\n",
      "  ret = ret.dtype.type(ret / rcount)\n",
      "/home/zsherman/.local/lib/python3.5/site-packages/pyart/core/wind_profile.py:86: RuntimeWarning: invalid value encountered in less\n",
      "  direction[direction < 0] += 360\n"
     ]
    },
    {
     "name": "stdout",
     "output_type": "stream",
     "text": [
      "max height 12238.5116996  meters\n",
      "min height 0.0  meters\n",
      "max height 12238.5116996  meters\n",
      "12238.5116996\n"
     ]
    },
    {
     "name": "stderr",
     "output_type": "stream",
     "text": [
      "/home/zsherman/anaconda3/lib/python3.5/site-packages/ipykernel/__main__.py:89: MaskedArrayFutureWarning: setting an item on a masked array which has a shared mask will not copy the mask and also change the original mask array in the future.\n",
      "Check the NumPy 1.11 release notes for more information.\n",
      "/home/zsherman/anaconda3/lib/python3.5/site-packages/numpy/core/_methods.py:59: RuntimeWarning: Mean of empty slice.\n",
      "  warnings.warn(\"Mean of empty slice.\", RuntimeWarning)\n",
      "/home/zsherman/anaconda3/lib/python3.5/site-packages/numpy/core/_methods.py:70: RuntimeWarning: invalid value encountered in double_scalars\n",
      "  ret = ret.dtype.type(ret / rcount)\n",
      "/home/zsherman/.local/lib/python3.5/site-packages/pyart/core/wind_profile.py:86: RuntimeWarning: invalid value encountered in less\n",
      "  direction[direction < 0] += 360\n"
     ]
    },
    {
     "name": "stdout",
     "output_type": "stream",
     "text": [
      "max height 12275.6641234  meters\n",
      "min height 0.0  meters\n",
      "max height 12275.6641234  meters\n",
      "12275.6641234\n"
     ]
    },
    {
     "name": "stderr",
     "output_type": "stream",
     "text": [
      "/home/zsherman/anaconda3/lib/python3.5/site-packages/ipykernel/__main__.py:89: MaskedArrayFutureWarning: setting an item on a masked array which has a shared mask will not copy the mask and also change the original mask array in the future.\n",
      "Check the NumPy 1.11 release notes for more information.\n",
      "/home/zsherman/anaconda3/lib/python3.5/site-packages/numpy/core/_methods.py:59: RuntimeWarning: Mean of empty slice.\n",
      "  warnings.warn(\"Mean of empty slice.\", RuntimeWarning)\n",
      "/home/zsherman/anaconda3/lib/python3.5/site-packages/numpy/core/_methods.py:70: RuntimeWarning: invalid value encountered in double_scalars\n",
      "  ret = ret.dtype.type(ret / rcount)\n",
      "/home/zsherman/.local/lib/python3.5/site-packages/pyart/core/wind_profile.py:86: RuntimeWarning: invalid value encountered in less\n",
      "  direction[direction < 0] += 360\n"
     ]
    },
    {
     "name": "stdout",
     "output_type": "stream",
     "text": [
      "max height 12240.833133  meters\n",
      "min height 0.0  meters\n",
      "max height 12240.833133  meters\n",
      "12240.833133\n"
     ]
    },
    {
     "name": "stderr",
     "output_type": "stream",
     "text": [
      "/home/zsherman/anaconda3/lib/python3.5/site-packages/ipykernel/__main__.py:89: MaskedArrayFutureWarning: setting an item on a masked array which has a shared mask will not copy the mask and also change the original mask array in the future.\n",
      "Check the NumPy 1.11 release notes for more information.\n",
      "/home/zsherman/anaconda3/lib/python3.5/site-packages/numpy/core/_methods.py:59: RuntimeWarning: Mean of empty slice.\n",
      "  warnings.warn(\"Mean of empty slice.\", RuntimeWarning)\n",
      "/home/zsherman/anaconda3/lib/python3.5/site-packages/numpy/core/_methods.py:70: RuntimeWarning: invalid value encountered in double_scalars\n",
      "  ret = ret.dtype.type(ret / rcount)\n",
      "/home/zsherman/.local/lib/python3.5/site-packages/pyart/core/wind_profile.py:86: RuntimeWarning: invalid value encountered in less\n",
      "  direction[direction < 0] += 360\n"
     ]
    },
    {
     "name": "stdout",
     "output_type": "stream",
     "text": [
      "max height 12245.4791399  meters\n",
      "min height 0.0  meters\n",
      "max height 12245.4791399  meters\n",
      "12245.4791399\n"
     ]
    },
    {
     "name": "stderr",
     "output_type": "stream",
     "text": [
      "/home/zsherman/anaconda3/lib/python3.5/site-packages/ipykernel/__main__.py:89: MaskedArrayFutureWarning: setting an item on a masked array which has a shared mask will not copy the mask and also change the original mask array in the future.\n",
      "Check the NumPy 1.11 release notes for more information.\n",
      "/home/zsherman/anaconda3/lib/python3.5/site-packages/numpy/core/_methods.py:59: RuntimeWarning: Mean of empty slice.\n",
      "  warnings.warn(\"Mean of empty slice.\", RuntimeWarning)\n",
      "/home/zsherman/anaconda3/lib/python3.5/site-packages/numpy/core/_methods.py:70: RuntimeWarning: invalid value encountered in double_scalars\n",
      "  ret = ret.dtype.type(ret / rcount)\n",
      "/home/zsherman/.local/lib/python3.5/site-packages/pyart/core/wind_profile.py:86: RuntimeWarning: invalid value encountered in less\n",
      "  direction[direction < 0] += 360\n"
     ]
    },
    {
     "name": "stdout",
     "output_type": "stream",
     "text": [
      "max height 12245.4791399  meters\n",
      "min height 0.0  meters\n",
      "max height 12245.4791399  meters\n",
      "12245.4791399\n"
     ]
    },
    {
     "name": "stderr",
     "output_type": "stream",
     "text": [
      "/home/zsherman/anaconda3/lib/python3.5/site-packages/ipykernel/__main__.py:89: MaskedArrayFutureWarning: setting an item on a masked array which has a shared mask will not copy the mask and also change the original mask array in the future.\n",
      "Check the NumPy 1.11 release notes for more information.\n",
      "/home/zsherman/anaconda3/lib/python3.5/site-packages/numpy/core/_methods.py:59: RuntimeWarning: Mean of empty slice.\n",
      "  warnings.warn(\"Mean of empty slice.\", RuntimeWarning)\n",
      "/home/zsherman/anaconda3/lib/python3.5/site-packages/numpy/core/_methods.py:70: RuntimeWarning: invalid value encountered in double_scalars\n",
      "  ret = ret.dtype.type(ret / rcount)\n",
      "/home/zsherman/.local/lib/python3.5/site-packages/pyart/core/wind_profile.py:86: RuntimeWarning: invalid value encountered in less\n",
      "  direction[direction < 0] += 360\n"
     ]
    },
    {
     "name": "stdout",
     "output_type": "stream",
     "text": [
      "max height 12236.1902379  meters\n",
      "min height 0.0  meters\n",
      "max height 12236.1902379  meters\n",
      "12236.1902379\n"
     ]
    },
    {
     "name": "stderr",
     "output_type": "stream",
     "text": [
      "/home/zsherman/anaconda3/lib/python3.5/site-packages/ipykernel/__main__.py:89: MaskedArrayFutureWarning: setting an item on a masked array which has a shared mask will not copy the mask and also change the original mask array in the future.\n",
      "Check the NumPy 1.11 release notes for more information.\n",
      "/home/zsherman/anaconda3/lib/python3.5/site-packages/numpy/core/_methods.py:59: RuntimeWarning: Mean of empty slice.\n",
      "  warnings.warn(\"Mean of empty slice.\", RuntimeWarning)\n",
      "/home/zsherman/anaconda3/lib/python3.5/site-packages/numpy/core/_methods.py:70: RuntimeWarning: invalid value encountered in double_scalars\n",
      "  ret = ret.dtype.type(ret / rcount)\n",
      "/home/zsherman/.local/lib/python3.5/site-packages/pyart/core/wind_profile.py:86: RuntimeWarning: invalid value encountered in less\n",
      "  direction[direction < 0] += 360\n"
     ]
    },
    {
     "name": "stdout",
     "output_type": "stream",
     "text": [
      "max height 12240.833133  meters\n",
      "min height 0.0  meters\n",
      "max height 12240.833133  meters\n",
      "12240.833133\n"
     ]
    },
    {
     "name": "stderr",
     "output_type": "stream",
     "text": [
      "/home/zsherman/anaconda3/lib/python3.5/site-packages/ipykernel/__main__.py:89: MaskedArrayFutureWarning: setting an item on a masked array which has a shared mask will not copy the mask and also change the original mask array in the future.\n",
      "Check the NumPy 1.11 release notes for more information.\n",
      "/home/zsherman/anaconda3/lib/python3.5/site-packages/numpy/core/_methods.py:59: RuntimeWarning: Mean of empty slice.\n",
      "  warnings.warn(\"Mean of empty slice.\", RuntimeWarning)\n",
      "/home/zsherman/anaconda3/lib/python3.5/site-packages/numpy/core/_methods.py:70: RuntimeWarning: invalid value encountered in double_scalars\n",
      "  ret = ret.dtype.type(ret / rcount)\n",
      "/home/zsherman/.local/lib/python3.5/site-packages/pyart/core/wind_profile.py:86: RuntimeWarning: invalid value encountered in less\n",
      "  direction[direction < 0] += 360\n"
     ]
    },
    {
     "name": "stdout",
     "output_type": "stream",
     "text": [
      "max height 12245.4791399  meters\n",
      "min height 0.0  meters\n",
      "max height 12245.4791399  meters\n",
      "12245.4791399\n"
     ]
    },
    {
     "name": "stderr",
     "output_type": "stream",
     "text": [
      "/home/zsherman/anaconda3/lib/python3.5/site-packages/ipykernel/__main__.py:89: MaskedArrayFutureWarning: setting an item on a masked array which has a shared mask will not copy the mask and also change the original mask array in the future.\n",
      "Check the NumPy 1.11 release notes for more information.\n",
      "/home/zsherman/anaconda3/lib/python3.5/site-packages/numpy/core/_methods.py:59: RuntimeWarning: Mean of empty slice.\n",
      "  warnings.warn(\"Mean of empty slice.\", RuntimeWarning)\n",
      "/home/zsherman/anaconda3/lib/python3.5/site-packages/numpy/core/_methods.py:70: RuntimeWarning: invalid value encountered in double_scalars\n",
      "  ret = ret.dtype.type(ret / rcount)\n",
      "/home/zsherman/.local/lib/python3.5/site-packages/pyart/core/wind_profile.py:86: RuntimeWarning: invalid value encountered in less\n",
      "  direction[direction < 0] += 360\n"
     ]
    },
    {
     "name": "stdout",
     "output_type": "stream",
     "text": [
      "max height 12245.4791399  meters\n",
      "min height 0.0  meters\n",
      "max height 12245.4791399  meters\n",
      "12245.4791399\n"
     ]
    },
    {
     "name": "stderr",
     "output_type": "stream",
     "text": [
      "/home/zsherman/anaconda3/lib/python3.5/site-packages/ipykernel/__main__.py:89: MaskedArrayFutureWarning: setting an item on a masked array which has a shared mask will not copy the mask and also change the original mask array in the future.\n",
      "Check the NumPy 1.11 release notes for more information.\n",
      "/home/zsherman/anaconda3/lib/python3.5/site-packages/numpy/core/_methods.py:59: RuntimeWarning: Mean of empty slice.\n",
      "  warnings.warn(\"Mean of empty slice.\", RuntimeWarning)\n",
      "/home/zsherman/anaconda3/lib/python3.5/site-packages/numpy/core/_methods.py:70: RuntimeWarning: invalid value encountered in double_scalars\n",
      "  ret = ret.dtype.type(ret / rcount)\n",
      "/home/zsherman/.local/lib/python3.5/site-packages/pyart/core/wind_profile.py:86: RuntimeWarning: invalid value encountered in less\n",
      "  direction[direction < 0] += 360\n"
     ]
    },
    {
     "name": "stdout",
     "output_type": "stream",
     "text": [
      "max height 12245.4791399  meters\n",
      "min height 0.0  meters\n",
      "max height 12245.4791399  meters\n",
      "12245.4791399\n"
     ]
    },
    {
     "name": "stderr",
     "output_type": "stream",
     "text": [
      "/home/zsherman/anaconda3/lib/python3.5/site-packages/ipykernel/__main__.py:89: MaskedArrayFutureWarning: setting an item on a masked array which has a shared mask will not copy the mask and also change the original mask array in the future.\n",
      "Check the NumPy 1.11 release notes for more information.\n",
      "/home/zsherman/anaconda3/lib/python3.5/site-packages/numpy/core/_methods.py:59: RuntimeWarning: Mean of empty slice.\n",
      "  warnings.warn(\"Mean of empty slice.\", RuntimeWarning)\n",
      "/home/zsherman/anaconda3/lib/python3.5/site-packages/numpy/core/_methods.py:70: RuntimeWarning: invalid value encountered in double_scalars\n",
      "  ret = ret.dtype.type(ret / rcount)\n",
      "/home/zsherman/.local/lib/python3.5/site-packages/pyart/core/wind_profile.py:86: RuntimeWarning: invalid value encountered in less\n",
      "  direction[direction < 0] += 360\n"
     ]
    },
    {
     "name": "stdout",
     "output_type": "stream",
     "text": [
      "max height 12245.4791399  meters\n",
      "min height 0.0  meters\n",
      "max height 12245.4791399  meters\n",
      "12245.4791399\n"
     ]
    },
    {
     "name": "stderr",
     "output_type": "stream",
     "text": [
      "/home/zsherman/anaconda3/lib/python3.5/site-packages/ipykernel/__main__.py:89: MaskedArrayFutureWarning: setting an item on a masked array which has a shared mask will not copy the mask and also change the original mask array in the future.\n",
      "Check the NumPy 1.11 release notes for more information.\n",
      "/home/zsherman/anaconda3/lib/python3.5/site-packages/numpy/core/_methods.py:59: RuntimeWarning: Mean of empty slice.\n",
      "  warnings.warn(\"Mean of empty slice.\", RuntimeWarning)\n",
      "/home/zsherman/anaconda3/lib/python3.5/site-packages/numpy/core/_methods.py:70: RuntimeWarning: invalid value encountered in double_scalars\n",
      "  ret = ret.dtype.type(ret / rcount)\n",
      "/home/zsherman/.local/lib/python3.5/site-packages/pyart/core/wind_profile.py:86: RuntimeWarning: invalid value encountered in less\n",
      "  direction[direction < 0] += 360\n"
     ]
    },
    {
     "name": "stdout",
     "output_type": "stream",
     "text": [
      "max height 12240.833133  meters\n",
      "min height 0.0  meters\n",
      "max height 12240.833133  meters\n",
      "12240.833133\n"
     ]
    },
    {
     "name": "stderr",
     "output_type": "stream",
     "text": [
      "/home/zsherman/anaconda3/lib/python3.5/site-packages/ipykernel/__main__.py:89: MaskedArrayFutureWarning: setting an item on a masked array which has a shared mask will not copy the mask and also change the original mask array in the future.\n",
      "Check the NumPy 1.11 release notes for more information.\n",
      "/home/zsherman/anaconda3/lib/python3.5/site-packages/numpy/core/_methods.py:59: RuntimeWarning: Mean of empty slice.\n",
      "  warnings.warn(\"Mean of empty slice.\", RuntimeWarning)\n",
      "/home/zsherman/anaconda3/lib/python3.5/site-packages/numpy/core/_methods.py:70: RuntimeWarning: invalid value encountered in double_scalars\n",
      "  ret = ret.dtype.type(ret / rcount)\n",
      "/home/zsherman/.local/lib/python3.5/site-packages/pyart/core/wind_profile.py:86: RuntimeWarning: invalid value encountered in less\n",
      "  direction[direction < 0] += 360\n"
     ]
    },
    {
     "name": "stdout",
     "output_type": "stream",
     "text": [
      "max height 12245.4791399  meters\n",
      "min height 0.0  meters\n",
      "max height 12245.4791399  meters\n",
      "12245.4791399\n"
     ]
    },
    {
     "name": "stderr",
     "output_type": "stream",
     "text": [
      "/home/zsherman/anaconda3/lib/python3.5/site-packages/ipykernel/__main__.py:89: MaskedArrayFutureWarning: setting an item on a masked array which has a shared mask will not copy the mask and also change the original mask array in the future.\n",
      "Check the NumPy 1.11 release notes for more information.\n",
      "/home/zsherman/anaconda3/lib/python3.5/site-packages/numpy/core/_methods.py:59: RuntimeWarning: Mean of empty slice.\n",
      "  warnings.warn(\"Mean of empty slice.\", RuntimeWarning)\n",
      "/home/zsherman/anaconda3/lib/python3.5/site-packages/numpy/core/_methods.py:70: RuntimeWarning: invalid value encountered in double_scalars\n",
      "  ret = ret.dtype.type(ret / rcount)\n",
      "/home/zsherman/.local/lib/python3.5/site-packages/pyart/core/wind_profile.py:86: RuntimeWarning: invalid value encountered in less\n",
      "  direction[direction < 0] += 360\n"
     ]
    },
    {
     "name": "stdout",
     "output_type": "stream",
     "text": [
      "max height 12236.1902379  meters\n",
      "min height 0.0  meters\n",
      "max height 12236.1902379  meters\n",
      "12236.1902379\n"
     ]
    },
    {
     "name": "stderr",
     "output_type": "stream",
     "text": [
      "/home/zsherman/anaconda3/lib/python3.5/site-packages/ipykernel/__main__.py:89: MaskedArrayFutureWarning: setting an item on a masked array which has a shared mask will not copy the mask and also change the original mask array in the future.\n",
      "Check the NumPy 1.11 release notes for more information.\n",
      "/home/zsherman/anaconda3/lib/python3.5/site-packages/numpy/core/_methods.py:59: RuntimeWarning: Mean of empty slice.\n",
      "  warnings.warn(\"Mean of empty slice.\", RuntimeWarning)\n",
      "/home/zsherman/anaconda3/lib/python3.5/site-packages/numpy/core/_methods.py:70: RuntimeWarning: invalid value encountered in double_scalars\n",
      "  ret = ret.dtype.type(ret / rcount)\n",
      "/home/zsherman/.local/lib/python3.5/site-packages/pyart/core/wind_profile.py:86: RuntimeWarning: invalid value encountered in less\n",
      "  direction[direction < 0] += 360\n"
     ]
    },
    {
     "name": "stdout",
     "output_type": "stream",
     "text": [
      "max height 12231.5456165  meters\n",
      "min height 0.0  meters\n",
      "max height 12231.5456165  meters\n",
      "12231.5456165\n"
     ]
    },
    {
     "name": "stderr",
     "output_type": "stream",
     "text": [
      "/home/zsherman/anaconda3/lib/python3.5/site-packages/ipykernel/__main__.py:89: MaskedArrayFutureWarning: setting an item on a masked array which has a shared mask will not copy the mask and also change the original mask array in the future.\n",
      "Check the NumPy 1.11 release notes for more information.\n",
      "/home/zsherman/anaconda3/lib/python3.5/site-packages/numpy/core/_methods.py:59: RuntimeWarning: Mean of empty slice.\n",
      "  warnings.warn(\"Mean of empty slice.\", RuntimeWarning)\n",
      "/home/zsherman/anaconda3/lib/python3.5/site-packages/numpy/core/_methods.py:70: RuntimeWarning: invalid value encountered in double_scalars\n",
      "  ret = ret.dtype.type(ret / rcount)\n",
      "/home/zsherman/.local/lib/python3.5/site-packages/pyart/core/wind_profile.py:86: RuntimeWarning: invalid value encountered in less\n",
      "  direction[direction < 0] += 360\n"
     ]
    },
    {
     "name": "stdout",
     "output_type": "stream",
     "text": [
      "max height 12243.1561507  meters\n",
      "min height 0.0  meters\n",
      "max height 12243.1561507  meters\n",
      "12243.1561507\n"
     ]
    },
    {
     "name": "stderr",
     "output_type": "stream",
     "text": [
      "/home/zsherman/anaconda3/lib/python3.5/site-packages/ipykernel/__main__.py:89: MaskedArrayFutureWarning: setting an item on a masked array which has a shared mask will not copy the mask and also change the original mask array in the future.\n",
      "Check the NumPy 1.11 release notes for more information.\n",
      "/home/zsherman/anaconda3/lib/python3.5/site-packages/numpy/core/_methods.py:59: RuntimeWarning: Mean of empty slice.\n",
      "  warnings.warn(\"Mean of empty slice.\", RuntimeWarning)\n",
      "/home/zsherman/anaconda3/lib/python3.5/site-packages/numpy/core/_methods.py:70: RuntimeWarning: invalid value encountered in double_scalars\n",
      "  ret = ret.dtype.type(ret / rcount)\n",
      "/home/zsherman/.local/lib/python3.5/site-packages/pyart/core/wind_profile.py:86: RuntimeWarning: invalid value encountered in less\n",
      "  direction[direction < 0] += 360\n"
     ]
    },
    {
     "name": "stdout",
     "output_type": "stream",
     "text": [
      "max height 12245.4791399  meters\n",
      "min height 0.0  meters\n",
      "max height 12245.4791399  meters\n",
      "12245.4791399\n"
     ]
    },
    {
     "name": "stderr",
     "output_type": "stream",
     "text": [
      "/home/zsherman/anaconda3/lib/python3.5/site-packages/ipykernel/__main__.py:89: MaskedArrayFutureWarning: setting an item on a masked array which has a shared mask will not copy the mask and also change the original mask array in the future.\n",
      "Check the NumPy 1.11 release notes for more information.\n",
      "/home/zsherman/anaconda3/lib/python3.5/site-packages/numpy/core/_methods.py:59: RuntimeWarning: Mean of empty slice.\n",
      "  warnings.warn(\"Mean of empty slice.\", RuntimeWarning)\n",
      "/home/zsherman/anaconda3/lib/python3.5/site-packages/numpy/core/_methods.py:70: RuntimeWarning: invalid value encountered in double_scalars\n",
      "  ret = ret.dtype.type(ret / rcount)\n",
      "/home/zsherman/.local/lib/python3.5/site-packages/pyart/core/wind_profile.py:86: RuntimeWarning: invalid value encountered in less\n",
      "  direction[direction < 0] += 360\n"
     ]
    },
    {
     "name": "stdout",
     "output_type": "stream",
     "text": [
      "max height 12245.4791399  meters\n",
      "min height 0.0  meters\n",
      "max height 12245.4791399  meters\n",
      "12245.4791399\n"
     ]
    },
    {
     "name": "stderr",
     "output_type": "stream",
     "text": [
      "/home/zsherman/anaconda3/lib/python3.5/site-packages/ipykernel/__main__.py:89: MaskedArrayFutureWarning: setting an item on a masked array which has a shared mask will not copy the mask and also change the original mask array in the future.\n",
      "Check the NumPy 1.11 release notes for more information.\n",
      "/home/zsherman/anaconda3/lib/python3.5/site-packages/numpy/core/_methods.py:59: RuntimeWarning: Mean of empty slice.\n",
      "  warnings.warn(\"Mean of empty slice.\", RuntimeWarning)\n",
      "/home/zsherman/anaconda3/lib/python3.5/site-packages/numpy/core/_methods.py:70: RuntimeWarning: invalid value encountered in double_scalars\n",
      "  ret = ret.dtype.type(ret / rcount)\n",
      "/home/zsherman/.local/lib/python3.5/site-packages/pyart/core/wind_profile.py:86: RuntimeWarning: invalid value encountered in less\n",
      "  direction[direction < 0] += 360\n"
     ]
    },
    {
     "name": "stdout",
     "output_type": "stream",
     "text": [
      "max height 12245.4791399  meters\n",
      "min height 0.0  meters\n",
      "max height 12245.4791399  meters\n",
      "12245.4791399\n"
     ]
    },
    {
     "name": "stderr",
     "output_type": "stream",
     "text": [
      "/home/zsherman/anaconda3/lib/python3.5/site-packages/ipykernel/__main__.py:89: MaskedArrayFutureWarning: setting an item on a masked array which has a shared mask will not copy the mask and also change the original mask array in the future.\n",
      "Check the NumPy 1.11 release notes for more information.\n",
      "/home/zsherman/anaconda3/lib/python3.5/site-packages/numpy/core/_methods.py:59: RuntimeWarning: Mean of empty slice.\n",
      "  warnings.warn(\"Mean of empty slice.\", RuntimeWarning)\n",
      "/home/zsherman/anaconda3/lib/python3.5/site-packages/numpy/core/_methods.py:70: RuntimeWarning: invalid value encountered in double_scalars\n",
      "  ret = ret.dtype.type(ret / rcount)\n",
      "/home/zsherman/.local/lib/python3.5/site-packages/pyart/core/wind_profile.py:86: RuntimeWarning: invalid value encountered in less\n",
      "  direction[direction < 0] += 360\n"
     ]
    },
    {
     "name": "stdout",
     "output_type": "stream",
     "text": [
      "max height 12233.8679414  meters\n",
      "min height 0.0  meters\n",
      "max height 12233.8679414  meters\n",
      "12233.8679414\n"
     ]
    },
    {
     "name": "stderr",
     "output_type": "stream",
     "text": [
      "/home/zsherman/anaconda3/lib/python3.5/site-packages/ipykernel/__main__.py:89: MaskedArrayFutureWarning: setting an item on a masked array which has a shared mask will not copy the mask and also change the original mask array in the future.\n",
      "Check the NumPy 1.11 release notes for more information.\n",
      "/home/zsherman/anaconda3/lib/python3.5/site-packages/numpy/core/_methods.py:59: RuntimeWarning: Mean of empty slice.\n",
      "  warnings.warn(\"Mean of empty slice.\", RuntimeWarning)\n",
      "/home/zsherman/anaconda3/lib/python3.5/site-packages/numpy/core/_methods.py:70: RuntimeWarning: invalid value encountered in double_scalars\n",
      "  ret = ret.dtype.type(ret / rcount)\n",
      "/home/zsherman/.local/lib/python3.5/site-packages/pyart/core/wind_profile.py:86: RuntimeWarning: invalid value encountered in less\n",
      "  direction[direction < 0] += 360\n"
     ]
    },
    {
     "name": "stdout",
     "output_type": "stream",
     "text": [
      "max height 12245.4791399  meters\n",
      "min height 0.0  meters\n",
      "max height 12245.4791399  meters\n",
      "12245.4791399\n"
     ]
    },
    {
     "name": "stderr",
     "output_type": "stream",
     "text": [
      "/home/zsherman/anaconda3/lib/python3.5/site-packages/ipykernel/__main__.py:89: MaskedArrayFutureWarning: setting an item on a masked array which has a shared mask will not copy the mask and also change the original mask array in the future.\n",
      "Check the NumPy 1.11 release notes for more information.\n",
      "/home/zsherman/anaconda3/lib/python3.5/site-packages/numpy/core/_methods.py:59: RuntimeWarning: Mean of empty slice.\n",
      "  warnings.warn(\"Mean of empty slice.\", RuntimeWarning)\n",
      "/home/zsherman/anaconda3/lib/python3.5/site-packages/numpy/core/_methods.py:70: RuntimeWarning: invalid value encountered in double_scalars\n",
      "  ret = ret.dtype.type(ret / rcount)\n",
      "/home/zsherman/.local/lib/python3.5/site-packages/pyart/core/wind_profile.py:86: RuntimeWarning: invalid value encountered in less\n",
      "  direction[direction < 0] += 360\n"
     ]
    },
    {
     "name": "stdout",
     "output_type": "stream",
     "text": [
      "max height 12250.1218078  meters\n",
      "min height 0.0  meters\n",
      "max height 12250.1218078  meters\n",
      "12250.1218078\n"
     ]
    },
    {
     "name": "stderr",
     "output_type": "stream",
     "text": [
      "/home/zsherman/anaconda3/lib/python3.5/site-packages/ipykernel/__main__.py:89: MaskedArrayFutureWarning: setting an item on a masked array which has a shared mask will not copy the mask and also change the original mask array in the future.\n",
      "Check the NumPy 1.11 release notes for more information.\n",
      "/home/zsherman/anaconda3/lib/python3.5/site-packages/numpy/core/_methods.py:59: RuntimeWarning: Mean of empty slice.\n",
      "  warnings.warn(\"Mean of empty slice.\", RuntimeWarning)\n",
      "/home/zsherman/anaconda3/lib/python3.5/site-packages/numpy/core/_methods.py:70: RuntimeWarning: invalid value encountered in double_scalars\n",
      "  ret = ret.dtype.type(ret / rcount)\n",
      "/home/zsherman/.local/lib/python3.5/site-packages/pyart/core/wind_profile.py:86: RuntimeWarning: invalid value encountered in less\n",
      "  direction[direction < 0] += 360\n"
     ]
    },
    {
     "name": "stdout",
     "output_type": "stream",
     "text": [
      "max height 12245.4791399  meters\n",
      "min height 0.0  meters\n",
      "max height 12245.4791399  meters\n",
      "12245.4791399\n"
     ]
    },
    {
     "name": "stderr",
     "output_type": "stream",
     "text": [
      "/home/zsherman/anaconda3/lib/python3.5/site-packages/ipykernel/__main__.py:89: MaskedArrayFutureWarning: setting an item on a masked array which has a shared mask will not copy the mask and also change the original mask array in the future.\n",
      "Check the NumPy 1.11 release notes for more information.\n",
      "/home/zsherman/anaconda3/lib/python3.5/site-packages/numpy/core/_methods.py:59: RuntimeWarning: Mean of empty slice.\n",
      "  warnings.warn(\"Mean of empty slice.\", RuntimeWarning)\n",
      "/home/zsherman/anaconda3/lib/python3.5/site-packages/numpy/core/_methods.py:70: RuntimeWarning: invalid value encountered in double_scalars\n",
      "  ret = ret.dtype.type(ret / rcount)\n",
      "/home/zsherman/.local/lib/python3.5/site-packages/pyart/core/wind_profile.py:86: RuntimeWarning: invalid value encountered in less\n",
      "  direction[direction < 0] += 360\n"
     ]
    },
    {
     "name": "stdout",
     "output_type": "stream",
     "text": [
      "max height 12250.1218078  meters\n",
      "min height 0.0  meters\n",
      "max height 12250.1218078  meters\n",
      "12250.1218078\n"
     ]
    },
    {
     "name": "stderr",
     "output_type": "stream",
     "text": [
      "/home/zsherman/anaconda3/lib/python3.5/site-packages/ipykernel/__main__.py:89: MaskedArrayFutureWarning: setting an item on a masked array which has a shared mask will not copy the mask and also change the original mask array in the future.\n",
      "Check the NumPy 1.11 release notes for more information.\n",
      "/home/zsherman/anaconda3/lib/python3.5/site-packages/numpy/core/_methods.py:59: RuntimeWarning: Mean of empty slice.\n",
      "  warnings.warn(\"Mean of empty slice.\", RuntimeWarning)\n",
      "/home/zsherman/anaconda3/lib/python3.5/site-packages/numpy/core/_methods.py:70: RuntimeWarning: invalid value encountered in double_scalars\n",
      "  ret = ret.dtype.type(ret / rcount)\n",
      "/home/zsherman/.local/lib/python3.5/site-packages/pyart/core/wind_profile.py:86: RuntimeWarning: invalid value encountered in less\n",
      "  direction[direction < 0] += 360\n"
     ]
    }
   ],
   "source": [
    "def animate(nframe):\n",
    "    plt.clf()\n",
    "    \n",
    "    radar = pyart.io.read(files[nframe])\n",
    "    radar_sweep = radar.extract_sweeps([13])\n",
    "    height = np.linspace(0, 13000, 201)\n",
    "    valid_ray_min = 16\n",
    "\n",
    "    # perform a VAD retrieval\n",
    "    vad_j = velocity_azimuth_display_jon(\n",
    "        radar_sweep, 'velocity', z_want=height, gatefilter=None,\n",
    "        valid_ray_min=valid_ray_min)\n",
    "    vad_s = velocity_azimuth_display_scott(\n",
    "        radar_sweep, 'velocity', z_want=height,\n",
    "        gatefilter=None)\n",
    "\n",
    "    ax1 = fig.add_subplot(131)\n",
    "    display = pyart.graph.RadarMapDisplay(radar_sweep)\n",
    "    display.plot_ppi_map('reflectivity', resolution='l',\n",
    "                         vmin=-8, vmax=64, mask_outside=False,\n",
    "                         cmap=pyart.graph.cm.NWSRef,\n",
    "                         lat_lines=None, ax=ax1, lon_lines=None)\n",
    "    display.basemap.drawcounties()\n",
    "\n",
    "    ax2 = fig.add_subplot(132)\n",
    "    plt.plot(vad_j.u_wind, vad_j.height, 'b-', label='U Wind')\n",
    "    plt.plot(vad_j.v_wind, vad_j.height, 'r-', label='V Wind')\n",
    "    plt.xlim(-25, 25)\n",
    "    plt.ylim(0, 13000)\n",
    "    plt.title(\"Jonathan's VAD\")\n",
    "    plt.legend()\n",
    "    \n",
    "    ax3 = fig.add_subplot(133)\n",
    "    plt.plot(vad_s.u_wind, vad_s.height, 'b-', label='U Wind')\n",
    "    plt.plot(vad_s.v_wind, vad_s.height, 'r-', label='V Wind')\n",
    "    plt.xlim(-25, 25)\n",
    "    plt.ylim(0, 13000)\n",
    "    plt.title(\"Scott's VAD\")\n",
    "    plt.legend()\n",
    "    \n",
    "    del radar\n",
    "    del radar_sweep\n",
    "\n",
    "fig = plt.figure(figsize=(22, 6))\n",
    "anim = animation.FuncAnimation(fig, animate,\n",
    "                               frames=len(files))\n",
    "anim.save('/home/zsherman/vad_compare_sweep13.gif', writer='imagemagick', fps=1)\n",
    "plt.close()"
   ]
  },
  {
   "cell_type": "code",
   "execution_count": 68,
   "metadata": {},
   "outputs": [],
   "source": [
    "ds = netCDF4.Dataset('/home/zsherman/dev/xsapr_sgp/data/sonde_05_2017/sgpsondewnpnC1.b1.20170519.052800.cdf')"
   ]
  },
  {
   "cell_type": "code",
   "execution_count": 69,
   "metadata": {
    "scrolled": true
   },
   "outputs": [
    {
     "data": {
      "text/plain": [
       "<class 'netCDF4._netCDF4.Dataset'>\n",
       "root group (NETCDF3_CLASSIC data model, file format NETCDF3):\n",
       "    command_line: sonde_ingest -s sgp -f C1\n",
       "    process_version: ingest-sonde-10.12-0.el6\n",
       "    ingest_software: ingest-sonde-10.12-0.el6\n",
       "    dod_version: sondewnpn-b1-2.1\n",
       "    site_id: sgp\n",
       "    facility_id: C1: Lamont, Oklahoma\n",
       "    data_level: b1\n",
       "    input_source: /data/collection/sgp/sgpsondeC1.00/good.2017MAY190528.parsed\n",
       "    resolution_description: The resolution field attributes refer to the number of significant digits relative to the decimal point that should be used in calculations. Using fewer digits might result in greater uncertainty. Using a larger number of digits should have no effect and thus is unnecessary. However, analyses based on differences in values with a larger number of significant digits than indicated could lead to erroneous results or misleading scientific conclusions.\n",
       "\n",
       "resolution for lat = 0.001\n",
       "resolution for lon = 0.001\n",
       "resolution for alt = 1\n",
       "    sample_int: 1.2 seconds\n",
       "    averaging_int: None\n",
       "    pressure_correction: 1.3\n",
       "    temperature_correction: -0.3\n",
       "    humidity_correction: -0.2\n",
       "    humidity_correction_2: 0.6\n",
       "    launch_mode: nominal mode\n",
       "    launch_status: \n",
       "/// SGPC1/MW41\n",
       "474646\n",
       "170519 0528\n",
       " L3914173 RS92-SGP\n",
       "130 532 517 058\n",
       "100\n",
       "/// /// ///\n",
       "/// /// ///\n",
       "/// /// ///\n",
       "/// /// ///\n",
       "495 001 268\n",
       "/// /// ///\n",
       "/// /// ///\n",
       "/// ///\n",
       "000 000 000\n",
       "\n",
       "\n",
       "    pressure_gc_sonde: 968.2\n",
       "    temperature_gc_sonde: 24.8\n",
       "    humidity_gc_sonde: 0.2\n",
       "    humidity_gc_sonde_2: -0.6\n",
       "    latitude_calculation: lat[k-1]+((v_wind[k]-v_wind[k-1])/2)*delta_time)/111137.0\n",
       "    longitude_calculation: lon[k-1]+((u_wind[k]-u_wind[k-1])/2)*delta_time)/(111137.0*(cos(0.5*lat[k]-lat[k-1))))\n",
       "    sonde_pc_software_version: 2.40\n",
       "    sounding_number: ///\n",
       "    serial_number: L3914173\n",
       "    qc_standards_version: 1.0\n",
       "    qc_method: Standard Mentor QC\n",
       "    qc_comment: The QC field values are a bit packed representation of true/false values for the tests that may have been performed. A QC value of zero means that none of the tests performed on the value failed.\n",
       "\n",
       "The QC field values make use of the internal binary format to store the results of the individual QC tests. This allows the representation of multiple QC states in a single value. If the test associated with a particular bit fails the bit is turned on. Turning on the bit equates to adding the integer value of the failed test to the current value of the field. The QC field's value can be interpreted by applying bit logic using bitwise operators, or by examining the QC value's integer representation. A QC field's integer representation is the sum of the individual integer values of the failed tests. The bit and integer equivalents for the first 5 bits are listed below:\n",
       "\n",
       "bit_1 = 00000001 = 0x01 = 2^0 = 1\n",
       "bit_2 = 00000010 = 0x02 = 2^1 = 2\n",
       "bit_3 = 00000100 = 0x04 = 2^2 = 4\n",
       "bit_4 = 00001000 = 0x08 = 2^3 = 8\n",
       "bit_5 = 00010000 = 0x10 = 2^4 = 16\n",
       "    qc_bit_1_description: Value is equal to missing_value.\n",
       "    qc_bit_1_assessment: Bad\n",
       "    qc_bit_2_description: Value is less than the valid_min.\n",
       "    qc_bit_2_assessment: Bad\n",
       "    qc_bit_3_description: Value is greater than the valid_max.\n",
       "    qc_bit_3_assessment: Bad\n",
       "    qc_bit_4_description: Difference between current and previous values exceeds valid_delta.\n",
       "    qc_bit_4_assessment: Indeterminate\n",
       "    zeb_platform: sgpsondewnpnC1.b1\n",
       "    history: created by user dsmgr on machine ruby at 2017-05-19 07:09:00, using ingest-sonde-10.12-0.el6\n",
       "    dimensions(sizes): time(4953)\n",
       "    variables(dimensions): int32 \u001b[4mbase_time\u001b[0m(), float64 \u001b[4mtime_offset\u001b[0m(time), float64 \u001b[4mtime\u001b[0m(time), int32 \u001b[4mqc_time\u001b[0m(time), float32 \u001b[4mpres\u001b[0m(time), int32 \u001b[4mqc_pres\u001b[0m(time), float32 \u001b[4mtdry\u001b[0m(time), int32 \u001b[4mqc_tdry\u001b[0m(time), float32 \u001b[4mdp\u001b[0m(time), int32 \u001b[4mqc_dp\u001b[0m(time), float32 \u001b[4mwspd\u001b[0m(time), int32 \u001b[4mqc_wspd\u001b[0m(time), float32 \u001b[4mdeg\u001b[0m(time), int32 \u001b[4mqc_deg\u001b[0m(time), float32 \u001b[4mrh\u001b[0m(time), int32 \u001b[4mqc_rh\u001b[0m(time), float32 \u001b[4mu_wind\u001b[0m(time), int32 \u001b[4mqc_u_wind\u001b[0m(time), float32 \u001b[4mv_wind\u001b[0m(time), int32 \u001b[4mqc_v_wind\u001b[0m(time), float32 \u001b[4mwstat\u001b[0m(time), float32 \u001b[4masc\u001b[0m(time), int32 \u001b[4mqc_asc\u001b[0m(time), float32 \u001b[4mlat\u001b[0m(time), float32 \u001b[4mlon\u001b[0m(time), float32 \u001b[4malt\u001b[0m(time)\n",
       "    groups: "
      ]
     },
     "execution_count": 69,
     "metadata": {},
     "output_type": "execute_result"
    }
   ],
   "source": [
    "ds"
   ]
  },
  {
   "cell_type": "code",
   "execution_count": 94,
   "metadata": {},
   "outputs": [
    {
     "data": {
      "text/plain": [
       "<class 'netCDF4._netCDF4.Variable'>\n",
       "float32 v_wind(time)\n",
       "    long_name: Northward Wind Component\n",
       "    units: m/s\n",
       "    valid_min: -75.0\n",
       "    valid_max: 75.0\n",
       "    valid_delta: 5.0\n",
       "    resolution: 0.1\n",
       "    missing_value: -9999.0\n",
       "    calculation: (-1.0 * cos(wind direction) * wind speed)\n",
       "unlimited dimensions: time\n",
       "current shape = (4953,)\n",
       "filling off"
      ]
     },
     "execution_count": 94,
     "metadata": {},
     "output_type": "execute_result"
    }
   ],
   "source": [
    "ds['v_wind']"
   ]
  },
  {
   "cell_type": "code",
   "execution_count": 93,
   "metadata": {},
   "outputs": [
    {
     "data": {
      "image/png": "[encoded data removed]",
      "text/plain": [
       "<matplotlib.figure.Figure at 0x7f18aa18c4e0>"
      ]
     },
     "metadata": {},
     "output_type": "display_data"
    }
   ],
   "source": [
    "fig = plt.figure()\n",
    "plt.plot(ds['u_wind'], ds['alt'], 'b-', label='U Wind')\n",
    "plt.plot(ds['v_wind'], ds['alt'], 'r-', label='V Wind')\n",
    "plt.xlim(-40, 40)\n",
    "plt.ylim(0, 30000)\n",
    "plt.legend(bbox_to_anchor=(1.05, 1), loc=2, borderaxespad=0.)\n",
    "plt.show()"
   ]
  },
  {
   "cell_type": "code",
   "execution_count": 236,
   "metadata": {},
   "outputs": [],
   "source": [
    "radar = pyart.io.read('/home/zsherman/dev/training_exercises/data/KLOT20130417_235520_V06.gz')\n",
    "radar_sweep = radar.extract_sweeps([5])\n",
    "#radar = pyart.io.read('/home/zsherman/dev/xsapr_sgp/data/05_19_2017/XSW170519071005.RAW54Z8')"
   ]
  },
  {
   "cell_type": "code",
   "execution_count": 131,
   "metadata": {},
   "outputs": [],
   "source": [
    "gatefilter = pyart.correct.GateFilter(radar_sweep)\n",
    "gatefilter.exclude_below('reflectivity', 5)\n",
    "gatefilter.exclude_invalid('velocity')"
   ]
  },
  {
   "cell_type": "code",
   "execution_count": 132,
   "metadata": {
    "scrolled": true
   },
   "outputs": [
    {
     "name": "stdout",
     "output_type": "stream",
     "text": [
      "[False False False ..., False False False]\n",
      "max height 23349.2962065 meters\n"
     ]
    }
   ],
   "source": [
    "vad_s = velocity_azimuth_display_scott(\n",
    "        radar_sweep, 'velocity', z_want=np.linspace(50, 10766, 101), \n",
    "        gatefilter=gatefilter)"
   ]
  },
  {
   "cell_type": "code",
   "execution_count": 133,
   "metadata": {},
   "outputs": [
    {
     "data": {
      "image/png": "[encoded data removed]",
      "text/plain": [
       "<matplotlib.figure.Figure at 0x7fbd78ff8c50>"
      ]
     },
     "metadata": {},
     "output_type": "display_data"
    }
   ],
   "source": [
    "fig = plt.figure()\n",
    "plt.plot(vad_s.u_wind, vad_s.height, 'b-', label='U Wind')\n",
    "plt.plot(vad_s.v_wind, vad_s.height, 'r-', label='V Wind')\n",
    "#plt.xlim(-40, 40)\n",
    "#plt.ylim(0, 15000)\n",
    "plt.legend(bbox_to_anchor=(1.05, 1), loc=2, borderaxespad=0.)\n",
    "plt.show()"
   ]
  },
  {
   "cell_type": "code",
   "execution_count": 64,
   "metadata": {},
   "outputs": [
    {
     "data": {
      "image/png": "[encoded data removed]",
      "text/plain": [
       "<matplotlib.figure.Figure at 0x7fbd82307f98>"
      ]
     },
     "metadata": {},
     "output_type": "display_data"
    }
   ],
   "source": [
    "fig = plt.figure()\n",
    "plt.plot(vad_s.u_wind, vad_s.height, 'b-', label='U Wind')\n",
    "plt.plot(vad_s.v_wind, vad_s.height, 'r-', label='V Wind')\n",
    "plt.xlim(-40, 40)\n",
    "plt.ylim(0, 15000)\n",
    "plt.legend(bbox_to_anchor=(1.05, 1), loc=2, borderaxespad=0.)\n",
    "plt.show()"
   ]
  },
  {
   "cell_type": "code",
   "execution_count": 23,
   "metadata": {},
   "outputs": [
    {
     "data": {
      "text/plain": [
       "'This is highly experimental and initial data. There are many known and unknown issues. Please do not use before contacting the Translator responsible scollis@anl.gov'"
      ]
     },
     "execution_count": 23,
     "metadata": {},
     "output_type": "execute_result"
    }
   ],
   "source": [
    "mystr = ('This is highly experimental and initial data. There are many known'\n",
    "         + ' and unknown issues. Please do not use before contacting the'\n",
    "         + ' Translator responsible scollis@anl.gov')\n",
    "mystr"
   ]
  },
  {
   "cell_type": "code",
   "execution_count": 24,
   "metadata": {},
   "outputs": [
    {
     "name": "stdout",
     "output_type": "stream",
     "text": [
      "['/home/zsherman/misc_data/sgpxsaprI5.00.20171004.191101.mnt.XSW171004180005.RAWCKXU.maint', '/home/zsherman/misc_data/argentina_1arc_geotiffs', '/home/zsherman/misc_data/sgpsondewnpnC1.b1.20171119.113300.cdf', '/home/zsherman/misc_data/sgpsondewnpnC1.b1.20171119.172400.cdf', '/home/zsherman/misc_data/XSE171004180248.RAWW40T', '/home/zsherman/misc_data/sgpxsaprppiI4.00.20170828.120400.raw.tar', '/home/zsherman/misc_data/2013070308340000dBuZ.azi']\n"
     ]
    }
   ],
   "source": [
    "files = glob.glob('/home/zsherman/misc_data/*')\n",
    "print(files)"
   ]
  },
  {
   "cell_type": "code",
   "execution_count": 59,
   "metadata": {},
   "outputs": [],
   "source": [
    "meta_append = {\n",
    "            'site_id': 'sgp',\n",
    "            'facility_id': 'I5' + ': ' + 'blah',\n",
    "            'data_level': 'c1',\n",
    "            'comment': mystr,\n",
    "            'attributions': (\n",
    "                'This data is collected by the ARM Climate Research facility. '\n",
    "                'Radar system is operated by the radar engineering team ' \n",
    "                'radar@arm.gov and the data is processed by the precipitation '\n",
    "                'radar products team. LP code courtesy of Scott Giangrande '\n",
    "                'BNL.'),\n",
    "            'version': '2.0 lite',\n",
    "            'vap_name': 'cmac',\n",
    "            'known_issues': (\n",
    "                'False phidp jumps in insect regions. Still uses old',\n",
    "                'Giangrande code.'),\n",
    "            'command_line': 'woot',\n",
    "            'developers': 'Robert Jackson, ANL. Zachary Sherman, ANL.',\n",
    "            'translator': 'Scott Collis, ANL.',\n",
    "            'mentors': ('Nitin Bharadwaj, PNNL. Bradley Isom, PNNL.',\n",
    "                        'Joseph Hardin, PNNL. Iosif Lindenmaier, PNNL.')}"
   ]
  },
  {
   "cell_type": "code",
   "execution_count": 60,
   "metadata": {},
   "outputs": [],
   "source": [
    "import json"
   ]
  },
  {
   "cell_type": "code",
   "execution_count": 61,
   "metadata": {},
   "outputs": [],
   "source": [
    "with open('/home/zsherman/blah.json', 'w') as outfile:\n",
    "    json.dump(meta_append, outfile)"
   ]
  },
  {
   "cell_type": "code",
   "execution_count": 62,
   "metadata": {},
   "outputs": [],
   "source": [
    "with open('/home/zsherman/blah.json', 'r') as infile:\n",
    "    meta_data = json.load(infile)"
   ]
  },
  {
   "cell_type": "code",
   "execution_count": 63,
   "metadata": {},
   "outputs": [
    {
     "data": {
      "text/plain": [
       "{'attributions': 'This data is collected by the ARM Climate Research facility. Radar system is operated by the radar engineering team radar@arm.gov and the data is processed by the precipitation radar products team. LP code courtesy of Scott Giangrande BNL.',\n",
       " 'command_line': 'woot',\n",
       " 'comment': 'This is highly experimental and initial data. There are many known and unknown issues. Please do not use before contacting the Translator responsible scollis@anl.gov',\n",
       " 'data_level': 'c1',\n",
       " 'developers': 'Robert Jackson, ANL. Zachary Sherman, ANL.',\n",
       " 'facility_id': 'I5: blah',\n",
       " 'known_issues': ['False phidp jumps in insect regions. Still uses old',\n",
       "  'Giangrande code.'],\n",
       " 'mentors': ['Nitin Bharadwaj, PNNL. Bradley Isom, PNNL.',\n",
       "  'Joseph Hardin, PNNL. Iosif Lindenmaier, PNNL.'],\n",
       " 'site_id': 'sgp',\n",
       " 'translator': 'Scott Collis, ANL.',\n",
       " 'vap_name': 'cmac',\n",
       " 'version': '2.0 lite'}"
      ]
     },
     "execution_count": 63,
     "metadata": {},
     "output_type": "execute_result"
    }
   ],
   "source": [
    "meta_data"
   ]
  },
  {
   "cell_type": "code",
   "execution_count": 30,
   "metadata": {},
   "outputs": [
    {
     "ename": "TypeError",
     "evalue": "unsupported operand type(s) for +: 'dict' and 'dict'",
     "output_type": "error",
     "traceback": [
      "\u001b[0;31m---------------------------------------------------------------------------\u001b[0m",
      "\u001b[0;31mTypeError\u001b[0m                                 Traceback (most recent call last)",
      "\u001b[0;32m<ipython-input-30-6234c8af09b4>\u001b[0m in \u001b[0;36m<module>\u001b[0;34m()\u001b[0m\n\u001b[0;32m----> 1\u001b[0;31m \u001b[0mmeta_data\u001b[0m \u001b[0;34m+\u001b[0m \u001b[0mmeta_data\u001b[0m\u001b[0;34m\u001b[0m\u001b[0m\n\u001b[0m",
      "\u001b[0;31mTypeError\u001b[0m: unsupported operand type(s) for +: 'dict' and 'dict'"
     ]
    }
   ],
   "source": [
    "meta_data + meta_data"
   ]
  },
  {
   "cell_type": "code",
   "execution_count": 124,
   "metadata": {},
   "outputs": [],
   "source": [
    "arr = np.array([5, 3, 2, 5, 2])"
   ]
  },
  {
   "cell_type": "code",
   "execution_count": 125,
   "metadata": {},
   "outputs": [],
   "source": [
    "arr = np.ma.masked_equal(arr, 2)"
   ]
  },
  {
   "cell_type": "code",
   "execution_count": 126,
   "metadata": {},
   "outputs": [
    {
     "data": {
      "text/plain": [
       "masked_array(data = [5 3 -- 5 --],\n",
       "             mask = [False False  True False  True],\n",
       "       fill_value = 2)"
      ]
     },
     "execution_count": 126,
     "metadata": {},
     "output_type": "execute_result"
    }
   ],
   "source": [
    "arr"
   ]
  },
  {
   "cell_type": "code",
   "execution_count": 127,
   "metadata": {},
   "outputs": [
    {
     "name": "stdout",
     "output_type": "stream",
     "text": [
      "[True True -- True --]\n"
     ]
    }
   ],
   "source": [
    "print(np.isfinite(arr))"
   ]
  },
  {
   "cell_type": "code",
   "execution_count": 128,
   "metadata": {},
   "outputs": [
    {
     "data": {
      "text/plain": [
       "[<matplotlib.lines.Line2D at 0x7fbd828e2940>]"
      ]
     },
     "execution_count": 128,
     "metadata": {},
     "output_type": "execute_result"
    },
    {
     "data": {
      "image/png": "[encoded data removed]",
      "text/plain": [
       "<matplotlib.figure.Figure at 0x7fbd828ec4a8>"
      ]
     },
     "metadata": {},
     "output_type": "display_data"
    }
   ],
   "source": [
    "plt.plot(arr)"
   ]
  },
  {
   "cell_type": "code",
   "execution_count": 197,
   "metadata": {},
   "outputs": [
    {
     "data": {
      "text/plain": [
       "(array([ 200,  201,  888,  889, 1570, 1571, 2260, 2261, 2944, 2945, 3634,\n",
       "        3635, 4666, 5008, 5351, 5688, 6025, 6359, 6693, 7026, 7327, 7656,\n",
       "        7978]),)"
      ]
     },
     "execution_count": 197,
     "metadata": {},
     "output_type": "execute_result"
    }
   ],
   "source": [
    "np.where(np.logical_and(radar.azimuth['data']>=273.9, radar.azimuth['data']<=275.0))"
   ]
  },
  {
   "cell_type": "code",
   "execution_count": 8,
   "metadata": {},
   "outputs": [
    {
     "name": "stdout",
     "output_type": "stream",
     "text": [
      "\n",
      "## You are using the Python ARM Radar Toolkit (Py-ART), an open source\n",
      "## library for working with weather radar data. Py-ART is partly\n",
      "## supported by the U.S. Department of Energy as part of the Atmospheric\n",
      "## Radiation Measurement (ARM) Climate Research Facility, an Office of\n",
      "## Science user facility.\n",
      "##\n",
      "## If you use this software to prepare a publication, please cite:\n",
      "##\n",
      "##     JJ Helmus and SM Collis, JORS 2016, doi: 10.5334/jors.119\n",
      "\n"
     ]
    }
   ],
   "source": [
    "import pyart\n",
    "import matplotlib.pyplot as plt"
   ]
  },
  {
   "cell_type": "code",
   "execution_count": 9,
   "metadata": {},
   "outputs": [
    {
     "name": "stdout",
     "output_type": "stream",
     "text": [
      "1.9.1\n"
     ]
    }
   ],
   "source": [
    "print(pyart.__version__)"
   ]
  },
  {
   "cell_type": "code",
   "execution_count": 10,
   "metadata": {},
   "outputs": [
    {
     "name": "stdout",
     "output_type": "stream",
     "text": [
      "<module 'pyart' from '/home/zsherman/anaconda3/lib/python3.5/site-packages/pyart/__init__.py'>\n"
     ]
    }
   ],
   "source": [
    "print(pyart)"
   ]
  },
  {
   "cell_type": "code",
   "execution_count": 11,
   "metadata": {},
   "outputs": [],
   "source": [
    "radar = pyart.io.read('/home/zsherman/pyart_data/sgpcsaprsurcmacI7.c0.20110520.095101.nc')"
   ]
  },
  {
   "cell_type": "code",
   "execution_count": 244,
   "metadata": {},
   "outputs": [
    {
     "data": {
      "image/png": "[encoded data removed]",
      "text/plain": [
       "<matplotlib.figure.Figure at 0x7fbd7ea91a90>"
      ]
     },
     "metadata": {},
     "output_type": "display_data"
    },
    {
     "name": "stdout",
     "output_type": "stream",
     "text": [
      "CPU times: user 608 ms, sys: 240 ms, total: 848 ms\n",
      "Wall time: 501 ms\n"
     ]
    }
   ],
   "source": [
    "%%time\n",
    "fig = plt.figure()\n",
    "display = pyart.graph.RadarMapDisplay(radar)\n",
    "display.plot_ppi('reflectivity_horizontal', 3, vmin=-32, vmax=64., edges=True)\n",
    "plt.show()"
   ]
  },
  {
   "cell_type": "code",
   "execution_count": 1,
   "metadata": {},
   "outputs": [],
   "source": [
    "import glob"
   ]
  },
  {
   "cell_type": "code",
   "execution_count": 4,
   "metadata": {},
   "outputs": [
    {
     "data": {
      "text/plain": [
       "['/home/zsherman/dev/cmac2.0/data/']"
      ]
     },
     "execution_count": 4,
     "metadata": {},
     "output_type": "execute_result"
    }
   ],
   "source": [
    "files = glob.glob('/home/zsherman/dev/cmac2.0/data/')\n",
    "files"
   ]
  },
  {
   "cell_type": "code",
   "execution_count": 17,
   "metadata": {},
   "outputs": [
    {
     "ename": "NameError",
     "evalue": "name 'radar' is not defined",
     "output_type": "error",
     "traceback": [
      "\u001b[0;31m---------------------------------------------------------------------------\u001b[0m",
      "\u001b[0;31mNameError\u001b[0m                                 Traceback (most recent call last)",
      "\u001b[0;32m<ipython-input-17-7ac9df920233>\u001b[0m in \u001b[0;36m<module>\u001b[0;34m()\u001b[0m\n\u001b[0;32m----> 1\u001b[0;31m \u001b[0mradar\u001b[0m\u001b[0;34m\u001b[0m\u001b[0m\n\u001b[0m",
      "\u001b[0;31mNameError\u001b[0m: name 'radar' is not defined"
     ]
    }
   ],
   "source": [
    "radar"
   ]
  },
  {
   "cell_type": "code",
   "execution_count": 42,
   "metadata": {},
   "outputs": [],
   "source": [
    "radar.metadata.clear()\n",
    "radar.metadata.update(meta_data)"
   ]
  },
  {
   "cell_type": "code",
   "execution_count": 43,
   "metadata": {},
   "outputs": [
    {
     "data": {
      "text/plain": [
       "{'attributions': ['This data is collected by the ARM Climate Research facility.',\n",
       "  'Radar system is operated by the radar engineering team',\n",
       "  'radar@arm.gov and the data is processed by the precipitation',\n",
       "  'radar products team. LP code courtesy of Scott Giangrande',\n",
       "  'BNL.'],\n",
       " 'command_line': 'woot',\n",
       " 'comment': 'This is highly experimental and initial data. There are many known and unknown issues. Please do not use before contacting the Translator responsible scollis@anl.gov',\n",
       " 'data_level': 'c1',\n",
       " 'developers': 'Robert Jackson, ANL. Zachary Sherman, ANL.',\n",
       " 'facility_id': 'I5: blah',\n",
       " 'known_issues': ['False phidp jumps in insect regions. Still uses old',\n",
       "  'Giangrande code.'],\n",
       " 'mentors': ['Nitin Bharadwaj, PNNL. Bradley Isom, PNNL.',\n",
       "  'Joseph Hardin, PNNL. Iosif Lindenmaier, PNNL.'],\n",
       " 'site_id': 'sgp',\n",
       " 'translator': 'Scott Collis, ANL.',\n",
       " 'vap_name': 'cmac',\n",
       " 'version': '2.0 lite'}"
      ]
     },
     "execution_count": 43,
     "metadata": {},
     "output_type": "execute_result"
    }
   ],
   "source": [
    "radar.metadata"
   ]
  },
  {
   "cell_type": "code",
   "execution_count": 39,
   "metadata": {},
   "outputs": [
    {
     "data": {
      "text/plain": [
       "['__class__',\n",
       " '__contains__',\n",
       " '__delattr__',\n",
       " '__delitem__',\n",
       " '__dir__',\n",
       " '__doc__',\n",
       " '__eq__',\n",
       " '__format__',\n",
       " '__ge__',\n",
       " '__getattribute__',\n",
       " '__getitem__',\n",
       " '__gt__',\n",
       " '__hash__',\n",
       " '__init__',\n",
       " '__iter__',\n",
       " '__le__',\n",
       " '__len__',\n",
       " '__lt__',\n",
       " '__ne__',\n",
       " '__new__',\n",
       " '__reduce__',\n",
       " '__reduce_ex__',\n",
       " '__repr__',\n",
       " '__setattr__',\n",
       " '__setitem__',\n",
       " '__sizeof__',\n",
       " '__str__',\n",
       " '__subclasshook__',\n",
       " 'clear',\n",
       " 'copy',\n",
       " 'fromkeys',\n",
       " 'get',\n",
       " 'items',\n",
       " 'keys',\n",
       " 'pop',\n",
       " 'popitem',\n",
       " 'setdefault',\n",
       " 'update',\n",
       " 'values']"
      ]
     },
     "execution_count": 39,
     "metadata": {},
     "output_type": "execute_result"
    }
   ],
   "source": [
    "dir(radar.metadata)"
   ]
  },
  {
   "cell_type": "code",
   "execution_count": 2,
   "metadata": {},
   "outputs": [],
   "source": [
    "config_xsapr_i6 = {\n",
    "    'fields': {\n",
    "        'reflectivity': 'reflectivity',\n",
    "        'velocity': 'doppler_velocity',\n",
    "        'cross_correlation_ratio': 'cross_correlation_ratio',\n",
    "        'normalized_coherent_power': 'normalized_coherent_power'},\n",
    "    'sonde': {'temperature': 'tdry',\n",
    "              'height': 'alt'},\n",
    "    'save_name': 'sgpxsaprcmacsurI6.c1',\n",
    "    'facility': 'I6',\n",
    "    'town': 'Deer Creek, OK',\n",
    "    'x_compass': 'XNW',\n",
    "    'site_alt': 341,\n",
    "    'coef': 0.914,\n",
    "    'attenuation_a_coef': 0.17,\n",
    "    'field_shape': (8280, 501),\n",
    "    'max_lat': 37.3,\n",
    "    'min_lat': 36.25,\n",
    "    'max_lon': -96.9,\n",
    "    'min_lon': -98.2,\n",
    "    'site_i6_dms_lat': (36, 46, 2.28),\n",
    "    'site_i6_dms_lon': (-97, 32, 53.16),\n",
    "    'site_i5_dms_lat': (36, 29, 29.4),\n",
    "    'site_i5_dms_lon': (-97, 35, 37.68),\n",
    "    'site_i4_dms_lat': (36, 34, 44.4),\n",
    "    'site_i4_dms_lon': (-97, 21, 49.32)}"
   ]
  },
  {
   "cell_type": "code",
   "execution_count": 3,
   "metadata": {},
   "outputs": [
    {
     "data": {
      "text/plain": [
       "'tdry'"
      ]
     },
     "execution_count": 3,
     "metadata": {},
     "output_type": "execute_result"
    }
   ],
   "source": [
    "config_xsapr_i6['sonde']['temperature']"
   ]
  },
  {
   "cell_type": "code",
   "execution_count": 5,
   "metadata": {},
   "outputs": [
    {
     "name": "stdout",
     "output_type": "stream",
     "text": [
      "{'site_alt': 341, 'town': 'Deer Creek, OK', 'site_i4_dms_lon': (-97, 21, 49.32), 'site_i5_dms_lon': (-97, 35, 37.68), 'site_i5_dms_lat': (36, 29, 29.4), 'sonde': {'temperature': 'tdry', 'height': 'alt'}, 'x_compass': 'XNW', 'max_lon': -96.9, 'facility': 'I6', 'site_i6_dms_lat': (36, 46, 2.28), 'attenuation_a_coef': 0.17, 'min_lon': -98.2, 'site_i6_dms_lon': (-97, 32, 53.16), 'fields': {'velocity': 'doppler_velocity', 'reflectivity': 'reflectivity', 'normalized_coherent_power': 'normalized_coherent_power', 'cross_correlation_ratio': 'cross_correlation_ratio'}, 'min_lat': 36.25, 'coef': 0.914, 'save_name': 'sgpxsaprcmacsurI6.c1', 'field_shape': (8280, 501), 'max_lat': 37.3, 'site_i4_dms_lat': (36, 34, 44.4)}\n"
     ]
    }
   ],
   "source": [
    "print(config_xsapr_i6)"
   ]
  },
  {
   "cell_type": "code",
   "execution_count": 78,
   "metadata": {},
   "outputs": [],
   "source": [
    "blah = []"
   ]
  },
  {
   "cell_type": "code",
   "execution_count": 82,
   "metadata": {},
   "outputs": [],
   "source": [
    "blah.append((([2, 3, 4]), 3, 5))"
   ]
  },
  {
   "cell_type": "code",
   "execution_count": 83,
   "metadata": {},
   "outputs": [
    {
     "data": {
      "text/plain": [
       "[([2, 3, 4], 3, 5)]"
      ]
     },
     "execution_count": 83,
     "metadata": {},
     "output_type": "execute_result"
    }
   ],
   "source": [
    "blah"
   ]
  },
  {
   "cell_type": "code",
   "execution_count": 85,
   "metadata": {},
   "outputs": [
    {
     "data": {
      "text/plain": [
       "array([ 327.60000229])"
      ]
     },
     "execution_count": 85,
     "metadata": {},
     "output_type": "execute_result"
    }
   ],
   "source": [
    "radar.altitude['data']"
   ]
  },
  {
   "cell_type": "code",
   "execution_count": 13,
   "metadata": {},
   "outputs": [],
   "source": [
    "radar.metadata['command_line'] = 'foobar'"
   ]
  },
  {
   "cell_type": "code",
   "execution_count": 14,
   "metadata": {},
   "outputs": [
    {
     "data": {
      "text/plain": [
       "{'Conventions': 'CF/Radial',\n",
       " 'command_line': 'foobar',\n",
       " 'dod_version': '1.0',\n",
       " 'experiment': 'MC3E',\n",
       " 'facility': 'I7',\n",
       " 'facility_id': 'I7: Nardin, Oklahoma',\n",
       " 'history': 'created by user sc8 on bds2-vm1 at 23-Jan-2013,20:48:08 using ./process_and_save_csapr_params.py',\n",
       " 'input_datastreams_num': '2',\n",
       " 'instrument_name': 'sgpcsapr',\n",
       " 'instrument_type': 'radar',\n",
       " 'platform_is_mobile': 'False',\n",
       " 'platform_type': 'fixed',\n",
       " 'primary_axis': 'axis_z',\n",
       " 'site_id': 'sgp',\n",
       " 'source': 'MDV radar volume file created by Dsr2Vol.',\n",
       " 'volume_number': 0}"
      ]
     },
     "execution_count": 14,
     "metadata": {},
     "output_type": "execute_result"
    }
   ],
   "source": [
    "radar.metadata"
   ]
  },
  {
   "cell_type": "code",
   "execution_count": null,
   "metadata": {},
   "outputs": [],
   "source": []
  }
 ],
 "metadata": {
  "anaconda-cloud": {},
  "kernelspec": {
   "display_name": "Python 3",
   "language": "python",
   "name": "python3"
  },
  "language_info": {
   "codemirror_mode": {
    "name": "ipython",
    "version": 3
   },
   "file_extension": ".py",
   "mimetype": "text/x-python",
   "name": "python",
   "nbconvert_exporter": "python",
   "pygments_lexer": "ipython3",
   "version": "3.6.6"
  }
 },
 "nbformat": 4,
 "nbformat_minor": 1
}
