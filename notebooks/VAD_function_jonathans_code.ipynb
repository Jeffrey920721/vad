{
 "cells": [
  {
   "cell_type": "markdown",
   "metadata": {
    "deletable": true,
    "editable": true
   },
   "source": [
    "# (VAD) Velocity Azimuth Display\n",
    "\n",
    "Argonne National Laboratory\n",
    "\n",
    "Original code by Jonathan Helmus"
   ]
  },
  {
   "cell_type": "code",
   "execution_count": 2,
   "metadata": {
    "collapsed": false,
    "deletable": true,
    "editable": true,
    "scrolled": true
   },
   "outputs": [
    {
     "name": "stdout",
     "output_type": "stream",
     "text": [
      "\n",
      "## You are using the Python ARM Radar Toolkit (Py-ART), an open source\n",
      "## library for working with weather radar data. Py-ART is partly\n",
      "## supported by the U.S. Department of Energy as part of the Atmospheric\n",
      "## Radiation Measurement (ARM) Climate Research Facility, an Office of\n",
      "## Science user facility.\n",
      "##\n",
      "## If you use this software to prepare a publication, please cite:\n",
      "##\n",
      "##     JJ Helmus and SM Collis, JORS 2016, doi: 10.5334/jors.119\n",
      "\n"
     ]
    },
    {
     "name": "stderr",
     "output_type": "stream",
     "text": [
      "/home/zsherman/anaconda3/lib/python3.5/json/encoder.py:198: DeprecationWarning: Interpreting naive datetime as local 2017-04-18 14:54:00.199150. Please add timezone info to timestamps.\n",
      "  chunks = self.iterencode(o, _one_shot=True)\n"
     ]
    }
   ],
   "source": [
    "import pyart\n",
    "import matplotlib.pyplot as plt\n",
    "import numpy.ma as ma\n",
    "import numpy as np\n",
    "# import warnings\n",
    "# warnings.filterwarnings(\"ignore\")\n",
    "%matplotlib inline"
   ]
  },
  {
   "cell_type": "code",
   "execution_count": 3,
   "metadata": {
    "collapsed": false,
    "deletable": true,
    "editable": true
   },
   "outputs": [
    {
     "name": "stderr",
     "output_type": "stream",
     "text": [
      "/home/zsherman/anaconda3/lib/python3.5/json/encoder.py:198: DeprecationWarning: Interpreting naive datetime as local 2017-04-18 14:54:01.060346. Please add timezone info to timestamps.\n",
      "  chunks = self.iterencode(o, _one_shot=True)\n"
     ]
    }
   ],
   "source": [
    "def pyart_velocity_correct(norm_coh_power=None,\n",
    "                           norm_coh_power_value=0.5,\n",
    "                           gatefilter=None,\n",
    "                           nyquist_velocity=None):\n",
    "    if norm_coh_power is None:\n",
    "        # Copying a field and its shape to use as a\n",
    "        # norm_coherent_power array with matching shape.\n",
    "        radar.add_field_like('reflectivity', 'norm_coh_power',\n",
    "                             radar.fields['reflectivity']['data'].copy(),\n",
    "                             replace_existing=True)\n",
    "        # Setting all values to norm_coh_power_value,\n",
    "        # in the field norm_coh_power.\n",
    "        (radar.fields['norm_coh_power']['data'])[\n",
    "            radar.fields['norm_coh_power']['data'] !=\n",
    "            norm_coh_power_value] = norm_coh_power_value\n",
    "        norm_coh_power_used = 'norm_coh_power'\n",
    "    else:\n",
    "        norm_coh_power_used = norm_coh_power\n",
    "    \n",
    "    if gatefilter is none:\n",
    "        gatefilter = pyart.correct.GateFilter(radar)\n",
    "        gatefilter.exclude_below(norm_coh_power_used, norm_coh_power_value)\n",
    "    else:\n",
    "        gatefilter = gatefilter\n",
    "\n",
    "    if nyquist_velocity is None:\n",
    "        nyq = None\n",
    "        corr_vel = pyart.correct.dealias_region_based(\n",
    "            radar, vel_field='velocity', keep_original=False,\n",
    "            gatefilter=gatefilter, nyquist_vel=nyq,\n",
    "            centered=False)\n",
    "        radar.add_field('corrected_velocity', corr_vel,\n",
    "                          replace_existing=True)\n",
    "    else:\n",
    "        nyq = nyquist_velocity\n",
    "        corr_vel = pyart.correct.dealias_region_based(\n",
    "            radar, vel_field='velocity', keep_original=False,\n",
    "            gatefilter=gatefilter, nyquist_vel=nyq,\n",
    "            centered=False)\n",
    "        radar.add_field('corrected_velocity', corr_vel,\n",
    "                          replace_existing=True)"
   ]
  },
  {
   "cell_type": "code",
   "execution_count": 11,
   "metadata": {
    "collapsed": false,
    "deletable": true,
    "editable": true
   },
   "outputs": [
    {
     "name": "stderr",
     "output_type": "stream",
     "text": [
      "/home/zsherman/anaconda3/lib/python3.5/json/encoder.py:198: DeprecationWarning: Interpreting naive datetime as local 2017-04-18 15:29:14.960374. Please add timezone info to timestamps.\n",
      "  chunks = self.iterencode(o, _one_shot=True)\n"
     ]
    }
   ],
   "source": [
    "\"\"\"\n",
    "pyart.retrieve.velocity_azimuth_display\n",
    "=======================================\n",
    "\n",
    "Retrieval of VADs from a radar object.\n",
    "\n",
    ".. autosummary::\n",
    "    :toctreeL generated/\n",
    "    :template: dev_template.rst\n",
    "\n",
    "    velocity_azimuth_display\n",
    "    _vad_calculation\n",
    "    _inverse_dist_squared\n",
    "    _Average1D\n",
    "\n",
    "\"\"\"\n",
    "\n",
    "import numpy as np\n",
    "\n",
    "from pyart.core import HorizontalWindProfile\n",
    "\n",
    "\n",
    "def velocity_azimuth_display(\n",
    "        radar, velocity, z_want=None,\n",
    "        valid_ray_min=16, gatefilter=None, window=2,\n",
    "        weight='equal'):\n",
    "    \"\"\"\n",
    "    Velocity azimuth display.\n",
    "\n",
    "    Note: If a specific sweep is desired, before using the\n",
    "    velocity_azimuth_display function, use, for example:\n",
    "    one_sweep_radar = radar.extract_sweeps([0])\n",
    "\n",
    "    Parameters\n",
    "    ----------\n",
    "    radar : Radar\n",
    "        Radar object used.\n",
    "    velocity : string\n",
    "        Velocity field to use for VAD calculation.\n",
    "\n",
    "    Other Parameters\n",
    "    ----------------\n",
    "    z_want : array\n",
    "        Array of desired heights to be sampled for the vad\n",
    "        calculation.\n",
    "    valid_ray_min : int\n",
    "        Amount of rays required to include that level in\n",
    "        the VAD calculation.\n",
    "    gatefilter : GateFilter\n",
    "        A GateFilter indicating radar gates that should be excluded when\n",
    "        from the vad calculation.\n",
    "    window : int\n",
    "        Value to use for window when determing new values in the\n",
    "        _Averag1D function.\n",
    "    weight : string\n",
    "        A string to indicate weighting method to use. 'equal' for\n",
    "        equal weighting when interpolating or 'idw' for inverse\n",
    "        distribution squared weighting for interpolating.\n",
    "        Default is 'equal'.\n",
    "\n",
    "    Returns\n",
    "    -------\n",
    "    height : array\n",
    "        Heights in meters above sea level at which horizontal winds were\n",
    "        sampled.\n",
    "    speed : array\n",
    "        Horizontal wind speed in meters per second at each height.\n",
    "    direction : array\n",
    "        Horizontal wind direction in degrees at each height.\n",
    "    u_wind : array\n",
    "        U-wind mean in meters per second.\n",
    "    v_wind : array\n",
    "        V-wind mean in meters per second.\n",
    "\n",
    "    Reference\n",
    "    ----------\n",
    "    K. A. Browning and R. Wexler, 1968: The Determination\n",
    "    of Kinematic Properties of a Wind Field Using Doppler\n",
    "    Radar. J. Appl. Meteor., 7, 105–113\n",
    "\n",
    "    \"\"\"\n",
    "\n",
    "    velocities = radar.fields[velocity]['data']\n",
    "    if gatefilter is not None:\n",
    "        velocities = np.ma.masked_where(\n",
    "            gatefilter.gate_excluded, velocities)\n",
    "    azimuths = radar.azimuth['data'][:]\n",
    "    elevation = radar.fixed_angle['data'][0]\n",
    "\n",
    "    u_wind, v_wind = _vad_calculation(velocities, azimuths,\n",
    "                                      elevation, valid_ray_min)\n",
    "    bad = np.logical_or(np.isnan(u_wind), np.isnan(v_wind))\n",
    "    good_u_wind = u_wind[~bad]\n",
    "    good_v_wind = v_wind[~bad]\n",
    "\n",
    "    radar_height = radar.gate_z['data'][0]\n",
    "    good_height = radar_height[~bad]\n",
    "    if z_want is None:\n",
    "        z_want = np.linspace(0, 1000, 100)\n",
    "    else:\n",
    "        z_want\n",
    "    try:\n",
    "        print('max height', np.max(good_height), ' meters')\n",
    "        print('min height', np.min(good_height), ' meters')\n",
    "    except ValueError:\n",
    "        raise ValueError('Not enough data in this radar sweep ' \\\n",
    "                         'for a vad calculation.')\n",
    "\n",
    "    u_interp = _Average1D(good_height, good_u_wind,\n",
    "                          z_want[1] - z_want[0] / window, weight)\n",
    "    v_interp = _Average1D(good_height, good_v_wind,\n",
    "                          z_want[1] - z_want[0] / window, weight)\n",
    "\n",
    "    u_wanted = u_interp(z_want)\n",
    "    v_wanted = v_interp(z_want)\n",
    "    u_wanted = np.ma.masked_equal(u_wanted, 99999.)\n",
    "    v_wanted = np.ma.masked_equal(v_wanted, 99999.)\n",
    "\n",
    "    vad = HorizontalWindProfile.from_u_and_v(\n",
    "        z_want, u_wanted, v_wanted)\n",
    "    return vad\n",
    "\n",
    "def _vad calculation(velocities, azimuths,\n",
    "                     elevation, valid_ray_min):\n",
    "    \"\"\" Calculates VAD for a scan and returns u_mean and\n",
    "    v_mean. velocities is a 2D array, azimuths is a 1D\n",
    "    array, elevation is a number.\n",
    "\n",
    "    Jonathan's Note:\n",
    "    We need to solve: Ax = b\n",
    "    where:\n",
    "    A = [sum_sin_squared_az, sum_sin_cos_az    ] = [a, b]\n",
    "        [sum_sin_cos_az,     sum_cos_squared_az]   [c, d]\n",
    "    b = [sum_sin_vel_dev] = [b_1]\n",
    "        [sum_cos_vel_dev]   [b_2]\n",
    "    The solution to this is:\n",
    "    x = A-1 * b\n",
    "\n",
    "    A-1 is:\n",
    "     1    [ d,  -b ]\n",
    "    --- * [ -c,  a ]\n",
    "    |A|\n",
    "\n",
    "    and the determinate, det is: det = a*d - b*c\n",
    "\n",
    "    Therefore the elements of x are:\n",
    "\n",
    "    x_1 = (d* b_1  + -b * b_2) / det = (d*b_1 - b*b_2) / det\n",
    "    x_2 = (-c * b_1 +  a * b_2) / det = (a*b_2 - c*b_1) / det\n",
    "\n",
    "    \"\"\"\n",
    "    velocities = velocities.filled(np.nan)\n",
    "    shape = velocities.shape\n",
    "    _, nbins = velocities.shape\n",
    "\n",
    "    invalid = np.isnan(velocities)\n",
    "    valid_rays_per_gate = np.sum(~np.isnan(velocities), axis=0)\n",
    "    too_few_valid_rays = valid_rays_per_gate < valid_ray_min\n",
    "    invalid[:, too_few_valid_rays] = True\n",
    "\n",
    "    sin_az = np.sin(np.deg2rad(azimuths))\n",
    "    cos_az = np.cos(np.deg2rad(azimuths))\n",
    "    sin_az = np.repeat(sin_az, nbins).reshape(shape)\n",
    "    cos_az = np.repeat(cos_az, nbins).reshape(shape)\n",
    "    sin_az[invalid] = np.nan\n",
    "    cos_az[invalid] = np.nan\n",
    "\n",
    "    mean_velocity_per_gate = np.nanmean(velocities, axis=0).reshape(1, -1)\n",
    "    velocity_deviation = velocities - mean_velocity_per_gate\n",
    "\n",
    "    sum_cos_vel_dev = np.nansum(cos_az * velocity_deviation, axis=0)\n",
    "    sum_sin_vel_dev = np.nansum(sin_az * velocity_deviation, axis=0)\n",
    "\n",
    "    sum_sin_cos_az = np.nansum(sin_az * cos_az, axis=0)\n",
    "    sum_sin_squared_az = np.nansum(sin_az**2, axis=0)\n",
    "    sum_cos_squared_az = np.nansum(cos_az**2, axis=0)\n",
    "\n",
    "    # The A matrix\n",
    "    a = sum_sin_squared_az\n",
    "    b = sum_sin_cos_az\n",
    "    c = sum_sin_cos_az\n",
    "    d = sum_cos_squared_az\n",
    "\n",
    "    # The b vector\n",
    "    b_1 = sum_sin_vel_dev\n",
    "    b_2 = sum_cos_vel_dev\n",
    "\n",
    "    # solve for the x vector\n",
    "    determinant = a*d - b*c\n",
    "    x_1 = (d*b_1 - b*b_2) / determinant\n",
    "    x_2 = (a*b_2 - c*b_1) / determinant\n",
    "\n",
    "    # calculate horizontal components of winds\n",
    "    elevation_scale = 1 / np.cos(np.deg2rad(elevation))\n",
    "    u_mean = x_1 * elevation_scale\n",
    "    v_mean = x_2 * elevation_scale\n",
    "    return u_mean, v_mean\n",
    "\n",
    "\n",
    "def _inverse_dist_squared(dist):\n",
    "    \"\"\" Obtaining distance weights by using distance weighting\n",
    "    interpolation, using the inverse distance-squared relationship.\n",
    "    \"\"\"\n",
    "    weights = 1 / (dist * dist)\n",
    "    weights[np.isnan(weights)] = 99999.\n",
    "    return weights\n",
    "\n",
    "\n",
    "class _Average1D(object):\n",
    "    \"\"\" Used to find the nearest gate height and horizontal wind\n",
    "    value with respect to the user's desired height. \"\"\"\n",
    "    def __init__(self, x, y, window, weight,\n",
    "                 fill_value=99999.):\n",
    "        sort_idx = np.argsort(x)\n",
    "        self.x_sorted = x[sort_idx]\n",
    "        self.y_sorted = y[sort_idx]\n",
    "        self.window = window\n",
    "        self.fill_value = fill_value\n",
    "\n",
    "        if weight == 'equal':\n",
    "            self.weight_func = lambda x: None\n",
    "        elif weight == 'idw':\n",
    "            self.weight_func = _inverse_dist_squared\n",
    "        elif callable(weight):\n",
    "            self.weight_func = weight\n",
    "        else:\n",
    "            raise ValueError(\"Invalid weight argument:\", weight)\n",
    "\n",
    "    def __call__(self, x_new, window=None):\n",
    "        if window is None:\n",
    "            window = self.window\n",
    "        y_new = np.zeros_like(x_new, dtype=self.y_sorted.dtype)\n",
    "        for i, center in enumerate(x_new):\n",
    "\n",
    "            bottom = center - window\n",
    "            top = center + window\n",
    "            start = np.searchsorted(self.x_sorted, bottom)\n",
    "            stop = np.searchsorted(self.x_sorted, top)\n",
    "\n",
    "            x_in_window = self.x_sorted[start:stop]\n",
    "            y_in_window = self.y_sorted[start:stop]\n",
    "            if len(x_in_window) == 0:\n",
    "                y_new[i] = self.fill_value\n",
    "            else:\n",
    "                distances = x_in_window - center\n",
    "                weights = self.weight_func(distances)\n",
    "                y_new[i] = np.average(y_in_window, weights=weights)\n",
    "        return y_new"
   ]
  },
  {
   "cell_type": "code",
   "execution_count": 12,
   "metadata": {
    "collapsed": false,
    "deletable": true,
    "editable": true
   },
   "outputs": [
    {
     "name": "stderr",
     "output_type": "stream",
     "text": [
      "/home/zsherman/anaconda3/lib/python3.5/json/encoder.py:198: DeprecationWarning: Interpreting naive datetime as local 2017-04-18 15:29:17.260967. Please add timezone info to timestamps.\n",
      "  chunks = self.iterencode(o, _one_shot=True)\n"
     ]
    }
   ],
   "source": [
    "filename = '/home/zsherman/training_exercises/data/KLOT20130417_235520_V06.gz'\n",
    "myradar = pyart.io.read(filename)"
   ]
  },
  {
   "cell_type": "code",
   "execution_count": 146,
   "metadata": {
    "collapsed": false,
    "deletable": true,
    "editable": true
   },
   "outputs": [
    {
     "data": {
      "text/plain": [
       "array([   0,  720, 1440, 2160, 2880, 3600, 4320, 4680, 5040, 5400, 5760,\n",
       "       6120, 6480, 6840, 7200, 7560, 7920], dtype=int32)"
      ]
     },
     "execution_count": 146,
     "metadata": {},
     "output_type": "execute_result"
    },
    {
     "name": "stderr",
     "output_type": "stream",
     "text": [
      "/home/zsherman/anaconda3/lib/python3.5/json/encoder.py:198: DeprecationWarning: Interpreting naive datetime as local 2017-04-07 14:53:44.999927. Please add timezone info to timestamps.\n",
      "  chunks = self.iterencode(o, _one_shot=True)\n"
     ]
    }
   ],
   "source": [
    "myradar.sweep_start_ray_index['data']"
   ]
  },
  {
   "cell_type": "code",
   "execution_count": null,
   "metadata": {
    "collapsed": false,
    "deletable": true,
    "editable": true
   },
   "outputs": [],
   "source": [
    "velocities = myradar.fields['velocity']['data'][:, :]\n",
    "azimuths = myradar.azimuth['data'][:]\n",
    "elevation = myradar.fixed_angle['data'][0]\n",
    "\n",
    "u_wind, v_wind = _vad_calculation(velocities, azimuths,\n",
    "                                  elevation, 16)"
   ]
  },
  {
   "cell_type": "code",
   "execution_count": 206,
   "metadata": {
    "collapsed": false,
    "deletable": true,
    "editable": true
   },
   "outputs": [],
   "source": [
    "gatefilter = pyart.correct.GateFilter(myradar)\n",
    "velocities = myradar.fields[\n",
    "    'velocity']['data'][:, :]\n",
    "#velocities = velocities.filled(np.nan)\n",
    "shape = velocities.shape\n",
    "_, nbins = velocities.shape\n",
    "#velocities = np.ma.masked_invalid(velocities)\n",
    "\n",
    "azimuths = myradar.azimuth['data'][:]\n",
    "elevation = myradar.fixed_angle['data'][0]\n",
    "invalid = np.ma.getmaskarray(velocities)\n",
    "valid_rays_per_gate = np.sum(~ma.getmaskarray(velocities),\n",
    "                             axis=0)\n",
    "too_few_valid_rays = valid_rays_per_gate < 16\n",
    "invalid[:, too_few_valid_rays] = True\n",
    "\n",
    "gatefilter.exclude_gates(invalid)"
   ]
  },
  {
   "cell_type": "code",
   "execution_count": 207,
   "metadata": {
    "collapsed": false,
    "deletable": true,
    "editable": true
   },
   "outputs": [],
   "source": [
    "sin_az = np.sin(np.deg2rad(azimuths))\n",
    "cos_az = np.cos(np.deg2rad(azimuths))\n",
    "sin_az = np.repeat(sin_az, nbins).reshape(shape)\n",
    "cos_az = np.repeat(cos_az, nbins).reshape(shape)\n",
    "sin_az[invalid] = np.nan\n",
    "cos_az[invalid] = np.nan\n",
    "\n",
    "sin_az = np.ma.masked_invalid(sin_az)\n",
    "cos_az = np.ma.masked_invalid(cos_az)\n",
    "\n",
    "mean_velocity_per_gate = ma.mean(velocities, axis=0).reshape(1, -1)\n",
    "velocity_deviation = velocities - mean_velocity_per_gate\n",
    "\n",
    "sum_cos_vel_dev = ma.sum(cos_az * velocity_deviation, axis=0)\n",
    "sum_sin_vel_dev = ma.sum(sin_az * velocity_deviation, axis=0)\n",
    "\n",
    "sum_sin_cos_az = ma.sum(sin_az * cos_az, axis=0)\n",
    "sum_sin_squared_az = ma.sum(sin_az**2, axis=0)\n",
    "sum_cos_squared_az = ma.sum(cos_az**2, axis=0)\n",
    "\n",
    "# The A matrix\n",
    "a = sum_sin_squared_az\n",
    "b = sum_sin_cos_az\n",
    "c = sum_sin_cos_az\n",
    "d = sum_cos_squared_az\n",
    "\n",
    "# The b vector\n",
    "b_1 = sum_sin_vel_dev\n",
    "b_2 = sum_cos_vel_dev\n",
    "\n",
    "# solve for the x vector\n",
    "determinant = a*d - b*c\n",
    "x_1 = (d*b_1 - b*b_2) / determinant\n",
    "x_2 = (a*b_2 - c*b_1) / determinant\n",
    "\n",
    "# calculate horizontal components of winds\n",
    "elevation_scale = 1 / np.cos(np.deg2rad(elevation))\n",
    "u_mean = x_1 * elevation_scale\n",
    "v_mean = x_2 * elevation_scale"
   ]
  },
  {
   "cell_type": "code",
   "execution_count": 208,
   "metadata": {
    "collapsed": false,
    "deletable": true,
    "editable": true
   },
   "outputs": [
    {
     "data": {
      "text/plain": [
       "7.4338383120712637"
      ]
     },
     "execution_count": 208,
     "metadata": {},
     "output_type": "execute_result"
    }
   ],
   "source": [
    "u_mean.mean()  "
   ]
  },
  {
   "cell_type": "code",
   "execution_count": null,
   "metadata": {
    "collapsed": true,
    "deletable": true,
    "editable": true
   },
   "outputs": [],
   "source": [
    "z = myradar.gate_z['data'][0]"
   ]
  },
  {
   "cell_type": "code",
   "execution_count": 210,
   "metadata": {
    "collapsed": false,
    "deletable": true,
    "editable": true
   },
   "outputs": [],
   "source": [
    "z = np.ma.masked_where(u_mean.mask, z)"
   ]
  },
  {
   "cell_type": "code",
   "execution_count": 211,
   "metadata": {
    "collapsed": false,
    "deletable": true,
    "editable": true,
    "scrolled": false
   },
   "outputs": [
    {
     "data": {
      "text/plain": [
       "2779.4054991734856"
      ]
     },
     "execution_count": 211,
     "metadata": {},
     "output_type": "execute_result"
    }
   ],
   "source": [
    "z.mean()"
   ]
  },
  {
   "cell_type": "code",
   "execution_count": 268,
   "metadata": {
    "collapsed": false,
    "deletable": true,
    "editable": true,
    "scrolled": false
   },
   "outputs": [
    {
     "data": {
      "image/png": "[encoded data removed]",
      "text/plain": [
       "<matplotlib.figure.Figure at 0x7fac03692588>"
      ]
     },
     "metadata": {},
     "output_type": "display_data"
    }
   ],
   "source": [
    "fig = plt.figure()\n",
    "ax = fig.add_subplot(111)\n",
    "\n",
    "ax.plot(u_mean, np.arange(0, 1832), 'b-')\n",
    "ax.plot(v_mean, np.arange(0, 1832), 'r-')\n",
    "\n",
    "plt.show()"
   ]
  },
  {
   "cell_type": "code",
   "execution_count": 234,
   "metadata": {
    "collapsed": true,
    "deletable": true,
    "editable": true
   },
   "outputs": [],
   "source": [
    "radar_sweep = myradar.extract_sweeps([3])"
   ]
  },
  {
   "cell_type": "code",
   "execution_count": 244,
   "metadata": {
    "collapsed": false,
    "deletable": true,
    "editable": true
   },
   "outputs": [
    {
     "name": "stderr",
     "output_type": "stream",
     "text": [
      "/home/zsherman/anaconda3/lib/python3.5/site-packages/numpy/lib/nanfunctions.py:703: RuntimeWarning: Mean of empty slice\n",
      "  warnings.warn(\"Mean of empty slice\", RuntimeWarning)\n",
      "/home/zsherman/anaconda3/lib/python3.5/site-packages/ipykernel/__main__.py:43: RuntimeWarning: invalid value encountered in true_divide\n",
      "/home/zsherman/anaconda3/lib/python3.5/site-packages/ipykernel/__main__.py:44: RuntimeWarning: invalid value encountered in true_divide\n"
     ]
    }
   ],
   "source": [
    "velocities = myradar.fields[\n",
    "    'velocity']['data'][:, :]\n",
    "azimuths = myradar.azimuth['data'][:]\n",
    "elevation = myradar.fixed_angle['data'][0]\n",
    "velocities = velocities.filled(np.nan)\n",
    "shape = velocities.shape\n",
    "_, nbins = velocities.shape\n",
    "\n",
    "invalid = np.isnan(velocities)\n",
    "valid_rays_per_gate = np.sum(~np.isnan(velocities), axis=0)\n",
    "too_few_valid_rays = valid_rays_per_gate < 16\n",
    "invalid[:, too_few_valid_rays] = True\n",
    "\n",
    "sin_az = np.sin(np.deg2rad(azimuths))\n",
    "cos_az = np.cos(np.deg2rad(azimuths))\n",
    "sin_az = np.repeat(sin_az, nbins).reshape(shape)\n",
    "cos_az = np.repeat(cos_az, nbins).reshape(shape)\n",
    "sin_az[invalid] = np.nan\n",
    "cos_az[invalid] = np.nan\n",
    "\n",
    "mean_velocity_per_gate = np.nanmean(velocities, axis=0).reshape(1, -1)\n",
    "velocity_deviation = velocities - mean_velocity_per_gate\n",
    "\n",
    "sum_cos_vel_dev = np.nansum(cos_az * velocity_deviation, axis=0)\n",
    "sum_sin_vel_dev = np.nansum(sin_az * velocity_deviation, axis=0)\n",
    "\n",
    "sum_sin_cos_az = np.nansum(sin_az * cos_az, axis=0)\n",
    "sum_sin_squared_az = np.nansum(sin_az**2, axis=0)\n",
    "sum_cos_squared_az = np.nansum(cos_az**2, axis=0)\n",
    "\n",
    "# The A matrix\n",
    "a = sum_sin_squared_az\n",
    "b = sum_sin_cos_az\n",
    "c = sum_sin_cos_az\n",
    "d = sum_cos_squared_az\n",
    "\n",
    "# The b vector\n",
    "b_1 = sum_sin_vel_dev\n",
    "b_2 = sum_cos_vel_dev\n",
    "\n",
    "# solve for the x vector\n",
    "determinant = a*d - b*c\n",
    "x_1 = (d*b_1 - b*b_2) / determinant\n",
    "x_2 = (a*b_2 - c*b_1) / determinant\n",
    "\n",
    "# calculate horizontal components of winds\n",
    "elevation_scale = 1 / np.cos(np.deg2rad(elevation))\n",
    "u_mean = x_1 * elevation_scale\n",
    "v_mean = x_2 * elevation_scale"
   ]
  },
  {
   "cell_type": "code",
   "execution_count": 245,
   "metadata": {
    "collapsed": false,
    "deletable": true,
    "editable": true
   },
   "outputs": [
    {
     "data": {
      "text/plain": [
       "array([-4.83624914, -4.67340984, -4.28149315, ...,         nan,\n",
       "               nan,         nan])"
      ]
     },
     "execution_count": 245,
     "metadata": {},
     "output_type": "execute_result"
    }
   ],
   "source": [
    "u_mean"
   ]
  },
  {
   "cell_type": "code",
   "execution_count": 304,
   "metadata": {
    "collapsed": false,
    "deletable": true,
    "editable": true
   },
   "outputs": [
    {
     "name": "stdout",
     "output_type": "stream",
     "text": [
      "max height 16378.3196353  meters\n",
      "min height 18.4995460641  meters\n"
     ]
    },
    {
     "data": {
      "text/plain": [
       "(1832,)"
      ]
     },
     "execution_count": 304,
     "metadata": {},
     "output_type": "execute_result"
    }
   ],
   "source": [
    "height = myradar.gate_z['data'][0]\n",
    "bad = np.logical_or(np.isnan(u_mean), np.isnan(v_mean))\n",
    "\n",
    "good_u_wind = u_mean[~bad]\n",
    "good_v_wind = v_mean[~bad]\n",
    "good_height = height[~bad]\n",
    "print('max height', np.max(height), ' meters')\n",
    "print('min height', np.min(height), ' meters')\n",
    "u_mean.shape"
   ]
  },
  {
   "cell_type": "code",
   "execution_count": 307,
   "metadata": {
    "collapsed": false,
    "deletable": true,
    "editable": true
   },
   "outputs": [
    {
     "data": {
      "text/plain": [
       "(8280,)"
      ]
     },
     "execution_count": 307,
     "metadata": {},
     "output_type": "execute_result"
    }
   ],
   "source": [
    "myradar.azimuth['data'].shape"
   ]
  },
  {
   "cell_type": "code",
   "execution_count": 285,
   "metadata": {
    "collapsed": false,
    "deletable": true,
    "editable": true
   },
   "outputs": [
    {
     "data": {
      "text/plain": [
       "(1832,)"
      ]
     },
     "execution_count": 285,
     "metadata": {},
     "output_type": "execute_result"
    }
   ],
   "source": [
    "myradar.gate_z['data'][0].shape"
   ]
  },
  {
   "cell_type": "code",
   "execution_count": 282,
   "metadata": {
    "collapsed": false,
    "deletable": true,
    "editable": true
   },
   "outputs": [
    {
     "data": {
      "text/plain": [
       "(1832,)"
      ]
     },
     "execution_count": 282,
     "metadata": {},
     "output_type": "execute_result"
    }
   ],
   "source": [
    "u_mean.shape"
   ]
  },
  {
   "cell_type": "code",
   "execution_count": 251,
   "metadata": {
    "collapsed": false,
    "deletable": true,
    "editable": true
   },
   "outputs": [
    {
     "data": {
      "text/plain": [
       "(8280,)"
      ]
     },
     "execution_count": 251,
     "metadata": {},
     "output_type": "execute_result"
    }
   ],
   "source": [
    "myradar.azimuth['data'].shape"
   ]
  },
  {
   "cell_type": "code",
   "execution_count": 150,
   "metadata": {
    "collapsed": false,
    "deletable": true,
    "editable": true
   },
   "outputs": [
    {
     "data": {
      "text/plain": [
       "7.4338383114325026"
      ]
     },
     "execution_count": 150,
     "metadata": {},
     "output_type": "execute_result"
    }
   ],
   "source": [
    "good_u_wind.mean()"
   ]
  },
  {
   "cell_type": "code",
   "execution_count": 345,
   "metadata": {
    "collapsed": false,
    "deletable": true,
    "editable": true
   },
   "outputs": [
    {
     "data": {
      "text/plain": [
       "array([ 0.765])"
      ]
     },
     "execution_count": 345,
     "metadata": {},
     "output_type": "execute_result"
    }
   ],
   "source": [
    "np.diff(myradar.time['data'][719:721])"
   ]
  },
  {
   "cell_type": "code",
   "execution_count": 329,
   "metadata": {
    "collapsed": false,
    "deletable": true,
    "editable": true
   },
   "outputs": [],
   "source": [
    "t = myradar.time['data']"
   ]
  },
  {
   "cell_type": "code",
   "execution_count": null,
   "metadata": {
    "collapsed": false,
    "deletable": true,
    "editable": true
   },
   "outputs": [],
   "source": [
    "fig2 = plt.figure()\n",
    "ax2 = fig2.add_subplot(111)\n",
    "\n",
    "ax2.plot(u_mean, np.arange(0, 1832), 'b-')\n",
    "\n",
    "plt.show()"
   ]
  },
  {
   "cell_type": "code",
   "execution_count": 16,
   "metadata": {
    "collapsed": false,
    "deletable": true,
    "editable": true,
    "scrolled": false
   },
   "outputs": [
    {
     "name": "stdout",
     "output_type": "stream",
     "text": [
      "max height: 707.136208968\n",
      "max height 707.136208968  meters\n",
      "min height 0.0  meters\n"
     ]
    },
    {
     "data": {
      "image/png": "[encoded data removed]",
      "text/plain": [
       "<matplotlib.figure.Figure at 0x7f45a670f128>"
      ]
     },
     "metadata": {},
     "output_type": "display_data"
    },
    {
     "name": "stdout",
     "output_type": "stream",
     "text": [
      "Height\n",
      "[  0.         10.1010101  20.2020202  30.3030303  40.4040404]\n",
      "[  0.         10.1010101  20.2020202  30.3030303  40.4040404]\n",
      "[  959.5959596   969.6969697   979.7979798   989.8989899  1000.       ]\n",
      "[  959.5959596   969.6969697   979.7979798   989.8989899  1000.       ]\n",
      "u_wind:\n",
      "[-2.11309131 -2.11309131 -2.11309131 -2.11309131 -2.11309131]\n",
      "[-2.113091255279754 -2.113091255279754 -2.113091255279754\n",
      " -2.113091255279754 -2.113091255279754]\n",
      "[-2.11309131 -2.11309131 -2.11309131 -2.11309131 -2.11309131]\n",
      "[-- -- -- -- --]\n",
      "v_wind:\n",
      "[-4.53153894 -4.53153894 -4.53153894 -4.53153894 -4.53153894 -4.53153894\n",
      " -4.53153894 -4.53153894 -4.53153894 -4.53153894 -4.53153894 -4.53153894\n",
      " -4.53153894 -4.53153894 -4.53153894 -4.53153894 -4.53153894 -4.53153894\n",
      " -4.53153894 -4.53153894 -4.53153894 -4.53153894 -4.53153894 -4.53153894\n",
      " -4.53153894 -4.53153894 -4.53153894 -4.53153894 -4.53153894 -4.53153894\n",
      " -4.53153894 -4.53153894 -4.53153894 -4.53153894 -4.53153894 -4.53153894\n",
      " -4.53153894 -4.53153894 -4.53153894 -4.53153894 -4.53153894 -4.53153894\n",
      " -4.53153894 -4.53153894 -4.53153894 -4.53153894 -4.53153894 -4.53153894\n",
      " -4.53153894 -4.53153894 -4.53153894 -4.53153894 -4.53153894 -4.53153894\n",
      " -4.53153894 -4.53153894 -4.53153894 -4.53153894 -4.53153894 -4.53153894\n",
      " -4.53153894 -4.53153894 -4.53153894 -4.53153894 -4.53153894 -4.53153894\n",
      " -4.53153894 -4.53153894 -4.53153894 -4.53153894 -4.53153894 -4.53153894\n",
      " -4.53153894 -4.53153894 -4.53153894 -4.53153894 -4.53153894 -4.53153894\n",
      " -4.53153894 -4.53153894 -4.53153894 -4.53153894 -4.53153894 -4.53153894\n",
      " -4.53153894 -4.53153894 -4.53153894 -4.53153894 -4.53153894 -4.53153894\n",
      " -4.53153894 -4.53153894 -4.53153894 -4.53153894 -4.53153894 -4.53153894\n",
      " -4.53153894 -4.53153894 -4.53153894 -4.53153894]\n",
      "[-4.531539325681657 -4.531539325681657 -4.531539325681657\n",
      " -4.531539325681657 -4.531539325681657 -4.531539325681657\n",
      " -4.531539325681657 -4.531539325681657 -4.531539325681657\n",
      " -4.531539325681657 -4.531539325681657 -4.531539325681657\n",
      " -4.531539325681657 -4.531539325681657 -4.531539325681657\n",
      " -4.531539325681657 -4.531539325681657 -4.531539325681657\n",
      " -4.531539325681657 -4.531539325681657 -4.531539325681657\n",
      " -4.531539325681657 -4.531539325681657 -4.531539325681657\n",
      " -4.531539325681657 -4.531539325681657 -4.531539325681657\n",
      " -4.531539325681657 -4.531539325681657 -4.531539325681657\n",
      " -4.531539325681657 -4.531539325681657 -4.531539325681657\n",
      " -4.531539325681657 -4.531539325681657 -4.531539325681657\n",
      " -4.531539325681657 -4.531539325681657 -4.531539325681657\n",
      " -4.531539325681657 -4.531539325681657 -4.531539325681657\n",
      " -4.531539325681657 -4.531539325681657 -4.531539325681657\n",
      " -4.531539325681657 -4.531539325681657 -4.531539325681657\n",
      " -4.531539325681657 -4.531539325681657 -4.531539325681657\n",
      " -4.531539325681657 -4.531539325681657 -4.531539325681657\n",
      " -4.531539325681657 -4.531539325681657 -4.531539325681657\n",
      " -4.531539325681657 -4.531539325681657 -4.531539325681657\n",
      " -4.531539325681657 -4.531539325681657 -4.531539325681657\n",
      " -4.531539325681657 -4.531539325681657 -4.531539325681657\n",
      " -4.531539325681657 -4.531539325681657 -4.531539325681657\n",
      " -4.531539325681657 -4.531539325681657 -4.531539325681657 -- -- -- -- -- --\n",
      " -- -- -- -- -- -- -- -- -- -- -- -- -- -- -- -- -- -- -- -- -- --]\n",
      "speed:\n",
      "[ 5.  5.  5.  5.  5.]\n",
      "[5.0000003313339025 5.0000003313339025 5.0000003313339025\n",
      " 5.0000003313339025 5.0000003313339025]\n",
      "[-- -- -- -- --]\n",
      "direction:\n",
      "[ 25.  25.  25.  25.  25.]\n",
      "[24.999997554042043 24.999997554042043 24.999997554042043\n",
      " 24.999997554042043 24.999997554042043]\n",
      "[-- -- -- -- --]\n"
     ]
    },
    {
     "name": "stderr",
     "output_type": "stream",
     "text": [
      "/home/zsherman/anaconda3/lib/python3.5/json/encoder.py:198: DeprecationWarning: Interpreting naive datetime as local 2017-04-18 15:44:11.191814. Please add timezone info to timestamps.\n",
      "  chunks = self.iterencode(o, _one_shot=True)\n"
     ]
    }
   ],
   "source": [
    "import numpy as np\n",
    "\n",
    "# create a profile of 100 heights up to 500 m with 5 m/s winds at 25 degrees\n",
    "height = np.linspace(0, 1000, 100)\n",
    "speed = np.ones_like(height) * 5\n",
    "direction = np.ones_like(height) * 25\n",
    "profile = pyart.core.HorizontalWindProfile(height, speed, direction)\n",
    "\n",
    "# simulate a single sweep radar with a velocity field from the profile\n",
    "test_radar = pyart.testing.make_target_radar()\n",
    "test_radar.elevation['data'][:] = 45.0\n",
    "test_radar.fixed_angle['data'][:] = 45.0\n",
    "print(\"max height:\", test_radar.gate_z['data'].max())\n",
    "sim_vel = pyart.util.simulated_vel_from_profile(test_radar, profile)\n",
    "test_radar.add_field('velocity', sim_vel, replace_existing=True)\n",
    "\n",
    "# perform a VAD retrieval\n",
    "vad_test = velocity_azimuth_display(\n",
    "    test_radar, 'velocity', valid_ray_min=16,\n",
    "    height=height, window=2,\n",
    "    gatefilter=None)\n",
    "\n",
    "fig = plt.figure()\n",
    "ax = fig.add_subplot(111)\n",
    "\n",
    "ax.plot(profile.u_wind, profile.height, 'r-')\n",
    "ax.plot(profile.v_wind, profile.height, 'b-')\n",
    "\n",
    "ax.plot(vad_test.u_wind, vad_test.height, 'g--')\n",
    "ax.plot(vad_test.v_wind, vad_test.height, 'k--')\n",
    "\n",
    "ax.set_xlim(-5, 0)\n",
    "plt.show()\n",
    "# print out the results\n",
    "print(\"Height\")\n",
    "print(profile.height[:5])\n",
    "print(vad_test.height[:5])\n",
    "print(profile.height[-5:])\n",
    "print(vad_test.height[-5:])\n",
    "\n",
    "print(\"u_wind:\")\n",
    "print(profile.u_wind[:5])\n",
    "print(vad_test.u_wind[:5])\n",
    "print(profile.u_wind[-5:])\n",
    "print(vad_test.u_wind[-5:])\n",
    "\n",
    "print(\"v_wind:\")\n",
    "print(profile.v_wind)\n",
    "print(vad_test.v_wind)\n",
    "#print(profile.v_wind[-5:])\n",
    "#print(vad_test.v_wind[-5:])\n",
    "\n",
    "print(\"speed:\")\n",
    "print(profile.speed[:5])\n",
    "print(vad_test.speed[:5])\n",
    "print(vad_test.speed[-5:])\n",
    "print(\"direction:\")\n",
    "print(profile.direction[:5])\n",
    "print(vad_test.direction[:5])\n",
    "print(vad_test.direction[-5:])"
   ]
  },
  {
   "cell_type": "code",
   "execution_count": 42,
   "metadata": {
    "collapsed": false,
    "deletable": true,
    "editable": true
   },
   "outputs": [
    {
     "name": "stderr",
     "output_type": "stream",
     "text": [
      "/home/zsherman/.local/lib/python3.5/site-packages/pyart/io/nexrad_archive.py:207: UserWarning: Gate spacing is not constant, interpolating data in scans [0, 2, 4, 5, 6] for moment REF.\n",
      "  UserWarning)\n",
      "/home/zsherman/anaconda3/lib/python3.5/site-packages/numpy/lib/nanfunctions.py:703: RuntimeWarning: Mean of empty slice\n",
      "  warnings.warn(\"Mean of empty slice\", RuntimeWarning)\n"
     ]
    },
    {
     "name": "stdout",
     "output_type": "stream",
     "text": [
      "max height: 32085.2190865\n",
      "max height 9837.16932286  meters\n",
      "min height 50.7863716818  meters\n",
      "Height\n",
      "[    50.      157.16    264.32    371.48    478.64    585.8     692.96\n",
      "    800.12    907.28   1014.44   1121.6    1228.76   1335.92   1443.08\n",
      "   1550.24   1657.4    1764.56   1871.72   1978.88   2086.04   2193.2\n",
      "   2300.36   2407.52   2514.68   2621.84   2729.     2836.16   2943.32\n",
      "   3050.48   3157.64   3264.8    3371.96   3479.12   3586.28   3693.44\n",
      "   3800.6    3907.76   4014.92   4122.08   4229.24   4336.4    4443.56\n",
      "   4550.72   4657.88   4765.04   4872.2    4979.36   5086.52   5193.68\n",
      "   5300.84   5408.     5515.16   5622.32   5729.48   5836.64   5943.8\n",
      "   6050.96   6158.12   6265.28   6372.44   6479.6    6586.76   6693.92\n",
      "   6801.08   6908.24   7015.4    7122.56   7229.72   7336.88   7444.04\n",
      "   7551.2    7658.36   7765.52   7872.68   7979.84   8087.     8194.16\n",
      "   8301.32   8408.48   8515.64   8622.8    8729.96   8837.12   8944.28\n",
      "   9051.44   9158.6    9265.76   9372.92   9480.08   9587.24   9694.4\n",
      "   9801.56   9908.72  10015.88  10123.04  10230.2   10337.36  10444.52\n",
      "  10551.68  10658.84  10766.  ]\n",
      "u_wind:\n",
      "[-7.831601216577894 -7.9892692432524 -7.028489604545207 -4.267510911075403\n",
      " -1.6851166217876978 0.3966847678419029 2.1818090987245284\n",
      " 3.705124225558213 4.8719731189555375 5.534902658620038 6.232982869133512\n",
      " 7.226862580843948 8.840491081167984 10.428613982214655 11.244342181992774\n",
      " 11.50370999051492 11.970822021288393 12.516612709974588 13.301641947575634\n",
      " 14.406249272739082 15.354973798890635 15.594412732057949\n",
      " 15.057820093198405 14.848297268190995 14.797951751156743\n",
      " 14.529883398869371 14.363625444040098 15.018101915209957\n",
      " 15.801617214056659 15.932727589772766 15.425119589602282\n",
      " 14.749249382592147 14.371507632030076 14.716149947614516 15.2433033225119\n",
      " 15.497040514649076 15.392728201827232 15.618190426617096 15.55635711334915\n",
      " 15.053694159281148 15.360920836993715 15.884443890062476\n",
      " 16.500836725980225 16.73733874997797 12.718176624259682 6.328607982421902\n",
      " -- -- -- -- 3.224321403106186 30.857856598740426 33.246670691672946\n",
      " 33.710250320346475 29.032471060004067 -- -2.2617568300875535\n",
      " 0.02845145649150707 1.0428533343068025 1.723399842720551\n",
      " 1.4338707693780193 1.4569828840031234 1.6105527501839265\n",
      " 1.3182645462449447 0.36756264940852257 -0.0031413850241514365\n",
      " 1.4468405895852876 2.4932997546759905 2.26307015892465 1.98154370991915\n",
      " 2.9894324236893963 4.842286641127161 6.911711438065284 8.509113899137025\n",
      " 8.52594773896021 5.9277565009776545 4.5201768677097975 5.689711521064474\n",
      " 5.2968634206926195 3.870518350274286 2.3824412563212527 0.6093787752954996\n",
      " -1.8071292555289116 -3.722768023379766 -6.303404130850009\n",
      " -8.303168291269037 -9.31428612137034 -8.232224654521136 -7.550663655355473\n",
      " -8.177110080898151 -11.946479890344671 -13.45084737272289\n",
      " -17.523794937439447 -- -- -- -- -- -- -- --]\n",
      "v_wind:\n",
      "[-0.8816609024426135 -0.037981868260686356 1.3168860497445956\n",
      " 1.914922488869231 1.1585517948469701 -0.5054223383005026\n",
      " -1.7049243400039502 -2.142402560136911 -1.8347972070564893\n",
      " -0.9155145488555326 0.13387649361035234 1.2153597099904632\n",
      " 2.3457592003564653 3.7947267112575065 5.089773635151421 6.346558281769761\n",
      " 7.272487238796305 7.959737135585407 8.403089093360876 8.49066291592773\n",
      " 7.80607812689352 6.625609374559252 5.376895462782034 4.487293678271569\n",
      " 3.886564104672926 3.508454995103707 3.231101432848108 2.9854520758001173\n",
      " 2.72741316231933 2.5137175558026543 2.0589609601073766 1.3856268051864342\n",
      " 0.8074482338790664 1.519282775118401 2.785998642964533 3.4938563490205983\n",
      " 3.966606099579929 5.097915789425715 6.010203292388478 6.034360317804674\n",
      " 6.319006063148864 6.4592175441462905 6.420568019289568 6.203169293831405\n",
      " 4.822922908407414 2.4188182775157485 -- -- -- -- 0.5917389435556479\n",
      " 13.847225015590219 15.320360035370255 15.490175658542734\n",
      " 14.480000713736043 -- 9.049331163903519 0.8989627892766118\n",
      " -1.4512883521956892 -1.9615788991147318 1.1310131667244188\n",
      " 4.225320181024857 5.565340057055596 5.189661495364787 3.8094035661619037\n",
      " 2.3996639228004404 1.0711439225368111 1.9437759808849864 4.035371518378399\n",
      " 2.9443851666869145 1.084978208252054 2.2850612260241894 5.871491378761092\n",
      " 7.685786939053283 10.213705942378393 16.772404700421554 14.77359224563513\n",
      " 2.0758164263247885 1.0705265964073278 -3.7407867218946294\n",
      " -8.42275001429254 -13.473253547684532 -17.178109264732047\n",
      " -18.430509275199462 -18.34783562238357 -18.470055813052266\n",
      " -18.98621934656768 -16.98690090354597 -13.848139512594823\n",
      " -12.92271281125725 -14.70885365617321 -14.624971502856516\n",
      " -15.315991475938798 -- -- -- -- -- -- -- --]\n",
      "speed:\n",
      "[7.881072488081827 7.98935952774034 7.150794011101982 4.677454170221741\n",
      " 2.04495972829988 0.6425033424745215 2.7689452772517997 4.279933907959274\n",
      " 5.206016025988361 5.610108227972551 6.234420451209016 7.3283451056204045\n",
      " 9.146412891525708 11.097564615859383 12.342650718659446 13.13827026551719\n",
      " 14.006771594618735 14.833172587114154 15.733581436293015\n",
      " 16.722182120172167 17.225274339986093 16.943565387545164\n",
      " 15.989025948343935 15.511535588703788 15.299828645095833\n",
      " 14.947466943847305 14.722559300815508 15.31196621053391 16.03527016104077\n",
      " 16.1298042269662 15.561929012457881 14.814193160383255 14.394172580176088\n",
      " 14.79436681414403 15.495808614612615 15.88600947060861 15.89559830407626\n",
      " 16.429139283545865 16.67701382903684 16.218113709253338 16.609868349463213\n",
      " 17.147508535619696 17.705968099705302 17.849868843200134\n",
      " 13.601933760546933 6.775098586354185 -- -- -- -- 3.2781707533087716\n",
      " 33.82237357875428 36.60675543795045 37.09887489659126 32.44310090789365 --\n",
      " 9.327697383193941 0.8994129095584931 1.787115261558049 2.6111106440251404\n",
      " 1.8262464692863092 4.469466383859934 5.793693995353275 5.354475497222698\n",
      " 3.8270952210687468 2.3996659789832973 1.8001935991606706 3.161456741841132\n",
      " 4.6266305056222965 3.5490730457580155 3.1802333134830367 5.354366883350237\n",
      " 9.068967196651904 11.466313279385355 13.304569663271955 17.78909375346608\n",
      " 15.4496286931327 6.056552734743884 5.403960519016305 5.382787158945925\n",
      " 8.753213360994152 13.487027235531722 17.272902305555412 18.802730490519515\n",
      " 19.400411739517914 20.25056950829782 21.14787107551805 18.876554904679946\n",
      " 15.772871951442326 15.29253529266349 18.949109679589952 19.86995436591769\n",
      " 23.273654287637306 -- -- -- -- -- -- -- --]\n",
      "direction:\n",
      "[83.57683693154549 89.72761158897757 100.61212847883515 114.16678347361156\n",
      " 124.5093106910306 321.87312046689993 308.00502626574246 300.03765688900967\n",
      " 290.63649891571345 279.3921142185317 268.76954919007164 260.4537510322855\n",
      " 255.13943110976547 250.00474657942033 245.64602119152642\n",
      " 241.11462558857926 238.72057514013397 237.54634015879 237.71803744806994\n",
      " 239.48602539705655 243.0523742981669 246.98078221876222 250.34920447256215\n",
      " 253.1846942388952 255.28408317715923 256.42493865207416 257.3223285181268\n",
      " 258.75673124898117 260.2070421684841 261.03430753888125 262.3970418121665\n",
      " 264.6330668150663 266.7842769007796 264.1057144421169 259.6424447491752\n",
      " 257.2949072781397 255.54963770871655 251.92285842230973 248.87594554943473\n",
      " 248.15633351164956 247.63925496832246 247.87147562030668\n",
      " 248.73870965550728 249.6643565758132 249.232522942784 249.08295183748885\n",
      " -- -- -- -- 259.60059775805456 245.8322095993551 245.25933160219836\n",
      " 245.32077598959305 243.49218510354416 -- 165.96718876464396\n",
      " 181.81276069811463 324.3000817321931 318.6981755596198 231.73421687734648\n",
      " 199.02531427073964 196.139905057432 194.25268025630666 185.51130784897975\n",
      " 179.92499449644484 233.48623014241878 232.06002828492524\n",
      " 209.28407354219806 213.940185280256 250.05224866358117 244.73750929709186\n",
      " 229.65213516087744 227.91033471535516 219.85362822119134\n",
      " 199.46458847475924 197.01218737100268 249.95616716191137 258.5741040256238\n",
      " 314.02351107782937 344.2060260186784 357.4103468584765 6.00540104956232\n",
      " 11.419492174004501 18.96017352197068 24.206183561022367 26.131710129270157\n",
      " 25.85584576083035 28.601316837488405 32.32441731779655 39.083383866329534\n",
      " 42.60529937517031 48.84618072381907 -- -- -- -- -- -- -- --]\n"
     ]
    },
    {
     "name": "stderr",
     "output_type": "stream",
     "text": [
      "/home/zsherman/anaconda3/lib/python3.5/site-packages/ipykernel/__main__.py:199: RuntimeWarning: invalid value encountered in true_divide\n",
      "/home/zsherman/anaconda3/lib/python3.5/site-packages/ipykernel/__main__.py:200: RuntimeWarning: invalid value encountered in true_divide\n",
      "/home/zsherman/anaconda3/lib/python3.5/json/encoder.py:198: DeprecationWarning: Interpreting naive datetime as local 2017-04-27 11:23:54.851043. Please add timezone info to timestamps.\n",
      "  chunks = self.iterencode(o, _one_shot=True)\n"
     ]
    }
   ],
   "source": [
    "test_radar = pyart.io.read(pyart.testing.NEXRAD_ARCHIVE_MSG1_FILE)\n",
    "new_radar = test_radar.extract_sweeps([4])\n",
    "radar_sweep = myradar.extract_sweeps([5])\n",
    "height = np.linspace(50, 10766, 101)\n",
    "valid_ray_min = 16\n",
    "window = 2\n",
    "\n",
    "print(\"max height:\", new_radar.gate_z['data'][0].max())\n",
    "\n",
    "# perform a VAD retrieval\n",
    "vad_test = velocity_azimuth_display(\n",
    "    radar_sweep, 'velocity', height=height, gatefilter=None,\n",
    "    valid_ray_min=valid_ray_min)\n",
    "# print out the results\n",
    "print(\"Height\")\n",
    "print(vad_test.height)\n",
    "\n",
    "\n",
    "print(\"u_wind:\")\n",
    "print(vad_test.u_wind)\n",
    "\n",
    "print(\"v_wind:\")\n",
    "print(vad_test.v_wind)\n",
    "\n",
    "print(\"speed:\")\n",
    "print(vad_test.speed)\n",
    "\n",
    "print(\"direction:\")\n",
    "print(vad_test.direction)"
   ]
  },
  {
   "cell_type": "code",
   "execution_count": 40,
   "metadata": {
    "collapsed": false,
    "deletable": true,
    "editable": true
   },
   "outputs": [
    {
     "data": {
      "image/png": "[encoded data removed]",
      "text/plain": [
       "<matplotlib.figure.Figure at 0x7f45a62784e0>"
      ]
     },
     "metadata": {},
     "output_type": "display_data"
    },
    {
     "name": "stderr",
     "output_type": "stream",
     "text": [
      "/home/zsherman/anaconda3/lib/python3.5/json/encoder.py:198: DeprecationWarning: Interpreting naive datetime as local 2017-04-27 10:38:39.738851. Please add timezone info to timestamps.\n",
      "  chunks = self.iterencode(o, _one_shot=True)\n"
     ]
    }
   ],
   "source": [
    "fig = plt.figure()\n",
    "ax = fig.add_subplot(111)\n",
    "\n",
    "plt.plot(vad_test.u_wind, vad_test.height, 'b-', label='U Wind')\n",
    "plt.plot(vad_test.v_wind, vad_test.height, 'r-', label='V Wind')\n",
    "plt.xlim(-25, 35)\n",
    "plt.ylim(-500, 11000)\n",
    "plt.legend(bbox_to_anchor=(1.05, 1), loc=2, borderaxespad=0.)\n",
    "plt.show()"
   ]
  },
  {
   "cell_type": "code",
   "execution_count": 158,
   "metadata": {
    "collapsed": false,
    "deletable": true,
    "editable": true
   },
   "outputs": [
    {
     "data": {
      "image/png": "[encoded data removed]",
      "text/plain": [
       "<matplotlib.figure.Figure at 0x7f135c53b518>"
      ]
     },
     "metadata": {},
     "output_type": "display_data"
    },
    {
     "name": "stderr",
     "output_type": "stream",
     "text": [
      "/home/zsherman/anaconda3/lib/python3.5/json/encoder.py:198: DeprecationWarning: Interpreting naive datetime as local 2017-04-07 15:04:15.708301. Please add timezone info to timestamps.\n",
      "  chunks = self.iterencode(o, _one_shot=True)\n"
     ]
    }
   ],
   "source": [
    "fig = plt.figure()\n",
    "ax = fig.add_subplot(111)\n",
    "\n",
    "plt.plot(vad_test.u_wind, vad_test.height, 'b-', label='U Wind')\n",
    "plt.plot(vad_test.v_wind, vad_test.height, 'r-', label='V Wind')\n",
    "plt.xlim(-25, 35)\n",
    "plt.ylim(-500, 11000)\n",
    "plt.legend(bbox_to_anchor=(1.05, 1), loc=2, borderaxespad=0.)\n",
    "plt.show()"
   ]
  },
  {
   "cell_type": "code",
   "execution_count": 91,
   "metadata": {
    "collapsed": false,
    "deletable": true,
    "editable": true
   },
   "outputs": [
    {
     "data": {
      "text/plain": [
       "{'reflectivity': {'_FillValue': -9999.0,\n",
       "  'coordinates': 'elevation azimuth range',\n",
       "  'data': masked_array(data =\n",
       "   [[-- -- -- ..., -- -- --]\n",
       "   [-- -- -- ..., -- -- --]\n",
       "   [-- -- -- ..., -- -- --]\n",
       "   ..., \n",
       "   [-- -- -- ..., -- -- --]\n",
       "   [-- -- -- ..., -- -- --]\n",
       "   [-- -- -- ..., -- -- --]],\n",
       "               mask =\n",
       "   [[ True  True  True ...,  True  True  True]\n",
       "   [ True  True  True ...,  True  True  True]\n",
       "   [ True  True  True ...,  True  True  True]\n",
       "   ..., \n",
       "   [ True  True  True ...,  True  True  True]\n",
       "   [ True  True  True ...,  True  True  True]\n",
       "   [ True  True  True ...,  True  True  True]],\n",
       "         fill_value = 1e+20),\n",
       "  'long_name': 'Reflectivity',\n",
       "  'standard_name': 'equivalent_reflectivity_factor',\n",
       "  'units': 'dBZ',\n",
       "  'valid_max': 94.5,\n",
       "  'valid_min': -32.0},\n",
       " 'spectrum_width': {'_FillValue': -9999.0,\n",
       "  'coordinates': 'elevation azimuth range',\n",
       "  'data': masked_array(data =\n",
       "   [[-- -- -- ..., -- -- --]\n",
       "   [-- -- -- ..., -- -- --]\n",
       "   [-- -- -- ..., -- -- --]\n",
       "   ..., \n",
       "   [-- -- -- ..., -- -- --]\n",
       "   [-- -- -- ..., -- -- --]\n",
       "   [-- -- -- ..., -- -- --]],\n",
       "               mask =\n",
       "   [[ True  True  True ...,  True  True  True]\n",
       "   [ True  True  True ...,  True  True  True]\n",
       "   [ True  True  True ...,  True  True  True]\n",
       "   ..., \n",
       "   [ True  True  True ...,  True  True  True]\n",
       "   [ True  True  True ...,  True  True  True]\n",
       "   [ True  True  True ...,  True  True  True]],\n",
       "         fill_value = 1e+20),\n",
       "  'long_name': 'Spectrum Width',\n",
       "  'standard_name': 'doppler_spectrum_width',\n",
       "  'units': 'meters_per_second',\n",
       "  'valid_max': 63.0,\n",
       "  'valid_min': -63.5},\n",
       " 'velocity': {'_FillValue': -9999.0,\n",
       "  'coordinates': 'elevation azimuth range',\n",
       "  'data': masked_array(data =\n",
       "   [[-- -- -- ..., -- -- --]\n",
       "   [-- -- -- ..., -- -- --]\n",
       "   [-- -- -- ..., -- -- --]\n",
       "   ..., \n",
       "   [-- -- -- ..., -- -- --]\n",
       "   [-- -- -- ..., -- -- --]\n",
       "   [-- -- -- ..., -- -- --]],\n",
       "               mask =\n",
       "   [[ True  True  True ...,  True  True  True]\n",
       "   [ True  True  True ...,  True  True  True]\n",
       "   [ True  True  True ...,  True  True  True]\n",
       "   ..., \n",
       "   [ True  True  True ...,  True  True  True]\n",
       "   [ True  True  True ...,  True  True  True]\n",
       "   [ True  True  True ...,  True  True  True]],\n",
       "         fill_value = 1e+20),\n",
       "  'long_name': 'Mean doppler Velocity',\n",
       "  'standard_name': 'radial_velocity_of_scatterers_away_from_instrument',\n",
       "  'units': 'meters_per_second',\n",
       "  'valid_max': 95.0,\n",
       "  'valid_min': -95.0}}"
      ]
     },
     "execution_count": 91,
     "metadata": {},
     "output_type": "execute_result"
    },
    {
     "name": "stderr",
     "output_type": "stream",
     "text": [
      "/home/zsherman/anaconda3/lib/python3.5/json/encoder.py:198: DeprecationWarning: Interpreting naive datetime as local 2017-04-06 10:44:26.083968. Please add timezone info to timestamps.\n",
      "  chunks = self.iterencode(o, _one_shot=True)\n"
     ]
    }
   ],
   "source": [
    "test_radar.fields"
   ]
  },
  {
   "cell_type": "code",
   "execution_count": 82,
   "metadata": {
    "collapsed": false,
    "deletable": true,
    "editable": true
   },
   "outputs": [
    {
     "data": {
      "text/plain": [
       "masked_array(data =\n",
       " [[-3.2042818554399934 -3.2042818554399934 -3.2042818554399934 ...,\n",
       "  -3.2042818554399934 -3.2042818554399934 -3.2042818554399934]\n",
       " [-3.2298709318138203 -3.2298709318138203 -3.2298709318138203 ...,\n",
       "  -3.2298709318138203 -3.2298709318138203 -3.2298709318138203]\n",
       " [-3.2544761058188496 -3.2544761058188496 -3.2544761058188496 ...,\n",
       "  -3.2544761058188496 -3.2544761058188496 -3.2544761058188496]\n",
       " ..., \n",
       " [-3.121691010680604 -3.121691010680604 -3.121691010680604 ...,\n",
       "  -3.121691010680604 -3.121691010680604 -3.121691010680604]\n",
       " [-3.1501836119348496 -3.1501836119348496 -3.1501836119348496 ...,\n",
       "  -3.1501836119348496 -3.1501836119348496 -3.1501836119348496]\n",
       " [-3.177716516387311 -3.177716516387311 -3.177716516387311 ...,\n",
       "  -3.177716516387311 -3.177716516387311 -3.177716516387311]],\n",
       "             mask =\n",
       " [[False False False ..., False False False]\n",
       " [False False False ..., False False False]\n",
       " [False False False ..., False False False]\n",
       " ..., \n",
       " [False False False ..., False False False]\n",
       " [False False False ..., False False False]\n",
       " [False False False ..., False False False]],\n",
       "       fill_value = 1e+20)"
      ]
     },
     "execution_count": 82,
     "metadata": {},
     "output_type": "execute_result"
    }
   ],
   "source": [
    "corr_vel = pyart.correct.dealias_region_based(\n",
    "    test_radar, vel_field='velocity', gatefilter=None,\n",
    "    nyquist_vel=nyq)\n",
    "test_radar.add_field('corrected_velocity', corr_vel,\n",
    "                        replace_existing=True)\n",
    "\n",
    "test_radar.fields['velocity']['data']"
   ]
  },
  {
   "cell_type": "code",
   "execution_count": 84,
   "metadata": {
    "collapsed": false,
    "deletable": true,
    "editable": true
   },
   "outputs": [
    {
     "data": {
      "text/plain": [
       "masked_array(data =\n",
       " [[-3.20428186 -3.20428186 -3.20428186 ..., -3.20428186 -3.20428186\n",
       "  -3.20428186]\n",
       " [-3.22987093 -3.22987093 -3.22987093 ..., -3.22987093 -3.22987093\n",
       "  -3.22987093]\n",
       " [-3.25447611 -3.25447611 -3.25447611 ..., -3.25447611 -3.25447611\n",
       "  -3.25447611]\n",
       " ..., \n",
       " [-3.12169101 -3.12169101 -3.12169101 ..., -3.12169101 -3.12169101\n",
       "  -3.12169101]\n",
       " [-3.15018361 -3.15018361 -3.15018361 ..., -3.15018361 -3.15018361\n",
       "  -3.15018361]\n",
       " [-3.17771652 -3.17771652 -3.17771652 ..., -3.17771652 -3.17771652\n",
       "  -3.17771652]],\n",
       "             mask =\n",
       " False,\n",
       "       fill_value = 1e+20)"
      ]
     },
     "execution_count": 84,
     "metadata": {},
     "output_type": "execute_result"
    }
   ],
   "source": [
    "np.ma.array(test_radar.fields['corrected_velocity']['data'])"
   ]
  },
  {
   "cell_type": "code",
   "execution_count": 277,
   "metadata": {
    "collapsed": false,
    "deletable": true,
    "editable": true
   },
   "outputs": [
    {
     "data": {
      "image/png": "[encoded data removed]",
      "text/plain": [
       "<matplotlib.figure.Figure at 0x7fac037b7390>"
      ]
     },
     "metadata": {},
     "output_type": "display_data"
    }
   ],
   "source": [
    "fig = plt.figure()\n",
    "ax = fig.add_subplot(111)\n",
    "\n",
    "ax.plot(profile.u_wind, profile.height, 'r-')\n",
    "ax.plot(profile.v_wind, profile.height, 'b-')\n",
    "\n",
    "ax.plot(vad_test.u_wind, vad_test.height, 'g--')\n",
    "ax.plot(vad_test.v_wind, vad_test.height, 'k--')\n",
    "\n",
    "ax.set_xlim(-5, 5)\n",
    "ax.set_ylim(500, 1200)\n",
    "plt.show()"
   ]
  },
  {
   "cell_type": "code",
   "execution_count": 272,
   "metadata": {
    "collapsed": true,
    "deletable": true,
    "editable": true
   },
   "outputs": [],
   "source": [
    "new_radar = myradar.extract_sweeps([1])"
   ]
  },
  {
   "cell_type": "code",
   "execution_count": 273,
   "metadata": {
    "collapsed": false,
    "deletable": true,
    "editable": true
   },
   "outputs": [
    {
     "data": {
      "text/plain": [
       "array([    19.82374755,     22.19089841,     24.56540615, ...,\n",
       "        16632.7430889 ,  16648.53628052,  16664.33678599])"
      ]
     },
     "execution_count": 273,
     "metadata": {},
     "output_type": "execute_result"
    }
   ],
   "source": [
    "new_radar.gate_z['data'][0]"
   ]
  },
  {
   "cell_type": "code",
   "execution_count": 301,
   "metadata": {
    "collapsed": true,
    "deletable": true,
    "editable": true
   },
   "outputs": [],
   "source": [
    "height_klot = np.linspace(0, 10000, 1832)"
   ]
  },
  {
   "cell_type": "code",
   "execution_count": 302,
   "metadata": {
    "collapsed": false,
    "deletable": true,
    "editable": true,
    "scrolled": false
   },
   "outputs": [
    {
     "name": "stdout",
     "output_type": "stream",
     "text": [
      "max height 6400.87383943  meters\n",
      "min height 0.0  meters\n"
     ]
    },
    {
     "name": "stderr",
     "output_type": "stream",
     "text": [
      "/home/zsherman/anaconda3/lib/python3.5/site-packages/numpy/lib/nanfunctions.py:703: RuntimeWarning: Mean of empty slice\n",
      "  warnings.warn(\"Mean of empty slice\", RuntimeWarning)\n",
      "/home/zsherman/anaconda3/lib/python3.5/site-packages/ipykernel/__main__.py:192: RuntimeWarning: invalid value encountered in true_divide\n",
      "/home/zsherman/anaconda3/lib/python3.5/site-packages/ipykernel/__main__.py:193: RuntimeWarning: invalid value encountered in true_divide\n"
     ]
    }
   ],
   "source": [
    "vad_klot = velocity_azimuth_display(\n",
    "    new_radar, 'velocity', height=height_klot, gatefilter=True,\n",
    "    window=2)"
   ]
  },
  {
   "cell_type": "code",
   "execution_count": 291,
   "metadata": {
    "collapsed": false,
    "deletable": true,
    "editable": true
   },
   "outputs": [
    {
     "data": {
      "image/png": "[encoded data removed]",
      "text/plain": [
       "<matplotlib.figure.Figure at 0x7fac2528ab38>"
      ]
     },
     "metadata": {},
     "output_type": "display_data"
    }
   ],
   "source": [
    "fig = plt.figure()\n",
    "ax = fig.add_subplot(111)\n",
    "\n",
    "ax.plot(vad_klot.u_wind, vad_klot.height, 'b-')\n",
    "ax.plot(vad_klot.v_wind, vad_klot.height, 'r-')\n",
    "\n",
    "plt.show()"
   ]
  },
  {
   "cell_type": "code",
   "execution_count": 402,
   "metadata": {
    "collapsed": false,
    "deletable": true,
    "editable": true
   },
   "outputs": [
    {
     "data": {
      "text/plain": [
       "masked_array(data = [-0.5835666690848077 1.5688490941195001 5.3980771288773 8.440683315121735\n",
       " 10.62681108978826 11.721623417519194 11.886895774656093 12.022555117842657\n",
       " 12.653761506741066 13.29858516430744 13.743307893120193 14.020977332744097\n",
       " 14.459731624046272 15.106732324802387 15.58986351586532 15.846898130258946\n",
       " 15.864099912299425 15.60166797893651 15.32647962855722 15.182550978567287\n",
       " 15.159838586822495 15.360259738826421 15.712305754306334\n",
       " 15.913254229755136 16.028501574058676 16.136743879729973\n",
       " 16.154277936685176 16.10239841093096 16.13196581214299 16.25035689059055\n",
       " 16.42516356065864 16.70259618339238 15.28679863799207 9.280921912526699\n",
       " -2.1356647143864307 -0.6818046984584752 2.676917140765899\n",
       " 7.044928761067773 7.001719871383886 8.897916561170375 19.644442583053927\n",
       " 23.71349487532522 13.379192508519443 2.651557533876936 -2.1441282543564997\n",
       " -2.354976131367514 -1.4809911472947628 -0.31434562829349977\n",
       " 1.4821702552471643 2.954200226756123 3.084883624900796 3.115904284762729\n",
       " 6.3542942476867985 11.849778435456928 15.77393749724757 16.637222795011844\n",
       " 17.167568397324214 17.342824743224288 17.682315582883415\n",
       " 17.254878629871538 15.877028519884533 14.782700657964163 14.27445894710346\n",
       " 14.857661839119592 16.00496089556676 16.49717101714576 16.104445214544178\n",
       " 16.190570045023723 16.583994575374717 15.88608276755124 13.700682130818521\n",
       " 10.89747508697361 7.8201571084819665 6.0112625178511765 5.428163169769106\n",
       " 5.170402864890841 4.7713567951450315 4.674637849278555 5.576299334087334\n",
       " 7.319193072134735 8.704307171533022 9.848470807426752 10.624178239229753\n",
       " 11.631875262367307 11.54188160822667 10.2296752639152 11.036590647487637\n",
       " 12.896626768602658 12.866496513875148 -- -- -- -- -- --\n",
       " -10.456634044961067 7.820936689142458 4.61085904796012 -3.399008036924609\n",
       " -3.036488878916148],\n",
       "             mask = [False False False False False False False False False False False False\n",
       " False False False False False False False False False False False False\n",
       " False False False False False False False False False False False False\n",
       " False False False False False False False False False False False False\n",
       " False False False False False False False False False False False False\n",
       " False False False False False False False False False False False False\n",
       " False False False False False False False False False False False False\n",
       " False False False False False  True  True  True  True  True  True False\n",
       " False False False False],\n",
       "       fill_value = 99999.0)"
      ]
     },
     "execution_count": 402,
     "metadata": {},
     "output_type": "execute_result"
    }
   ],
   "source": [
    "vad_klot.u_wind"
   ]
  },
  {
   "cell_type": "code",
   "execution_count": 863,
   "metadata": {
    "collapsed": false,
    "deletable": true,
    "editable": true
   },
   "outputs": [
    {
     "data": {
      "text/plain": [
       "['__class__',\n",
       " '__delattr__',\n",
       " '__dict__',\n",
       " '__dir__',\n",
       " '__doc__',\n",
       " '__eq__',\n",
       " '__format__',\n",
       " '__ge__',\n",
       " '__getattribute__',\n",
       " '__getstate__',\n",
       " '__gt__',\n",
       " '__hash__',\n",
       " '__init__',\n",
       " '__le__',\n",
       " '__lt__',\n",
       " '__module__',\n",
       " '__ne__',\n",
       " '__new__',\n",
       " '__reduce__',\n",
       " '__reduce_ex__',\n",
       " '__repr__',\n",
       " '__setattr__',\n",
       " '__setstate__',\n",
       " '__sizeof__',\n",
       " '__str__',\n",
       " '__subclasshook__',\n",
       " '__weakref__',\n",
       " '_check_sweep_in_range',\n",
       " '_dic_info',\n",
       " 'add_field',\n",
       " 'add_field_like',\n",
       " 'altitude',\n",
       " 'altitude_agl',\n",
       " 'antenna_transition',\n",
       " 'azimuth',\n",
       " 'check_field_exists',\n",
       " 'drift',\n",
       " 'elevation',\n",
       " 'extract_sweeps',\n",
       " 'fields',\n",
       " 'fixed_angle',\n",
       " 'gate_altitude',\n",
       " 'gate_latitude',\n",
       " 'gate_longitude',\n",
       " 'gate_x',\n",
       " 'gate_y',\n",
       " 'gate_z',\n",
       " 'georefs_applied',\n",
       " 'get_azimuth',\n",
       " 'get_elevation',\n",
       " 'get_end',\n",
       " 'get_field',\n",
       " 'get_gate_x_y_z',\n",
       " 'get_nyquist_vel',\n",
       " 'get_slice',\n",
       " 'get_start',\n",
       " 'get_start_end',\n",
       " 'heading',\n",
       " 'info',\n",
       " 'init_gate_altitude',\n",
       " 'init_gate_longitude_latitude',\n",
       " 'init_gate_x_y_z',\n",
       " 'init_rays_per_sweep',\n",
       " 'instrument_parameters',\n",
       " 'iter_azimuth',\n",
       " 'iter_elevation',\n",
       " 'iter_end',\n",
       " 'iter_field',\n",
       " 'iter_slice',\n",
       " 'iter_start',\n",
       " 'iter_start_end',\n",
       " 'latitude',\n",
       " 'longitude',\n",
       " 'metadata',\n",
       " 'ngates',\n",
       " 'nrays',\n",
       " 'nsweeps',\n",
       " 'pitch',\n",
       " 'projection',\n",
       " 'radar_calibration',\n",
       " 'range',\n",
       " 'ray_angle_res',\n",
       " 'rays_are_indexed',\n",
       " 'rays_per_sweep',\n",
       " 'roll',\n",
       " 'rotation',\n",
       " 'scan_rate',\n",
       " 'scan_type',\n",
       " 'sweep_end_ray_index',\n",
       " 'sweep_mode',\n",
       " 'sweep_number',\n",
       " 'sweep_start_ray_index',\n",
       " 'target_scan_rate',\n",
       " 'tilt',\n",
       " 'time']"
      ]
     },
     "execution_count": 863,
     "metadata": {},
     "output_type": "execute_result"
    }
   ],
   "source": [
    "dir(myradar)"
   ]
  },
  {
   "cell_type": "code",
   "execution_count": 403,
   "metadata": {
    "collapsed": false,
    "deletable": true,
    "editable": true
   },
   "outputs": [
    {
     "data": {
      "text/plain": [
       "masked_array(data = [156.67195572644277 204.86790082221364 220.96113765437406\n",
       " 228.97038351906164 234.1373218514479 235.7449839562958 234.8247961546824\n",
       " 234.61137823167124 235.61071966211566 236.3229395786536 237.19640510307667\n",
       " 237.71127411209267 238.92773700617155 240.8910057959418 241.79509338848254\n",
       " 242.5614337770021 243.81481788658192 243.7537028634779 243.6620765433736\n",
       " 244.46499960459397 245.6066550501285 247.18097003240683 248.95078892239954\n",
       " 249.61193197651593 249.12559761564012 248.3000061768567 246.08780828289449\n",
       " 243.27417040804704 242.0439282939391 242.61235241283848 243.6668169844212\n",
       " 244.49439912186534 244.82347655071345 239.74365388071925\n",
       " 139.06984795173187 166.8827694159035 228.29530080236412 245.62681778068907\n",
       " 244.51109705135616 245.50268879096245 247.50838232036386\n",
       " 246.29653886148094 225.6289967583278 189.6372266722952 171.52045179408807\n",
       " 170.00912729801405 173.93305941886084 178.758788513402 185.95776673102418\n",
       " 191.66062393831672 191.74338080933097 191.63972151494332 207.0294822988434\n",
       " 232.1123382966665 251.04125429160743 267.34333150681584 273.18583864723206\n",
       " 264.97963379247426 261.6247268709554 257.56192565915785 248.476237749729\n",
       " 243.08641669987256 231.11717794642226 223.36261203407844\n",
       " 224.05558100264128 224.90783259703085 221.82641237644768\n",
       " 220.50008711357685 220.8859806019912 218.59081954272943 213.04123227435153\n",
       " 206.95298132239972 199.74993287051427 195.59280550944615\n",
       " 194.92310218404916 195.01680608481345 194.52711086756707 194.8825498807709\n",
       " 198.23044537474854 203.31392937455598 206.11250032160822\n",
       " 208.12353293350742 210.9877218950292 215.3524562946022 214.14801340614295\n",
       " 207.79620850948885 209.15933303477507 214.95197912696057 215.0059029247448\n",
       " -- -- -- -- -- -- 161.07122497421963 341.5587996086402 342.39218476871525\n",
       " 159.13934164287417 158.64021322758597],\n",
       "             mask = [False False False False False False False False False False False False\n",
       " False False False False False False False False False False False False\n",
       " False False False False False False False False False False False False\n",
       " False False False False False False False False False False False False\n",
       " False False False False False False False False False False False False\n",
       " False False False False False False False False False False False False\n",
       " False False False False False False False False False False False False\n",
       " False False False False False  True  True  True  True  True  True False\n",
       " False False False False],\n",
       "       fill_value = 99999.0)"
      ]
     },
     "execution_count": 403,
     "metadata": {},
     "output_type": "execute_result"
    }
   ],
   "source": [
    "vad_klot.direction"
   ]
  },
  {
   "cell_type": "code",
   "execution_count": 404,
   "metadata": {
    "collapsed": false,
    "deletable": true,
    "editable": true
   },
   "outputs": [
    {
     "data": {
      "text/plain": [
       "masked_array(data = [1.4736718026513593 3.7306686594710388 8.234462700390843 11.18904423103873\n",
       " 13.112665255728164 14.181548007614124 14.542425807463907\n",
       " 14.747207649776213 15.333818856981884 15.980492085351058\n",
       " 16.350713430314055 16.585669857145554 16.8820128073323 17.290607494726636\n",
       " 17.690364678826356 17.855550818920552 17.67838831462572 17.39507744027123\n",
       " 17.101762836312716 16.826087375271047 16.645780115430036\n",
       " 16.664518385184042 16.835714575131778 16.9767715518876 17.15445556569926\n",
       " 17.367535787490727 17.671021928475955 18.028394524248828 18.26314158854068\n",
       " 18.301711981169568 18.32695796115758 18.506146030694833 16.891463393498416\n",
       " 10.744547360595812 3.2598675513123765 3.004283406599308 3.5855556823271537\n",
       " 7.734226898257658 7.756688880618761 9.77813733954353 21.261703219153627\n",
       " 25.89832098347672 18.716694386675904 15.838766957163081 14.54076371437038\n",
       " 13.574030570890127 14.012551744459357 14.511698290445597 14.27973474033196\n",
       " 14.616484100948895 15.156999847914673 15.443848443176813\n",
       " 13.982416912450587 15.014613481889201 16.678711793709134 16.65512347447143\n",
       " 17.194141415836064 17.409614028850008 17.872925233073072\n",
       " 17.669595228512108 17.067201466627367 16.57829134233527 18.337465878470862\n",
       " 21.639055152168048 23.016935560610367 23.36814378357165 24.14908315763657\n",
       " 24.92969416809632 25.336256052955786 25.46849148628083 25.127688672148395\n",
       " 24.042481780575244 23.142337182945308 22.36342128870999 21.078409742415783\n",
       " 19.955058877565065 19.0216606238179 18.200692581248695 17.824783728205286\n",
       " 18.493609116036463 19.77644476636695 20.89310732023282 20.635307179621865\n",
       " 20.103323704203607 20.561569802256415 21.936647602217043\n",
       " 22.651242811303458 22.51153598763206 22.42875216860246 -- -- -- -- -- --\n",
       " 32.234510422725 24.72388061943531 15.242514056971274 9.5451892820668\n",
       " 8.336889656785134],\n",
       "             mask = [False False False False False False False False False False False False\n",
       " False False False False False False False False False False False False\n",
       " False False False False False False False False False False False False\n",
       " False False False False False False False False False False False False\n",
       " False False False False False False False False False False False False\n",
       " False False False False False False False False False False False False\n",
       " False False False False False False False False False False False False\n",
       " False False False False False  True  True  True  True  True  True False\n",
       " False False False False],\n",
       "       fill_value = 99999.0)"
      ]
     },
     "execution_count": 404,
     "metadata": {},
     "output_type": "execute_result"
    }
   ],
   "source": [
    "vad_klot.speed"
   ]
  },
  {
   "cell_type": "code",
   "execution_count": 405,
   "metadata": {
    "collapsed": false,
    "deletable": true,
    "editable": true
   },
   "outputs": [
    {
     "data": {
      "image/png": "[encoded data removed]",
      "text/plain": [
       "<matplotlib.figure.Figure at 0x7f901b8f21d0>"
      ]
     },
     "metadata": {},
     "output_type": "display_data"
    }
   ],
   "source": [
    "fig = plt.figure()\n",
    "plt.subplot(1, 2, 1)\n",
    "plt.plot(vad_klot.u_wind, vad_klot.height / 1000.0, 'b-')\n",
    "plt.plot(vad_klot.v_wind, vad_klot.height / 1000.0, 'r-')\n",
    "plt.xlabel(r'Velocity (ms$^{-1}$)')\n",
    "plt.ylabel(r'Height (km)')\n",
    "plt.title('VAD, u=blue, v=red')\n",
    "plt.show()"
   ]
  },
  {
   "cell_type": "code",
   "execution_count": 397,
   "metadata": {
    "collapsed": false,
    "deletable": true,
    "editable": true
   },
   "outputs": [
    {
     "data": {
      "text/plain": [
       "array([   18.49954606,    95.64170572,   172.78386538,   249.92602504,\n",
       "         327.0681847 ,   404.21034436,   481.35250402,   558.49466368,\n",
       "         635.63682334,   712.778983  ,   789.92114265,   867.06330231,\n",
       "         944.20546197,  1021.34762163,  1098.48978129,  1175.63194095,\n",
       "        1252.77410061,  1329.91626027,  1407.05841993,  1484.20057959,\n",
       "        1561.34273925,  1638.4848989 ,  1715.62705856,  1792.76921822,\n",
       "        1869.91137788,  1947.05353754,  2024.1956972 ,  2101.33785686,\n",
       "        2178.48001652,  2255.62217618,  2332.76433584,  2409.9064955 ,\n",
       "        2487.04865515,  2564.19081481,  2641.33297447,  2718.47513413,\n",
       "        2795.61729379,  2872.75945345,  2949.90161311,  3027.04377277,\n",
       "        3104.18593243,  3181.32809209,  3258.47025175,  3335.6124114 ,\n",
       "        3412.75457106,  3489.89673072,  3567.03889038,  3644.18105004,\n",
       "        3721.3232097 ,  3798.46536936,  3875.60752902,  3952.74968868,\n",
       "        4029.89184834,  4107.034008  ,  4184.17616765,  4261.31832731,\n",
       "        4338.46048697,  4415.60264663,  4492.74480629,  4569.88696595,\n",
       "        4647.02912561,  4724.17128527,  4801.31344493,  4878.45560459,\n",
       "        4955.59776424,  5032.7399239 ,  5109.88208356,  5187.02424322,\n",
       "        5264.16640288,  5341.30856254,  5418.4507222 ,  5495.59288186,\n",
       "        5572.73504152,  5649.87720118,  5727.01936084,  5804.16152049,\n",
       "        5881.30368015,  5958.44583981,  6035.58799947,  6112.73015913,\n",
       "        6189.87231879,  6267.01447845,  6344.15663811,  6421.29879777,\n",
       "        6498.44095743,  6575.58311709,  6652.72527674,  6729.8674364 ,\n",
       "        6807.00959606,  6884.15175572,  6961.29391538,  7038.43607504,\n",
       "        7115.5782347 ,  7192.72039436,  7269.86255402,  7347.00471368,\n",
       "        7424.14687334,  7501.28903299,  7578.43119265,  7655.57335231])"
      ]
     },
     "execution_count": 397,
     "metadata": {},
     "output_type": "execute_result"
    }
   ],
   "source": [
    "vad_klot.height"
   ]
  },
  {
   "cell_type": "code",
   "execution_count": null,
   "metadata": {
    "collapsed": false,
    "deletable": true,
    "editable": true
   },
   "outputs": [],
   "source": [
    "fig = plt.figure()\n",
    "plt.subplot(1, 2, 1)\n",
    "plt.plot(vad.u_wind, vad.height / 1000.0, 'b-')\n",
    "plt.plot(vad.v_wind, vad.height / 1000.0, 'r-')\n",
    "plt.xlabel(r'Velocity (ms$^{-1}$)')\n",
    "plt.ylabel(r'Height (km)')\n",
    "plt.title('VAD, u=blue, v=red')\n",
    "plt.xlim(-10, 25)\n",
    "plt.show()"
   ]
  },
  {
   "cell_type": "code",
   "execution_count": null,
   "metadata": {
    "collapsed": false,
    "deletable": true,
    "editable": true
   },
   "outputs": [],
   "source": [
    "fig = plt.figure()\n",
    "plt.subplot(1, 2, 1)\n",
    "plt.plot(vad_corrected.u_wind, vad_corrected.height / 1000.0, 'b-')\n",
    "plt.plot(vad_corrected.v_wind, vad_corrected.height / 1000.0, 'r-')\n",
    "plt.xlabel(r'Velocity (ms$^{-1}$)')\n",
    "plt.ylabel(r'Height (km)')\n",
    "plt.title('VAD, u=blue, v=red')\n",
    "plt.xlim(-10, 25)\n",
    "plt.show()"
   ]
  },
  {
   "cell_type": "code",
   "execution_count": null,
   "metadata": {
    "collapsed": false,
    "deletable": true,
    "editable": true
   },
   "outputs": [],
   "source": [
    "fig = plt.figure()\n",
    "plt.subplot(1, 2, 1)\n",
    "plt.plot(vad_corrected.u_wind, vad_corrected.height / 1000.0, 'b-')\n",
    "plt.plot(vad_corrected.v_wind, vad_corrected.height / 1000.0, 'r-')\n",
    "plt.xlabel(r'Velocity (ms$^{-1}$)')\n",
    "plt.ylabel(r'Height (km)')\n",
    "plt.title('VAD, u=blue, v=red')\n",
    "plt.xlim(-10, 25)\n",
    "plt.show()"
   ]
  },
  {
   "cell_type": "code",
   "execution_count": null,
   "metadata": {
    "collapsed": false,
    "deletable": true,
    "editable": true
   },
   "outputs": [],
   "source": [
    "test_radar = pyart.testing.make_target_radar()\n",
    "height = np.arange(0, 1000, 200)\n",
    "speed = np.ones_like(height) * 5\n",
    "direction = np.array([0, 90, 180, 270, 45])\n",
    "profile = pyart.core.HorizontalWindProfile(height, speed, direction)\n",
    "sim_vel = pyart.util.simulated_vel_from_profile(test_radar, profile)\n",
    "test_radar.add_field('velocity', sim_vel,\n",
    "                replace_existing=True)\n",
    "velocity = 'velocity'\n",
    "z_start = 0\n",
    "z_end = 10\n",
    "z_count = 5\n",
    "\n",
    "vad2 = velocity_azimuth_display(test_radar,\n",
    "                                   velocity,\n",
    "                                   z_start, z_end,\n",
    "                                   z_count)"
   ]
  },
  {
   "cell_type": "code",
   "execution_count": null,
   "metadata": {
    "collapsed": false,
    "deletable": true,
    "editable": true
   },
   "outputs": [],
   "source": [
    "profile.direction"
   ]
  },
  {
   "cell_type": "code",
   "execution_count": null,
   "metadata": {
    "collapsed": false,
    "deletable": true,
    "editable": true
   },
   "outputs": [],
   "source": [
    "vad2.height"
   ]
  },
  {
   "cell_type": "code",
   "execution_count": null,
   "metadata": {
    "collapsed": false,
    "deletable": true,
    "editable": true
   },
   "outputs": [],
   "source": [
    "vad2.speed"
   ]
  },
  {
   "cell_type": "code",
   "execution_count": null,
   "metadata": {
    "collapsed": false,
    "deletable": true,
    "editable": true
   },
   "outputs": [],
   "source": [
    "vad2.direction"
   ]
  },
  {
   "cell_type": "code",
   "execution_count": null,
   "metadata": {
    "collapsed": false,
    "deletable": true,
    "editable": true
   },
   "outputs": [],
   "source": [
    "vad2.u_wind"
   ]
  },
  {
   "cell_type": "code",
   "execution_count": null,
   "metadata": {
    "collapsed": false,
    "deletable": true,
    "editable": true
   },
   "outputs": [],
   "source": [
    "vad2.v_wind"
   ]
  },
  {
   "cell_type": "code",
   "execution_count": null,
   "metadata": {
    "collapsed": false,
    "deletable": true,
    "editable": true
   },
   "outputs": [],
   "source": [
    "fig = plt.figure()\n",
    "plt.subplot(1, 2, 1)\n",
    "plt.plot(vad2.u_wind, vad2.height / 1000.0, 'b-')\n",
    "plt.plot(vad2.v_wind, vad2.height / 1000.0, 'r-')\n",
    "plt.xlabel(r'Velocity (ms$^{-1}$)')\n",
    "plt.ylabel(r'Height (km)')\n",
    "plt.title('VAD, u=blue, v=red')\n",
    "plt.show()"
   ]
  },
  {
   "cell_type": "code",
   "execution_count": null,
   "metadata": {
    "collapsed": false,
    "deletable": true,
    "editable": true
   },
   "outputs": [],
   "source": [
    "from mpl_toolkits.mplot3d import Axes3D\n",
    "fig = plt.figure(figsize=(10, 8))\n",
    "ax = fig.add_subplot(111, projection='3d')\n",
    "x1 = vad.u_wind\n",
    "x2 = vad.v_wind\n",
    "y = vad.height / 1000\n",
    "plt.xlim(-15, 15)\n",
    "plt.ylim(-15, 15)\n",
    "ax.title.set_position([.5, 1.05])\n",
    "ax.set_title('Velocity Azimuth Display (VAD)')\n",
    "ax.set_xlabel('Velocity (m/s)')\n",
    "ax.set_ylabel('Velocity (m/s)')\n",
    "ax.set_zlabel('Height (km)')\n",
    "ax.plot(x1, np.zeros_like(x1), y, label='U Mean')\n",
    "ax.plot(np.zeros_like(x2), x2, y, '-r', label='V Mean')\n",
    "# default ax.azim = 300, default ax.elev = 30\n",
    "ax.legend()\n",
    "plt.show()"
   ]
  },
  {
   "cell_type": "code",
   "execution_count": null,
   "metadata": {
    "collapsed": false,
    "deletable": true,
    "editable": true
   },
   "outputs": [],
   "source": [
    "fig = plt.figure(figsize=(10, 8))\n",
    "ax = fig.add_subplot(111, projection='3d')\n",
    "x1 = vad['u_mean']\n",
    "x2 = vad['v_mean']\n",
    "y = vad['z_interval']/1000\n",
    "plt.xlim(-12, 12)\n",
    "plt.ylim(-12, 12)\n",
    "ax.title.set_position([.5, 1.05])\n",
    "ax.set_title('Velocity Azimuth Display (VAD)')\n",
    "ax.set_xlabel('Velocity (m/s)')\n",
    "ax.set_ylabel('Velocity (m/s)')\n",
    "ax.set_zlabel('Height (km)')\n",
    "ax.plot(x1, np.zeros_like(x1), y, label='U Mean')\n",
    "ax.plot(np.zeros_like(x2), x2, y, '-r', label='V Mean')\n",
    "ax.azim = 45\n",
    "ax.elev = 50\n",
    "ax.legend()\n",
    "plt.show()"
   ]
  },
  {
   "cell_type": "code",
   "execution_count": null,
   "metadata": {
    "collapsed": false,
    "deletable": true,
    "editable": true
   },
   "outputs": [],
   "source": [
    "    # Setting parameters for the pcolormesh plots.\n",
    "    def polar_plot(self, field, sweep=0, ax=None, **kwargs):\n",
    "        \"\"\"\n",
    "        Creates a polar plot.\n",
    "\n",
    "        Parameters\n",
    "        ----------\n",
    "        radar : Radar\n",
    "            Radar object Used.\n",
    "        field : str\n",
    "            Field to plot.\n",
    "\n",
    "        Other Parameters\n",
    "        ----------------\n",
    "        vmin : float\n",
    "            Luminance minimum value, None for default value.\n",
    "            Parameter is ignored is norm is not None.\n",
    "        vmax : float\n",
    "            Luminance maximum value, None for default value.\n",
    "            Parameter is ignored is norm is not None.\n",
    "        title : str\n",
    "            Title to label plot with, None to use default title generated from\n",
    "            the field and tilt parameters. Parameter is ignored if title_flag\n",
    "            is False.\n",
    "        title_flag : bool\n",
    "            True to add a title to the plot, False does not add a title.\n",
    "        \"\"\"\n",
    "\n",
    "        ax.cla()\n",
    "        ax.set_theta_zero_location(\"N\")\n",
    "        ax.set_theta_direction(-1)\n",
    "        i_s = radar.sweep_start_ray_index['data'][sweep]\n",
    "        i_e = radar.sweep_end_ray_index['data'][sweep]\n",
    "        order = np.argsort(radar.azimuth['data'][i_s:i_e])\n",
    "        # rectangular plot of polar data\n",
    "        theta, rad = np.meshgrid(radar.azimuth['data'][i_s:i_e][order],\n",
    "                                 radar.range['data'])\n",
    "        X = theta * np.pi / 180.0\n",
    "        Y = rad / 1000.0\n",
    "        if 'mask' in kwargs.keys():\n",
    "            pcolor = ax.pcolormesh(\n",
    "                X, Y, np.ma.masked_where(\n",
    "                    kwargs['mask'][\n",
    "                        i_s:i_e, :][\n",
    "                        order, :].transpose(), radar.fields[var]['data'][\n",
    "                        i_s:i_e, :][\n",
    "                            order, :].transpose()), vmin=kwargs.get(\n",
    "                                'vmin', -6), vmax=kwargs.get(\n",
    "                                    'vmax', 64))\n",
    "        else:\n",
    "            pcolor = ax.pcolormesh(\n",
    "                X, Y,\n",
    "                radar.fields[field]['data'][i_s:i_e, :][order, :].transpose(),\n",
    "                vmin=kwargs.get('vmin', -6),\n",
    "                vmax=kwargs.get('vmax', 64))\n",
    "\n",
    "        ax.set_title(radar.metadata['instrument_name']\n",
    "                     + ' ' + str(datetimes) + ' ' + field, y=1.08)\n",
    "\n",
    "        if 'ylim' in kwargs:\n",
    "            ylim(kwargs['ylim'])\n",
    "        plt.grid(True)\n",
    "        return pcolor"
   ]
  },
  {
   "cell_type": "code",
   "execution_count": null,
   "metadata": {
    "collapsed": false,
    "deletable": true,
    "editable": true,
    "scrolled": true
   },
   "outputs": [],
   "source": [
    "# Pcolormesh of reflectivity and the number of gates a specific dBZ occurs.\n",
    "good = np.where(np.logical_not(is_bad[:, 0:-20].flatten()))[0]\n",
    "H, xedges, yedges = np.histogram2d(\n",
    "    z[:, 0:-20].flatten()[good] / 1000.0,\n",
    "    myradar.fields['reflectivity']['data'][:, 0:-20].flatten()[good],\n",
    "    bins=(62, 60), range=([0, 12], [-10, 64]))\n",
    "\n",
    "fig = plt.figure(figsize=[8, 5])\n",
    "plt.pcolormesh(yedges, xedges, H)\n",
    "plt.xlabel('Refl fac (dBZ)')\n",
    "plt.ylabel('height (km)')\n",
    "color_bar = plt.colorbar()\n",
    "color_bar.set_label('ngates')\n",
    "plt.xlim(-10, 64)\n",
    "plt.title('CFAD of Reflectivity Factor')\n",
    "plt.savefig('/home/zsherman/VAD/images/cfad_z_'\n",
    "            + str(datetimes) + '.png', dpi=200,)\n",
    "plt.show()"
   ]
  },
  {
   "cell_type": "code",
   "execution_count": null,
   "metadata": {
    "collapsed": true,
    "deletable": true,
    "editable": true
   },
   "outputs": [],
   "source": [
    "# Below is some code from Susan Rennie (based off Michelson et al 2000)\n",
    "# from the Centre for Australian Weather and Climate Research (CAWCR)\n",
    "# for calculating VADs. I used her one tilt version and wrote my own adaptation\n",
    "# into Py-ART PyRadar object.. Note I convert to U and V before averaging..\n",
    "# my concern is that if you have θ rapidly varying between 360∘ and 0∘\n",
    "# this will average to a nonsense number."
   ]
  },
  {
   "cell_type": "code",
   "execution_count": null,
   "metadata": {
    "collapsed": false,
    "deletable": true,
    "editable": true
   },
   "outputs": [],
   "source": [
    "# Location of each gate in a Cartesian coordinate system \n",
    "# assuming a standard atmosphere with a 4/3 Earth’s radius model.\n",
    "x = radar.gate_x['data']\n",
    "y = radar.gate_y['data']\n",
    "z = radar.gate_z['data']"
   ]
  },
  {
   "cell_type": "code",
   "execution_count": null,
   "metadata": {
    "collapsed": false,
    "deletable": true,
    "editable": true
   },
   "outputs": [],
   "source": [
    "print(np.max(myradar.gate_z['data']))\n",
    "print(myradar.gate_z['units'])"
   ]
  },
  {
   "cell_type": "code",
   "execution_count": null,
   "metadata": {
    "collapsed": false,
    "deletable": true,
    "editable": true
   },
   "outputs": [],
   "source": [
    "gatefilter = pyart.correct.GateFilter(myradar)\n",
    "mask = gatefilter.exclude_below('cross_correlation_coefficient', 0.8)"
   ]
  },
  {
   "cell_type": "code",
   "execution_count": null,
   "metadata": {
    "collapsed": false,
    "deletable": true,
    "editable": true
   },
   "outputs": [],
   "source": [
    "print(myradar.fixed_angle)"
   ]
  },
  {
   "cell_type": "code",
   "execution_count": null,
   "metadata": {
    "collapsed": false,
    "deletable": true,
    "editable": true
   },
   "outputs": [],
   "source": [
    "is_bad = np.logical_or(\n",
    "    myradar.fields['norm_coh_power']['data'] < 0.5,\n",
    "    myradar.fields['cross_correlation_coefficient']['data'] < 0.8)"
   ]
  },
  {
   "cell_type": "code",
   "execution_count": null,
   "metadata": {
    "collapsed": false,
    "deletable": true,
    "editable": true,
    "scrolled": false
   },
   "outputs": [],
   "source": [
    "# Pcolormesh of reflectivity\n",
    "fig = plt.figure()\n",
    "ax = fig.add_axes([0.0, 0.0, .9, .9], polar=True)\n",
    "pcolor = polar_plot(myradar, 1, ax, 'reflectivity', mask=is_bad)\n",
    "color_bar = plt.colorbar(mappable=pcolor, pad=0.10)\n",
    "color_bar.set_label('Eq Refl factor (dBZ)')\n",
    "plt.savefig('/home/zsherman/VAD/images/csapr_dbz_ppi.'\n",
    "            + str(datetimes) + '.png', dpi=400,  bbox_inches='tight')"
   ]
  },
  {
   "cell_type": "code",
   "execution_count": null,
   "metadata": {
    "collapsed": false,
    "deletable": true,
    "editable": true
   },
   "outputs": [],
   "source": [
    "# Pcolormesh of corrected mean doppler velocity.\n",
    "fig = plt.figure()\n",
    "ax = fig.add_axes([0.0, 0.0, .9, .9], polar=True)\n",
    "pcolor = polar_plot(myradar, 1, ax, 'CVD',\n",
    "                    mask=is_bad, vmin=-20, vmax=20)\n",
    "color_bar = plt.colorbar(mappable=pcolor, pad=0.10)\n",
    "color_bar.set_label(r'Mean Doppler Velocity (ms$^{-1}$, +out)')\n",
    "plt.savefig('/home/zsherman/VAD/images/csapr_vel_ppi.'\n",
    "            + str(datetimes) + '.png', dpi=400,  bbox_inches='tight')"
   ]
  },
  {
   "cell_type": "code",
   "execution_count": null,
   "metadata": {
    "collapsed": false,
    "deletable": true,
    "editable": true,
    "scrolled": false
   },
   "outputs": [],
   "source": [
    "z_want = np.linspace(500, 10500, 101)\n",
    "u_mean, v_mean = VAD(myradar, z_want)"
   ]
  },
  {
   "cell_type": "code",
   "execution_count": null,
   "metadata": {
    "collapsed": true,
    "deletable": true,
    "editable": true
   },
   "outputs": [],
   "source": [
    "# pyart.core.HorizontalWindProfile(height, speed, direction,\n",
    "                                 # latitude=None, longitude=None)"
   ]
  },
  {
   "cell_type": "code",
   "execution_count": null,
   "metadata": {
    "collapsed": false,
    "deletable": true,
    "editable": true
   },
   "outputs": [],
   "source": [
    "fig = plt.figure()\n",
    "plt.subplot(1, 2, 1)\n",
    "plt.plot(u_mean, z_want / 1000.0, 'r-')\n",
    "plt.plot(v_mean, z_want / 1000.0, 'b-')\n",
    "plt.xlabel(r'Velocity (ms$^{-1}$)')\n",
    "plt.ylabel(r'Height (km)')\n",
    "plt.title('VAD, u=blue, v=red')\n",
    "plt.show()"
   ]
  },
  {
   "cell_type": "code",
   "execution_count": null,
   "metadata": {
    "collapsed": false,
    "deletable": true,
    "editable": true,
    "scrolled": true
   },
   "outputs": [],
   "source": [
    "ylims = [0, 10]\n",
    "fig = plt.figure()\n",
    "ax1 = fig.add_axes([0.1, 0.1, .3, .8])\n",
    "plt.plot(u_mean, z_want / 1000.0, 'r-')\n",
    "plt.plot(v_mean, z_want / 1000.0, 'b-')\n",
    "plt.ylim(ylims)\n",
    "# ax1.xaxis.set_major_locator(MaxNLocator(prune='upper'))\n",
    "plt.xlabel(r'Velocity (ms$^{-1}$)')\n",
    "plt.ylabel(r'Height (km)')\n",
    "plt.title('VAD, u=blue, v=red')\n",
    "ax2 = fig.add_axes([0.4, 0.1, .5, .8])\n",
    "plt.pcolormesh(yedges, xedges, H)\n",
    "plt.ylim(ylims)\n",
    "plt.xlim([-10, 40])\n",
    "ax2.xaxis.set_major_locator(plt.MaxNLocator(prune='lower'))\n",
    "ax2.get_yaxis().set_visible(False)\n",
    "plt.xlabel('Refl fac (dBZ)')\n",
    "color_bar = plt.colorbar()\n",
    "color_bar.set_label('ngates')\n",
    "plt.title('CFAD of Reflectivity Factor')\n",
    "# fig.text(.3,.96,time_str)\n",
    "plt.savefig('/home/zsherman/VAD/images/combo_'\n",
    "            + str(datetimes) + '.png', dpi=200,  bbox_inches='tight')\n",
    "plt.show()"
   ]
  },
  {
   "cell_type": "code",
   "execution_count": null,
   "metadata": {
    "collapsed": false,
    "deletable": true,
    "editable": true
   },
   "outputs": [],
   "source": [
    "ylims = [0, 10]\n",
    "fig = plt.figure(figsize=[10, 10])\n",
    "ax1 = fig.add_axes([0.1, 0.5, .3, .3])\n",
    "plt.plot(u_mean, z_want / 1000.0, 'r-')\n",
    "plt.plot(v_mean, z_want / 1000.0, 'b-')\n",
    "plt.ylim(ylims)\n",
    "# ax1.xaxis.set_major_locator(MaxNLocator(prune='upper'))\n",
    "plt.xlabel(r'Velocity (ms$^{-1}$)')\n",
    "plt.ylabel(r'Height (km)')\n",
    "plt.title('VAD, u=blue, v=red')\n",
    "ax2 = fig.add_axes([0.4, 0.5, .5, .3])\n",
    "plt.pcolormesh(yedges, xedges, H)\n",
    "plt.ylim(ylims)\n",
    "plt.xlim([-10, 40])\n",
    "ax2.xaxis.set_major_locator(plt.MaxNLocator(prune='lower'))\n",
    "ax2.get_yaxis().set_visible(False)\n",
    "plt.xlabel('Refl fac (dBZ)')\n",
    "color_bar = plt.colorbar()\n",
    "color_bar.set_label('ngates')\n",
    "plt.title('CFAD of Reflectivity Factor')\n",
    "# fig.text(.3,.96,time_str)\n",
    "\n",
    "ax3 = fig.add_axes([0.05, 0.05, .4, .4], polar=True)\n",
    "pc = polar_plot(myradar, 1, ax3, 'reflectivity', mask=is_bad)\n",
    "color_bar = plt.colorbar(mappable=pc, pad=0.10)\n",
    "color_bar.set_label('Eq Refl factor (dBZ)')\n",
    "plt.savefig('/home/zsherman/VAD/images/csapr_dbz_ppi.'\n",
    "            + str(datetimes) + '.png', dpi=400,  bbox_inches='tight')\n",
    "\n",
    "ax4 = fig.add_axes([0.5, 0.05, .4, .4], polar=True)\n",
    "pc = polar_plot(myradar, 1, ax4, 'CVD', mask=is_bad, vmin=-20, vmax=20)\n",
    "color_bar = plt.colorbar(mappable=pc, pad=0.10)\n",
    "color_bar.set_label(r'Mean Doppler Velocity (ms$^{-1}$, +out)')\n",
    "plt.savefig('/home/zsherman/VAD/images/super_combo_' + str(datetimes)\n",
    "            + '.png', dpi=200,  bbox_inches='tight')"
   ]
  },
  {
   "cell_type": "code",
   "execution_count": 855,
   "metadata": {
    "collapsed": false,
    "deletable": true,
    "editable": true
   },
   "outputs": [],
   "source": [
    "r = np.arange(nbins) * range_res\n",
    "beamradius = wrl.util.half_power_radius(r, bw)"
   ]
  },
  {
   "cell_type": "code",
   "execution_count": 913,
   "metadata": {
    "collapsed": true,
    "deletable": true,
    "editable": true
   },
   "outputs": [],
   "source": [
    "vel = np.asanyarray([myradar.fields['velocity']['data'][0]])"
   ]
  },
  {
   "cell_type": "code",
   "execution_count": 966,
   "metadata": {
    "collapsed": false,
    "deletable": true,
    "editable": true
   },
   "outputs": [
    {
     "data": {
      "text/plain": [
       "array([[ -2.,   0.,  -1., ..., -64., -64., -64.]], dtype=float32)"
      ]
     },
     "execution_count": 966,
     "metadata": {},
     "output_type": "execute_result"
    }
   ],
   "source": [
    "vel.shape"
   ]
  },
  {
   "cell_type": "code",
   "execution_count": 943,
   "metadata": {
    "collapsed": false,
    "deletable": true,
    "editable": true
   },
   "outputs": [],
   "source": [
    "new_vel = np.argwhere(np.isfinite(vel))\n",
    "bad_vel = np.argwhere(vel > -5)"
   ]
  },
  {
   "cell_type": "code",
   "execution_count": 948,
   "metadata": {
    "collapsed": false,
    "deletable": true,
    "editable": true
   },
   "outputs": [
    {
     "data": {
      "text/plain": [
       "array([[   0,    0],\n",
       "       [   0,    1],\n",
       "       [   0,    2],\n",
       "       ..., \n",
       "       [   0, 1829],\n",
       "       [   0, 1830],\n",
       "       [   0, 1831]])"
      ]
     },
     "execution_count": 948,
     "metadata": {},
     "output_type": "execute_result"
    }
   ],
   "source": [
    "new_vel"
   ]
  },
  {
   "cell_type": "code",
   "execution_count": 965,
   "metadata": {
    "collapsed": false,
    "deletable": true,
    "editable": true
   },
   "outputs": [
    {
     "ename": "IndexError",
     "evalue": "index -64 is out of bounds for axis 1 with size 2",
     "output_type": "error",
     "traceback": [
      "\u001b[0;31m---------------------------------------------------------------------------\u001b[0m",
      "\u001b[0;31mIndexError\u001b[0m                                Traceback (most recent call last)",
      "\u001b[0;32m<ipython-input-965-4b4bb13d9ea4>\u001b[0m in \u001b[0;36m<module>\u001b[0;34m()\u001b[0m\n\u001b[1;32m      1\u001b[0m \u001b[0;32mfor\u001b[0m \u001b[0mi\u001b[0m \u001b[0;32min\u001b[0m \u001b[0mvel\u001b[0m\u001b[0;34m[\u001b[0m\u001b[0;34m:\u001b[0m\u001b[0;34m,\u001b[0m \u001b[0mi\u001b[0m\u001b[0;34m]\u001b[0m\u001b[0;34m:\u001b[0m\u001b[0;34m\u001b[0m\u001b[0m\n\u001b[0;32m----> 2\u001b[0;31m     \u001b[0;32mif\u001b[0m \u001b[0mvel\u001b[0m\u001b[0;34m[\u001b[0m\u001b[0;34m:\u001b[0m\u001b[0;34m,\u001b[0m \u001b[0mi\u001b[0m\u001b[0;34m]\u001b[0m \u001b[0;34m==\u001b[0m \u001b[0mbad_vel\u001b[0m\u001b[0;34m[\u001b[0m\u001b[0;34m:\u001b[0m\u001b[0;34m,\u001b[0m \u001b[0mi\u001b[0m\u001b[0;34m]\u001b[0m\u001b[0;34m.\u001b[0m\u001b[0mT\u001b[0m\u001b[0;34m:\u001b[0m\u001b[0;34m\u001b[0m\u001b[0m\n\u001b[0m\u001b[1;32m      3\u001b[0m         \u001b[0mprint\u001b[0m\u001b[0;34m(\u001b[0m\u001b[0;34m'bad'\u001b[0m\u001b[0;34m)\u001b[0m\u001b[0;34m\u001b[0m\u001b[0m\n",
      "\u001b[0;31mIndexError\u001b[0m: index -64 is out of bounds for axis 1 with size 2"
     ]
    }
   ],
   "source": [
    "for i in vel[:, i]:\n",
    "    if vel[:, i] == bad_vel[:, i].T:\n",
    "        print('bad')"
   ]
  },
  {
   "cell_type": "code",
   "execution_count": 946,
   "metadata": {
    "collapsed": false,
    "deletable": true,
    "editable": true
   },
   "outputs": [
    {
     "data": {
      "text/plain": [
       "array([[0, 0],\n",
       "       [0, 1],\n",
       "       [0, 2],\n",
       "       [0, 3],\n",
       "       [0, 4]])"
      ]
     },
     "execution_count": 946,
     "metadata": {},
     "output_type": "execute_result"
    }
   ],
   "source": [
    "bad_vel"
   ]
  },
  {
   "cell_type": "code",
   "execution_count": 938,
   "metadata": {
    "collapsed": true,
    "deletable": true,
    "editable": true
   },
   "outputs": [],
   "source": [
    "sort_idx = new_vel.argsort()"
   ]
  },
  {
   "cell_type": "code",
   "execution_count": 939,
   "metadata": {
    "collapsed": false,
    "deletable": true,
    "editable": true
   },
   "outputs": [
    {
     "ename": "ValueError",
     "evalue": "object too deep for desired array",
     "output_type": "error",
     "traceback": [
      "\u001b[0;31m---------------------------------------------------------------------------\u001b[0m",
      "\u001b[0;31mValueError\u001b[0m                                Traceback (most recent call last)",
      "\u001b[0;32m<ipython-input-939-b98bab3152bd>\u001b[0m in \u001b[0;36m<module>\u001b[0;34m()\u001b[0m\n\u001b[0;32m----> 1\u001b[0;31m \u001b[0msort_idx\u001b[0m\u001b[0;34m[\u001b[0m\u001b[0mnp\u001b[0m\u001b[0;34m.\u001b[0m\u001b[0msearchsorted\u001b[0m\u001b[0;34m(\u001b[0m\u001b[0mnew_vel\u001b[0m\u001b[0;34m,\u001b[0m \u001b[0mbad_vel\u001b[0m\u001b[0;34m,\u001b[0m \u001b[0msorter\u001b[0m\u001b[0;34m=\u001b[0m\u001b[0msort_idx\u001b[0m\u001b[0;34m)\u001b[0m\u001b[0;34m]\u001b[0m\u001b[0;34m\u001b[0m\u001b[0m\n\u001b[0m",
      "\u001b[0;32m/home/zsherman/anaconda3/envs/gdal_jupyter/lib/python3.5/site-packages/numpy/core/fromnumeric.py\u001b[0m in \u001b[0;36msearchsorted\u001b[0;34m(a, v, side, sorter)\u001b[0m\n\u001b[1;32m   1091\u001b[0m \u001b[0;34m\u001b[0m\u001b[0m\n\u001b[1;32m   1092\u001b[0m     \u001b[0mnew_shape\u001b[0m \u001b[0;34m:\u001b[0m \u001b[0mint\u001b[0m \u001b[0;32mor\u001b[0m \u001b[0mtuple\u001b[0m \u001b[0mof\u001b[0m \u001b[0mint\u001b[0m\u001b[0;34m\u001b[0m\u001b[0m\n\u001b[0;32m-> 1093\u001b[0;31m         \u001b[0mShape\u001b[0m \u001b[0mof\u001b[0m \u001b[0mresized\u001b[0m \u001b[0marray\u001b[0m\u001b[0;34m.\u001b[0m\u001b[0;34m\u001b[0m\u001b[0m\n\u001b[0m\u001b[1;32m   1094\u001b[0m \u001b[0;34m\u001b[0m\u001b[0m\n\u001b[1;32m   1095\u001b[0m     \u001b[0mReturns\u001b[0m\u001b[0;34m\u001b[0m\u001b[0m\n",
      "\u001b[0;31mValueError\u001b[0m: object too deep for desired array"
     ]
    }
   ],
   "source": [
    "sort_idx[np.searchsorted(new_vel, bad_vel, sorter=sort_idx)]"
   ]
  },
  {
   "cell_type": "code",
   "execution_count": 853,
   "metadata": {
    "collapsed": true,
    "deletable": true,
    "editable": true
   },
   "outputs": [],
   "source": [
    "import wradlib as wrl\n",
    "import numpy as np "
   ]
  },
  {
   "cell_type": "code",
   "execution_count": 854,
   "metadata": {
    "collapsed": true,
    "deletable": true,
    "editable": true
   },
   "outputs": [],
   "source": [
    "sitecoords = (-28.0069, 39.05250, 30.0)\n",
    "nrays = 990\n",
    "nbins = 1073\n",
    "el = np.deg2rad(0.48)\n",
    "bw = 0.91\n",
    "range_res = 100"
   ]
  },
  {
   "cell_type": "code",
   "execution_count": 856,
   "metadata": {
    "collapsed": false,
    "deletable": true,
    "editable": true
   },
   "outputs": [],
   "source": [
    "coord = wrl.georef.sweep_centroids(nrays, range_res, nbins, el)\n",
    "lon, lat, alt = wrl.georef.polar2lonlatalt_n(\n",
    "    coord[..., 0], np.degrees(coord[..., 1]),\n",
    "    coord[..., 2], sitecoords)"
   ]
  },
  {
   "cell_type": "code",
   "execution_count": 857,
   "metadata": {
    "collapsed": false,
    "deletable": true,
    "editable": true
   },
   "outputs": [
    {
     "name": "stdout",
     "output_type": "stream",
     "text": [
      "lon,lat,alt: (990, 1073) (990, 1073) (990, 1073)\n"
     ]
    }
   ],
   "source": [
    "polcoords = np.dstack((lon, lat))\n",
    "print(\"lon,lat,alt:\", lon.shape, lat.shape, alt.shape)"
   ]
  },
  {
   "cell_type": "code",
   "execution_count": 858,
   "metadata": {
    "collapsed": false,
    "deletable": true,
    "editable": true
   },
   "outputs": [
    {
     "name": "stdout",
     "output_type": "stream",
     "text": [
      "Radar bounding box:\n",
      "\t40.02\n",
      "-29.25             -26.76\n",
      "\t38.09\n"
     ]
    }
   ],
   "source": [
    "rlimits = (lon.min(), lat.min(), lon.max(), lat.max())\n",
    "print(\"Radar bounding box:\\n\\t%.2f\\n%.2f             %.2f\\n\\t%.2f\" %\n",
    "      (lat.max(), lon.min(), lon.max(), lat.min()))"
   ]
  },
  {
   "cell_type": "code",
   "execution_count": 859,
   "metadata": {
    "collapsed": false,
    "deletable": true,
    "editable": true
   },
   "outputs": [
    {
     "name": "stdout",
     "output_type": "stream",
     "text": [
      "(990, 1073)\n"
     ]
    }
   ],
   "source": [
    "#rasterfile = wrl.util.get_wradlib_data_file('geo/bonn_gtopo.tif')\n",
    "rasterfile = wrl.util.get_wradlib_data_file('/home/zsherman/azores/dtm_gra.tif')\n",
    "rastercoords, rastervalues = wrl.io.read_raster_data(rasterfile)\n",
    "\n",
    "# Clip the region inside our bounding box\n",
    "ind = wrl.util.find_bbox_indices(rastercoords, rlimits)\n",
    "rastercoords = rastercoords[ind[1]:ind[3], ind[0]:ind[2], ...]\n",
    "rastervalues = rastervalues[ind[1]:ind[3], ind[0]:ind[2]]\n",
    "\n",
    "# Map rastervalues to polar grid points\n",
    "polarvalues = wrl.ipol.cart2irregular_spline(rastercoords, rastervalues,\n",
    "                                             polcoords, order=3,\n",
    "                                             prefilter=False)\n",
    "\n",
    "print(polarvalues.shape)"
   ]
  },
  {
   "cell_type": "code",
   "execution_count": 860,
   "metadata": {
    "collapsed": false,
    "deletable": true,
    "editable": true
   },
   "outputs": [
    {
     "data": {
      "text/plain": [
       "array([[ 0.,  0.,  0., ...,  0.,  0.,  0.],\n",
       "       [ 0.,  0.,  0., ...,  0.,  0.,  0.],\n",
       "       [ 0.,  0.,  0., ...,  0.,  0.,  0.],\n",
       "       ..., \n",
       "       [ 0.,  0.,  0., ...,  0.,  0.,  0.],\n",
       "       [ 0.,  0.,  0., ...,  0.,  0.,  0.],\n",
       "       [ 0.,  0.,  0., ...,  0.,  0.,  0.]], dtype=float32)"
      ]
     },
     "execution_count": 860,
     "metadata": {},
     "output_type": "execute_result"
    }
   ],
   "source": [
    "polarvalues"
   ]
  },
  {
   "cell_type": "code",
   "execution_count": 861,
   "metadata": {
    "collapsed": false,
    "deletable": true,
    "editable": true
   },
   "outputs": [
    {
     "data": {
      "text/plain": [
       "0.0"
      ]
     },
     "execution_count": 861,
     "metadata": {},
     "output_type": "execute_result"
    }
   ],
   "source": [
    "polarvalues.mean()"
   ]
  },
  {
   "cell_type": "code",
   "execution_count": null,
   "metadata": {
    "collapsed": true,
    "deletable": true,
    "editable": true
   },
   "outputs": [],
   "source": []
  }
 ],
 "metadata": {
  "anaconda-cloud": {},
  "kernelspec": {
   "display_name": "Python [default]",
   "language": "python",
   "name": "python3"
  },
  "language_info": {
   "codemirror_mode": {
    "name": "ipython",
    "version": 3
   },
   "file_extension": ".py",
   "mimetype": "text/x-python",
   "name": "python",
   "nbconvert_exporter": "python",
   "pygments_lexer": "ipython3",
   "version": "3.5.3"
  }
 },
 "nbformat": 4,
 "nbformat_minor": 0
}
