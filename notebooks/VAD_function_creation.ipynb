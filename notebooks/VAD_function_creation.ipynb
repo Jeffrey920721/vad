{
 "cells": [
  {
   "cell_type": "markdown",
   "metadata": {},
   "source": [
    "# (VAD) Velocity Azimuth Display\n",
    "\n",
    "Argonne National Laboratory\n",
    "\n",
    "Original code by Scott Collis:\n",
    "\n",
    "https://github.com/scollis/notebooks/blob/master/DYNAMO%20AIME%20workshop%20workbook.ipynb"
   ]
  },
  {
   "cell_type": "code",
   "execution_count": 146,
   "metadata": {
    "collapsed": false,
    "scrolled": true
   },
   "outputs": [],
   "source": [
    "import re\n",
    "import os\n",
    "import pyart\n",
    "import matplotlib.pyplot as plt\n",
    "import scipy\n",
    "from boto.s3.connection import S3Connection\n",
    "import gzip\n",
    "from datetime import datetime, timedelta\n",
    "import warnings\n",
    "warnings.filterwarnings(\"ignore\")\n",
    "%matplotlib inline"
   ]
  },
  {
   "cell_type": "code",
   "execution_count": 283,
   "metadata": {
    "collapsed": false
   },
   "outputs": [],
   "source": [
    "\"\"\"\n",
    "pyart.retrieve.velocity_azimuth_display\n",
    "=======================================\n",
    "\n",
    "Retrieval of VADs from a radar object.\n",
    "\n",
    "Code adapted by Scott Collis,\n",
    "\n",
    "\"Below is some code from Susan Rennie (based off Michelson et al 2000)\n",
    "from the Centre for Australian Weather and Climate Research (CAWCR)\n",
    "for calculating VADs. I used her one tilt version and wrote my own\n",
    "adaptation into Py-ART PyRadar object.. Note I convert to U and V before\n",
    "averaging.. my concern is that if you have $\\theta$ rapidly varying between\n",
    "360$^\\circ$ and 0$^\\circ$ this will average to a nonsense number\" (Collis).\n",
    "\n",
    ".. autosummary::\n",
    "    :toctreeL generated/\n",
    "    :template: dev_template.rst\n",
    "\n",
    "    Velocity Azimuth Display\n",
    "\n",
    "\"\"\"\n",
    "\n",
    "\n",
    "import numpy as np\n",
    "import scipy\n",
    "import matplotlib.pyplot as plt\n",
    "\n",
    "def velocity_azimuth_display(radar, corrected_velocity=None,\n",
    "                             z_start=0, z_end=10500, z_count=101,\n",
    "                             norm_coh_power=None,\n",
    "                             norm_coh_power_value=0.5):\n",
    "    \"\"\"\n",
    "    Velocity azimuth display.\n",
    "\n",
    "    Parameters\n",
    "    ----------\n",
    "    radar : Radar\n",
    "        Radar object used.\n",
    "    corrected_velocity : string\n",
    "        Velocity field to use for VAD calculation.\n",
    "        If None, the field 'velocity' will be corrected using\n",
    "        Py-ART's region based radar dealiasing algorithm,\n",
    "        and field then used is the new 'corrected_velocity'.\n",
    "\n",
    "    Other Parameters\n",
    "    ----------------\n",
    "    z_start : int\n",
    "        Z location to begin VAD calculation in meters,\n",
    "        default=0.\n",
    "    z_end : int\n",
    "        Z location to end VAD calculation in meters,\n",
    "        default=10500.\n",
    "    z_count : int\n",
    "        Amount of data points used between z_start and z_end.\n",
    "        Data points are evenly spread out using np.linspace,\n",
    "        default=101.\n",
    "    norm_coh_power : string\n",
    "        Normalized coherent power field to use for VAD calculation.\n",
    "        If None, a default normal_coherent_power field will be\n",
    "        created for the user with a default array of 0.5's.\n",
    "    norm_coh_power_value : float\n",
    "        The value to use to create field 'norm_coh_power'\n",
    "        if not present. Also used as mask to exclude_below,\n",
    "        default=0.5.\n",
    "\n",
    "\n",
    "    Returns\n",
    "    -------\n",
    "    u_mean : array\n",
    "        U-wind mean in meters per second.\n",
    "    v_mean : array\n",
    "        V-wind mean in meters per second.\n",
    "\n",
    "    References\n",
    "    ----------\n",
    "    Michelson, D. B., Andersson, T., Koistinen, J., Collier, C. G., Riedl, J.,\n",
    "    Szturc, J., Gjertsen, U., Nielsen, A. and Overgaard, S. (2000) BALTEX Radar\n",
    "    Data Centre Products and their Methodologies. In SMHI Reports. Meteorology\n",
    "    and Climatology.Swedish Meteorological and Hydrological Institute, Norrkoping.\n",
    "\n",
    "    \"\"\"\n",
    "\n",
    "\n",
    "    def interval_mean(data, current_z, wanted_z):\n",
    "        \"\"\" Find the mean of data indexed by current_z\n",
    "            at wanted_z on intervals wanted_z+/- delta\n",
    "            wanted_z \"\"\"\n",
    "        delta = wanted_z[1] - wanted_z[0]\n",
    "        pos_lower = [np.argsort((current_z - (wanted_z[i] - delta / 2.0))**2)[0]\n",
    "                     for i in range(len(wanted_z))]\n",
    "        pos_upper = [np.argsort((current_z - (wanted_z[i] + delta / 2.0))**2)[0]\n",
    "                     for i in range(len(wanted_z))]\n",
    "        new_values = np.array([data[pos_lower[i]:pos_upper[i]].mean()\n",
    "                              for i in range(len(pos_upper))])\n",
    "        return new_values\n",
    "\n",
    "\n",
    "    def sd_to_uv(speed, direction):\n",
    "        return (speed * np.sin(direction), speed * np.cos(direction))\n",
    "\n",
    "\n",
    "    def VAD_algorithm(V, Az, El, Ra):\n",
    "        ''' Calculates VAD for a scan, returns speed and angle\n",
    "        outdic=VADf(V,Az,El,Ra)\n",
    "        V is 2D array, Az, Ra are 1D arrays, El is number.\n",
    "        All in degrees, m outdic contains speed, angle, variance. \n",
    "        '''\n",
    "        nrays, nbins = V.shape\n",
    "        nr2 = nrays / 2\n",
    "        Vc = np.empty((nr2, nbins, 2))\n",
    "        Vc[:, :, 0] = V[0:nr2, :]\n",
    "        Vc[:, :, 1] = V[nr2:, :]\n",
    "        sinaz = np.sin(np.radians(Az))\n",
    "        cosaz = np.cos(np.radians(Az))\n",
    "        sumv = np.ma.sum(Vc, 2)\n",
    "        vals = np.isnan(sumv)\n",
    "        vals2 = np.vstack((vals, vals))\n",
    "        count = np.sum(np.isnan(sumv) == False, 0)\n",
    "        aa = count < 8\n",
    "        vals[:, aa] = 0\n",
    "        vals2[:, aa] = 0\n",
    "        count = np.float_(count)\n",
    "        count[aa] = np.nan\n",
    "        U_m = np.array([np.nansum(sumv, 0) / (2 * count)])\n",
    "        count[aa] = 0\n",
    "\n",
    "        CminusU_mcos = np.zeros((nrays, nbins))\n",
    "        CminusU_msin = np.zeros((nrays, nbins))\n",
    "        sincos = np.zeros((nrays, nbins))\n",
    "        sin2 = np.zeros((nrays, nbins))\n",
    "        cos2 = np.zeros((nrays, nbins))\n",
    "\n",
    "        for i in range(nbins):\n",
    "            CminusU_mcos[:, i] = cosaz * (V[:, i] - U_m[:, i])\n",
    "            CminusU_msin[:, i] = sinaz * (V[:, i] - U_m[:, i])\n",
    "            sincos[:, i] = sinaz * cosaz\n",
    "            sin2[:, i] = sinaz**2\n",
    "            cos2[:, i] = cosaz**2\n",
    "        CminusU_mcos[vals2] = np.nan\n",
    "        CminusU_msin[vals2] = np.nan\n",
    "        sincos[vals2] = np.nan\n",
    "        sin2[vals2] = np.nan\n",
    "        cos2[vals2] = np.nan\n",
    "        sumCminU_mcos = np.nansum(CminusU_mcos, 0)\n",
    "        sumCminU_msin = np.nansum(CminusU_msin, 0)\n",
    "        sumsincos = np.nansum(sincos, 0)\n",
    "        sumsin2 = np.nansum(sin2, 0)\n",
    "        sumcos2 = np.nansum(cos2, 0)\n",
    "        a_value = (sumCminU_mcos - (sumsincos*sumCminU_msin / sumsin2))\\\n",
    "             / (sumcos2 - (sumsincos**2) / sumsin2)\n",
    "        b_value = (sumCminU_msin - a_value*sumsincos) / sumsin2\n",
    "        speed = np.sqrt(a_value**2 + b_value**2) / np.cos(np.radians(El))\n",
    "        angle = np.arctan2(a_value, b_value)\n",
    "\n",
    "        crv = np.empty((nrays, nbins))\n",
    "        for i in range(nbins):\n",
    "            crv[:, i] = np.sin(np.radians(Az) + angle[i])*speed[i]\n",
    "        Vn = V.copy()\n",
    "        Vn[vals2 == True] = np.nan\n",
    "        var = np.nansum((crv - Vn)**2, 0) / (sum(np.isnan(Vn) == False) - 2)\n",
    "        return {'speed' : speed, 'angle' : angle, 'variance' : var}\n",
    "\n",
    "\n",
    "    def VAD_calculation(radar):\n",
    "        speed = []\n",
    "        angle = []\n",
    "        height = []\n",
    "        x = radar.gate_x['data']\n",
    "        y = radar.gate_y['data']\n",
    "        z = radar.gate_z['data']\n",
    "        z_want = np.linspace(z_start, z_end, z_count)\n",
    "\n",
    "        if norm_coh_power == None:\n",
    "            # Copying a field and its shape to use as a\n",
    "            # norm_coherent_power array with matching shape.\n",
    "            radar.add_field_like('reflectivity', 'norm_coh_power',\n",
    "                                 radar.fields['reflectivity']['data'].copy(),\n",
    "                                 replace_existing=True)\n",
    "            # Setting all values to norm_coh_power_value,\n",
    "            # in the field norm_coh_power.\n",
    "            (radar.fields['norm_coh_power']['data'])[\n",
    "                radar.fields['norm_coh_power']['data'] !=\n",
    "                norm_coh_power_value] = norm_coh_power_value\n",
    "            norm_coh_power_used = 'norm_coh_power'\n",
    "        else:\n",
    "            norm_coh_power_used = norm_coh_power\n",
    "\n",
    "        gatefilter = pyart.correct.GateFilter(radar)\n",
    "        gatefilter.exclude_below(norm_coh_power_used, norm_coh_power_value)\n",
    "        if 0 > norm_coh_power_value or norm_coh_power_value > 1:\n",
    "            raise ValueError('Normalized coherent power is out of'\n",
    "                             ' recommended range between 0 and 1.')\n",
    "        if corrected_velocity == None:\n",
    "            nyq = radar.instrument_parameters['nyquist_velocity']['data'][0]\n",
    "            corr_vel = pyart.correct.dealias_region_based(\n",
    "                radar, vel_field='velocity', keep_original=False, \n",
    "                gatefilter=gatefilter, nyquist_vel=nyq,\n",
    "                centered=True)\n",
    "            radar.add_field('corrected_velocity', corr_vel,\n",
    "                              replace_existing=True)\n",
    "            velocity_used = 'corrected_velocity'\n",
    "        else:\n",
    "            velocity_used = corrected_velocity\n",
    "\n",
    "        if radar.fields[velocity_used]['units'] is not 'meters_per_second'\\\n",
    "        and radar.fields[velocity_used]['units'] is not 'm/s':\n",
    "            raise ValueError('Field used for VAD Calculation needs to be'\n",
    "                             ' a velocity field.')\n",
    "\n",
    "        for i in range(len(radar.sweep_start_ray_index['data'])):\n",
    "            i_s = radar.sweep_start_ray_index['data'][i]\n",
    "            i_e = radar.sweep_end_ray_index['data'][i]\n",
    "\n",
    "            if (i_e - i_s) % 2 == 0:\n",
    "                print(\"even, all good\")\n",
    "            else:\n",
    "                i_e = i_e - 1\n",
    "\n",
    "            VR = radar.fields[velocity_used]['data'][i_s:i_e, :]\n",
    "            #SQ = radar.fields[norm_coh_power_used]['data'][i_s:i_e, :]\n",
    "            Az = radar.azimuth['data'][i_s:i_e]\n",
    "            Ra = radar.range['data']\n",
    "            El = radar.fixed_angle['data'][i]\n",
    "\n",
    "            mask = VR.mask\n",
    "            #crud = SQ < 0.5\n",
    "            VR[np.where(mask)] = np.nan\n",
    "            #VR[np.where(crud)] = np.nan\n",
    "            one_level = VAD_algorithm(VR, Az, El, Ra / 1000.0)\n",
    "            not_garbage = np.isfinite(one_level['speed'])\n",
    "\n",
    "            print('max height', z[i_s, :][np.where(not_garbage)].max(),\n",
    "                  ' meters')\n",
    "\n",
    "            speed.append(one_level['speed'][np.where(not_garbage)])\n",
    "            angle.append(one_level['angle'][np.where(not_garbage)])\n",
    "            height.append(z[i_s, :][np.where(not_garbage)])\n",
    "\n",
    "        speed_array = np.concatenate(speed)\n",
    "        angle_array = np.concatenate(angle)\n",
    "        height_array = np.concatenate(height)\n",
    "        arg_order = height_array.argsort()\n",
    "        speed_ordered = speed_array[arg_order]\n",
    "        height_ordered = height_array[arg_order]\n",
    "        angle_ordered = angle_array[arg_order]\n",
    "        u_ordered, v_ordered = sd_to_uv(speed_ordered, angle_ordered)\n",
    "        u_mean = interval_mean(u_ordered, height_ordered, z_want)\n",
    "        v_mean = interval_mean(v_ordered, height_ordered, z_want)\n",
    "        return z_want, u_mean, v_mean\n",
    "    z_want, u_mean, v_mean = VAD_calculation(radar)\n",
    "    return {'u_mean' : u_mean, 'v_mean' : v_mean, 'z_interval': z_want}"
   ]
  },
  {
   "cell_type": "code",
   "execution_count": null,
   "metadata": {
    "collapsed": true
   },
   "outputs": [],
   "source": [
    "        #return z_want, speed_ordered, height_ordered, angle_ordered, u_mean, v_mean\n",
    "    #z_want, speed_ordered, height_ordered, angle_ordered, u_mean, v_mean = VAD_calculation(radar)\n",
    "    #return {'u_mean' : u_mean, 'v_mean' : v_mean,\n",
    "            #'z_interval': z_want, 'speed': speed_ordered, 'height': height_ordered,\n",
    "            #'angle': angle_ordered}"
   ]
  },
  {
   "cell_type": "code",
   "execution_count": 148,
   "metadata": {
    "collapsed": false
   },
   "outputs": [],
   "source": [
    "import numpy as np\n",
    "filename = '/home/zsherman/training_exercises/data/KLOT20130417_235520_V06.gz'\n",
    "myradar = pyart.io.read(filename)"
   ]
  },
  {
   "cell_type": "code",
   "execution_count": 153,
   "metadata": {
    "collapsed": true
   },
   "outputs": [],
   "source": [
    "gatefilter = pyart.correct.GateFilter(myradar)\n",
    "nyq = myradar.instrument_parameters['nyquist_velocity']['data'][0]\n",
    "corr_vel = pyart.correct.dealias_region_based(\n",
    "    myradar, vel_field='velocity', keep_original=False, \n",
    "    gatefilter = gatefilter, nyquist_vel=nyq, centered = True)\n",
    "myradar.add_field('corrected_velocity', corr_vel, replace_existing = True)"
   ]
  },
  {
   "cell_type": "code",
   "execution_count": 284,
   "metadata": {
    "collapsed": false
   },
   "outputs": [
    {
     "name": "stdout",
     "output_type": "stream",
     "text": [
      "max height 16378.3196353  meters\n",
      "max height 16664.336786  meters\n",
      "max height 18644.1409849  meters\n",
      "max height 19831.749484  meters\n",
      "max height 22733.8708519  meters\n",
      "max height 23349.2962065  meters\n",
      "max height 28314.2167915  meters\n",
      "max height 31848.3092148  meters\n",
      "max height 36936.2556392  meters\n",
      "max height 44031.5646064  meters\n",
      "max height 52728.7671706  meters\n",
      "max height 62490.3668599  meters\n",
      "max height 76743.0034827  meters\n",
      "max height 91638.9944802  meters\n",
      "max height 112526.51153  meters\n",
      "max height 134714.181605  meters\n",
      "max height 163740.607128  meters\n"
     ]
    }
   ],
   "source": [
    "vad = velocity_azimuth_display(myradar, 'corrected_velocity')"
   ]
  },
  {
   "cell_type": "code",
   "execution_count": 286,
   "metadata": {
    "collapsed": false
   },
   "outputs": [
    {
     "data": {
      "text/plain": [
       "array([-1.03897882, -0.61243538,  0.66741245,  1.51747403,  1.43242814,\n",
       "        0.59974789, -0.59795754, -1.30988142, -1.46844359, -1.0878033 ,\n",
       "       -0.43135031,  0.23437143,  1.13726366,  2.01576112,  2.72245582,\n",
       "        3.49179359,  4.06501024,  4.83617328,  5.47077381,  5.94921982,\n",
       "        6.56850457,  7.13374619,  7.2579572 ,  7.84584635,  7.97057974,\n",
       "        7.75779183,  7.55829229,  7.46744145,  7.77350717,  7.65106368,\n",
       "        7.63173991,  8.25717315,  7.75903984,  8.00713512,  8.14184343,\n",
       "        7.13866575,  7.21016613,  6.84864173,  7.05536028,  6.97108229,\n",
       "        6.94009394,  8.26777024,  8.49255549,  8.01561506,  7.35509101,\n",
       "        8.71815937,  6.8789692 ,  6.6156371 ,  7.81025725,  7.38630547,\n",
       "        7.24812964,  7.63591082,  4.85837369,  4.7526648 ,  6.56480013,\n",
       "        6.50367102,  6.67497885,  7.25752492,  6.44020689,  6.70596378,\n",
       "        5.89259927,  7.24296391,  6.91039569,  6.20492703,  5.94376847,\n",
       "        6.937251  ,  6.68219857,  3.03316176,  3.68219338,  3.91310184,\n",
       "        4.73881326,  3.92613477,  4.05732561,  4.55015841,  4.13071271,\n",
       "        5.19853843,  5.66115915,  7.23891656,  5.75361425,  5.8306155 ,\n",
       "        5.08994243,  5.09378311,  5.9135836 ,  4.25234438,  0.97070086,\n",
       "        1.59679592,  1.26336933,  1.22058333,  1.21690225,  0.98951627,\n",
       "        1.13729018,  0.6030179 ,  0.69449788,  0.6087552 ,  0.63601858,\n",
       "        0.54478935,  0.37159522,  0.47063835,  0.21077038,  0.23342025,\n",
       "        0.10992734])"
      ]
     },
     "execution_count": 286,
     "metadata": {},
     "output_type": "execute_result"
    }
   ],
   "source": [
    "vad['u_mean']"
   ]
  },
  {
   "cell_type": "code",
   "execution_count": 287,
   "metadata": {
    "collapsed": false
   },
   "outputs": [
    {
     "data": {
      "text/plain": [
       "array([ -2.71287828,  -4.29950842,  -4.8748855 ,  -2.89947601,\n",
       "        -1.12772982,  -0.20598298,   0.54193049,   1.75494893,\n",
       "         2.81769447,   3.75176883,   4.91310146,   5.69590139,\n",
       "         6.36722614,   6.86142518,   7.57600766,   7.95543181,\n",
       "         8.2141808 ,   8.23582931,   8.59053952,   8.72117194,\n",
       "         8.90850341,   9.14148919,   9.23543628,   9.36288148,\n",
       "         9.59931039,   9.10487088,   8.74814109,   8.59676291,\n",
       "         9.09669712,   9.14625997,   9.17117775,   9.72941174,\n",
       "         9.24750727,   9.71600971,   9.80393249,   8.54428223,\n",
       "         8.51416524,   8.37740908,   8.6624834 ,   8.57886024,\n",
       "         8.73651348,   9.77800309,   9.7291327 ,  10.12510048,\n",
       "         9.85377474,  10.29842192,   8.48062794,   8.19624354,\n",
       "         8.31129315,   8.75418865,   8.43768175,   8.56933795,\n",
       "         9.42063308,   9.29391329,   8.52270729,   8.041356  ,\n",
       "         7.66083363,   7.3959675 ,   7.37601846,   7.9246304 ,\n",
       "         7.7620972 ,   5.97026775,   6.22238406,   6.43618093,\n",
       "         6.41640256,   6.53475089,   6.63103108,   7.54905986,\n",
       "         7.49336697,   6.79911115,   6.60166285,   5.40090763,\n",
       "         5.3757556 ,   5.84835233,   5.36300954,   5.9936466 ,\n",
       "         5.34781806,   5.53250015,   4.98606891,   6.02207873,\n",
       "         5.2312316 ,   4.90369691,   4.76639825,   3.4046641 ,\n",
       "         2.63457635,   2.75708245,   2.38143571,   2.50131097,\n",
       "         2.47341973,   1.77144523,   2.23891401,   1.00522135,\n",
       "         1.21565471,   1.20235979,   1.23321708,   1.01428781,\n",
       "         0.74381155,   0.98611245,   0.51120626,   0.73812267,   0.26782458])"
      ]
     },
     "execution_count": 287,
     "metadata": {},
     "output_type": "execute_result"
    }
   ],
   "source": [
    "vad['v_mean']"
   ]
  },
  {
   "cell_type": "code",
   "execution_count": 285,
   "metadata": {
    "collapsed": false
   },
   "outputs": [
    {
     "data": {
      "image/png": "[encoded data removed]",
      "text/plain": [
       "<matplotlib.figure.Figure at 0x7fce749ac1d0>"
      ]
     },
     "metadata": {},
     "output_type": "display_data"
    }
   ],
   "source": [
    "fig = plt.figure()\n",
    "plt.subplot(1, 2, 1)\n",
    "plt.plot(vad['u_mean'], vad['z_interval'] / 1000.0, 'r-')\n",
    "plt.plot(vad['v_mean'], vad['z_interval'] / 1000.0, 'b-')\n",
    "plt.xlabel(r'Velocity (ms$^{-1}$)')\n",
    "plt.ylabel(r'Height (km)')\n",
    "plt.title('VAD, u=blue, v=red')\n",
    "plt.show()"
   ]
  },
  {
   "cell_type": "code",
   "execution_count": 9,
   "metadata": {
    "collapsed": false
   },
   "outputs": [],
   "source": [
    "    # Setting parameters for the pcolormesh plots.\n",
    "    def polar_plot(self, field, sweep=0, ax=None, **kwargs):\n",
    "        \"\"\"\n",
    "        Creates a polar plot.\n",
    "\n",
    "        Parameters\n",
    "        ----------\n",
    "        radar : Radar\n",
    "            Radar object Used.\n",
    "        field : str\n",
    "            Field to plot.\n",
    "\n",
    "        Other Parameters\n",
    "        ----------------\n",
    "        vmin : float\n",
    "            Luminance minimum value, None for default value.\n",
    "            Parameter is ignored is norm is not None.\n",
    "        vmax : float\n",
    "            Luminance maximum value, None for default value.\n",
    "            Parameter is ignored is norm is not None.\n",
    "        title : str\n",
    "            Title to label plot with, None to use default title generated from\n",
    "            the field and tilt parameters. Parameter is ignored if title_flag\n",
    "            is False.\n",
    "        title_flag : bool\n",
    "            True to add a title to the plot, False does not add a title.\n",
    "        \"\"\"\n",
    "\n",
    "        ax.cla()\n",
    "        ax.set_theta_zero_location(\"N\")\n",
    "        ax.set_theta_direction(-1)\n",
    "        i_s = radar.sweep_start_ray_index['data'][sweep]\n",
    "        i_e = radar.sweep_end_ray_index['data'][sweep]\n",
    "        order = np.argsort(radar.azimuth['data'][i_s:i_e])\n",
    "        # rectangular plot of polar data\n",
    "        theta, rad = np.meshgrid(radar.azimuth['data'][i_s:i_e][order],\n",
    "                                 radar.range['data'])\n",
    "        X = theta * np.pi / 180.0\n",
    "        Y = rad / 1000.0\n",
    "        if 'mask' in kwargs.keys():\n",
    "            pcolor = ax.pcolormesh(\n",
    "                X, Y, np.ma.masked_where(\n",
    "                    kwargs['mask'][\n",
    "                        i_s:i_e, :][\n",
    "                        order, :].transpose(), radar.fields[var]['data'][\n",
    "                        i_s:i_e, :][\n",
    "                            order, :].transpose()), vmin=kwargs.get(\n",
    "                                'vmin', -6), vmax=kwargs.get(\n",
    "                                    'vmax', 64))\n",
    "        else:\n",
    "            pcolor = ax.pcolormesh(\n",
    "                X, Y,\n",
    "                radar.fields[field]['data'][i_s:i_e, :][order, :].transpose(),\n",
    "                vmin=kwargs.get('vmin', -6),\n",
    "                vmax=kwargs.get('vmax', 64))\n",
    "\n",
    "        ax.set_title(radar.metadata['instrument_name']\n",
    "                     + ' ' + str(datetimes) + ' ' + field, y=1.08)\n",
    "\n",
    "        if 'ylim' in kwargs:\n",
    "            ylim(kwargs['ylim'])\n",
    "        plt.grid(True)\n",
    "        return pcolor"
   ]
  },
  {
   "cell_type": "code",
   "execution_count": null,
   "metadata": {
    "collapsed": false,
    "scrolled": true
   },
   "outputs": [],
   "source": [
    "# Pcolormesh of reflectivity and the number of gates a specific dBZ occurs.\n",
    "good = np.where(np.logical_not(is_bad[:, 0:-20].flatten()))[0]\n",
    "H, xedges, yedges = np.histogram2d(\n",
    "    z[:, 0:-20].flatten()[good] / 1000.0,\n",
    "    myradar.fields['reflectivity']['data'][:, 0:-20].flatten()[good],\n",
    "    bins=(62, 60), range=([0, 12], [-10, 64]))\n",
    "\n",
    "fig = plt.figure(figsize=[8, 5])\n",
    "plt.pcolormesh(yedges, xedges, H)\n",
    "plt.xlabel('Refl fac (dBZ)')\n",
    "plt.ylabel('height (km)')\n",
    "color_bar = plt.colorbar()\n",
    "color_bar.set_label('ngates')\n",
    "plt.xlim(-10, 64)\n",
    "plt.title('CFAD of Reflectivity Factor')\n",
    "plt.savefig('/home/zsherman/VAD/images/cfad_z_'\n",
    "            + str(datetimes) + '.png', dpi=200,)\n",
    "plt.show()"
   ]
  },
  {
   "cell_type": "code",
   "execution_count": null,
   "metadata": {
    "collapsed": true
   },
   "outputs": [],
   "source": [
    "# Below is some code from Susan Rennie (based off Michelson et al 2000)\n",
    "# from the Centre for Australian Weather and Climate Research (CAWCR)\n",
    "# for calculating VADs. I used her one tilt version and wrote my own adaptation\n",
    "# into Py-ART PyRadar object.. Note I convert to U and V before averaging..\n",
    "# my concern is that if you have θ rapidly varying between 360∘ and 0∘\n",
    "# this will average to a nonsense number."
   ]
  },
  {
   "cell_type": "code",
   "execution_count": null,
   "metadata": {
    "collapsed": false
   },
   "outputs": [],
   "source": [
    "# Location of each gate in a Cartesian coordinate system \n",
    "# assuming a standard atmosphere with a 4/3 Earth’s radius model.\n",
    "x = radar.gate_x['data']\n",
    "y = radar.gate_y['data']\n",
    "z = radar.gate_z['data']"
   ]
  },
  {
   "cell_type": "code",
   "execution_count": null,
   "metadata": {
    "collapsed": false
   },
   "outputs": [],
   "source": [
    "print(np.max(myradar.gate_z['data']))\n",
    "print(myradar.gate_z['units'])"
   ]
  },
  {
   "cell_type": "code",
   "execution_count": null,
   "metadata": {
    "collapsed": false
   },
   "outputs": [],
   "source": [
    "gatefilter = pyart.correct.GateFilter(myradar)\n",
    "mask = gatefilter.exclude_below('cross_correlation_coefficient', 0.8)"
   ]
  },
  {
   "cell_type": "code",
   "execution_count": null,
   "metadata": {
    "collapsed": false
   },
   "outputs": [],
   "source": [
    "print(myradar.fixed_angle)"
   ]
  },
  {
   "cell_type": "code",
   "execution_count": null,
   "metadata": {
    "collapsed": false
   },
   "outputs": [],
   "source": [
    "is_bad = np.logical_or(\n",
    "    myradar.fields['norm_coh_power']['data'] < 0.5,\n",
    "    myradar.fields['cross_correlation_coefficient']['data'] < 0.8)"
   ]
  },
  {
   "cell_type": "code",
   "execution_count": null,
   "metadata": {
    "collapsed": false,
    "scrolled": false
   },
   "outputs": [],
   "source": [
    "# Pcolormesh of reflectivity\n",
    "fig = plt.figure()\n",
    "ax = fig.add_axes([0.0, 0.0, .9, .9], polar=True)\n",
    "pcolor = polar_plot(myradar, 1, ax, 'reflectivity', mask=is_bad)\n",
    "color_bar = plt.colorbar(mappable=pcolor, pad=0.10)\n",
    "color_bar.set_label('Eq Refl factor (dBZ)')\n",
    "plt.savefig('/home/zsherman/VAD/images/csapr_dbz_ppi.'\n",
    "            + str(datetimes) + '.png', dpi=400,  bbox_inches='tight')"
   ]
  },
  {
   "cell_type": "code",
   "execution_count": null,
   "metadata": {
    "collapsed": false
   },
   "outputs": [],
   "source": [
    "# Pcolormesh of corrected mean doppler velocity.\n",
    "fig = plt.figure()\n",
    "ax = fig.add_axes([0.0, 0.0, .9, .9], polar=True)\n",
    "pcolor = polar_plot(myradar, 1, ax, 'CVD',\n",
    "                    mask=is_bad, vmin=-20, vmax=20)\n",
    "color_bar = plt.colorbar(mappable=pcolor, pad=0.10)\n",
    "color_bar.set_label(r'Mean Doppler Velocity (ms$^{-1}$, +out)')\n",
    "plt.savefig('/home/zsherman/VAD/images/csapr_vel_ppi.'\n",
    "            + str(datetimes) + '.png', dpi=400,  bbox_inches='tight')"
   ]
  },
  {
   "cell_type": "code",
   "execution_count": null,
   "metadata": {
    "collapsed": false,
    "scrolled": false
   },
   "outputs": [],
   "source": [
    "z_want = np.linspace(500, 10500, 101)\n",
    "u_mean, v_mean = VAD(myradar, z_want)"
   ]
  },
  {
   "cell_type": "code",
   "execution_count": null,
   "metadata": {
    "collapsed": true
   },
   "outputs": [],
   "source": [
    "# pyart.core.HorizontalWindProfile(height, speed, direction,\n",
    "                                 # latitude=None, longitude=None)"
   ]
  },
  {
   "cell_type": "code",
   "execution_count": null,
   "metadata": {
    "collapsed": false
   },
   "outputs": [],
   "source": [
    "fig = plt.figure()\n",
    "plt.subplot(1, 2, 1)\n",
    "plt.plot(u_mean, z_want / 1000.0, 'r-')\n",
    "plt.plot(v_mean, z_want / 1000.0, 'b-')\n",
    "plt.xlabel(r'Velocity (ms$^{-1}$)')\n",
    "plt.ylabel(r'Height (km)')\n",
    "plt.title('VAD, u=blue, v=red')\n",
    "plt.show()"
   ]
  },
  {
   "cell_type": "code",
   "execution_count": null,
   "metadata": {
    "collapsed": false,
    "scrolled": true
   },
   "outputs": [],
   "source": [
    "ylims = [0, 10]\n",
    "fig = plt.figure()\n",
    "ax1 = fig.add_axes([0.1, 0.1, .3, .8])\n",
    "plt.plot(u_mean, z_want / 1000.0, 'r-')\n",
    "plt.plot(v_mean, z_want / 1000.0, 'b-')\n",
    "plt.ylim(ylims)\n",
    "# ax1.xaxis.set_major_locator(MaxNLocator(prune='upper'))\n",
    "plt.xlabel(r'Velocity (ms$^{-1}$)')\n",
    "plt.ylabel(r'Height (km)')\n",
    "plt.title('VAD, u=blue, v=red')\n",
    "ax2 = fig.add_axes([0.4, 0.1, .5, .8])\n",
    "plt.pcolormesh(yedges, xedges, H)\n",
    "plt.ylim(ylims)\n",
    "plt.xlim([-10, 40])\n",
    "ax2.xaxis.set_major_locator(plt.MaxNLocator(prune='lower'))\n",
    "ax2.get_yaxis().set_visible(False)\n",
    "plt.xlabel('Refl fac (dBZ)')\n",
    "color_bar = plt.colorbar()\n",
    "color_bar.set_label('ngates')\n",
    "plt.title('CFAD of Reflectivity Factor')\n",
    "# fig.text(.3,.96,time_str)\n",
    "plt.savefig('/home/zsherman/VAD/images/combo_'\n",
    "            + str(datetimes) + '.png', dpi=200,  bbox_inches='tight')\n",
    "plt.show()"
   ]
  },
  {
   "cell_type": "code",
   "execution_count": null,
   "metadata": {
    "collapsed": false
   },
   "outputs": [],
   "source": [
    "ylims = [0, 10]\n",
    "fig = plt.figure(figsize=[10, 10])\n",
    "ax1 = fig.add_axes([0.1, 0.5, .3, .3])\n",
    "plt.plot(u_mean, z_want / 1000.0, 'r-')\n",
    "plt.plot(v_mean, z_want / 1000.0, 'b-')\n",
    "plt.ylim(ylims)\n",
    "# ax1.xaxis.set_major_locator(MaxNLocator(prune='upper'))\n",
    "plt.xlabel(r'Velocity (ms$^{-1}$)')\n",
    "plt.ylabel(r'Height (km)')\n",
    "plt.title('VAD, u=blue, v=red')\n",
    "ax2 = fig.add_axes([0.4, 0.5, .5, .3])\n",
    "plt.pcolormesh(yedges, xedges, H)\n",
    "plt.ylim(ylims)\n",
    "plt.xlim([-10, 40])\n",
    "ax2.xaxis.set_major_locator(plt.MaxNLocator(prune='lower'))\n",
    "ax2.get_yaxis().set_visible(False)\n",
    "plt.xlabel('Refl fac (dBZ)')\n",
    "color_bar = plt.colorbar()\n",
    "color_bar.set_label('ngates')\n",
    "plt.title('CFAD of Reflectivity Factor')\n",
    "# fig.text(.3,.96,time_str)\n",
    "\n",
    "ax3 = fig.add_axes([0.05, 0.05, .4, .4], polar=True)\n",
    "pc = polar_plot(myradar, 1, ax3, 'reflectivity', mask=is_bad)\n",
    "color_bar = plt.colorbar(mappable=pc, pad=0.10)\n",
    "color_bar.set_label('Eq Refl factor (dBZ)')\n",
    "plt.savefig('/home/zsherman/VAD/images/csapr_dbz_ppi.'\n",
    "            + str(datetimes) + '.png', dpi=400,  bbox_inches='tight')\n",
    "\n",
    "ax4 = fig.add_axes([0.5, 0.05, .4, .4], polar=True)\n",
    "pc = polar_plot(myradar, 1, ax4, 'CVD', mask=is_bad, vmin=-20, vmax=20)\n",
    "color_bar = plt.colorbar(mappable=pc, pad=0.10)\n",
    "color_bar.set_label(r'Mean Doppler Velocity (ms$^{-1}$, +out)')\n",
    "plt.savefig('/home/zsherman/VAD/images/super_combo_' + str(datetimes)\n",
    "            + '.png', dpi=200,  bbox_inches='tight')"
   ]
  },
  {
   "cell_type": "code",
   "execution_count": null,
   "metadata": {
    "collapsed": true
   },
   "outputs": [],
   "source": []
  }
 ],
 "metadata": {
  "kernelspec": {
   "display_name": "Python 3",
   "language": "python",
   "name": "python3"
  },
  "language_info": {
   "codemirror_mode": {
    "name": "ipython",
    "version": 3
   },
   "file_extension": ".py",
   "mimetype": "text/x-python",
   "name": "python",
   "nbconvert_exporter": "python",
   "pygments_lexer": "ipython3",
   "version": "3.5.1"
  }
 },
 "nbformat": 4,
 "nbformat_minor": 0
}
