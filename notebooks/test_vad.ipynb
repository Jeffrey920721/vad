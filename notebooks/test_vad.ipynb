{
 "cells": [
  {
   "cell_type": "code",
   "execution_count": 5,
   "metadata": {
    "collapsed": false
   },
   "outputs": [],
   "source": [
    "\"\"\" Unit Tests for Py-ART's retrieve/vad.py module. \"\"\"\n",
    "\n",
    "from __future__ import print_function\n",
    "\n",
    "import numpy as np\n",
    "from numpy.testing import assert_almost_equal\n",
    "\n",
    "import pyart"
   ]
  },
  {
   "cell_type": "code",
   "execution_count": 6,
   "metadata": {
    "collapsed": false
   },
   "outputs": [],
   "source": [
    "def test_vad():\n",
    "    test_radar = pyart.testing.make_target_radar()\n",
    "    height = np.arange(0, 1000, 200)\n",
    "    speed = np.ones_like(height) * 5\n",
    "    direction = np.array([0, 90, 180, 270, 45])\n",
    "    profile = pyart.core.HorizontalWindProfile(height, speed, direction)\n",
    "    sim_vel = pyart.util.simulated_vel_from_profile(test_radar, profile)\n",
    "    test_radar.add_field('velocity', sim_vel,\n",
    "                    replace_existing=True)\n",
    "    velocity = 'velocity'\n",
    "    z_start = 0\n",
    "    z_end = 10\n",
    "    z_count = 5\n",
    "\n",
    "    vad_height = ([0., 2.5, 5., 7.5, 10.])\n",
    "    vad_speed = [4.98665725, 4.94020686, 4.88107152,\n",
    "                 4.81939374, 4.75851962]\n",
    "    vad_direction = [359.84659496, 359.30240553, 358.58658589,\n",
    "                     357.81073051, 357.01353486]\n",
    "    u_wind = ([0.01335138, 0.06014712, 0.12039762,\n",
    "               0.18410404, 0.24791911])\n",
    "    v_wind = ([-4.98663937, -4.9398407, -4.87958641,\n",
    "               -4.81587601, -4.75205693])\n",
    "\n",
    "    vad = pyart.retrieve.velocity_azimuth_display(test_radar,\n",
    "                                                  velocity,\n",
    "                                                  z_start, z_end,\n",
    "                                                  z_count)\n",
    "    assert_almost_equal(vad.height, vad_height, 8)\n",
    "    assert_almost_equal(vad.speed, vad_speed, 8)\n",
    "    assert_almost_equal(vad.direction, vad_direction, 8)\n",
    "    assert_almost_equal(vad.u_wind, u_wind, 8)\n",
    "    assert_almost_equal(vad.v_wind, v_wind, 8)"
   ]
  },
  {
   "cell_type": "code",
   "execution_count": 7,
   "metadata": {
    "collapsed": false
   },
   "outputs": [
    {
     "name": "stdout",
     "output_type": "stream",
     "text": [
      "max height 13.1484458577  meters\n"
     ]
    },
    {
     "name": "stderr",
     "output_type": "stream",
     "text": [
      "/home/zsherman/.local/lib/python3.5/site-packages/pyart/retrieve/vad.py:177: MaskedArrayFutureWarning: setting an item on a masked array which has a shared mask will not copy the mask and also change the original mask array in the future.\n",
      "Check the NumPy 1.11 release notes for more information.\n",
      "  velocity_field[np.where(mask)] = np.nan\n",
      "/home/zsherman/.local/lib/python3.5/site-packages/pyart/retrieve/vad.py:104: VisibleDeprecationWarning: using a non-integer number instead of an integer will result in an error in the future\n",
      "  Vc = np.empty((nr2, nbins, 2))\n",
      "/home/zsherman/anaconda3/lib/python3.5/site-packages/numpy/ma/core.py:3158: VisibleDeprecationWarning: using a non-integer number instead of an integer will result in an error in the future\n",
      "  dout = self.data[indx]\n",
      "/home/zsherman/anaconda3/lib/python3.5/site-packages/numpy/ma/core.py:3213: VisibleDeprecationWarning: using a non-integer number instead of an integer will result in an error in the future\n",
      "  dout._mask = _mask[indx]\n",
      "/home/zsherman/anaconda3/lib/python3.5/site-packages/numpy/ma/core.py:3289: VisibleDeprecationWarning: using a boolean instead of an integer will result in an error in the future\n",
      "  _data[indx] = dval\n",
      "/home/zsherman/anaconda3/lib/python3.5/site-packages/numpy/ma/core.py:3290: VisibleDeprecationWarning: using a boolean instead of an integer will result in an error in the future\n",
      "  _mask[indx] = mval\n"
     ]
    }
   ],
   "source": [
    "test_vad()"
   ]
  },
  {
   "cell_type": "code",
   "execution_count": null,
   "metadata": {
    "collapsed": true
   },
   "outputs": [],
   "source": []
  }
 ],
 "metadata": {
  "kernelspec": {
   "display_name": "Python 3",
   "language": "python",
   "name": "python3"
  },
  "language_info": {
   "codemirror_mode": {
    "name": "ipython",
    "version": 3
   },
   "file_extension": ".py",
   "mimetype": "text/x-python",
   "name": "python",
   "nbconvert_exporter": "python",
   "pygments_lexer": "ipython3",
   "version": "3.5.1"
  }
 },
 "nbformat": 4,
 "nbformat_minor": 0
}
