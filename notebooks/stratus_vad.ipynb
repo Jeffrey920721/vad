{
 "cells": [
  {
   "cell_type": "code",
   "execution_count": null,
   "metadata": {
    "scrolled": true
   },
   "outputs": [],
   "source": [
    "from dask_jobqueue import PBSCluster\n",
    "from dask.distributed import Client, metrics, wait\n",
    "# wait for jobs to arrive, depending on the queue, this may take some time\n",
    "import dask.array as da\n",
    "import dask.bag as db\n",
    "import numpy as np\n",
    "from dask.diagnostics import Profiler, ResourceProfiler, CacheProfiler, progress\n",
    "import os\n",
    "os.environ['PROJ_LIB'] = '/home/zsherman/anaconda3/envs/cmac_env/share/proj/'\n",
    "import pyart\n",
    "import netCDF4\n",
    "import tempfile\n",
    "import shutil\n",
    "from netCDF4 import num2date\n",
    "import json\n",
    "#from time import strftime, sleep\n",
    "import os\n",
    "import datetime\n",
    "import glob\n",
    "import subprocess\n",
    "import matplotlib\n",
    "import matplotlib.pyplot as plt\n",
    "plt.switch_backend('agg')\n",
    "%matplotlib inline\n",
    "os.environ['PROJ_LIB'] = '/home/zsherman/anaconda3/envs/cmac_env/share/proj/'"
   ]
  },
  {
   "cell_type": "code",
   "execution_count": null,
   "metadata": {},
   "outputs": [],
   "source": [
    "!module load data_wrapper"
   ]
  },
  {
   "cell_type": "code",
   "execution_count": null,
   "metadata": {
    "scrolled": true
   },
   "outputs": [],
   "source": [
    "!adc_xfer -a /data/datastream/sgp/sgpxsaprsecI5.00/sgpxsaprsecI5.00.201807* /lustre/or-hydra/cades-arm/proj-shared/dask_test/unformatted/\n",
    "!adc_xfer -a /data/datastream/sgp/sgpxsaprsecI5.00/sgpxsaprsecI5.00.201808* /lustre/or-hydra/cades-arm/proj-shared/dask_test/unformatted/\n",
    "!adc_xfer -a /data/datastream/sgp/sgpxsaprsecI6.00/sgpxsaprsecI6.00.201807* /lustre/or-hydra/cades-arm/proj-shared/dask_test/unformatted/\n",
    "!adc_xfer -a /data/datastream/sgp/sgpxsaprsecI6.00/sgpxsaprsecI6.00.201808* /lustre/or-hydra/cades-arm/proj-shared/dask_test/unformatted/\n",
    "!adc_xfer -a /data/datastream/sgp/sgpxsaprsecI4.00/sgpxsaprsecI4.00.201807* /lustre/or-hydra/cades-arm/proj-shared/dask_test/unformatted/\n",
    "!adc_xfer -a /data/datastream/sgp/sgpxsaprsecI4.00/sgpxsaprsecI4.00.201808* /lustre/or-hydra/cades-arm/proj-shared/dask_test/unformatted/"
   ]
  },
  {
   "cell_type": "code",
   "execution_count": null,
   "metadata": {},
   "outputs": [],
   "source": [
    "def run_vad(\n",
    "    radar_file_path, vel_field, z_want, save_name, image_directory, bad_directory, overwrite):\n",
    "    \"\"\" For dask we need the radar plotting routines all in one subroutine. \"\"\"\n",
    "    try:\n",
    "        radar = pyart.io.read(radar_file_path)\n",
    "    except TypeError:\n",
    "        if bad_directory is None:\n",
    "            path = os.path.expanduser('~') + '/' + 'type_error_radars/'\n",
    "        else:\n",
    "            path = bad_directory\n",
    "        print(radar_file_path + ' has encountered TypeError!')\n",
    "        if not os.path.exists(path):\n",
    "            os.makedirs(path)\n",
    "            subprocess.call('chmod -R g+rw ' + path, shell=True)\n",
    "        shutil.move(radar_file_path, path)\n",
    "        return\n",
    "\n",
    "    radar_start_date = netCDF4.num2date(radar.time['data'][0],\n",
    "                                        radar.time['units'])\n",
    "    year_str = \"%04d\" % radar_start_date.year\n",
    "    month_str = \"%02d\" % radar_start_date.month\n",
    "    day_str = \"%02d\" % radar_start_date.day\n",
    "    hour_str = \"%02d\" % radar_start_date.hour\n",
    "    minute_str = \"%02d\" % radar_start_date.minute\n",
    "    second_str = \"%02d\" % radar_start_date.second\n",
    "\n",
    "    date_string = datetime.datetime.strftime(radar_start_date, '%Y%m%d.%H%M%S')\n",
    "    combined_name = '.' + save_name + '.' + date_string + '.png'\n",
    "    \n",
    "    # Providing the image_directory and checking if it already exists.\n",
    "    img_directory = (image_directory + '/' + year_str + month_str\n",
    "                     + day_str + '.' + hour_str + minute_str + second_str)\n",
    "    file_name = img_directory + '/vad' + combined_name\n",
    "\n",
    "    if not os.path.exists(img_directory):\n",
    "        os.makedirs(img_directory)\n",
    "        subprocess.call('chmod -R g+rw ' + img_directory, shell=True)\n",
    "\n",
    "    if overwrite is False and os.path.exists(file_name) is True:\n",
    "        print(file_name + ' already exists.')\n",
    "        return\n",
    "\n",
    "    corr_vel = pyart.correct.dealias_region_based(\n",
    "        radar, vel_field=vel_field,\n",
    "        keep_original=False, centered=True)\n",
    "    radar.add_field('corrected_velocity', corr_vel, replace_existing=True)\n",
    "\n",
    "    vad = pyart.retrieve.velocity_azimuth_display(radar, 'corrected_velocity', z_want)\n",
    "    del radar\n",
    "\n",
    "    import matplotlib.pyplot as plt\n",
    "    plt.switch_backend('agg')\n",
    "    fig = plt.figure(figsize=[10, 8])\n",
    "    plt.plot(vad.u_wind, vad.height, 'b-', label='U Wind')\n",
    "    plt.plot(vad.v_wind, vad.height, 'r-', label='V Wind')\n",
    "    plt.title('Velocity Azimuth Display ' + date_string)\n",
    "    plt.ylabel('Height (m)')\n",
    "    plt.xlabel('Wind (m/s)')\n",
    "    #plt.xlim(-40, 40)\n",
    "    #plt.ylim(0, 15000)\n",
    "    plt.legend(bbox_to_anchor=(1.05, 1), loc=2, borderaxespad=0.)\n",
    "    plt.savefig(file_name)\n",
    "    plt.close()\n",
    "    del vad\n",
    "    return"
   ]
  },
  {
   "cell_type": "code",
   "execution_count": null,
   "metadata": {},
   "outputs": [],
   "source": [
    "radar_path = '/lustre/or-hydra/cades-arm/proj-shared/sgpxsaprsecI4.00/201808/'\n",
    "save_name = 'sgpxsaprsecI4.00'\n",
    "bad_directory = None\n",
    "image_directory = '/lustre/or-hydra/cades-arm/proj-shared/sgpxsaprvadI4.png'\n",
    "overwrite = True\n",
    "verbose = False\n",
    "vel_field = 'velocity'\n",
    "z_want = np.linspace(0, 10000, 101)"
   ]
  },
  {
   "cell_type": "code",
   "execution_count": null,
   "metadata": {},
   "outputs": [],
   "source": [
    "if os.path.isdir(radar_path):\n",
    "    radar_files = glob.glob(radar_path + '/**/*', recursive=True)\n",
    "\n",
    "elif os.path.isfile(radar_path):\n",
    "    with open(radar_path) as f:\n",
    "        radar_files = f.readlines()\n",
    "    radar_files = [x.strip() for x in radar_files]\n",
    "else:\n",
    "    raise IOError('The specified radar path does not exist!')\n",
    "\n",
    "## Get dates of radar files from the file name.\n",
    "#radar_times = []\n",
    "#for file_name in radar_files:\n",
    " #   where_x = file_name.find(x_compass)\n",
    "  #  radar_times.append(\n",
    "   #     datetime.datetime.strptime(file_name[where_x+3:where_x+15],\n",
    "    #                               '%y%m%d%H%M%S'))\"\"\""
   ]
  },
  {
   "cell_type": "code",
   "execution_count": null,
   "metadata": {},
   "outputs": [],
   "source": [
    "#cluster = PBSCluster(name='dask-worker', memory='270GB', cores=36, processes=6, interface='ib0', queue='high_mem', project='arm',\n",
    "#                    walltime='00:30:00')#, job-extra=['-W group_list=cades-arm'])\n",
    "cluster = PBSCluster(processes=36, cores=36, walltime='05:00:00',\n",
    "                     scheduler_file='/home/zsherman/scheduler.json')\n",
    "cluster.scale(10)         # Ask for ten workers\n",
    "client = Client(cluster)  # Connect this local process to remote workers"
   ]
  },
  {
   "cell_type": "code",
   "execution_count": null,
   "metadata": {},
   "outputs": [],
   "source": [
    "cluster"
   ]
  },
  {
   "cell_type": "code",
   "execution_count": null,
   "metadata": {},
   "outputs": [],
   "source": [
    "client"
   ]
  },
  {
   "cell_type": "code",
   "execution_count": null,
   "metadata": {
    "scrolled": true
   },
   "outputs": [],
   "source": [
    "def com():\n",
    "    os.environ['PROJ_LIB'] = '/home/zsherman/anaconda3/envs/cmac_env/share/proj/'\n",
    "    from mpl_toolkits.basemap import Basemap\n",
    "    return os.environ['PROJ_LIB']\n",
    "client.run(com)"
   ]
  },
  {
   "cell_type": "code",
   "execution_count": null,
   "metadata": {},
   "outputs": [],
   "source": [
    "the_bag = db.from_sequence(radar_files)\n",
    "the_function = lambda x: run_vad(\n",
    "    x, vel_field=vel_field, z_want=z_want, save_name=save_name,\n",
    "    image_directory=image_directory, bad_directory=bad_directory,\n",
    "    overwrite=overwrite)\n",
    "futures = the_bag.map(the_function)"
   ]
  },
  {
   "cell_type": "code",
   "execution_count": null,
   "metadata": {
    "scrolled": true
   },
   "outputs": [],
   "source": [
    "#start computation in the background\n",
    "futures.compute()\n",
    "client.shutdown()"
   ]
  },
  {
   "cell_type": "code",
   "execution_count": null,
   "metadata": {},
   "outputs": [],
   "source": []
  }
 ],
 "metadata": {
  "kernelspec": {
   "display_name": "Python 3",
   "language": "python",
   "name": "python3"
  },
  "language_info": {
   "codemirror_mode": {
    "name": "ipython",
    "version": 3
   },
   "file_extension": ".py",
   "mimetype": "text/x-python",
   "name": "python",
   "nbconvert_exporter": "python",
   "pygments_lexer": "ipython3",
   "version": "3.6.6"
  }
 },
 "nbformat": 4,
 "nbformat_minor": 2
}
